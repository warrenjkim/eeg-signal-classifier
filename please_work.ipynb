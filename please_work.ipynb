{
 "cells": [
  {
   "cell_type": "code",
   "execution_count": 1,
   "id": "zDj32oZ06_mo",
   "metadata": {
    "id": "zDj32oZ06_mo"
   },
   "outputs": [],
   "source": [
    "# uncomment local imports, comment google drive file import\n",
    "# this version is not dependent on utils folder\n",
    "# make changes by other"
   ]
  },
  {
   "cell_type": "code",
   "execution_count": 2,
   "id": "714367c0-94b8-44a0-8b2d-a314a6df9fbb",
   "metadata": {
    "id": "714367c0-94b8-44a0-8b2d-a314a6df9fbb"
   },
   "outputs": [],
   "source": [
    "import os\n",
    "os.environ['PYTORCH_CUDA_ALLOC_CONF'] = 'expandable_segments:True'"
   ]
  },
  {
   "cell_type": "code",
   "execution_count": 3,
   "id": "4qdxQkpgxqh9",
   "metadata": {
    "colab": {
     "base_uri": "https://localhost:8080/"
    },
    "id": "4qdxQkpgxqh9",
    "outputId": "911c00f7-e038-4d32-f625-ef4a8c2d317a"
   },
   "outputs": [],
   "source": [
    "# !pip install torchinfo optuna"
   ]
  },
  {
   "cell_type": "markdown",
   "id": "00685528-1d7f-4b43-a9fa-03c5512ac5e4",
   "metadata": {
    "id": "00685528-1d7f-4b43-a9fa-03c5512ac5e4"
   },
   "source": [
    "# **Imports**"
   ]
  },
  {
   "cell_type": "code",
   "execution_count": 4,
   "id": "4e63c692-5f04-4064-9327-2ca6659377ca",
   "metadata": {
    "id": "4e63c692-5f04-4064-9327-2ca6659377ca"
   },
   "outputs": [],
   "source": [
    "import numpy as np\n",
    "import matplotlib.pyplot as plt\n",
    "\n",
    "import copy\n",
    "import torch\n",
    "import torch.nn as nn\n",
    "import torch.nn.functional as F\n",
    "from torch.utils.data import TensorDataset, DataLoader, random_split\n",
    "import torchvision\n",
    "from torchvision.transforms import v2\n",
    "from tqdm.notebook import tqdm\n",
    "\n",
    "import torchinfo\n",
    "import optuna\n",
    "\n",
    "# import nndl.models.CNN as cnn\n",
    "# import nndl.models.CNNLSTM as clstm\n",
    "# import nndl.models.GRU as gru\n",
    "# import nndl.utils as utils\n",
    "import time\n",
    "import gc"
   ]
  },
  {
   "cell_type": "code",
   "execution_count": 5,
   "id": "8XEX2WPj043W",
   "metadata": {
    "colab": {
     "base_uri": "https://localhost:8080/"
    },
    "id": "8XEX2WPj043W",
    "outputId": "574b24d5-7972-4288-c324-09d70643353b"
   },
   "outputs": [
    {
     "name": "stdout",
     "output_type": "stream",
     "text": [
      "Using cuda\n"
     ]
    }
   ],
   "source": [
    "if torch.cuda.is_available():\n",
    "  device = torch.device('cuda')\n",
    "elif torch.backends.mps.is_available():\n",
    "  device = torch.device('mps')\n",
    "else:\n",
    "  device = torch.device('cpu')\n",
    "\n",
    "print(\"Using\", device)"
   ]
  },
  {
   "cell_type": "markdown",
   "id": "3291375a-0757-46bd-912c-214c03d2f302",
   "metadata": {
    "id": "3291375a-0757-46bd-912c-214c03d2f302"
   },
   "source": [
    "# **Load data from localhost**"
   ]
  },
  {
   "cell_type": "code",
   "execution_count": 6,
   "id": "73c22e93-a467-4574-864d-205dd29910a2",
   "metadata": {
    "id": "73c22e93-a467-4574-864d-205dd29910a2"
   },
   "outputs": [
    {
     "name": "stdout",
     "output_type": "stream",
     "text": [
      "(2115, 22, 1000)\n",
      "(2115, 22, 1000)\n",
      "(443, 22, 1000)\n",
      "[2 3 0 ... 3 3 2]\n"
     ]
    }
   ],
   "source": [
    "X_test = np.load(\"./project_data/X_test.npy\")\n",
    "y_test = np.load(\"./project_data/y_test.npy\") - 769\n",
    "person_train_valid = np.load(\"./project_data/person_train_valid.npy\")\n",
    "X_train_valid = np.load(\"./project_data/X_train_valid.npy\")\n",
    "print(X_train_valid.shape)\n",
    "y_train_valid = np.load(\"./project_data/y_train_valid.npy\") - 769\n",
    "person_test = np.load(\"./project_data/person_test.npy\")\n",
    "\n",
    "print(X_train_valid.shape)\n",
    "print(X_test.shape)\n",
    "\n",
    "print(y_train_valid)"
   ]
  },
  {
   "cell_type": "markdown",
   "id": "tSCM5zq8uBl9",
   "metadata": {
    "id": "tSCM5zq8uBl9"
   },
   "source": [
    "# Load data from google drive"
   ]
  },
  {
   "cell_type": "code",
   "execution_count": 7,
   "id": "vQOLoK-huBN4",
   "metadata": {
    "colab": {
     "base_uri": "https://localhost:8080/"
    },
    "id": "vQOLoK-huBN4",
    "outputId": "24b25e2f-9f4f-41e8-9a25-2f0fcdc1b7ba"
   },
   "outputs": [],
   "source": [
    "# from google.colab import drive\n",
    "# drive.mount('/content/drive')"
   ]
  },
  {
   "cell_type": "code",
   "execution_count": 8,
   "id": "c0nqZURpuMmr",
   "metadata": {
    "colab": {
     "base_uri": "https://localhost:8080/"
    },
    "id": "c0nqZURpuMmr",
    "outputId": "ed17c380-869d-4ac2-9df9-b787c8b09aac"
   },
   "outputs": [],
   "source": [
    "# ## Loading the dataset\n",
    "# X_test = np.load(\"/content/drive/MyDrive/project_data/X_test.npy\")\n",
    "# y_test = np.load(\"/content/drive/MyDrive/project_data/y_test.npy\")-769\n",
    "# person_test = np.load(\"/content/drive/MyDrive/project_data/person_test.npy\")\n",
    "# X_train_valid = np.load(\"/content/drive/MyDrive/project_data/X_train_valid.npy\")\n",
    "# y_train_valid = np.load(\"/content/drive/MyDrive/project_data/y_train_valid.npy\")-769\n",
    "# person_train_valid = np.load(\"/content/drive/MyDrive/project_data/person_train_valid.npy\")\n",
    "# print(\"---all data---\")\n",
    "# print(\"X_test shape\\t\\t\", X_test.shape)\n",
    "# print(\"y_test shape\\t\\t\", y_test.shape)\n",
    "# print(\"person_test shape\\t\", person_test.shape)\n",
    "# print(\"X_train_valid shape\\t\", X_train_valid.shape)\n",
    "# print(\"y_train_valid shape\\t\", y_train_valid.shape)\n",
    "# print(\"person_train_valid shape\", person_train_valid.shape)\n",
    "# print()"
   ]
  },
  {
   "cell_type": "markdown",
   "id": "1sOJu71guP-c",
   "metadata": {
    "id": "1sOJu71guP-c"
   },
   "source": [
    "# Load data for a subset of subjects"
   ]
  },
  {
   "cell_type": "code",
   "execution_count": 9,
   "id": "cXsBEg2xuSp1",
   "metadata": {
    "id": "cXsBEg2xuSp1"
   },
   "outputs": [],
   "source": [
    "# # subjects is to load a subset of the data for a particular subject\n",
    "# subjects = [0, 1, 2, 3, 4, 5, 6, 7, 8] #use 0-8 for subjects 1-9\n",
    "# # subjects = [0] #use 0-8 for subjects 1-9\n",
    "\n",
    "# X_test_subs = np.empty((0, X_test.shape[1], X_test.shape[2]))\n",
    "# y_test_subs = np.empty((0))\n",
    "# X_train_valid_subs = np.empty((0, X_train_valid.shape[1], X_train_valid.shape[2]))\n",
    "# y_train_valid_subs = np.empty((0))\n",
    "\n",
    "# for i in subjects:\n",
    "#   sub = i\n",
    "#   X_test_subs = np.concatenate( (X_test_subs, X_test[np.where(person_test == sub)[0],:,:] ))\n",
    "#   y_test_subs = np.concatenate( (y_test_subs, y_test[np.where(person_test == sub)[0]] ))\n",
    "#   X_train_valid_subs = np.concatenate(( X_train_valid_subs, X_train_valid[np.where(person_train_valid == sub)[0], :, :] ))\n",
    "#   y_train_valid_subs = np.concatenate(( y_train_valid_subs, y_train_valid[np.where(person_train_valid == sub)[0]] ))\n",
    "\n",
    "# X_test = X_test_subs\n",
    "# y_test = y_test_subs\n",
    "# X_train_valid = X_train_valid_subs\n",
    "# y_train_valid = y_train_valid_subs\n",
    "# print(\"---after isolating subjects---\")\n",
    "# print(\"X_test shape\\t\\t\", X_test.shape)\n",
    "# print(\"y_test shape\\t\\t\", y_test.shape)\n",
    "# print(\"X_train_valid shape\\t\", X_train_valid.shape)\n",
    "# print(\"y_train_valid shape\\t\", y_train_valid.shape)"
   ]
  },
  {
   "cell_type": "markdown",
   "id": "5rFimmlyx0fi",
   "metadata": {
    "id": "5rFimmlyx0fi"
   },
   "source": [
    "# train_model and test_model functions"
   ]
  },
  {
   "cell_type": "code",
   "execution_count": 10,
   "id": "94LdfeSMx3RP",
   "metadata": {
    "id": "94LdfeSMx3RP"
   },
   "outputs": [],
   "source": [
    "def train_model(model,\n",
    "                criterion,\n",
    "                optimizer,\n",
    "                scheduler,\n",
    "                train_loader=None,\n",
    "                val_loader=None,\n",
    "                test_loader=None,\n",
    "                num_epochs=100,\n",
    "                learning=False,\n",
    "                device=torch.device('cuda' if torch.cuda.is_available() else 'mps' if torch.backends.mps.is_available() else 'cpu'),\n",
    "                trial=None):\n",
    "    # we return these\n",
    "    train_accuracies = []\n",
    "    val_accuracies = []\n",
    "\n",
    "    for epoch in range(num_epochs):\n",
    "        print(f'Epoch {epoch + 1}')\n",
    "\n",
    "        # ======================================================================\n",
    "        # START OF TRAINING\n",
    "        # ======================================================================\n",
    "        model.train()\n",
    "        train_count = 0\n",
    "        train_correct_count = 0\n",
    "\n",
    "        # minibatch\n",
    "        for batch_idx, (train_x, train_y) in enumerate(tqdm(train_loader)):\n",
    "            train_x = train_x.float().to(device)\n",
    "            train_y = train_y.long().to(device)\n",
    "\n",
    "            logits = model(train_x)\n",
    "            loss = criterion(logits, train_y)\n",
    "\n",
    "            optimizer.zero_grad()   # no gradient accumulation between batches\n",
    "            loss.backward()         # backprop\n",
    "            optimizer.step()        # gradient step\n",
    "\n",
    "            # training accuracy\n",
    "            with torch.no_grad():\n",
    "                y_hat = torch.argmax(logits, dim=-1)\n",
    "                train_correct_count += torch.sum(y_hat == train_y, axis=-1)\n",
    "                train_count += train_x.size(0)\n",
    "\n",
    "        train_acc = train_correct_count / train_count\n",
    "        train_accuracies.append(train_acc.item())\n",
    "        # ======================================================================\n",
    "        # END OF TRAINING\n",
    "        # ======================================================================\n",
    "\n",
    "        # ======================================================================\n",
    "        # START OF VALIDATION\n",
    "        # ======================================================================\n",
    "        model.eval()\n",
    "        val_count = 0\n",
    "        val_correct_count = 0\n",
    "        val_loss = 0\n",
    "\n",
    "        # validation accuracy\n",
    "        with torch.no_grad():\n",
    "            for idx, (val_x, val_y) in enumerate(val_loader):\n",
    "                val_x = val_x.float().to(device)\n",
    "                val_y = val_y.long().to(device)\n",
    "\n",
    "                logits = model(val_x).detach()\n",
    "                y_hat = torch.argmax(logits, dim=-1)\n",
    "\n",
    "                val_correct_count += torch.sum(y_hat == val_y, axis=-1)\n",
    "                val_count += val_y.size(0)\n",
    "\n",
    "                # for the learning rate scheduler\n",
    "                val_loss = criterion(logits, val_y)\n",
    "\n",
    "        val_acc = val_correct_count / val_count\n",
    "        val_accuracies.append(val_acc.item())\n",
    "        scheduler.step()\n",
    "        # ======================================================================\n",
    "        # END OF VALIDATION\n",
    "        # ======================================================================\n",
    "\n",
    "        # performance info\n",
    "        print('Train acc: {:.3f}, Val acc: {:.3f}, Val loss: {:.3f}'.format(train_acc,\n",
    "                                                                            val_acc,\n",
    "                                                                            val_loss))\n",
    "\n",
    "        if learning:\n",
    "            # ======================================================================\n",
    "            # START OF TRIAL PRUNING\n",
    "            # ======================================================================\n",
    "            trial.report(val_acc.item(), epoch)\n",
    "            # so my gpu doesn't shit itself, also gets rid of shit trials\n",
    "            if trial.should_prune():\n",
    "                # garbage collection so my gpu doesn't shit itself\n",
    "                del model\n",
    "                torch.cuda.empty_cache()\n",
    "                gc.collect()\n",
    "                raise optuna.TrialPruned()\n",
    "            # ======================================================================\n",
    "            # START OF TRIAL PRUNING\n",
    "            # ======================================================================\n",
    "\n",
    "    if learning:\n",
    "        # garbage collection so my gpu doesn't shit itself\n",
    "        del model\n",
    "        torch.cuda.empty_cache()\n",
    "        gc.collect()\n",
    "\n",
    "    return train_accuracies, val_accuracies\n",
    "# ==============================================================================\n",
    "# END OF train_model()\n",
    "# ==============================================================================\n",
    "\n",
    "\n",
    "# ==============================================================================\n",
    "# START OF test_model()\n",
    "# ==============================================================================\n",
    "def test_model(model,\n",
    "               test_loader,\n",
    "               device=torch.device('cuda' if torch.cuda.is_available() else 'mps' if torch.backends.mps.is_available() else 'cpu')):\n",
    "    model.eval()\n",
    "    with torch.no_grad():\n",
    "        test_count = 0\n",
    "        test_correct_count = 0\n",
    "\n",
    "        for _, (test_x, test_y) in enumerate(test_loader):\n",
    "            test_x = test_x.float().to(device)\n",
    "            test_y = test_y.long().to(device)\n",
    "\n",
    "            logits = model(test_x).detach()\n",
    "            y_hat = torch.argmax(logits, dim=-1)\n",
    "\n",
    "            test_correct_count += torch.sum(y_hat == test_y, axis=-1)\n",
    "            test_count += test_x.size(0)\n",
    "\n",
    "        test_acc = test_correct_count / test_count\n",
    "        print('Test acc: {:.3f}'.format(test_acc))\n",
    "# ==============================================================================\n",
    "# END OF test_model()\n",
    "# =============================================================================="
   ]
  },
  {
   "cell_type": "markdown",
   "id": "f7cc5ab2-0755-451d-b091-4a85f2053a53",
   "metadata": {
    "id": "f7cc5ab2-0755-451d-b091-4a85f2053a53"
   },
   "source": [
    "# **Data Prep**"
   ]
  },
  {
   "cell_type": "code",
   "execution_count": 11,
   "id": "123553f6-97ae-4903-b473-5fa82a794113",
   "metadata": {
    "colab": {
     "base_uri": "https://localhost:8080/"
    },
    "id": "123553f6-97ae-4903-b473-5fa82a794113",
    "outputId": "06caaf24-3d40-453f-aca3-80f549741006"
   },
   "outputs": [
    {
     "name": "stdout",
     "output_type": "stream",
     "text": [
      "SOME torch.Size([2115, 22, 1000])\n",
      "subject counts:  [215, 214, 204, 215, 206, 213, 213, 215, 208]\n",
      "subject count sum:  1903\n",
      "\n",
      "subject 0\n",
      "Shape of X after trimming: torch.Size([215, 22, 800])\n",
      "Shape of X after maxpooling: torch.Size([215, 22, 400])\n",
      "Shape of X after averaging+noise and concatenating: torch.Size([430, 22, 400])\n",
      "torch.Size([430, 1])\n",
      "torch.Size([215, 1])\n",
      "torch.Size([645, 1])\n",
      "torch.Size([215, 1])\n",
      "Shape of X after subsampling and concatenating: torch.Size([860, 22, 400])\n",
      "Shape of Y: torch.Size([860])\n",
      "Shape of X after channel dropout torch.Size([1720, 22, 400])\n",
      "Shape of Y: torch.Size([1720])\n",
      "\n",
      "subject 1\n",
      "Shape of X after trimming: torch.Size([214, 22, 800])\n",
      "Shape of X after maxpooling: torch.Size([214, 22, 400])\n",
      "Shape of X after averaging+noise and concatenating: torch.Size([428, 22, 400])\n",
      "torch.Size([428, 1])\n",
      "torch.Size([214, 1])\n",
      "torch.Size([642, 1])\n",
      "torch.Size([214, 1])\n",
      "Shape of X after subsampling and concatenating: torch.Size([856, 22, 400])\n",
      "Shape of Y: torch.Size([856])\n",
      "Shape of X after channel dropout torch.Size([1712, 22, 400])\n",
      "Shape of Y: torch.Size([1712])\n",
      "\n",
      "subject 2\n",
      "Shape of X after trimming: torch.Size([204, 22, 800])\n",
      "Shape of X after maxpooling: torch.Size([204, 22, 400])\n",
      "Shape of X after averaging+noise and concatenating: torch.Size([408, 22, 400])\n",
      "torch.Size([408, 1])\n",
      "torch.Size([204, 1])\n",
      "torch.Size([612, 1])\n",
      "torch.Size([204, 1])\n",
      "Shape of X after subsampling and concatenating: torch.Size([816, 22, 400])\n",
      "Shape of Y: torch.Size([816])\n",
      "Shape of X after channel dropout torch.Size([1632, 22, 400])\n",
      "Shape of Y: torch.Size([1632])\n",
      "\n",
      "subject 3\n",
      "Shape of X after trimming: torch.Size([215, 22, 800])\n",
      "Shape of X after maxpooling: torch.Size([215, 22, 400])\n",
      "Shape of X after averaging+noise and concatenating: torch.Size([430, 22, 400])\n",
      "torch.Size([430, 1])\n",
      "torch.Size([215, 1])\n",
      "torch.Size([645, 1])\n",
      "torch.Size([215, 1])\n",
      "Shape of X after subsampling and concatenating: torch.Size([860, 22, 400])\n",
      "Shape of Y: torch.Size([860])\n",
      "Shape of X after channel dropout torch.Size([1720, 22, 400])\n",
      "Shape of Y: torch.Size([1720])\n",
      "\n",
      "subject 4\n",
      "Shape of X after trimming: torch.Size([206, 22, 800])\n",
      "Shape of X after maxpooling: torch.Size([206, 22, 400])\n",
      "Shape of X after averaging+noise and concatenating: torch.Size([412, 22, 400])\n",
      "torch.Size([412, 1])\n",
      "torch.Size([206, 1])\n",
      "torch.Size([618, 1])\n",
      "torch.Size([206, 1])\n",
      "Shape of X after subsampling and concatenating: torch.Size([824, 22, 400])\n",
      "Shape of Y: torch.Size([824])\n",
      "Shape of X after channel dropout torch.Size([1648, 22, 400])\n",
      "Shape of Y: torch.Size([1648])\n",
      "\n",
      "subject 5\n",
      "Shape of X after trimming: torch.Size([213, 22, 800])\n",
      "Shape of X after maxpooling: torch.Size([213, 22, 400])\n",
      "Shape of X after averaging+noise and concatenating: torch.Size([426, 22, 400])\n",
      "torch.Size([426, 1])\n",
      "torch.Size([213, 1])\n",
      "torch.Size([639, 1])\n",
      "torch.Size([213, 1])\n",
      "Shape of X after subsampling and concatenating: torch.Size([852, 22, 400])\n",
      "Shape of Y: torch.Size([852])\n",
      "Shape of X after channel dropout torch.Size([1704, 22, 400])\n",
      "Shape of Y: torch.Size([1704])\n",
      "\n",
      "subject 6\n",
      "Shape of X after trimming: torch.Size([213, 22, 800])\n",
      "Shape of X after maxpooling: torch.Size([213, 22, 400])\n",
      "Shape of X after averaging+noise and concatenating: torch.Size([426, 22, 400])\n",
      "torch.Size([426, 1])\n",
      "torch.Size([213, 1])\n",
      "torch.Size([639, 1])\n",
      "torch.Size([213, 1])\n",
      "Shape of X after subsampling and concatenating: torch.Size([852, 22, 400])\n",
      "Shape of Y: torch.Size([852])\n",
      "Shape of X after channel dropout torch.Size([1704, 22, 400])\n",
      "Shape of Y: torch.Size([1704])\n",
      "\n",
      "subject 7\n",
      "Shape of X after trimming: torch.Size([215, 22, 800])\n",
      "Shape of X after maxpooling: torch.Size([215, 22, 400])\n",
      "Shape of X after averaging+noise and concatenating: torch.Size([430, 22, 400])\n",
      "torch.Size([430, 1])\n",
      "torch.Size([215, 1])\n",
      "torch.Size([645, 1])\n",
      "torch.Size([215, 1])\n",
      "Shape of X after subsampling and concatenating: torch.Size([860, 22, 400])\n",
      "Shape of Y: torch.Size([860])\n",
      "Shape of X after channel dropout torch.Size([1720, 22, 400])\n",
      "Shape of Y: torch.Size([1720])\n",
      "\n",
      "subject 8\n",
      "Shape of X after trimming: torch.Size([208, 22, 800])\n",
      "Shape of X after maxpooling: torch.Size([208, 22, 400])\n",
      "Shape of X after averaging+noise and concatenating: torch.Size([416, 22, 400])\n",
      "torch.Size([416, 1])\n",
      "torch.Size([208, 1])\n",
      "torch.Size([624, 1])\n",
      "torch.Size([208, 1])\n",
      "Shape of X after subsampling and concatenating: torch.Size([832, 22, 400])\n",
      "Shape of Y: torch.Size([832])\n",
      "Shape of X after channel dropout torch.Size([1664, 22, 400])\n",
      "Shape of Y: torch.Size([1664])\n",
      "torch.Size([212, 22, 1000])\n",
      "val counts:  [22, 22, 32, 19, 29, 23, 25, 17, 23]\n",
      "val count sum:  212\n",
      "\n",
      "subject 0\n",
      "Shape of X after trimming: torch.Size([22, 22, 800])\n",
      "Shape of X after maxpooling: torch.Size([22, 22, 400])\n",
      "Shape of X after averaging+noise and concatenating: torch.Size([44, 22, 400])\n",
      "torch.Size([44, 1])\n",
      "torch.Size([22, 1])\n",
      "torch.Size([66, 1])\n",
      "torch.Size([22, 1])\n",
      "Shape of X after subsampling and concatenating: torch.Size([88, 22, 400])\n",
      "Shape of Y: torch.Size([88])\n",
      "Shape of X after channel dropout torch.Size([176, 22, 400])\n",
      "Shape of Y: torch.Size([176])\n",
      "\n",
      "subject 1\n",
      "Shape of X after trimming: torch.Size([22, 22, 800])\n",
      "Shape of X after maxpooling: torch.Size([22, 22, 400])\n",
      "Shape of X after averaging+noise and concatenating: torch.Size([44, 22, 400])\n",
      "torch.Size([44, 1])\n",
      "torch.Size([22, 1])\n",
      "torch.Size([66, 1])\n",
      "torch.Size([22, 1])\n",
      "Shape of X after subsampling and concatenating: torch.Size([88, 22, 400])\n",
      "Shape of Y: torch.Size([88])\n",
      "Shape of X after channel dropout torch.Size([176, 22, 400])\n",
      "Shape of Y: torch.Size([176])\n",
      "\n",
      "subject 2\n",
      "Shape of X after trimming: torch.Size([32, 22, 800])\n",
      "Shape of X after maxpooling: torch.Size([32, 22, 400])\n",
      "Shape of X after averaging+noise and concatenating: torch.Size([64, 22, 400])\n",
      "torch.Size([64, 1])\n",
      "torch.Size([32, 1])\n",
      "torch.Size([96, 1])\n",
      "torch.Size([32, 1])\n",
      "Shape of X after subsampling and concatenating: torch.Size([128, 22, 400])\n",
      "Shape of Y: torch.Size([128])\n",
      "Shape of X after channel dropout torch.Size([256, 22, 400])\n",
      "Shape of Y: torch.Size([256])\n",
      "\n",
      "subject 3\n",
      "Shape of X after trimming: torch.Size([19, 22, 800])\n",
      "Shape of X after maxpooling: torch.Size([19, 22, 400])\n",
      "Shape of X after averaging+noise and concatenating: torch.Size([38, 22, 400])\n",
      "torch.Size([38, 1])\n",
      "torch.Size([19, 1])\n",
      "torch.Size([57, 1])\n",
      "torch.Size([19, 1])\n",
      "Shape of X after subsampling and concatenating: torch.Size([76, 22, 400])\n",
      "Shape of Y: torch.Size([76])\n",
      "Shape of X after channel dropout torch.Size([152, 22, 400])\n",
      "Shape of Y: torch.Size([152])\n",
      "\n",
      "subject 4\n",
      "Shape of X after trimming: torch.Size([29, 22, 800])\n",
      "Shape of X after maxpooling: torch.Size([29, 22, 400])\n",
      "Shape of X after averaging+noise and concatenating: torch.Size([58, 22, 400])\n",
      "torch.Size([58, 1])\n",
      "torch.Size([29, 1])\n",
      "torch.Size([87, 1])\n",
      "torch.Size([29, 1])\n",
      "Shape of X after subsampling and concatenating: torch.Size([116, 22, 400])\n",
      "Shape of Y: torch.Size([116])\n",
      "Shape of X after channel dropout torch.Size([232, 22, 400])\n",
      "Shape of Y: torch.Size([232])\n",
      "\n",
      "subject 5\n",
      "Shape of X after trimming: torch.Size([23, 22, 800])\n",
      "Shape of X after maxpooling: torch.Size([23, 22, 400])\n",
      "Shape of X after averaging+noise and concatenating: torch.Size([46, 22, 400])\n",
      "torch.Size([46, 1])\n",
      "torch.Size([23, 1])\n",
      "torch.Size([69, 1])\n",
      "torch.Size([23, 1])\n",
      "Shape of X after subsampling and concatenating: torch.Size([92, 22, 400])\n",
      "Shape of Y: torch.Size([92])\n",
      "Shape of X after channel dropout torch.Size([184, 22, 400])\n",
      "Shape of Y: torch.Size([184])\n",
      "\n",
      "subject 6\n",
      "Shape of X after trimming: torch.Size([25, 22, 800])\n",
      "Shape of X after maxpooling: torch.Size([25, 22, 400])\n",
      "Shape of X after averaging+noise and concatenating: torch.Size([50, 22, 400])\n",
      "torch.Size([50, 1])\n",
      "torch.Size([25, 1])\n",
      "torch.Size([75, 1])\n",
      "torch.Size([25, 1])\n",
      "Shape of X after subsampling and concatenating: torch.Size([100, 22, 400])\n",
      "Shape of Y: torch.Size([100])\n",
      "Shape of X after channel dropout torch.Size([200, 22, 400])\n",
      "Shape of Y: torch.Size([200])\n",
      "\n",
      "subject 7\n",
      "Shape of X after trimming: torch.Size([17, 22, 800])\n",
      "Shape of X after maxpooling: torch.Size([17, 22, 400])\n",
      "Shape of X after averaging+noise and concatenating: torch.Size([34, 22, 400])\n",
      "torch.Size([34, 1])\n",
      "torch.Size([17, 1])\n",
      "torch.Size([51, 1])\n",
      "torch.Size([17, 1])\n",
      "Shape of X after subsampling and concatenating: torch.Size([68, 22, 400])\n",
      "Shape of Y: torch.Size([68])\n",
      "Shape of X after channel dropout torch.Size([136, 22, 400])\n",
      "Shape of Y: torch.Size([136])\n",
      "\n",
      "subject 8\n",
      "Shape of X after trimming: torch.Size([23, 22, 800])\n",
      "Shape of X after maxpooling: torch.Size([23, 22, 400])\n",
      "Shape of X after averaging+noise and concatenating: torch.Size([46, 22, 400])\n",
      "torch.Size([46, 1])\n",
      "torch.Size([23, 1])\n",
      "torch.Size([69, 1])\n",
      "torch.Size([23, 1])\n",
      "Shape of X after subsampling and concatenating: torch.Size([92, 22, 400])\n",
      "Shape of Y: torch.Size([92])\n",
      "Shape of X after channel dropout torch.Size([184, 22, 400])\n",
      "Shape of Y: torch.Size([184])\n",
      "torch.Size([443, 22, 1000])\n",
      "test counts:  [50, 50, 50, 50, 47, 49, 50, 50, 47]\n",
      "test count sum:  443\n",
      "\n",
      "subject 0\n",
      "Shape of X after trimming: torch.Size([50, 22, 800])\n",
      "Shape of X after maxpooling: torch.Size([50, 22, 400])\n",
      "\n",
      "subject 1\n",
      "Shape of X after trimming: torch.Size([50, 22, 800])\n",
      "Shape of X after maxpooling: torch.Size([50, 22, 400])\n",
      "\n",
      "subject 2\n",
      "Shape of X after trimming: torch.Size([50, 22, 800])\n",
      "Shape of X after maxpooling: torch.Size([50, 22, 400])\n",
      "\n",
      "subject 3\n",
      "Shape of X after trimming: torch.Size([50, 22, 800])\n",
      "Shape of X after maxpooling: torch.Size([50, 22, 400])\n",
      "\n",
      "subject 4\n",
      "Shape of X after trimming: torch.Size([47, 22, 800])\n",
      "Shape of X after maxpooling: torch.Size([47, 22, 400])\n",
      "\n",
      "subject 5\n",
      "Shape of X after trimming: torch.Size([49, 22, 800])\n",
      "Shape of X after maxpooling: torch.Size([49, 22, 400])\n",
      "\n",
      "subject 6\n",
      "Shape of X after trimming: torch.Size([50, 22, 800])\n",
      "Shape of X after maxpooling: torch.Size([50, 22, 400])\n",
      "\n",
      "subject 7\n",
      "Shape of X after trimming: torch.Size([50, 22, 800])\n",
      "Shape of X after maxpooling: torch.Size([50, 22, 400])\n",
      "\n",
      "subject 8\n",
      "Shape of X after trimming: torch.Size([47, 22, 800])\n",
      "Shape of X after maxpooling: torch.Size([47, 22, 400])\n",
      "Prepping Training Data\n",
      "Shape of X after trimming: torch.Size([1903, 22, 800])\n",
      "Shape of X after maxpooling: torch.Size([1903, 22, 400])\n",
      "Shape of X after averaging+noise and concatenating: torch.Size([3806, 22, 400])\n",
      "torch.Size([3806, 1])\n",
      "torch.Size([1903, 1])\n",
      "torch.Size([5709, 1])\n",
      "torch.Size([1903, 1])\n",
      "Shape of X after subsampling and concatenating: torch.Size([7612, 22, 400])\n",
      "Shape of Y: torch.Size([7612])\n",
      "Shape of X after channel dropout torch.Size([15224, 22, 400])\n",
      "Shape of Y: torch.Size([15224])\n",
      "\n",
      "Prepping Validation Data\n",
      "Shape of X after trimming: torch.Size([212, 22, 800])\n",
      "Shape of X after maxpooling: torch.Size([212, 22, 400])\n",
      "Shape of X after averaging+noise and concatenating: torch.Size([424, 22, 400])\n",
      "torch.Size([424, 1])\n",
      "torch.Size([212, 1])\n",
      "torch.Size([636, 1])\n",
      "torch.Size([212, 1])\n",
      "Shape of X after subsampling and concatenating: torch.Size([848, 22, 400])\n",
      "Shape of Y: torch.Size([848])\n",
      "Shape of X after channel dropout torch.Size([1696, 22, 400])\n",
      "Shape of Y: torch.Size([1696])\n",
      "\n",
      "Prepping Test Data\n",
      "Shape of X after trimming: torch.Size([443, 22, 800])\n",
      "Shape of X after maxpooling: torch.Size([443, 22, 400])\n",
      "\n",
      "FINISHED PREP\n",
      "\n",
      "Final shape of training set: torch.Size([15224, 22, 400])\n",
      "Final shape of validation set: torch.Size([1696, 22, 400])\n",
      "Final shape of test set: torch.Size([443, 22, 400])\n",
      "TRAIN_DATA 238\n",
      "VALID_DATA 27\n",
      "TEST_DATA 7\n"
     ]
    }
   ],
   "source": [
    "def data_prep(X,\n",
    "              y,\n",
    "              sub_sample,\n",
    "              average,\n",
    "              noise,\n",
    "              p_channel_dropoup=0,\n",
    "              smooth_time_mask=False,\n",
    "              mask_size=0,\n",
    "              time_shift=0,\n",
    "              clipping_max=800,\n",
    "              noise_stdev=0.5):\n",
    "\n",
    "    total_X = None\n",
    "    total_y = None\n",
    "    X = X[:,:,0:clipping_max]\n",
    "    print('Shape of X after trimming: {X.shape}')\n",
    "    X_max, _ = torch.max(X.view(X.size(0), X.size(1), -1, sub_sample), axis=3)\n",
    "\n",
    "    total_X = X_max\n",
    "    total_y = y\n",
    "    print('Shape of X after maxpooling:',total_X.shape)\n",
    "\n",
    "    X_average = torch.mean(X.view(X.size(0), X.size(1), -1, average), axis=3)\n",
    "    X_average = X_average + torch.normal(0.0, average_pool_stdev, X_average.shape)\n",
    "\n",
    "    total_X = torch.cat((total_X, X_average), dim=0)\n",
    "    total_y = torch.cat((total_y, y))\n",
    "    print('Shape of X after averaging+noise and concatenating:',total_X.shape)\n",
    "\n",
    "    for i in range(sub_sample):\n",
    "        X_subsample = X[:, :, i::sub_sample] + \\\n",
    "                            (torch.normal(0.0, 0.5, X[:, :,i::sub_sample].shape) if noise else 0.0)\n",
    "        total_X = torch.cat((total_X, X_subsample), dim=0)\n",
    "        print(total_y.view(-1,1).shape)\n",
    "        print(y.view(-1,1).shape)\n",
    "        total_y = torch.cat((total_y, y))\n",
    "\n",
    "    print('Shape of X after subsampling and concatenating:',total_X.shape)\n",
    "    print('Shape of Y:',total_y.shape)\n",
    "\n",
    "    if p_channel_dropout != 0:\n",
    "        mask = (torch.rand(total_X.shape[0], total_X.shape[1]) >= p_channel_dropout).unsqueeze(2)\n",
    "        X_dropout = mask * total_X\n",
    "        total_X = torch.cat((total_X, X_dropout))\n",
    "        total_y = torch.cat((total_y, total_y))\n",
    "\n",
    "        print(f'Shape of X after channel dropout {total_X.shape}')\n",
    "        print(f'Shape of Y: {total_y.shape}')\n",
    "\n",
    "    if smooth_time_mask:\n",
    "        copy_X = copy.deepcopy(total_X)\n",
    "        starts = ((torch.rand(copy_X.shape[0])*(copy_X.shape[2]-mask_size-1))).round()\n",
    "        for idx, m in enumerate(copy_X):\n",
    "            start = int(starts[idx])\n",
    "            end = start+mask_size\n",
    "            m[:,start:end] = 0\n",
    "        total_X = torch.cat((total_X, copy_X))\n",
    "        total_y = torch.cat((total_y, total_y))\n",
    "        \n",
    "        print(f'Shape of X after smooth time mask {total_X.shape}')\n",
    "        print(f'Shape of Y: {total_y.shape}')\n",
    "\n",
    "    if time_shift != 0:\n",
    "        time_shift_X = copy.deepcopy(total_X)\n",
    "        shifts = np.random.randint(low=-time_shift, high=time_shift+1, size=(total_X.shape[0],))\n",
    "        time_shift_X = torch.Tensor(np.array([torch.roll(elem, shift, 1) for elem, shift in zip(time_shift_X, shifts)]))\n",
    "        total_X = torch.cat((total_X, time_shift_X))\n",
    "        total_y = torch.cat((total_y, total_y))\n",
    "        \n",
    "        print(f'Shape of X after time_shift {total_X.shape}')\n",
    "        print(f'Shape of Y: {total_y.shape}')\n",
    "\n",
    "    return total_X,total_y\n",
    "\n",
    "def test_data_prep(X):\n",
    "    total_X = None\n",
    "    X = X[:,:,0:800]\n",
    "    print('Shape of X after trimming:', X.shape)\n",
    "    X_max, _ = torch.max(X.view(X.size(0), X.size(1), -1, 2), axis=3)\n",
    "    total_X = X_max\n",
    "    print('Shape of X after maxpooling:',total_X.shape)\n",
    "    return total_X\n",
    "\n",
    "\n",
    "input_size = 22\n",
    "hidden_size = 256\n",
    "num_layers = 10\n",
    "num_classes = 4\n",
    "learning_rate = 1e-4\n",
    "batch_size = 64\n",
    "num_epochs = 100\n",
    "dropout = 0.3\n",
    "\n",
    "folds = 10\n",
    "split_seed = 1\n",
    "\n",
    "subsample = 2\n",
    "average = 2\n",
    "noise = True\n",
    "p_channel_dropout = 0.01\n",
    "smooth_time_mask = False\n",
    "mask_size = 120\n",
    "time_shift = 30\n",
    "clipping_max = 800\n",
    "noise_stdev = 0.5\n",
    "'''\n",
    "This was the old data prep.\n",
    "The code below is just split up.\n",
    "Split data, then split up X_train, X_val, X_test by subject and create dataloaders\n",
    "Then dataprep and dataloader is performed for x_train etc\n",
    "kept in case of error then can go back\n",
    "i could have put them in lists\n",
    "'''\n",
    "'''\n",
    "X_train_valid = torch.Tensor(X_train_valid)\n",
    "y_train_valid = torch.Tensor(y_train_valid)\n",
    "\n",
    "print(f'SOME {X_train_valid.shape}')\n",
    "indices = torch.randperm(X_train_valid.shape[0])\n",
    "split_idx = int(X_train_valid.shape[0] * ((folds-1)/folds))\n",
    "X_train, X_valid = X_train_valid[indices[:split_idx]], X_train_valid[indices[split_idx:]]\n",
    "y_train, y_valid = y_train_valid[indices[:split_idx]], y_train_valid[indices[split_idx:]]\n",
    "X_test, y_test = torch.Tensor(X_test), torch.Tensor(y_test)\n",
    "\n",
    "print('Prepping Training Data')\n",
    "X_train, y_train = data_prep(X_train, y_train, subsample, average, noise, p_channel_dropout, smooth_time_mask, mask_size)\n",
    "print('\\nPrepping Validation Data')\n",
    "X_valid, y_valid = data_prep(X_valid, y_valid, subsample, average, noise, p_channel_dropout, smooth_time_mask, mask_size)\n",
    "print('\\nPrepping Test Data')\n",
    "X_test = test_data_prep(X_test)\n",
    "print('\\nFINISHED PREP\\n')\n",
    "\n",
    "print('Final shape of training set:', X_train.shape)\n",
    "print('Final shape of validation set:', X_valid.shape)\n",
    "print('Final shape of test set:', X_test.shape)\n",
    "\n",
    "train_loader = DataLoader(TensorDataset(X_train, y_train), batch_size=batch_size, shuffle=True)\n",
    "val_loader = DataLoader(TensorDataset(X_valid, y_valid), batch_size=batch_size, shuffle=True)\n",
    "test_loader = DataLoader(TensorDataset(X_test, y_test), batch_size=batch_size, shuffle=True)\n",
    "\n",
    "print(f'TRAIN_DATA {len(train_loader)}\\nVALID_DATA {len(val_loader)}\\nTEST_DATA {len(test_loader)}')\n",
    "'''\n",
    "\n",
    "X_train_valid = torch.Tensor(X_train_valid)\n",
    "y_train_valid = torch.Tensor(y_train_valid)\n",
    "\n",
    "print(f'SOME {X_train_valid.shape}')\n",
    "indices = torch.randperm(X_train_valid.shape[0])\n",
    "#print(indices)\n",
    "split_idx = int(X_train_valid.shape[0] * ((folds-1)/folds))\n",
    "#print(split_idx)\n",
    "X_train, X_valid = X_train_valid[indices[:split_idx]], X_train_valid[indices[split_idx:]]\n",
    "y_train, y_valid = y_train_valid[indices[:split_idx]], y_train_valid[indices[split_idx:]]\n",
    "X_test, y_test = torch.Tensor(X_test), torch.Tensor(y_test)\n",
    "\n",
    "person_train_valid, person_test = torch.Tensor(person_train_valid), torch.Tensor(person_test)\n",
    "person_train, person_valid = person_train_valid[indices[:split_idx]], person_train_valid[indices[split_idx:]]\n",
    "\n",
    "#check it matches\n",
    "'''\n",
    "index_zero = (indices == 0).nonzero(as_tuple=False) #index in indices that hold index 0 in X_train_valid and person_train_valid\n",
    "print(index_zero)\n",
    "print(indices[index_zero])\n",
    "if index_zero > 1902: #in validation\n",
    "  print(X_train_valid[0])\n",
    "  print(X_train[index_zero - 1903])\n",
    "  print(person_train[index_zero - 1903])\n",
    "  print(person_train_valid[0])\n",
    "else:\n",
    "  print(X_train_valid[0])\n",
    "  print(X_train[index_zero])\n",
    "  print(person_train[index_zero])\n",
    "  print(person_train_valid[0])\n",
    "'''\n",
    "\n",
    "################################################\n",
    "#seperate X_train by subject using person_train\n",
    "################################################\n",
    "\n",
    "s_train = [[], [], [], [], [], [], [], [], []]\n",
    "s_y_train = [[], [], [], [], [], [], [], [], []]\n",
    "count_train = [0, 0, 0, 0, 0, 0, 0, 0, 0]\n",
    "\n",
    "for (i, j) in zip(person_train, range(len(person_train))):\n",
    "  #i is a np.darray from subject_train, i[0] gives us the subject\n",
    "  #j is the index of i in subject_train that corresponds to the index in subject_train\n",
    "  s_train[int(i[0])].append(X_train[j])\n",
    "  s_y_train[int(i[0])].append(y_train[j])\n",
    "\n",
    "  #for length check\n",
    "  count_train[int(i[0])]+=1\n",
    "\n",
    "print('subject counts: ', count_train)\n",
    "print('subject count sum: ', sum(count_train))\n",
    "\n",
    "#lebron\n",
    "for (i, j, k) in zip(count_train, s_train, s_y_train):\n",
    "  if i != len(j) or i != len(k):\n",
    "    print(\"length issue\")\n",
    "\n",
    "\n",
    "print('\\nsubject 0')\n",
    "s0_train, s0_y_train = data_prep(torch.Tensor(np.asarray(s_train[0])), torch.Tensor(np.asarray(s_y_train[0])), subsample, average, noise, p_channel_dropout, smooth_time_mask, mask_size)\n",
    "print('\\nsubject 1')\n",
    "s1_train, s1_y_train = data_prep(torch.Tensor(np.asarray(s_train[1])), torch.Tensor(np.asarray(s_y_train[1])), subsample, average, noise, p_channel_dropout, smooth_time_mask, mask_size)\n",
    "print('\\nsubject 2')\n",
    "s2_train, s2_y_train = data_prep(torch.Tensor(np.asarray(s_train[2])), torch.Tensor(np.asarray(s_y_train[2])), subsample, average, noise, p_channel_dropout, smooth_time_mask, mask_size)\n",
    "print('\\nsubject 3')\n",
    "s3_train, s3_y_train = data_prep(torch.Tensor(np.asarray(s_train[3])), torch.Tensor(np.asarray(s_y_train[3])), subsample, average, noise, p_channel_dropout, smooth_time_mask, mask_size)\n",
    "print('\\nsubject 4')\n",
    "s4_train, s4_y_train = data_prep(torch.Tensor(np.asarray(s_train[4])), torch.Tensor(np.asarray(s_y_train[4])), subsample, average, noise, p_channel_dropout, smooth_time_mask, mask_size)\n",
    "print('\\nsubject 5')\n",
    "s5_train, s5_y_train = data_prep(torch.Tensor(np.asarray(s_train[5])), torch.Tensor(np.asarray(s_y_train[5])), subsample, average, noise, p_channel_dropout, smooth_time_mask, mask_size)\n",
    "print('\\nsubject 6')\n",
    "s6_train, s6_y_train = data_prep(torch.Tensor(np.asarray(s_train[6])), torch.Tensor(np.asarray(s_y_train[6])), subsample, average, noise, p_channel_dropout, smooth_time_mask, mask_size)\n",
    "print('\\nsubject 7')\n",
    "s7_train, s7_y_train = data_prep(torch.Tensor(np.asarray(s_train[7])), torch.Tensor(np.asarray(s_y_train[7])), subsample, average, noise, p_channel_dropout, smooth_time_mask, mask_size)\n",
    "print('\\nsubject 8')\n",
    "s8_train, s8_y_train = data_prep(torch.Tensor(np.asarray(s_train[8])), torch.Tensor(np.asarray(s_y_train[8])), subsample, average, noise, p_channel_dropout, smooth_time_mask, mask_size)\n",
    "\n",
    "#############################################\n",
    "#seperate X_val by subject using person_valid\n",
    "#############################################\n",
    "print(X_valid.shape)\n",
    "\n",
    "s_valid = [[], [], [], [], [], [], [], [], []]\n",
    "s_y_valid = [[], [], [], [], [], [], [], [], []]\n",
    "count_val = [0, 0, 0, 0, 0, 0, 0, 0, 0]\n",
    "\n",
    "for (i, j) in zip(person_valid, range(len(person_valid))):\n",
    "  #i is a np.darray from subject_train, i[0] gives us the subject\n",
    "  #j is the index of i in subject_train that corresponds to the index in subject_train\n",
    "  s_valid[int(i[0])].append(X_valid[j])\n",
    "  s_y_valid[int(i[0])].append(y_valid[j])\n",
    "\n",
    "  #for length check\n",
    "  count_val[int(i[0])]+=1\n",
    "\n",
    "print('val counts: ', count_val)\n",
    "print('val count sum: ', sum(count_val))\n",
    "\n",
    "#lebron\n",
    "for (i, j, k) in zip(count_val, s_valid, s_y_valid):\n",
    "  if i != len(j) or i != len(k):\n",
    "    print(\"length issue\")\n",
    "\n",
    "print('\\nsubject 0')\n",
    "s0_valid, s0_y_valid = data_prep(torch.Tensor(np.asarray(s_valid[0])), torch.Tensor(np.asarray(s_y_valid[0])), subsample, average, noise, p_channel_dropout, smooth_time_mask, mask_size)\n",
    "print('\\nsubject 1')\n",
    "s1_valid, s1_y_valid = data_prep(torch.Tensor(np.asarray(s_valid[1])), torch.Tensor(np.asarray(s_y_valid[1])), subsample, average, noise, p_channel_dropout, smooth_time_mask, mask_size)\n",
    "print('\\nsubject 2')\n",
    "s2_valid, s2_y_valid = data_prep(torch.Tensor(np.asarray(s_valid[2])), torch.Tensor(np.asarray(s_y_valid[2])), subsample, average, noise, p_channel_dropout, smooth_time_mask, mask_size)\n",
    "print('\\nsubject 3')\n",
    "s3_valid, s3_y_valid = data_prep(torch.Tensor(np.asarray(s_valid[3])), torch.Tensor(np.asarray(s_y_valid[3])), subsample, average, noise, p_channel_dropout, smooth_time_mask, mask_size)\n",
    "print('\\nsubject 4')\n",
    "s4_valid, s4_y_valid = data_prep(torch.Tensor(np.asarray(s_valid[4])), torch.Tensor(np.asarray(s_y_valid[4])), subsample, average, noise, p_channel_dropout, smooth_time_mask, mask_size)\n",
    "print('\\nsubject 5')\n",
    "s5_valid, s5_y_valid = data_prep(torch.Tensor(np.asarray(s_valid[5])), torch.Tensor(np.asarray(s_y_valid[5])), subsample, average, noise, p_channel_dropout, smooth_time_mask, mask_size)\n",
    "print('\\nsubject 6')\n",
    "s6_valid, s6_y_valid = data_prep(torch.Tensor(np.asarray(s_valid[6])), torch.Tensor(np.asarray(s_y_valid[6])), subsample, average, noise, p_channel_dropout, smooth_time_mask, mask_size)\n",
    "print('\\nsubject 7')\n",
    "s7_valid, s7_y_valid = data_prep(torch.Tensor(np.asarray(s_valid[7])), torch.Tensor(np.asarray(s_y_valid[7])), subsample, average, noise, p_channel_dropout, smooth_time_mask, mask_size)\n",
    "print('\\nsubject 8')\n",
    "s8_valid, s8_y_valid = data_prep(torch.Tensor(np.asarray(s_valid[8])), torch.Tensor(np.asarray(s_y_valid[8])), subsample, average, noise, p_channel_dropout, smooth_time_mask, mask_size)\n",
    "\n",
    "#############################################\n",
    "#seperate X_test by subject using person_test\n",
    "#############################################\n",
    "print(X_test.shape)\n",
    "\n",
    "s_test = [[], [], [], [], [], [], [], [], []]\n",
    "s_y_test = [[], [], [], [], [], [], [], [], []]\n",
    "count_test = [0, 0, 0, 0, 0, 0, 0, 0, 0]\n",
    "\n",
    "for (i, j) in zip(person_test, range(len(person_test))):\n",
    "  #i is a np.darray from person_test, i[0] gives us the subject\n",
    "  #j is the index of i in person_test that corresponds to the index in X_test\n",
    "  s_test[int(i[0])].append(X_test[j])\n",
    "  s_y_test[int(i[0])].append(y_test[j])\n",
    "\n",
    "  #for length check\n",
    "  count_test[int(i[0])]+=1\n",
    "\n",
    "print('test counts: ', count_test)\n",
    "print('test count sum: ', sum(count_test))\n",
    "\n",
    "#lebron length check\n",
    "for (i, j, k) in zip(count_test, s_test, s_y_test):\n",
    "  if i != len(j) or i != len(k):\n",
    "    print(\"length issue\")\n",
    "\n",
    "#Look in my eyes, tell me your tale Do you see the road, the map to my soul? Look, tell me the signs whenever the smoke clear out of my face Am I picture-perfect or do I look fried?\n",
    "print('\\nsubject 0')\n",
    "s0_test, s0_y_test = test_data_prep(torch.Tensor(np.asarray(s_test[0]))), torch.Tensor(np.asarray(s_y_test[0]))\n",
    "print('\\nsubject 1')\n",
    "s1_test, s1_y_test = test_data_prep(torch.Tensor(np.asarray(s_test[1]))), torch.Tensor(np.asarray(s_y_test[1]))\n",
    "print('\\nsubject 2')\n",
    "s2_test, s2_y_test = test_data_prep(torch.Tensor(np.asarray(s_test[2]))), torch.Tensor(np.asarray(s_y_test[2]))\n",
    "print('\\nsubject 3')\n",
    "s3_test, s3_y_test = test_data_prep(torch.Tensor(np.asarray(s_test[3]))), torch.Tensor(np.asarray(s_y_test[3]))\n",
    "print('\\nsubject 4')\n",
    "s4_test, s4_y_test = test_data_prep(torch.Tensor(np.asarray(s_test[4]))), torch.Tensor(np.asarray(s_y_test[4]))\n",
    "print('\\nsubject 5')\n",
    "s5_test, s5_y_test = test_data_prep(torch.Tensor(np.asarray(s_test[5]))), torch.Tensor(np.asarray(s_y_test[5]))\n",
    "print('\\nsubject 6')\n",
    "s6_test, s6_y_test = test_data_prep(torch.Tensor(np.asarray(s_test[6]))), torch.Tensor(np.asarray(s_y_test[6]))\n",
    "print('\\nsubject 7')\n",
    "s7_test, s7_y_test = test_data_prep(torch.Tensor(np.asarray(s_test[7]))), torch.Tensor(np.asarray(s_y_test[7]))\n",
    "print('\\nsubject 8')\n",
    "s8_test, s8_y_test = test_data_prep(torch.Tensor(np.asarray(s_test[8]))), torch.Tensor(np.asarray(s_y_test[8]))\n",
    "\n",
    "#############################\n",
    "#Generate Subject DataLoader#\n",
    "#############################\n",
    "\n",
    "s0_train_loader = DataLoader(TensorDataset(s0_train, s0_y_train), batch_size=batch_size, shuffle=True)\n",
    "s0_val_loader = DataLoader(TensorDataset(s0_valid, s0_y_valid), batch_size=batch_size, shuffle=True)\n",
    "s0_test_loader = DataLoader(TensorDataset(s0_test, s0_y_test), batch_size=batch_size, shuffle=True)\n",
    "\n",
    "s1_train_loader = DataLoader(TensorDataset(s1_train, s1_y_train), batch_size=batch_size, shuffle=True)\n",
    "s1_val_loader = DataLoader(TensorDataset(s1_valid, s1_y_valid), batch_size=batch_size, shuffle=True)\n",
    "s1_test_loader = DataLoader(TensorDataset(s1_test, s1_y_test), batch_size=batch_size, shuffle=True)\n",
    "\n",
    "s2_train_loader = DataLoader(TensorDataset(s2_train, s2_y_train), batch_size=batch_size, shuffle=True)\n",
    "s2_val_loader = DataLoader(TensorDataset(s2_valid, s2_y_valid), batch_size=batch_size, shuffle=True)\n",
    "s2_test_loader = DataLoader(TensorDataset(s2_test, s2_y_test), batch_size=batch_size, shuffle=True)\n",
    "\n",
    "s3_train_loader = DataLoader(TensorDataset(s3_train, s3_y_train), batch_size=batch_size, shuffle=True)\n",
    "s3_val_loader = DataLoader(TensorDataset(s3_valid, s3_y_valid), batch_size=batch_size, shuffle=True)\n",
    "s3_test_loader = DataLoader(TensorDataset(s3_test, s3_y_test), batch_size=batch_size, shuffle=True)\n",
    "\n",
    "s4_train_loader = DataLoader(TensorDataset(s4_train, s4_y_train), batch_size=batch_size, shuffle=True)\n",
    "s4_val_loader = DataLoader(TensorDataset(s4_valid, s4_y_valid), batch_size=batch_size, shuffle=True)\n",
    "s4_test_loader = DataLoader(TensorDataset(s4_test, s4_y_test), batch_size=batch_size, shuffle=True)\n",
    "\n",
    "s5_train_loader = DataLoader(TensorDataset(s5_train, s5_y_train), batch_size=batch_size, shuffle=True)\n",
    "s5_val_loader = DataLoader(TensorDataset(s5_valid, s5_y_valid), batch_size=batch_size, shuffle=True)\n",
    "s5_test_loader = DataLoader(TensorDataset(s5_test, s5_y_test), batch_size=batch_size, shuffle=True)\n",
    "\n",
    "s6_train_loader = DataLoader(TensorDataset(s6_train, s6_y_train), batch_size=batch_size, shuffle=True)\n",
    "s6_val_loader = DataLoader(TensorDataset(s6_valid, s6_y_valid), batch_size=batch_size, shuffle=True)\n",
    "s6_test_loader = DataLoader(TensorDataset(s6_test, s6_y_test), batch_size=batch_size, shuffle=True)\n",
    "\n",
    "s7_train_loader = DataLoader(TensorDataset(s7_train, s7_y_train), batch_size=batch_size, shuffle=True)\n",
    "s7_val_loader = DataLoader(TensorDataset(s7_valid, s7_y_valid), batch_size=batch_size, shuffle=True)\n",
    "s7_test_loader = DataLoader(TensorDataset(s7_test, s7_y_test), batch_size=batch_size, shuffle=True)\n",
    "\n",
    "s8_train_loader = DataLoader(TensorDataset(s8_train, s8_y_train), batch_size=batch_size, shuffle=True)\n",
    "s8_val_loader = DataLoader(TensorDataset(s8_valid, s8_y_valid), batch_size=batch_size, shuffle=True)\n",
    "s8_test_loader = DataLoader(TensorDataset(s8_test, s8_y_test), batch_size=batch_size, shuffle=True)\n",
    "\n",
    "subject_train_loader = [s0_train_loader, s1_train_loader, s2_train_loader, s3_train_loader, s4_train_loader, s5_train_loader, s6_train_loader, s7_train_loader,  s8_train_loader]\n",
    "subject_val_loader = [s0_val_loader, s1_val_loader, s2_val_loader, s3_val_loader, s4_val_loader, s5_val_loader, s6_val_loader, s7_val_loader, s8_val_loader]\n",
    "subject_test_loader = [s0_test_loader, s1_test_loader, s2_test_loader, s3_test_loader, s4_test_loader, s5_test_loader, s6_test_loader, s7_test_loader, s8_test_loader]\n",
    "\n",
    "\n",
    "print('Prepping Training Data')\n",
    "X_train, y_train = data_prep(X_train, y_train, subsample, average, noise, p_channel_dropout, smooth_time_mask, mask_size)\n",
    "print('\\nPrepping Validation Data')\n",
    "X_valid, y_valid = data_prep(X_valid, y_valid, subsample, average, noise, p_channel_dropout, smooth_time_mask, mask_size)\n",
    "print('\\nPrepping Test Data')\n",
    "X_test = test_data_prep(X_test)\n",
    "print('\\nFINISHED PREP\\n')\n",
    "\n",
    "print('Final shape of training set:', X_train.shape)\n",
    "print('Final shape of validation set:', X_valid.shape)\n",
    "print('Final shape of test set:', X_test.shape)\n",
    "\n",
    "train_loader = DataLoader(TensorDataset(X_train, y_train), batch_size=batch_size, shuffle=True)\n",
    "val_loader = DataLoader(TensorDataset(X_valid, y_valid), batch_size=batch_size, shuffle=False)\n",
    "test_loader = DataLoader(TensorDataset(X_test, y_test), batch_size=batch_size, shuffle=False)\n",
    "\n",
    "print(f'TRAIN_DATA {len(train_loader)}\\nVALID_DATA {len(val_loader)}\\nTEST_DATA {len(test_loader)}')"
   ]
  },
  {
   "cell_type": "code",
   "execution_count": 12,
   "id": "45d4fc25-a78c-453e-ae8e-349ddf57f931",
   "metadata": {
    "id": "45d4fc25-a78c-453e-ae8e-349ddf57f931"
   },
   "outputs": [],
   "source": [
    "# num_epochs = 50\n",
    "# num_trials = 20\n",
    "# start_time = time.time()"
   ]
  },
  {
   "cell_type": "markdown",
   "id": "8d113d43-7357-4e18-a32e-2c52e795aa18",
   "metadata": {
    "id": "8d113d43-7357-4e18-a32e-2c52e795aa18",
    "jp-MarkdownHeadingCollapsed": true
   },
   "source": [
    "# **GRU**"
   ]
  },
  {
   "cell_type": "code",
   "execution_count": 13,
   "id": "3efe1347-7236-4dea-b07f-d72ce2828c4d",
   "metadata": {
    "id": "3efe1347-7236-4dea-b07f-d72ce2828c4d",
    "scrolled": true
   },
   "outputs": [],
   "source": [
    "# params = utils.learn_hyperparameters(X_train=X_train,\n",
    "#                                      y_train=y_train,\n",
    "#                                      X_valid=X_valid,\n",
    "#                                      y_valid=y_valid,\n",
    "#                                      model_name='GRU',\n",
    "#                                      num_epochs=num_epochs,\n",
    "#                                      trials=num_trials)"
   ]
  },
  {
   "cell_type": "code",
   "execution_count": 14,
   "id": "8fee97a6-5921-4574-9f68-2e538adeb95f",
   "metadata": {
    "id": "8fee97a6-5921-4574-9f68-2e538adeb95f"
   },
   "outputs": [],
   "source": [
    "# model = gru.GRU(num_classes=4,\n",
    "#               hidden_dims=params.get('hidden_dims'),\n",
    "#               dropout=params.get('dropout'),\n",
    "#               kernel=params.get('kernel'),\n",
    "#               pool_kernel=params.get('pool_kernel'),\n",
    "#               depth=params.get('depth'))\n",
    "\n",
    "# criterion = nn.CrossEntropyLoss()\n",
    "# if params.get('optimizer_name') == 'RMSprop' or params.get('optimizer_name') == 'SGD':\n",
    "#     optimizer = getattr(torch.optim, params.get('optimizer_name'))(model.parameters(),\n",
    "#                                                                     lr=params.get('learning_rate'),\n",
    "#                                                                     weight_decay=params.get('weight_decay'),\n",
    "#                                                                     momentum=params.get('momentum'))\n",
    "# else:\n",
    "#     optimizer = getattr(torch.optim, params.get('optimizer_name'))(model.parameters(),\n",
    "#                                                                     lr=params.get('learning_rate'),\n",
    "#                                                                     weight_decay=params.get('weight_decay'))\n",
    "# scheduler = torch.optim.lr_scheduler.ReduceLROnPlateau(optimizer, 'min')\n",
    "\n",
    "# torchinfo.summary(model, input_size=(params.get('batch_size'), 22, 400))"
   ]
  },
  {
   "cell_type": "code",
   "execution_count": 15,
   "id": "09cb3bba-c33d-4217-97b7-ec6fd4aeb0e1",
   "metadata": {
    "id": "09cb3bba-c33d-4217-97b7-ec6fd4aeb0e1",
    "scrolled": true
   },
   "outputs": [],
   "source": [
    "# train_accuracies, val_accuracies = utils.train_model(model=model,\n",
    "#                                                      criterion=criterion,\n",
    "#                                                      optimizer=optimizer,\n",
    "#                                                      scheduler=scheduler,\n",
    "#                                                      train_loader=train_loader,\n",
    "#                                                      val_loader=val_loader,\n",
    "#                                                      num_epochs=num_epochs * 2,\n",
    "#                                                      learning=False,\n",
    "#                                                      device=device,\n",
    "#                                                      trial=None)"
   ]
  },
  {
   "cell_type": "code",
   "execution_count": 16,
   "id": "6b878385-24b8-4681-925c-d30cbe2a8bf2",
   "metadata": {
    "id": "6b878385-24b8-4681-925c-d30cbe2a8bf2"
   },
   "outputs": [],
   "source": [
    "# import matplotlib.pyplot as plt\n",
    "# n_epochs = num_epochs * 2\n",
    "# epochs = range(1, n_epochs + 1)\n",
    "\n",
    "# plt.figure(figsize=(10, 6))\n",
    "# plt.plot(epochs, train_accuracies, label='Training Accuracy')\n",
    "# plt.plot(epochs, val_accuracies, label='Validation Accuracy')\n",
    "# plt.title('Training and Validation Accuracy')\n",
    "# plt.xlabel('Epoch')\n",
    "# plt.ylabel('Accuracy')\n",
    "# plt.legend()\n",
    "# plt.grid(True)\n",
    "# plt.show()"
   ]
  },
  {
   "cell_type": "code",
   "execution_count": 17,
   "id": "78cefe38-3115-455f-8f18-3b6d729a7fe5",
   "metadata": {
    "id": "78cefe38-3115-455f-8f18-3b6d729a7fe5"
   },
   "outputs": [],
   "source": [
    "# utils.test_model(model, test_loader)"
   ]
  },
  {
   "cell_type": "code",
   "execution_count": 18,
   "id": "2da2aab9-2a95-481a-b414-520e260c5f57",
   "metadata": {
    "id": "2da2aab9-2a95-481a-b414-520e260c5f57"
   },
   "outputs": [],
   "source": [
    "# del model\n",
    "# torch.cuda.empty_cache()\n",
    "# gc.collect()"
   ]
  },
  {
   "cell_type": "markdown",
   "id": "c3009434-0dc5-43dc-95e5-ab2c570d4cfc",
   "metadata": {
    "id": "c3009434-0dc5-43dc-95e5-ab2c570d4cfc",
    "jp-MarkdownHeadingCollapsed": true
   },
   "source": [
    "# **CNN**"
   ]
  },
  {
   "cell_type": "code",
   "execution_count": 19,
   "id": "c3804c4d-c5de-4bd5-bee9-3f5af8291222",
   "metadata": {
    "id": "c3804c4d-c5de-4bd5-bee9-3f5af8291222"
   },
   "outputs": [],
   "source": [
    "# params = utils.learn_hyperparameters(X_train=X_train,\n",
    "#                                      y_train=y_train,\n",
    "#                                      X_valid=X_valid,\n",
    "#                                      y_valid=y_valid,\n",
    "#                                      model_name='CNN',\n",
    "#                                      num_epochs=num_epochs,\n",
    "#                                      trials=num_trials)"
   ]
  },
  {
   "cell_type": "code",
   "execution_count": 20,
   "id": "12d716f6-66f3-41de-8fcf-c1d1b69ff308",
   "metadata": {
    "id": "12d716f6-66f3-41de-8fcf-c1d1b69ff308"
   },
   "outputs": [],
   "source": [
    "# model = cnn.CNN(num_classes=4,\n",
    "#               hidden_dims=params.get('hidden_dims'),\n",
    "#               dropout=params.get('dropout'),\n",
    "#               kernel=params.get('kernel'),\n",
    "#               pool_kernel=params.get('pool_kernel'),\n",
    "#               depth=params.get('depth'))\n",
    "\n",
    "# criterion = nn.CrossEntropyLoss()\n",
    "# if params.get('optimizer_name') == 'RMSprop' or params.get('optimizer_name') == 'SGD':\n",
    "#     optimizer = getattr(torch.optim, params.get('optimizer_name'))(model.parameters(),\n",
    "#                                                                     lr=params.get('learning_rate'),\n",
    "#                                                                     weight_decay=params.get('weight_decay'),\n",
    "#                                                                     momentum=params.get('momentum'))\n",
    "# else:\n",
    "#     optimizer = getattr(torch.optim, params.get('optimizer_name'))(model.parameters(),\n",
    "#                                                                     lr=params.get('learning_rate'),\n",
    "#                                                                     weight_decay=params.get('weight_decay'))\n",
    "# scheduler = torch.optim.lr_scheduler.ReduceLROnPlateau(optimizer, 'min')\n",
    "\n",
    "# torchinfo.summary(model, input_size=(params.get('batch_size'), 22, 400))"
   ]
  },
  {
   "cell_type": "code",
   "execution_count": 21,
   "id": "7f37226d-b7b4-4e6b-b560-b2d255d0284e",
   "metadata": {
    "id": "7f37226d-b7b4-4e6b-b560-b2d255d0284e",
    "scrolled": true
   },
   "outputs": [],
   "source": [
    "# train_accuracies, val_accuracies = utils.train_model(model=model,\n",
    "#                                                      criterion=criterion,\n",
    "#                                                      optimizer=optimizer,\n",
    "#                                                      scheduler=scheduler,\n",
    "#                                                      train_loader=train_loader,\n",
    "#                                                      val_loader=val_loader,\n",
    "#                                                      num_epochs=num_epochs * 2,\n",
    "#                                                      learning=False,\n",
    "#                                                      device=device,\n",
    "#                                                      trial=None)"
   ]
  },
  {
   "cell_type": "code",
   "execution_count": 22,
   "id": "d412e4b8-7d18-44c4-8731-437f5bd4c9af",
   "metadata": {
    "id": "d412e4b8-7d18-44c4-8731-437f5bd4c9af"
   },
   "outputs": [],
   "source": [
    "# import matplotlib.pyplot as plt\n",
    "# n_epochs = num_epochs * 2\n",
    "# epochs = range(1, n_epochs + 1)\n",
    "\n",
    "# plt.figure(figsize=(10, 6))\n",
    "# plt.plot(epochs, train_accuracies, label='Training Accuracy')\n",
    "# plt.plot(epochs, val_accuracies, label='Validation Accuracy')\n",
    "# plt.title('Training and Validation Accuracy')\n",
    "# plt.xlabel('Epoch')\n",
    "# plt.ylabel('Accuracy')\n",
    "# plt.legend()\n",
    "# plt.grid(True)\n",
    "# plt.show()"
   ]
  },
  {
   "cell_type": "code",
   "execution_count": 23,
   "id": "f255c001-fef9-4175-927d-d0258f3bb4e5",
   "metadata": {
    "id": "f255c001-fef9-4175-927d-d0258f3bb4e5"
   },
   "outputs": [],
   "source": [
    "# utils.test_model(model, test_loader)\n",
    "# end_time = time.time()"
   ]
  },
  {
   "cell_type": "code",
   "execution_count": 24,
   "id": "0f513866-b3aa-4381-9e1d-9719a2c41ed0",
   "metadata": {
    "id": "0f513866-b3aa-4381-9e1d-9719a2c41ed0"
   },
   "outputs": [],
   "source": [
    "# del model\n",
    "# torch.cuda.empty_cache()\n",
    "# gc.collect()"
   ]
  },
  {
   "cell_type": "markdown",
   "id": "93a2e9ed-6da1-481d-8e19-be3e3257a1fa",
   "metadata": {
    "id": "93a2e9ed-6da1-481d-8e19-be3e3257a1fa",
    "jp-MarkdownHeadingCollapsed": true
   },
   "source": [
    "# **CNNLSTM**"
   ]
  },
  {
   "cell_type": "code",
   "execution_count": 25,
   "id": "8b74faa0-2996-4591-b1d0-51a046e34767",
   "metadata": {
    "id": "8b74faa0-2996-4591-b1d0-51a046e34767"
   },
   "outputs": [],
   "source": [
    "# class TimeDistributed(nn.Module):\n",
    "#     def __init__(self, layer):\n",
    "#         super(TimeDistributed, self).__init__()\n",
    "#         self.layer = layer\n",
    "\n",
    "#     def forward(self, x):\n",
    "#         tmp = x.contiguous().view(-1, x.size(-1))\n",
    "#         y = self.layer(tmp)\n",
    "#         y = y.contiguous().view(x.size(0), -1, y.size(-1))\n",
    "\n",
    "#         return y"
   ]
  },
  {
   "cell_type": "code",
   "execution_count": 26,
   "id": "b5664f0c-de17-49bc-9f9d-c7d2e5f8f904",
   "metadata": {
    "id": "b5664f0c-de17-49bc-9f9d-c7d2e5f8f904"
   },
   "outputs": [],
   "source": [
    "# class CNNLSTM(nn.Module):\n",
    "#     def __init__(self,\n",
    "#                  num_classes=4,\n",
    "#                  hidden_dims=256,\n",
    "#                  num_layers=2,\n",
    "#                  dropout=0.5,\n",
    "#                  kernel=5,\n",
    "#                  stride=2,\n",
    "#                  padding=0,\n",
    "#                  pool_kernel=2,\n",
    "#                  time_bins=400,\n",
    "#                  channels=22,\n",
    "#                  depth=32):\n",
    "#         super(CNNLSTM, self).__init__()\n",
    "\n",
    "#         self.conv1 = nn.Sequential(\n",
    "#             nn.Conv1d(in_channels=channels,\n",
    "#                       out_channels=depth,\n",
    "#                       kernel_size=kernel,\n",
    "#                       stride=stride,\n",
    "#                       padding=padding),\n",
    "#             nn.ReLU(),\n",
    "#             nn.BatchNorm1d(depth),\n",
    "#             nn.MaxPool1d(kernel_size=pool_kernel),\n",
    "#             nn.Dropout(dropout)\n",
    "#         )\n",
    "\n",
    "#         self.conv2 = nn.Sequential(\n",
    "#             nn.Conv1d(in_channels=depth,\n",
    "#                       out_channels=depth,\n",
    "#                       kernel_size=kernel * 2,\n",
    "#                       stride=stride,\n",
    "#                       padding=padding + 1),\n",
    "#             nn.ReLU(),\n",
    "#             nn.BatchNorm1d(depth),\n",
    "#             nn.Dropout(dropout)\n",
    "#         )\n",
    "\n",
    "#         self.conv3 = nn.Sequential(\n",
    "#             nn.Conv1d(in_channels=depth,\n",
    "#                       out_channels=depth,\n",
    "#                       kernel_size=kernel * 4,\n",
    "#                       stride=stride,\n",
    "#                       padding=padding + 3),\n",
    "#             nn.ReLU(),\n",
    "#             nn.BatchNorm1d(depth),\n",
    "#             nn.Dropout(dropout)\n",
    "#         )\n",
    "\n",
    "#         self.conv4 = nn.Sequential(\n",
    "#             nn.Conv1d(in_channels=depth,\n",
    "#                       out_channels=depth * 4,\n",
    "#                       kernel_size=kernel * 4,\n",
    "#                       stride=stride,\n",
    "#                       padding=padding + 5),\n",
    "#             nn.ReLU(),\n",
    "#             nn.BatchNorm1d(depth * 4),\n",
    "#             nn.Dropout(dropout)\n",
    "#         )\n",
    "\n",
    "#         self.lstm1 = nn.LSTM(input_size=depth * 4,\n",
    "#                              hidden_size=hidden_dims // 2,\n",
    "#                              num_layers=num_layers,\n",
    "#                              batch_first=True,\n",
    "#                              bidirectional=True)\n",
    "\n",
    "#         self.lstm2 = nn.LSTM(input_size=hidden_dims,\n",
    "#                              hidden_size=hidden_dims // 2,\n",
    "#                              num_layers=num_layers,\n",
    "#                              batch_first=True,\n",
    "#                              bidirectional=True)\n",
    "\n",
    "#         self.td = nn.Sequential(\n",
    "#             TimeDistributed(nn.Linear(in_features=hidden_dims,\n",
    "#                                       out_features=hidden_dims // 2)),\n",
    "#             TimeDistributed(nn.ELU()),\n",
    "#             TimeDistributed(nn.BatchNorm1d(hidden_dims // 2)),\n",
    "#             TimeDistributed(nn.Dropout(dropout)),\n",
    "\n",
    "#             TimeDistributed(nn.Linear(in_features=hidden_dims // 2,\n",
    "#                                       out_features=hidden_dims // 4)),\n",
    "#             TimeDistributed(nn.ELU()),\n",
    "#             TimeDistributed(nn.BatchNorm1d(hidden_dims // 4)),\n",
    "#             TimeDistributed(nn.Dropout(dropout)),\n",
    "#         )\n",
    "\n",
    "#         self.dense = nn.Linear(in_features=hidden_dims // 4,\n",
    "#                                out_features=num_classes)\n",
    "\n",
    "#     def forward(self, x):\n",
    "#         x = self.conv1(x)\n",
    "#         x = self.conv2(x)\n",
    "#         x = self.conv3(x)\n",
    "#         x = self.conv4(x)\n",
    "#         x = x.transpose(1, 2)\n",
    "#         x, _ = self.lstm1(x)\n",
    "#         x, _ = self.lstm2(x)\n",
    "#         x = self.td(x)\n",
    "#         x = x[:, -1, :]\n",
    "#         x = self.dense(x)\n",
    "#         return F.log_softmax(x, dim=1)\n",
    "\n",
    "\n"
   ]
  },
  {
   "cell_type": "code",
   "execution_count": 27,
   "id": "463bd1c7-51e3-4466-977c-a9200dbd04ca",
   "metadata": {
    "id": "463bd1c7-51e3-4466-977c-a9200dbd04ca"
   },
   "outputs": [],
   "source": [
    "# torchinfo.summary(CNNLSTM(), input_size=(batch_size, 22, 400))"
   ]
  },
  {
   "cell_type": "code",
   "execution_count": 28,
   "id": "6395c432-b34d-4a91-9313-435f6aaf7eaf",
   "metadata": {
    "id": "6395c432-b34d-4a91-9313-435f6aaf7eaf",
    "scrolled": true
   },
   "outputs": [],
   "source": [
    "# params = utils.learn_hyperparameters(X_train=X_train,\n",
    "#                                      y_train=y_train,\n",
    "#                                      X_valid=X_valid,\n",
    "#                                      y_valid=y_valid,\n",
    "#                                      model_name='CNNLSTM',\n",
    "#                                      num_epochs=num_epochs,\n",
    "#                                      trials=num_trials)"
   ]
  },
  {
   "cell_type": "code",
   "execution_count": 29,
   "id": "eff33eb5-8948-4621-833a-b3258f768c7a",
   "metadata": {
    "id": "eff33eb5-8948-4621-833a-b3258f768c7a"
   },
   "outputs": [],
   "source": [
    "# model = clstm.CNNLSTM(num_classes=4,\n",
    "#               hidden_dims=params.get('hidden_dims'),\n",
    "#               dropout=params.get('dropout'),\n",
    "#               kernel=params.get('kernel'),\n",
    "#               pool_kernel=params.get('pool_kernel'),\n",
    "#               depth=params.get('depth'))\n",
    "\n",
    "# criterion = nn.CrossEntropyLoss()\n",
    "# if params.get('optimizer_name') == 'RMSprop' or params.get('optimizer_name') == 'SGD':\n",
    "#     optimizer = getattr(torch.optim, params.get('optimizer_name'))(model.parameters(),\n",
    "#                                                                     lr=params.get('learning_rate'),\n",
    "#                                                                     weight_decay=params.get('weight_decay'),\n",
    "#                                                                     momentum=params.get('momentum'))\n",
    "# else:\n",
    "#     optimizer = getattr(torch.optim, params.get('optimizer_name'))(model.parameters(),\n",
    "#                                                                     lr=params.get('learning_rate'),\n",
    "#                                                                     weight_decay=params.get('weight_decay'))\n",
    "# scheduler = torch.optim.lr_scheduler.ReduceLROnPlateau(optimizer, 'min')\n",
    "\n",
    "# torchinfo.summary(model, input_size=(params.get('batch_size'), 22, 400))"
   ]
  },
  {
   "cell_type": "code",
   "execution_count": 30,
   "id": "ef92748d-e1cc-46ad-8529-684f23164953",
   "metadata": {
    "id": "ef92748d-e1cc-46ad-8529-684f23164953"
   },
   "outputs": [],
   "source": [
    "# model = CNNLSTM().to(device)\n",
    "# criterion = nn.CrossEntropyLoss()\n",
    "# optimizer = torch.optim.Adam(model.parameters(), lr=0.001, weight_decay=0.0008)\n",
    "# scheduler = torch.optim.lr_scheduler.ReduceLROnPlateau(optimizer, 'min')"
   ]
  },
  {
   "cell_type": "code",
   "execution_count": 31,
   "id": "3dd9828b-bc24-4dc0-acf9-3630724aaeb6",
   "metadata": {
    "id": "3dd9828b-bc24-4dc0-acf9-3630724aaeb6",
    "scrolled": true
   },
   "outputs": [],
   "source": [
    "# train_accuracies, val_accuracies = utils.train_model(model=model,\n",
    "#                                                      criterion=criterion,\n",
    "#                                                      optimizer=optimizer,\n",
    "#                                                      scheduler=scheduler,\n",
    "#                                                      train_loader=train_loader,\n",
    "#                                                      val_loader=val_loader,\n",
    "#                                                      num_epochs=num_epochs * 2,\n",
    "#                                                      learning=False,\n",
    "#                                                      device=device,\n",
    "#                                                      trial=None)"
   ]
  },
  {
   "cell_type": "code",
   "execution_count": 32,
   "id": "df958492-9aa8-4d2a-b267-64a6e404bd59",
   "metadata": {
    "id": "df958492-9aa8-4d2a-b267-64a6e404bd59"
   },
   "outputs": [],
   "source": [
    "# import matplotlib.pyplot as plt\n",
    "# n_epochs = num_epochs * 2\n",
    "# epochs = range(1, n_epochs + 1)\n",
    "\n",
    "# plt.figure(figsize=(10, 6))\n",
    "# plt.plot(epochs, train_accuracies, label='Training Accuracy')\n",
    "# plt.plot(epochs, val_accuracies, label='Validation Accuracy')\n",
    "# plt.title('Training and Validation Accuracy')\n",
    "# plt.xlabel('Epoch')\n",
    "# plt.ylabel('Accuracy')\n",
    "# plt.legend()\n",
    "# plt.grid(True)\n",
    "# plt.show()"
   ]
  },
  {
   "cell_type": "code",
   "execution_count": 33,
   "id": "eefba0db-f7e1-4c14-8648-2d9460e719b3",
   "metadata": {
    "id": "eefba0db-f7e1-4c14-8648-2d9460e719b3"
   },
   "outputs": [],
   "source": [
    "# utils.test_model(model, test_loader)\n",
    "# end_time = time.time()"
   ]
  },
  {
   "cell_type": "code",
   "execution_count": 34,
   "id": "64fb886e-a565-40df-9cad-9dce5fde8df5",
   "metadata": {
    "id": "64fb886e-a565-40df-9cad-9dce5fde8df5"
   },
   "outputs": [],
   "source": [
    "# del model\n",
    "# torch.cuda.empty_cache()\n",
    "# gc.collect()"
   ]
  },
  {
   "cell_type": "code",
   "execution_count": 35,
   "id": "6fa32879-82cd-426e-b0fc-388ce8af09fd",
   "metadata": {
    "id": "6fa32879-82cd-426e-b0fc-388ce8af09fd"
   },
   "outputs": [],
   "source": [
    "# end_time = time.time()\n",
    "# print('time i will never get back:')\n",
    "# hours = (end_time - start_time) // 3600\n",
    "# minutes = ((end_time - start_time) % 3600) // 60\n",
    "# seconds = (end_time - start_time) % 60\n",
    "\n",
    "# print(f'time to train models: \\\n",
    "# {hours} hours, \\\n",
    "# {minutes} minutes, \\\n",
    "# {int(seconds)} seconds')"
   ]
  },
  {
   "cell_type": "markdown",
   "id": "4f18cebd-5010-4f6f-b01c-998deede0471",
   "metadata": {
    "id": "4f18cebd-5010-4f6f-b01c-998deede0471"
   },
   "source": [
    "# other"
   ]
  },
  {
   "cell_type": "code",
   "execution_count": 36,
   "id": "ZaktM1sSvW8E",
   "metadata": {
    "id": "ZaktM1sSvW8E"
   },
   "outputs": [],
   "source": [
    "# update number of epochs\n",
    "# change path to save\n",
    "number_epochs = 50\n",
    "path_to_save = './results_new/'\n",
    "super_start_time = time.time()"
   ]
  },
  {
   "cell_type": "code",
   "execution_count": 37,
   "id": "QMGihEOv6IE8",
   "metadata": {
    "id": "QMGihEOv6IE8"
   },
   "outputs": [],
   "source": [
    "def calc_time(end_time, start_time):\n",
    "  hours = (end_time - super_start_time) // 3600\n",
    "  minutes = ((end_time - super_start_time) % 3600) // 60\n",
    "  seconds = (end_time - super_start_time) % 60\n",
    "\n",
    "  print(f'time to train model: \\\n",
    "  {hours} hours, \\\n",
    "  {minutes} minutes, \\\n",
    "  {int(seconds)} seconds')"
   ]
  },
  {
   "cell_type": "markdown",
   "id": "95568bfe-87a3-4741-8eb5-2b63b252d45a",
   "metadata": {
    "id": "95568bfe-87a3-4741-8eb5-2b63b252d45a"
   },
   "source": [
    "## cnn"
   ]
  },
  {
   "cell_type": "code",
   "execution_count": 38,
   "id": "b61aa7c6-8577-42ca-b69c-906e7af4c594",
   "metadata": {
    "id": "b61aa7c6-8577-42ca-b69c-906e7af4c594"
   },
   "outputs": [],
   "source": [
    "class TimeDistributed(nn.Module):\n",
    "    def __init__(self, layer):\n",
    "        super(TimeDistributed, self).__init__()\n",
    "        self.layer = layer\n",
    "\n",
    "    def forward(self, x):\n",
    "        tmp = x.contiguous().view(-1, x.size(-1))\n",
    "        y = self.layer(tmp)\n",
    "        y = y.contiguous().view(x.size(0), -1, y.size(-1))\n",
    "\n",
    "        return y"
   ]
  },
  {
   "cell_type": "code",
   "execution_count": 39,
   "id": "ae440db2-ee2e-41a1-b795-803362bc3637",
   "metadata": {
    "id": "ae440db2-ee2e-41a1-b795-803362bc3637"
   },
   "outputs": [],
   "source": [
    "class CNN(nn.Module):\n",
    "    def __init__(self,\n",
    "                 num_classes=4,\n",
    "                 hidden_dims=256,\n",
    "                 dropout=0.5,\n",
    "                 kernel=10,\n",
    "                 stride=1,\n",
    "                 padding=0,\n",
    "                 pool_kernel=3,\n",
    "                 time_bins=400,\n",
    "                 channels=22,\n",
    "                 depth=25):\n",
    "        super(CNN, self).__init__()\n",
    "\n",
    "        self.conv1 = nn.Sequential(\n",
    "            nn.Conv1d(in_channels=channels,\n",
    "                      out_channels=depth,\n",
    "                      kernel_size=kernel,\n",
    "                      stride=stride,\n",
    "                      padding=padding),\n",
    "            nn.ReLU(),\n",
    "            nn.BatchNorm1d(depth),\n",
    "            nn.Dropout(dropout)\n",
    "        )\n",
    "        self.conv2 = nn.Sequential(\n",
    "            nn.Conv2d(in_channels=depth,\n",
    "                      out_channels=depth * 2,\n",
    "                      kernel_size=(1, depth),\n",
    "                      stride=stride,\n",
    "                      padding=padding),\n",
    "            nn.ELU(),\n",
    "            nn.BatchNorm2d(depth * 2),\n",
    "            nn.MaxPool2d(kernel_size=(1, pool_kernel)),\n",
    "            nn.Dropout(dropout)\n",
    "        )\n",
    "        self.conv3 = nn.Sequential(\n",
    "            nn.Conv1d(in_channels=depth * 2,\n",
    "                      out_channels=depth * 4,\n",
    "                      kernel_size=kernel,\n",
    "                      stride=stride,\n",
    "                      padding=padding),\n",
    "            nn.ELU(),\n",
    "            nn.BatchNorm1d(depth * 4),\n",
    "            nn.MaxPool1d(kernel_size=pool_kernel),\n",
    "            nn.Dropout(dropout)\n",
    "        )\n",
    "        self.conv4 = nn.Sequential(\n",
    "            nn.Conv1d(in_channels=depth * 4,\n",
    "                      out_channels=depth * 4,\n",
    "                      kernel_size=kernel,\n",
    "                      stride=stride,\n",
    "                      padding=padding + 4),\n",
    "            nn.ELU(),\n",
    "            nn.BatchNorm1d(depth * 4),\n",
    "            nn.MaxPool1d(kernel_size=pool_kernel),\n",
    "            nn.Dropout(dropout)\n",
    "        )\n",
    "        self.conv5 = nn.Sequential(\n",
    "            nn.Conv1d(in_channels=depth * 4,\n",
    "                      out_channels=depth * 8,\n",
    "                      kernel_size=kernel,\n",
    "                      stride=stride,\n",
    "                      padding=padding),\n",
    "            nn.ELU(),\n",
    "            nn.BatchNorm1d(depth * 8),\n",
    "            nn.MaxPool1d(kernel_size=pool_kernel),\n",
    "            nn.Dropout(dropout)\n",
    "        )\n",
    "\n",
    "        self.nd = nn.Sequential(\n",
    "            TimeDistributed(nn.Linear(in_features=depth * 8, out_features=depth * 4)),\n",
    "            TimeDistributed(nn.ReLU()),\n",
    "            TimeDistributed(nn.BatchNorm1d(depth * 4)),\n",
    "        )\n",
    "\n",
    "        self.dense = nn.Linear(in_features=depth * 4,\n",
    "                               out_features=num_classes)\n",
    "\n",
    "    def forward(self, x):\n",
    "        x = self.conv1(x)\n",
    "        x = x.unsqueeze(2)\n",
    "        x = self.conv2(x)\n",
    "        x = x.squeeze(2)\n",
    "        x = self.conv3(x)\n",
    "        x = self.conv4(x)\n",
    "        x = self.conv5(x)\n",
    "        x = x.transpose(1, 2)\n",
    "        # print(x.shape)\n",
    "        x = self.nd(x)\n",
    "        x = x[:, -1, :]\n",
    "        x = self.dense(x)\n",
    "\n",
    "        return F.log_softmax(x, dim=1)\n"
   ]
  },
  {
   "cell_type": "code",
   "execution_count": 40,
   "id": "a69cc806-b311-4c22-a591-2e463fb59c45",
   "metadata": {
    "colab": {
     "base_uri": "https://localhost:8080/"
    },
    "id": "a69cc806-b311-4c22-a591-2e463fb59c45",
    "outputId": "54eb1757-8c5d-46f8-a90a-40b92ad858d6"
   },
   "outputs": [
    {
     "data": {
      "text/plain": [
       "==========================================================================================\n",
       "Layer (type:depth-idx)                   Output Shape              Param #\n",
       "==========================================================================================\n",
       "CNN                                      [64, 4]                   --\n",
       "├─Sequential: 1-1                        [64, 25, 391]             --\n",
       "│    └─Conv1d: 2-1                       [64, 25, 391]             5,525\n",
       "│    └─ReLU: 2-2                         [64, 25, 391]             --\n",
       "│    └─BatchNorm1d: 2-3                  [64, 25, 391]             50\n",
       "│    └─Dropout: 2-4                      [64, 25, 391]             --\n",
       "├─Sequential: 1-2                        [64, 50, 1, 122]          --\n",
       "│    └─Conv2d: 2-5                       [64, 50, 1, 367]          31,300\n",
       "│    └─ELU: 2-6                          [64, 50, 1, 367]          --\n",
       "│    └─BatchNorm2d: 2-7                  [64, 50, 1, 367]          100\n",
       "│    └─MaxPool2d: 2-8                    [64, 50, 1, 122]          --\n",
       "│    └─Dropout: 2-9                      [64, 50, 1, 122]          --\n",
       "├─Sequential: 1-3                        [64, 100, 37]             --\n",
       "│    └─Conv1d: 2-10                      [64, 100, 113]            50,100\n",
       "│    └─ELU: 2-11                         [64, 100, 113]            --\n",
       "│    └─BatchNorm1d: 2-12                 [64, 100, 113]            200\n",
       "│    └─MaxPool1d: 2-13                   [64, 100, 37]             --\n",
       "│    └─Dropout: 2-14                     [64, 100, 37]             --\n",
       "├─Sequential: 1-4                        [64, 100, 12]             --\n",
       "│    └─Conv1d: 2-15                      [64, 100, 36]             100,100\n",
       "│    └─ELU: 2-16                         [64, 100, 36]             --\n",
       "│    └─BatchNorm1d: 2-17                 [64, 100, 36]             200\n",
       "│    └─MaxPool1d: 2-18                   [64, 100, 12]             --\n",
       "│    └─Dropout: 2-19                     [64, 100, 12]             --\n",
       "├─Sequential: 1-5                        [64, 200, 1]              --\n",
       "│    └─Conv1d: 2-20                      [64, 200, 3]              200,200\n",
       "│    └─ELU: 2-21                         [64, 200, 3]              --\n",
       "│    └─BatchNorm1d: 2-22                 [64, 200, 3]              400\n",
       "│    └─MaxPool1d: 2-23                   [64, 200, 1]              --\n",
       "│    └─Dropout: 2-24                     [64, 200, 1]              --\n",
       "├─Sequential: 1-6                        [64, 1, 100]              --\n",
       "│    └─TimeDistributed: 2-25             [64, 1, 100]              --\n",
       "│    │    └─Linear: 3-1                  [64, 100]                 20,100\n",
       "│    └─TimeDistributed: 2-26             [64, 1, 100]              --\n",
       "│    │    └─ReLU: 3-2                    [64, 100]                 --\n",
       "│    └─TimeDistributed: 2-27             [64, 1, 100]              --\n",
       "│    │    └─BatchNorm1d: 3-3             [64, 100]                 200\n",
       "├─Linear: 1-7                            [64, 4]                   404\n",
       "==========================================================================================\n",
       "Total params: 408,879\n",
       "Trainable params: 408,879\n",
       "Non-trainable params: 0\n",
       "Total mult-adds (Units.GIGABYTES): 1.51\n",
       "==========================================================================================\n",
       "Input size (MB): 2.25\n",
       "Forward/backward pass size (MB): 44.78\n",
       "Params size (MB): 1.64\n",
       "Estimated Total Size (MB): 48.66\n",
       "=========================================================================================="
      ]
     },
     "execution_count": 40,
     "metadata": {},
     "output_type": "execute_result"
    }
   ],
   "source": [
    "torchinfo.summary(CNN(), input_size=(batch_size, 22, 400))"
   ]
  },
  {
   "cell_type": "code",
   "execution_count": 41,
   "id": "01257b1b-b872-4684-aa96-a123131a816d",
   "metadata": {
    "id": "01257b1b-b872-4684-aa96-a123131a816d"
   },
   "outputs": [],
   "source": [
    "model = CNN().to(device)\n",
    "criterion = nn.CrossEntropyLoss()\n",
    "optimizer = torch.optim.NAdam(model.parameters(), lr=0.00189, weight_decay=0.00087)\n",
    "scheduler = torch.optim.lr_scheduler.CosineAnnealingLR(optimizer, T_max=25, eta_min=0.00005)"
   ]
  },
  {
   "cell_type": "code",
   "execution_count": 42,
   "id": "2370fb44-cc58-4727-a5ce-a9dbcbef6ea4",
   "metadata": {
    "colab": {
     "base_uri": "https://localhost:8080/",
     "height": 84,
     "referenced_widgets": [
      "4bc37fe9b8ee45fe9a09443eb827caec",
      "ea69c0cd370f40c19bcbb78d7cb7ff7f",
      "5042e1e185b742f299d352fe875d2270",
      "84163bb50e0f495386c805147f0c0060",
      "63ca0ea9a7624e4da1f4ab6e734684a5",
      "063a1c5294264d3eb51ec207ca2f49ed",
      "58a12a3d32c848bc80d29cc24e5c5dd6",
      "c1d743c9712b4b6c88bc38661fa21055",
      "cae96442cc3e4831a782661d8bd17fec",
      "6fe9b28cb41d46c9b0b9ff4512c8f1ed",
      "40283d700d474407bef89172bd4f896e"
     ]
    },
    "id": "2370fb44-cc58-4727-a5ce-a9dbcbef6ea4",
    "outputId": "3b23c492-f303-4639-f3ed-61f7f6f113de",
    "scrolled": true
   },
   "outputs": [
    {
     "name": "stdout",
     "output_type": "stream",
     "text": [
      "Epoch 1\n"
     ]
    },
    {
     "data": {
      "application/vnd.jupyter.widget-view+json": {
       "model_id": "477d6c1e7e2e41578db89c009e722219",
       "version_major": 2,
       "version_minor": 0
      },
      "text/plain": [
       "  0%|          | 0/238 [00:00<?, ?it/s]"
      ]
     },
     "metadata": {},
     "output_type": "display_data"
    },
    {
     "name": "stdout",
     "output_type": "stream",
     "text": [
      "Train acc: 0.419, Val acc: 0.475, Val loss: 1.292\n",
      "Epoch 2\n"
     ]
    },
    {
     "data": {
      "application/vnd.jupyter.widget-view+json": {
       "model_id": "9b42a266e76740c3b4f4561ce7fc0e5c",
       "version_major": 2,
       "version_minor": 0
      },
      "text/plain": [
       "  0%|          | 0/238 [00:00<?, ?it/s]"
      ]
     },
     "metadata": {},
     "output_type": "display_data"
    },
    {
     "name": "stdout",
     "output_type": "stream",
     "text": [
      "Train acc: 0.560, Val acc: 0.592, Val loss: 1.042\n",
      "Epoch 3\n"
     ]
    },
    {
     "data": {
      "application/vnd.jupyter.widget-view+json": {
       "model_id": "6f70cf434f314cdc91ccfbf382e5072b",
       "version_major": 2,
       "version_minor": 0
      },
      "text/plain": [
       "  0%|          | 0/238 [00:00<?, ?it/s]"
      ]
     },
     "metadata": {},
     "output_type": "display_data"
    },
    {
     "name": "stdout",
     "output_type": "stream",
     "text": [
      "Train acc: 0.648, Val acc: 0.587, Val loss: 1.038\n",
      "Epoch 4\n"
     ]
    },
    {
     "data": {
      "application/vnd.jupyter.widget-view+json": {
       "model_id": "c28d7856aacf491eb7dbf9a8f595ab5f",
       "version_major": 2,
       "version_minor": 0
      },
      "text/plain": [
       "  0%|          | 0/238 [00:00<?, ?it/s]"
      ]
     },
     "metadata": {},
     "output_type": "display_data"
    },
    {
     "name": "stdout",
     "output_type": "stream",
     "text": [
      "Train acc: 0.701, Val acc: 0.618, Val loss: 1.035\n",
      "Epoch 5\n"
     ]
    },
    {
     "data": {
      "application/vnd.jupyter.widget-view+json": {
       "model_id": "716d9529a10a47cb9f135ea7d9cab6b4",
       "version_major": 2,
       "version_minor": 0
      },
      "text/plain": [
       "  0%|          | 0/238 [00:00<?, ?it/s]"
      ]
     },
     "metadata": {},
     "output_type": "display_data"
    },
    {
     "name": "stdout",
     "output_type": "stream",
     "text": [
      "Train acc: 0.734, Val acc: 0.643, Val loss: 1.039\n",
      "Epoch 6\n"
     ]
    },
    {
     "data": {
      "application/vnd.jupyter.widget-view+json": {
       "model_id": "8bfbab55d7074d409ee26a34d6db5761",
       "version_major": 2,
       "version_minor": 0
      },
      "text/plain": [
       "  0%|          | 0/238 [00:00<?, ?it/s]"
      ]
     },
     "metadata": {},
     "output_type": "display_data"
    },
    {
     "name": "stdout",
     "output_type": "stream",
     "text": [
      "Train acc: 0.761, Val acc: 0.616, Val loss: 1.150\n",
      "Epoch 7\n"
     ]
    },
    {
     "data": {
      "application/vnd.jupyter.widget-view+json": {
       "model_id": "f12ca4c0114a42fcb661c43bb9d6a924",
       "version_major": 2,
       "version_minor": 0
      },
      "text/plain": [
       "  0%|          | 0/238 [00:00<?, ?it/s]"
      ]
     },
     "metadata": {},
     "output_type": "display_data"
    },
    {
     "name": "stdout",
     "output_type": "stream",
     "text": [
      "Train acc: 0.785, Val acc: 0.641, Val loss: 1.026\n",
      "Epoch 8\n"
     ]
    },
    {
     "data": {
      "application/vnd.jupyter.widget-view+json": {
       "model_id": "b268c7781ed54629b2b7fa1e066abffe",
       "version_major": 2,
       "version_minor": 0
      },
      "text/plain": [
       "  0%|          | 0/238 [00:00<?, ?it/s]"
      ]
     },
     "metadata": {},
     "output_type": "display_data"
    },
    {
     "name": "stdout",
     "output_type": "stream",
     "text": [
      "Train acc: 0.806, Val acc: 0.641, Val loss: 1.050\n",
      "Epoch 9\n"
     ]
    },
    {
     "data": {
      "application/vnd.jupyter.widget-view+json": {
       "model_id": "1acb84176201461fada3f1468a9492cf",
       "version_major": 2,
       "version_minor": 0
      },
      "text/plain": [
       "  0%|          | 0/238 [00:00<?, ?it/s]"
      ]
     },
     "metadata": {},
     "output_type": "display_data"
    },
    {
     "name": "stdout",
     "output_type": "stream",
     "text": [
      "Train acc: 0.817, Val acc: 0.703, Val loss: 1.224\n",
      "Epoch 10\n"
     ]
    },
    {
     "data": {
      "application/vnd.jupyter.widget-view+json": {
       "model_id": "39644b35b2d84ba587d07f2e32194c72",
       "version_major": 2,
       "version_minor": 0
      },
      "text/plain": [
       "  0%|          | 0/238 [00:00<?, ?it/s]"
      ]
     },
     "metadata": {},
     "output_type": "display_data"
    },
    {
     "name": "stdout",
     "output_type": "stream",
     "text": [
      "Train acc: 0.835, Val acc: 0.675, Val loss: 1.221\n",
      "Epoch 11\n"
     ]
    },
    {
     "data": {
      "application/vnd.jupyter.widget-view+json": {
       "model_id": "7c584f47a1fe48fb8f35af3a50f84794",
       "version_major": 2,
       "version_minor": 0
      },
      "text/plain": [
       "  0%|          | 0/238 [00:00<?, ?it/s]"
      ]
     },
     "metadata": {},
     "output_type": "display_data"
    },
    {
     "name": "stdout",
     "output_type": "stream",
     "text": [
      "Train acc: 0.848, Val acc: 0.688, Val loss: 1.228\n",
      "Epoch 12\n"
     ]
    },
    {
     "data": {
      "application/vnd.jupyter.widget-view+json": {
       "model_id": "d7613db9bf6840fc9fa132e355c3895a",
       "version_major": 2,
       "version_minor": 0
      },
      "text/plain": [
       "  0%|          | 0/238 [00:00<?, ?it/s]"
      ]
     },
     "metadata": {},
     "output_type": "display_data"
    },
    {
     "name": "stdout",
     "output_type": "stream",
     "text": [
      "Train acc: 0.859, Val acc: 0.675, Val loss: 1.226\n",
      "Epoch 13\n"
     ]
    },
    {
     "data": {
      "application/vnd.jupyter.widget-view+json": {
       "model_id": "c9543e43681249e79c73be6ffe654d02",
       "version_major": 2,
       "version_minor": 0
      },
      "text/plain": [
       "  0%|          | 0/238 [00:00<?, ?it/s]"
      ]
     },
     "metadata": {},
     "output_type": "display_data"
    },
    {
     "name": "stdout",
     "output_type": "stream",
     "text": [
      "Train acc: 0.874, Val acc: 0.701, Val loss: 1.300\n",
      "Epoch 14\n"
     ]
    },
    {
     "data": {
      "application/vnd.jupyter.widget-view+json": {
       "model_id": "527425a712cd4ac082c4bd6b6d48b1a6",
       "version_major": 2,
       "version_minor": 0
      },
      "text/plain": [
       "  0%|          | 0/238 [00:00<?, ?it/s]"
      ]
     },
     "metadata": {},
     "output_type": "display_data"
    },
    {
     "name": "stdout",
     "output_type": "stream",
     "text": [
      "Train acc: 0.879, Val acc: 0.690, Val loss: 1.152\n",
      "Epoch 15\n"
     ]
    },
    {
     "data": {
      "application/vnd.jupyter.widget-view+json": {
       "model_id": "def4d7afe5df42f1b2a5ae6ec622a306",
       "version_major": 2,
       "version_minor": 0
      },
      "text/plain": [
       "  0%|          | 0/238 [00:00<?, ?it/s]"
      ]
     },
     "metadata": {},
     "output_type": "display_data"
    },
    {
     "name": "stdout",
     "output_type": "stream",
     "text": [
      "Train acc: 0.892, Val acc: 0.677, Val loss: 1.273\n",
      "Epoch 16\n"
     ]
    },
    {
     "data": {
      "application/vnd.jupyter.widget-view+json": {
       "model_id": "0c3bd6c7ed344c258075acdc8e14dd23",
       "version_major": 2,
       "version_minor": 0
      },
      "text/plain": [
       "  0%|          | 0/238 [00:00<?, ?it/s]"
      ]
     },
     "metadata": {},
     "output_type": "display_data"
    },
    {
     "name": "stdout",
     "output_type": "stream",
     "text": [
      "Train acc: 0.895, Val acc: 0.696, Val loss: 1.192\n",
      "Epoch 17\n"
     ]
    },
    {
     "data": {
      "application/vnd.jupyter.widget-view+json": {
       "model_id": "09daa01546a847bd98981b7cb531b821",
       "version_major": 2,
       "version_minor": 0
      },
      "text/plain": [
       "  0%|          | 0/238 [00:00<?, ?it/s]"
      ]
     },
     "metadata": {},
     "output_type": "display_data"
    },
    {
     "name": "stdout",
     "output_type": "stream",
     "text": [
      "Train acc: 0.904, Val acc: 0.706, Val loss: 1.195\n",
      "Epoch 18\n"
     ]
    },
    {
     "data": {
      "application/vnd.jupyter.widget-view+json": {
       "model_id": "3e590453fc534397a0676d30e611f8b1",
       "version_major": 2,
       "version_minor": 0
      },
      "text/plain": [
       "  0%|          | 0/238 [00:00<?, ?it/s]"
      ]
     },
     "metadata": {},
     "output_type": "display_data"
    },
    {
     "name": "stdout",
     "output_type": "stream",
     "text": [
      "Train acc: 0.919, Val acc: 0.690, Val loss: 1.215\n",
      "Epoch 19\n"
     ]
    },
    {
     "data": {
      "application/vnd.jupyter.widget-view+json": {
       "model_id": "85928650221041f38bf43546234d5a2a",
       "version_major": 2,
       "version_minor": 0
      },
      "text/plain": [
       "  0%|          | 0/238 [00:00<?, ?it/s]"
      ]
     },
     "metadata": {},
     "output_type": "display_data"
    },
    {
     "name": "stdout",
     "output_type": "stream",
     "text": [
      "Train acc: 0.918, Val acc: 0.707, Val loss: 1.124\n",
      "Epoch 20\n"
     ]
    },
    {
     "data": {
      "application/vnd.jupyter.widget-view+json": {
       "model_id": "8ef6f54a0f104627b232668e691dbbb8",
       "version_major": 2,
       "version_minor": 0
      },
      "text/plain": [
       "  0%|          | 0/238 [00:00<?, ?it/s]"
      ]
     },
     "metadata": {},
     "output_type": "display_data"
    },
    {
     "name": "stdout",
     "output_type": "stream",
     "text": [
      "Train acc: 0.928, Val acc: 0.715, Val loss: 1.273\n",
      "Epoch 21\n"
     ]
    },
    {
     "data": {
      "application/vnd.jupyter.widget-view+json": {
       "model_id": "7924c98b90eb41b6b13905e0fab5a6e7",
       "version_major": 2,
       "version_minor": 0
      },
      "text/plain": [
       "  0%|          | 0/238 [00:00<?, ?it/s]"
      ]
     },
     "metadata": {},
     "output_type": "display_data"
    },
    {
     "name": "stdout",
     "output_type": "stream",
     "text": [
      "Train acc: 0.933, Val acc: 0.710, Val loss: 1.289\n",
      "Epoch 22\n"
     ]
    },
    {
     "data": {
      "application/vnd.jupyter.widget-view+json": {
       "model_id": "fee788238d9b485e9a2b69603aba7e7a",
       "version_major": 2,
       "version_minor": 0
      },
      "text/plain": [
       "  0%|          | 0/238 [00:00<?, ?it/s]"
      ]
     },
     "metadata": {},
     "output_type": "display_data"
    },
    {
     "name": "stdout",
     "output_type": "stream",
     "text": [
      "Train acc: 0.936, Val acc: 0.710, Val loss: 1.256\n",
      "Epoch 23\n"
     ]
    },
    {
     "data": {
      "application/vnd.jupyter.widget-view+json": {
       "model_id": "3525823361bf4f678c4a21baad1102fc",
       "version_major": 2,
       "version_minor": 0
      },
      "text/plain": [
       "  0%|          | 0/238 [00:00<?, ?it/s]"
      ]
     },
     "metadata": {},
     "output_type": "display_data"
    },
    {
     "name": "stdout",
     "output_type": "stream",
     "text": [
      "Train acc: 0.935, Val acc: 0.705, Val loss: 1.284\n",
      "Epoch 24\n"
     ]
    },
    {
     "data": {
      "application/vnd.jupyter.widget-view+json": {
       "model_id": "152de2f2ce39456b85db40ca5343316f",
       "version_major": 2,
       "version_minor": 0
      },
      "text/plain": [
       "  0%|          | 0/238 [00:00<?, ?it/s]"
      ]
     },
     "metadata": {},
     "output_type": "display_data"
    },
    {
     "name": "stdout",
     "output_type": "stream",
     "text": [
      "Train acc: 0.941, Val acc: 0.711, Val loss: 1.307\n",
      "Epoch 25\n"
     ]
    },
    {
     "data": {
      "application/vnd.jupyter.widget-view+json": {
       "model_id": "1bf16fca415a412b96b2626a06a96131",
       "version_major": 2,
       "version_minor": 0
      },
      "text/plain": [
       "  0%|          | 0/238 [00:00<?, ?it/s]"
      ]
     },
     "metadata": {},
     "output_type": "display_data"
    },
    {
     "name": "stdout",
     "output_type": "stream",
     "text": [
      "Train acc: 0.944, Val acc: 0.711, Val loss: 1.319\n",
      "Epoch 26\n"
     ]
    },
    {
     "data": {
      "application/vnd.jupyter.widget-view+json": {
       "model_id": "ec49e92e63ee41f5a7b84f93334f65ce",
       "version_major": 2,
       "version_minor": 0
      },
      "text/plain": [
       "  0%|          | 0/238 [00:00<?, ?it/s]"
      ]
     },
     "metadata": {},
     "output_type": "display_data"
    },
    {
     "name": "stdout",
     "output_type": "stream",
     "text": [
      "Train acc: 0.941, Val acc: 0.718, Val loss: 1.278\n",
      "Epoch 27\n"
     ]
    },
    {
     "data": {
      "application/vnd.jupyter.widget-view+json": {
       "model_id": "311602149a2d4e22910c51fff7ccc19b",
       "version_major": 2,
       "version_minor": 0
      },
      "text/plain": [
       "  0%|          | 0/238 [00:00<?, ?it/s]"
      ]
     },
     "metadata": {},
     "output_type": "display_data"
    },
    {
     "name": "stdout",
     "output_type": "stream",
     "text": [
      "Train acc: 0.940, Val acc: 0.724, Val loss: 1.288\n",
      "Epoch 28\n"
     ]
    },
    {
     "data": {
      "application/vnd.jupyter.widget-view+json": {
       "model_id": "61a90afccf1d40ad92d886f22e8cd89d",
       "version_major": 2,
       "version_minor": 0
      },
      "text/plain": [
       "  0%|          | 0/238 [00:00<?, ?it/s]"
      ]
     },
     "metadata": {},
     "output_type": "display_data"
    },
    {
     "name": "stdout",
     "output_type": "stream",
     "text": [
      "Train acc: 0.945, Val acc: 0.722, Val loss: 1.340\n",
      "Epoch 29\n"
     ]
    },
    {
     "data": {
      "application/vnd.jupyter.widget-view+json": {
       "model_id": "247344918ade4b8698588faa5026e6b8",
       "version_major": 2,
       "version_minor": 0
      },
      "text/plain": [
       "  0%|          | 0/238 [00:00<?, ?it/s]"
      ]
     },
     "metadata": {},
     "output_type": "display_data"
    },
    {
     "name": "stdout",
     "output_type": "stream",
     "text": [
      "Train acc: 0.943, Val acc: 0.717, Val loss: 1.326\n",
      "Epoch 30\n"
     ]
    },
    {
     "data": {
      "application/vnd.jupyter.widget-view+json": {
       "model_id": "1c95c41b4b514a5c8eeaf4a55cae1abf",
       "version_major": 2,
       "version_minor": 0
      },
      "text/plain": [
       "  0%|          | 0/238 [00:00<?, ?it/s]"
      ]
     },
     "metadata": {},
     "output_type": "display_data"
    },
    {
     "name": "stdout",
     "output_type": "stream",
     "text": [
      "Train acc: 0.944, Val acc: 0.700, Val loss: 1.412\n",
      "Epoch 31\n"
     ]
    },
    {
     "data": {
      "application/vnd.jupyter.widget-view+json": {
       "model_id": "c934073f993b4a63adf1e945ea797933",
       "version_major": 2,
       "version_minor": 0
      },
      "text/plain": [
       "  0%|          | 0/238 [00:00<?, ?it/s]"
      ]
     },
     "metadata": {},
     "output_type": "display_data"
    },
    {
     "name": "stdout",
     "output_type": "stream",
     "text": [
      "Train acc: 0.946, Val acc: 0.710, Val loss: 1.336\n",
      "Epoch 32\n"
     ]
    },
    {
     "data": {
      "application/vnd.jupyter.widget-view+json": {
       "model_id": "46d9991a77224a23814d7a00afdb600c",
       "version_major": 2,
       "version_minor": 0
      },
      "text/plain": [
       "  0%|          | 0/238 [00:00<?, ?it/s]"
      ]
     },
     "metadata": {},
     "output_type": "display_data"
    },
    {
     "name": "stdout",
     "output_type": "stream",
     "text": [
      "Train acc: 0.942, Val acc: 0.723, Val loss: 1.251\n",
      "Epoch 33\n"
     ]
    },
    {
     "data": {
      "application/vnd.jupyter.widget-view+json": {
       "model_id": "5d825d5f306a42e588317daee98beeff",
       "version_major": 2,
       "version_minor": 0
      },
      "text/plain": [
       "  0%|          | 0/238 [00:00<?, ?it/s]"
      ]
     },
     "metadata": {},
     "output_type": "display_data"
    },
    {
     "name": "stdout",
     "output_type": "stream",
     "text": [
      "Train acc: 0.935, Val acc: 0.713, Val loss: 1.266\n",
      "Epoch 34\n"
     ]
    },
    {
     "data": {
      "application/vnd.jupyter.widget-view+json": {
       "model_id": "891d586c2e2e423981c7cc442a2a90fb",
       "version_major": 2,
       "version_minor": 0
      },
      "text/plain": [
       "  0%|          | 0/238 [00:00<?, ?it/s]"
      ]
     },
     "metadata": {},
     "output_type": "display_data"
    },
    {
     "name": "stdout",
     "output_type": "stream",
     "text": [
      "Train acc: 0.929, Val acc: 0.684, Val loss: 1.426\n",
      "Epoch 35\n"
     ]
    },
    {
     "data": {
      "application/vnd.jupyter.widget-view+json": {
       "model_id": "2f8b417ff8ff46c78e5d0b81690512ae",
       "version_major": 2,
       "version_minor": 0
      },
      "text/plain": [
       "  0%|          | 0/238 [00:00<?, ?it/s]"
      ]
     },
     "metadata": {},
     "output_type": "display_data"
    },
    {
     "name": "stdout",
     "output_type": "stream",
     "text": [
      "Train acc: 0.924, Val acc: 0.680, Val loss: 1.458\n",
      "Epoch 36\n"
     ]
    },
    {
     "data": {
      "application/vnd.jupyter.widget-view+json": {
       "model_id": "9d1ae2724681428aaedd0fd0ef64c463",
       "version_major": 2,
       "version_minor": 0
      },
      "text/plain": [
       "  0%|          | 0/238 [00:00<?, ?it/s]"
      ]
     },
     "metadata": {},
     "output_type": "display_data"
    },
    {
     "name": "stdout",
     "output_type": "stream",
     "text": [
      "Train acc: 0.919, Val acc: 0.696, Val loss: 1.476\n",
      "Epoch 37\n"
     ]
    },
    {
     "data": {
      "application/vnd.jupyter.widget-view+json": {
       "model_id": "48c74e5ad3ef4867bee0d86e5a3c503c",
       "version_major": 2,
       "version_minor": 0
      },
      "text/plain": [
       "  0%|          | 0/238 [00:00<?, ?it/s]"
      ]
     },
     "metadata": {},
     "output_type": "display_data"
    },
    {
     "name": "stdout",
     "output_type": "stream",
     "text": [
      "Train acc: 0.917, Val acc: 0.716, Val loss: 1.421\n",
      "Epoch 38\n"
     ]
    },
    {
     "data": {
      "application/vnd.jupyter.widget-view+json": {
       "model_id": "9dc3dacf063f426cb9d61b8616e9d790",
       "version_major": 2,
       "version_minor": 0
      },
      "text/plain": [
       "  0%|          | 0/238 [00:00<?, ?it/s]"
      ]
     },
     "metadata": {},
     "output_type": "display_data"
    },
    {
     "name": "stdout",
     "output_type": "stream",
     "text": [
      "Train acc: 0.908, Val acc: 0.712, Val loss: 1.272\n",
      "Epoch 39\n"
     ]
    },
    {
     "data": {
      "application/vnd.jupyter.widget-view+json": {
       "model_id": "c3eadf356e1941eeb22d6b992db2db8a",
       "version_major": 2,
       "version_minor": 0
      },
      "text/plain": [
       "  0%|          | 0/238 [00:00<?, ?it/s]"
      ]
     },
     "metadata": {},
     "output_type": "display_data"
    },
    {
     "name": "stdout",
     "output_type": "stream",
     "text": [
      "Train acc: 0.905, Val acc: 0.717, Val loss: 1.421\n",
      "Epoch 40\n"
     ]
    },
    {
     "data": {
      "application/vnd.jupyter.widget-view+json": {
       "model_id": "cd0e98fad3b64c0bb1ab28626cd53d3b",
       "version_major": 2,
       "version_minor": 0
      },
      "text/plain": [
       "  0%|          | 0/238 [00:00<?, ?it/s]"
      ]
     },
     "metadata": {},
     "output_type": "display_data"
    },
    {
     "name": "stdout",
     "output_type": "stream",
     "text": [
      "Train acc: 0.896, Val acc: 0.698, Val loss: 1.269\n",
      "Epoch 41\n"
     ]
    },
    {
     "data": {
      "application/vnd.jupyter.widget-view+json": {
       "model_id": "f04504856b074e1ba8ebc2997981f39d",
       "version_major": 2,
       "version_minor": 0
      },
      "text/plain": [
       "  0%|          | 0/238 [00:00<?, ?it/s]"
      ]
     },
     "metadata": {},
     "output_type": "display_data"
    },
    {
     "name": "stdout",
     "output_type": "stream",
     "text": [
      "Train acc: 0.892, Val acc: 0.699, Val loss: 1.254\n",
      "Epoch 42\n"
     ]
    },
    {
     "data": {
      "application/vnd.jupyter.widget-view+json": {
       "model_id": "ea02d934884945a6a56f26bf9149345e",
       "version_major": 2,
       "version_minor": 0
      },
      "text/plain": [
       "  0%|          | 0/238 [00:00<?, ?it/s]"
      ]
     },
     "metadata": {},
     "output_type": "display_data"
    },
    {
     "name": "stdout",
     "output_type": "stream",
     "text": [
      "Train acc: 0.895, Val acc: 0.704, Val loss: 1.043\n",
      "Epoch 43\n"
     ]
    },
    {
     "data": {
      "application/vnd.jupyter.widget-view+json": {
       "model_id": "d02cd923a9a149a7b837b3d7fe1d2e80",
       "version_major": 2,
       "version_minor": 0
      },
      "text/plain": [
       "  0%|          | 0/238 [00:00<?, ?it/s]"
      ]
     },
     "metadata": {},
     "output_type": "display_data"
    },
    {
     "name": "stdout",
     "output_type": "stream",
     "text": [
      "Train acc: 0.888, Val acc: 0.713, Val loss: 1.109\n",
      "Epoch 44\n"
     ]
    },
    {
     "data": {
      "application/vnd.jupyter.widget-view+json": {
       "model_id": "45519cfb7bd44224aaef0600ca4df0ac",
       "version_major": 2,
       "version_minor": 0
      },
      "text/plain": [
       "  0%|          | 0/238 [00:00<?, ?it/s]"
      ]
     },
     "metadata": {},
     "output_type": "display_data"
    },
    {
     "name": "stdout",
     "output_type": "stream",
     "text": [
      "Train acc: 0.889, Val acc: 0.716, Val loss: 1.223\n",
      "Epoch 45\n"
     ]
    },
    {
     "data": {
      "application/vnd.jupyter.widget-view+json": {
       "model_id": "3593f1178e994285aacdd73081750339",
       "version_major": 2,
       "version_minor": 0
      },
      "text/plain": [
       "  0%|          | 0/238 [00:00<?, ?it/s]"
      ]
     },
     "metadata": {},
     "output_type": "display_data"
    },
    {
     "name": "stdout",
     "output_type": "stream",
     "text": [
      "Train acc: 0.887, Val acc: 0.713, Val loss: 1.217\n",
      "Epoch 46\n"
     ]
    },
    {
     "data": {
      "application/vnd.jupyter.widget-view+json": {
       "model_id": "257ffcb5e7ab495aa64483c6f5545a51",
       "version_major": 2,
       "version_minor": 0
      },
      "text/plain": [
       "  0%|          | 0/238 [00:00<?, ?it/s]"
      ]
     },
     "metadata": {},
     "output_type": "display_data"
    },
    {
     "name": "stdout",
     "output_type": "stream",
     "text": [
      "Train acc: 0.886, Val acc: 0.693, Val loss: 1.151\n",
      "Epoch 47\n"
     ]
    },
    {
     "data": {
      "application/vnd.jupyter.widget-view+json": {
       "model_id": "5e5385203f764ecaaf1a129c4a4ea419",
       "version_major": 2,
       "version_minor": 0
      },
      "text/plain": [
       "  0%|          | 0/238 [00:00<?, ?it/s]"
      ]
     },
     "metadata": {},
     "output_type": "display_data"
    },
    {
     "name": "stdout",
     "output_type": "stream",
     "text": [
      "Train acc: 0.882, Val acc: 0.710, Val loss: 1.172\n",
      "Epoch 48\n"
     ]
    },
    {
     "data": {
      "application/vnd.jupyter.widget-view+json": {
       "model_id": "cd20175c3a7c4c269bcde7aa7dce6072",
       "version_major": 2,
       "version_minor": 0
      },
      "text/plain": [
       "  0%|          | 0/238 [00:00<?, ?it/s]"
      ]
     },
     "metadata": {},
     "output_type": "display_data"
    },
    {
     "name": "stdout",
     "output_type": "stream",
     "text": [
      "Train acc: 0.884, Val acc: 0.698, Val loss: 1.252\n",
      "Epoch 49\n"
     ]
    },
    {
     "data": {
      "application/vnd.jupyter.widget-view+json": {
       "model_id": "47fd5ebfd6814ee4850e62a7301e1cf7",
       "version_major": 2,
       "version_minor": 0
      },
      "text/plain": [
       "  0%|          | 0/238 [00:00<?, ?it/s]"
      ]
     },
     "metadata": {},
     "output_type": "display_data"
    },
    {
     "name": "stdout",
     "output_type": "stream",
     "text": [
      "Train acc: 0.882, Val acc: 0.735, Val loss: 1.128\n",
      "Epoch 50\n"
     ]
    },
    {
     "data": {
      "application/vnd.jupyter.widget-view+json": {
       "model_id": "7d5c1f6d62f1448384a794b188c27797",
       "version_major": 2,
       "version_minor": 0
      },
      "text/plain": [
       "  0%|          | 0/238 [00:00<?, ?it/s]"
      ]
     },
     "metadata": {},
     "output_type": "display_data"
    },
    {
     "name": "stdout",
     "output_type": "stream",
     "text": [
      "Train acc: 0.878, Val acc: 0.714, Val loss: 1.222\n"
     ]
    }
   ],
   "source": [
    "start_time = time.time()\n",
    "train_accuracies, val_accuracies = train_model(model=model,\n",
    "                                                     criterion=criterion,\n",
    "                                                     optimizer=optimizer,\n",
    "                                                     scheduler=scheduler,\n",
    "                                                     train_loader=train_loader,\n",
    "                                                     val_loader=val_loader,\n",
    "                                                     num_epochs=number_epochs,\n",
    "                                                     learning=False,\n",
    "                                                     device=device,\n",
    "                                                     trial=None)"
   ]
  },
  {
   "cell_type": "code",
   "execution_count": 43,
   "id": "aa8895e5-7787-4eeb-abe0-6f34a61b2b74",
   "metadata": {
    "colab": {
     "base_uri": "https://localhost:8080/",
     "height": 564
    },
    "id": "aa8895e5-7787-4eeb-abe0-6f34a61b2b74",
    "outputId": "e09b783b-5516-4f57-ca37-bbbdaf0df9af"
   },
   "outputs": [
    {
     "data": {
      "image/png": "[encoded data removed]",
      "text/plain": [
       "<Figure size 1000x600 with 1 Axes>"
      ]
     },
     "metadata": {},
     "output_type": "display_data"
    }
   ],
   "source": [
    "import matplotlib.pyplot as plt\n",
    "n_epochs = number_epochs\n",
    "epochs = range(1, n_epochs + 1)\n",
    "\n",
    "plt.figure(figsize=(10, 6))\n",
    "plt.plot(epochs, train_accuracies, label='Training Accuracy')\n",
    "plt.plot(epochs, val_accuracies, label='Validation Accuracy')\n",
    "plt.title('Training and Validation Accuracy')\n",
    "plt.xlabel('Epoch')\n",
    "plt.ylabel('Accuracy')\n",
    "plt.legend()\n",
    "plt.grid(True)\n",
    "plt.show()"
   ]
  },
  {
   "cell_type": "code",
   "execution_count": 44,
   "id": "0c61c913-8901-4622-bd18-1f4c274585b9",
   "metadata": {
    "colab": {
     "base_uri": "https://localhost:8080/"
    },
    "id": "0c61c913-8901-4622-bd18-1f4c274585b9",
    "outputId": "0919dcbb-cfe5-47d8-e3a3-0ba7d1a44081"
   },
   "outputs": [
    {
     "name": "stdout",
     "output_type": "stream",
     "text": [
      "time to train model:   0.0 hours,   4.0 minutes,   0 seconds\n",
      "Test acc: 0.679\n"
     ]
    }
   ],
   "source": [
    "end_time = time.time()\n",
    "calc_time(end_time, start_time)\n",
    "test_model(model, test_loader)"
   ]
  },
  {
   "cell_type": "code",
   "execution_count": 45,
   "id": "P1_hGUjd4cys",
   "metadata": {
    "id": "P1_hGUjd4cys"
   },
   "outputs": [],
   "source": [
    "torch.save(model, path_to_save+'cnn')"
   ]
  },
  {
   "cell_type": "markdown",
   "id": "0e7c3483-e219-4465-8339-fa6e8f70e9e5",
   "metadata": {
    "id": "0e7c3483-e219-4465-8339-fa6e8f70e9e5"
   },
   "source": [
    "## shallow cnn"
   ]
  },
  {
   "cell_type": "code",
   "execution_count": 46,
   "id": "c759cf76-9461-415e-9ccf-3c6a0fdbee75",
   "metadata": {
    "id": "c759cf76-9461-415e-9ccf-3c6a0fdbee75"
   },
   "outputs": [],
   "source": [
    "class TimeDistributed(nn.Module):\n",
    "    def __init__(self, layer):\n",
    "        super(TimeDistributed, self).__init__()\n",
    "        self.layer = layer\n",
    "\n",
    "    def forward(self, x):\n",
    "        tmp = x.contiguous().view(-1, x.size(-1))\n",
    "        y = self.layer(tmp)\n",
    "        y = y.contiguous().view(x.size(0), -1, y.size(-1))\n",
    "\n",
    "        return y"
   ]
  },
  {
   "cell_type": "code",
   "execution_count": 47,
   "id": "f49c3b62-090f-4cd2-8897-84bb29a47a0f",
   "metadata": {
    "id": "f49c3b62-090f-4cd2-8897-84bb29a47a0f"
   },
   "outputs": [],
   "source": [
    "class Shallow(nn.Module):\n",
    "    def __init__(self,\n",
    "                 num_classes=4,\n",
    "                 hidden_dims=256,\n",
    "                 dropout=0.5,\n",
    "                 kernel=25,\n",
    "                 stride=1,\n",
    "                 padding=0,\n",
    "                 pool_kernel=50,\n",
    "                 time_bins=400,\n",
    "                 channels=22,\n",
    "                 depth=25):\n",
    "        super(Shallow, self).__init__()\n",
    "\n",
    "        self.conv1 = nn.Sequential(\n",
    "            nn.Conv1d(in_channels=channels,\n",
    "                      out_channels=depth,\n",
    "                      kernel_size=kernel,\n",
    "                      stride=stride,\n",
    "                      padding=padding),\n",
    "            nn.ReLU(),\n",
    "            nn.BatchNorm1d(depth),\n",
    "            nn.Dropout(dropout)\n",
    "        )\n",
    "\n",
    "        self.conv2 = nn.Sequential(\n",
    "            nn.Conv2d(in_channels=depth,\n",
    "                      out_channels=depth * 8,\n",
    "                      kernel_size=(1, depth),\n",
    "                      stride=stride,\n",
    "                      padding=padding),\n",
    "            nn.ELU(),\n",
    "            nn.BatchNorm2d(depth * 8),\n",
    "            nn.AvgPool2d(kernel_size=(1, pool_kernel)),\n",
    "            nn.Dropout(dropout),\n",
    "            nn.Tanh()\n",
    "        )\n",
    "\n",
    "        self.nd = nn.Sequential(\n",
    "            nn.Linear(in_features=depth * 8, out_features=depth * 4),\n",
    "            nn.ReLU(),\n",
    "            nn.BatchNorm1d(depth * 4),\n",
    "            nn.Dropout(dropout),\n",
    "            nn.Linear(in_features=depth * 4, out_features=depth * 2),\n",
    "            nn.ReLU(),\n",
    "        )\n",
    "\n",
    "        self.dense = nn.Linear(in_features=depth * 2,\n",
    "                               out_features=num_classes)\n",
    "\n",
    "    def forward(self, x):\n",
    "        x = self.conv1(x)\n",
    "        x = x.unsqueeze(2)\n",
    "        x = self.conv2(x)\n",
    "        x = x.squeeze(2)\n",
    "        x = x.transpose(1, 2)\n",
    "        x = x[:, -1, :]\n",
    "        x = self.nd(x)\n",
    "        x = self.dense(x)\n",
    "\n",
    "        return F.log_softmax(x, dim=1)"
   ]
  },
  {
   "cell_type": "code",
   "execution_count": 48,
   "id": "ac6c3f0d-9332-47ad-b407-127fab6be520",
   "metadata": {
    "colab": {
     "base_uri": "https://localhost:8080/"
    },
    "id": "ac6c3f0d-9332-47ad-b407-127fab6be520",
    "outputId": "2e43bce8-5601-4ff8-8f53-4a6bdd432804"
   },
   "outputs": [
    {
     "data": {
      "text/plain": [
       "==========================================================================================\n",
       "Layer (type:depth-idx)                   Output Shape              Param #\n",
       "==========================================================================================\n",
       "Shallow                                  [64, 4]                   --\n",
       "├─Sequential: 1-1                        [64, 25, 376]             --\n",
       "│    └─Conv1d: 2-1                       [64, 25, 376]             13,775\n",
       "│    └─ReLU: 2-2                         [64, 25, 376]             --\n",
       "│    └─BatchNorm1d: 2-3                  [64, 25, 376]             50\n",
       "│    └─Dropout: 2-4                      [64, 25, 376]             --\n",
       "├─Sequential: 1-2                        [64, 200, 1, 7]           --\n",
       "│    └─Conv2d: 2-5                       [64, 200, 1, 352]         125,200\n",
       "│    └─ELU: 2-6                          [64, 200, 1, 352]         --\n",
       "│    └─BatchNorm2d: 2-7                  [64, 200, 1, 352]         400\n",
       "│    └─AvgPool2d: 2-8                    [64, 200, 1, 7]           --\n",
       "│    └─Dropout: 2-9                      [64, 200, 1, 7]           --\n",
       "│    └─Tanh: 2-10                        [64, 200, 1, 7]           --\n",
       "├─Sequential: 1-3                        [64, 50]                  --\n",
       "│    └─Linear: 2-11                      [64, 100]                 20,100\n",
       "│    └─ReLU: 2-12                        [64, 100]                 --\n",
       "│    └─BatchNorm1d: 2-13                 [64, 100]                 200\n",
       "│    └─Dropout: 2-14                     [64, 100]                 --\n",
       "│    └─Linear: 2-15                      [64, 50]                  5,050\n",
       "│    └─ReLU: 2-16                        [64, 50]                  --\n",
       "├─Linear: 1-4                            [64, 4]                   204\n",
       "==========================================================================================\n",
       "Total params: 164,979\n",
       "Trainable params: 164,979\n",
       "Non-trainable params: 0\n",
       "Total mult-adds (Units.GIGABYTES): 3.15\n",
       "==========================================================================================\n",
       "Input size (MB): 2.25\n",
       "Forward/backward pass size (MB): 81.85\n",
       "Params size (MB): 0.66\n",
       "Estimated Total Size (MB): 84.76\n",
       "=========================================================================================="
      ]
     },
     "execution_count": 48,
     "metadata": {},
     "output_type": "execute_result"
    }
   ],
   "source": [
    "torchinfo.summary(Shallow(), input_size=(batch_size, 22, 400))"
   ]
  },
  {
   "cell_type": "code",
   "execution_count": 49,
   "id": "a08c77c1-b055-490e-8479-a2aa2ff5bbbc",
   "metadata": {
    "id": "a08c77c1-b055-490e-8479-a2aa2ff5bbbc"
   },
   "outputs": [],
   "source": [
    "model = Shallow().to(device)\n",
    "criterion = nn.CrossEntropyLoss()\n",
    "optimizer = torch.optim.SGD(model.parameters(), lr=0.02, weight_decay=0.005, momentum=0.95)\n",
    "scheduler = torch.optim.lr_scheduler.CosineAnnealingLR(optimizer, T_max=50, eta_min=0.0001)"
   ]
  },
  {
   "cell_type": "code",
   "execution_count": null,
   "id": "cc31d367-651b-486e-825e-60fd989b2c9d",
   "metadata": {
    "colab": {
     "base_uri": "https://localhost:8080/",
     "height": 84,
     "referenced_widgets": [
      "ba1a01c9a74541318aed6dfb940dfc0e",
      "41ea96142f264c45a1492c0bcb070bc1",
      "14eb294976e94fcbaa7804ac77b289ed",
      "10e9ad5da6c04e4f9f8f93d2afe073cf",
      "2e3d25eaec15495fbf52c060f6223255",
      "5367703916dc486fa17e614d4b197eb5",
      "a57773b6ac06447a9c683f467d25f8e5",
      "13910287ba234daeb1f8dece67e0f057",
      "cea8ded2f626415a99b89cea34853bcd",
      "ed9a0fcf92f14902aa51dca7e2c775f0",
      "c5c7d6086a294bc8bd939d425500e2aa"
     ]
    },
    "id": "cc31d367-651b-486e-825e-60fd989b2c9d",
    "outputId": "f6a50262-fc76-46fd-a230-acb8543cc0d3",
    "scrolled": true
   },
   "outputs": [
    {
     "name": "stdout",
     "output_type": "stream",
     "text": [
      "Epoch 1\n"
     ]
    },
    {
     "data": {
      "application/vnd.jupyter.widget-view+json": {
       "model_id": "cd53886e97904d68a1ffd4a79e13b0f5",
       "version_major": 2,
       "version_minor": 0
      },
      "text/plain": [
       "  0%|          | 0/238 [00:00<?, ?it/s]"
      ]
     },
     "metadata": {},
     "output_type": "display_data"
    },
    {
     "name": "stdout",
     "output_type": "stream",
     "text": [
      "Train acc: 0.277, Val acc: 0.273, Val loss: 1.384\n",
      "Epoch 2\n"
     ]
    },
    {
     "data": {
      "application/vnd.jupyter.widget-view+json": {
       "model_id": "6a465c134b314d5c87b1e90aab8b1438",
       "version_major": 2,
       "version_minor": 0
      },
      "text/plain": [
       "  0%|          | 0/238 [00:00<?, ?it/s]"
      ]
     },
     "metadata": {},
     "output_type": "display_data"
    },
    {
     "name": "stdout",
     "output_type": "stream",
     "text": [
      "Train acc: 0.298, Val acc: 0.302, Val loss: 1.401\n",
      "Epoch 3\n"
     ]
    },
    {
     "data": {
      "application/vnd.jupyter.widget-view+json": {
       "model_id": "acf93df2a062464f8d6208bd6e5c8fec",
       "version_major": 2,
       "version_minor": 0
      },
      "text/plain": [
       "  0%|          | 0/238 [00:00<?, ?it/s]"
      ]
     },
     "metadata": {},
     "output_type": "display_data"
    },
    {
     "name": "stdout",
     "output_type": "stream",
     "text": [
      "Train acc: 0.316, Val acc: 0.277, Val loss: 1.370\n",
      "Epoch 4\n"
     ]
    },
    {
     "data": {
      "application/vnd.jupyter.widget-view+json": {
       "model_id": "4be6c03421884dd4aa53e0d8bb0050e0",
       "version_major": 2,
       "version_minor": 0
      },
      "text/plain": [
       "  0%|          | 0/238 [00:00<?, ?it/s]"
      ]
     },
     "metadata": {},
     "output_type": "display_data"
    },
    {
     "name": "stdout",
     "output_type": "stream",
     "text": [
      "Train acc: 0.325, Val acc: 0.268, Val loss: 1.382\n",
      "Epoch 5\n"
     ]
    },
    {
     "data": {
      "application/vnd.jupyter.widget-view+json": {
       "model_id": "38b881a248fe43c2839d362e99c8541c",
       "version_major": 2,
       "version_minor": 0
      },
      "text/plain": [
       "  0%|          | 0/238 [00:00<?, ?it/s]"
      ]
     },
     "metadata": {},
     "output_type": "display_data"
    },
    {
     "name": "stdout",
     "output_type": "stream",
     "text": [
      "Train acc: 0.326, Val acc: 0.319, Val loss: 1.388\n",
      "Epoch 6\n"
     ]
    },
    {
     "data": {
      "application/vnd.jupyter.widget-view+json": {
       "model_id": "a59ec5ea8fd74b7d84980ddad8bb23bc",
       "version_major": 2,
       "version_minor": 0
      },
      "text/plain": [
       "  0%|          | 0/238 [00:00<?, ?it/s]"
      ]
     },
     "metadata": {},
     "output_type": "display_data"
    },
    {
     "name": "stdout",
     "output_type": "stream",
     "text": [
      "Train acc: 0.325, Val acc: 0.292, Val loss: 1.383\n",
      "Epoch 7\n"
     ]
    },
    {
     "data": {
      "application/vnd.jupyter.widget-view+json": {
       "model_id": "5d698329295c46e5b8b09665b71772dc",
       "version_major": 2,
       "version_minor": 0
      },
      "text/plain": [
       "  0%|          | 0/238 [00:00<?, ?it/s]"
      ]
     },
     "metadata": {},
     "output_type": "display_data"
    },
    {
     "name": "stdout",
     "output_type": "stream",
     "text": [
      "Train acc: 0.331, Val acc: 0.293, Val loss: 1.450\n",
      "Epoch 8\n"
     ]
    },
    {
     "data": {
      "application/vnd.jupyter.widget-view+json": {
       "model_id": "7067d1984bd6454680059b64a9ff4c8b",
       "version_major": 2,
       "version_minor": 0
      },
      "text/plain": [
       "  0%|          | 0/238 [00:00<?, ?it/s]"
      ]
     },
     "metadata": {},
     "output_type": "display_data"
    },
    {
     "name": "stdout",
     "output_type": "stream",
     "text": [
      "Train acc: 0.325, Val acc: 0.238, Val loss: 1.372\n",
      "Epoch 9\n"
     ]
    },
    {
     "data": {
      "application/vnd.jupyter.widget-view+json": {
       "model_id": "3636935ba655494784396eeb0969d213",
       "version_major": 2,
       "version_minor": 0
      },
      "text/plain": [
       "  0%|          | 0/238 [00:00<?, ?it/s]"
      ]
     },
     "metadata": {},
     "output_type": "display_data"
    },
    {
     "name": "stdout",
     "output_type": "stream",
     "text": [
      "Train acc: 0.332, Val acc: 0.294, Val loss: 1.365\n",
      "Epoch 10\n"
     ]
    },
    {
     "data": {
      "application/vnd.jupyter.widget-view+json": {
       "model_id": "70a83c74df064a5eae9f4a88b3b43aea",
       "version_major": 2,
       "version_minor": 0
      },
      "text/plain": [
       "  0%|          | 0/238 [00:00<?, ?it/s]"
      ]
     },
     "metadata": {},
     "output_type": "display_data"
    },
    {
     "name": "stdout",
     "output_type": "stream",
     "text": [
      "Train acc: 0.330, Val acc: 0.265, Val loss: 1.419\n",
      "Epoch 11\n"
     ]
    },
    {
     "data": {
      "application/vnd.jupyter.widget-view+json": {
       "model_id": "a11fd3c4e5054f55af5df667342ffa70",
       "version_major": 2,
       "version_minor": 0
      },
      "text/plain": [
       "  0%|          | 0/238 [00:00<?, ?it/s]"
      ]
     },
     "metadata": {},
     "output_type": "display_data"
    },
    {
     "name": "stdout",
     "output_type": "stream",
     "text": [
      "Train acc: 0.322, Val acc: 0.279, Val loss: 1.381\n",
      "Epoch 12\n"
     ]
    },
    {
     "data": {
      "application/vnd.jupyter.widget-view+json": {
       "model_id": "9d2b12a591c74b56849fbcdf61e53d92",
       "version_major": 2,
       "version_minor": 0
      },
      "text/plain": [
       "  0%|          | 0/238 [00:00<?, ?it/s]"
      ]
     },
     "metadata": {},
     "output_type": "display_data"
    },
    {
     "name": "stdout",
     "output_type": "stream",
     "text": [
      "Train acc: 0.328, Val acc: 0.291, Val loss: 1.396\n",
      "Epoch 13\n"
     ]
    },
    {
     "data": {
      "application/vnd.jupyter.widget-view+json": {
       "model_id": "589c7f551b164c5f843e0758627506f6",
       "version_major": 2,
       "version_minor": 0
      },
      "text/plain": [
       "  0%|          | 0/238 [00:00<?, ?it/s]"
      ]
     },
     "metadata": {},
     "output_type": "display_data"
    },
    {
     "name": "stdout",
     "output_type": "stream",
     "text": [
      "Train acc: 0.335, Val acc: 0.271, Val loss: 1.385\n",
      "Epoch 14\n"
     ]
    },
    {
     "data": {
      "application/vnd.jupyter.widget-view+json": {
       "model_id": "2b0202de603c4a1a847e32e371362fea",
       "version_major": 2,
       "version_minor": 0
      },
      "text/plain": [
       "  0%|          | 0/238 [00:00<?, ?it/s]"
      ]
     },
     "metadata": {},
     "output_type": "display_data"
    },
    {
     "name": "stdout",
     "output_type": "stream",
     "text": [
      "Train acc: 0.333, Val acc: 0.277, Val loss: 1.394\n",
      "Epoch 15\n"
     ]
    },
    {
     "data": {
      "application/vnd.jupyter.widget-view+json": {
       "model_id": "56f5beee0ae04a63bbb7b1065e669f90",
       "version_major": 2,
       "version_minor": 0
      },
      "text/plain": [
       "  0%|          | 0/238 [00:00<?, ?it/s]"
      ]
     },
     "metadata": {},
     "output_type": "display_data"
    },
    {
     "name": "stdout",
     "output_type": "stream",
     "text": [
      "Train acc: 0.337, Val acc: 0.243, Val loss: 1.461\n",
      "Epoch 16\n"
     ]
    },
    {
     "data": {
      "application/vnd.jupyter.widget-view+json": {
       "model_id": "f64c13861ed842d59633560bfe0fc7a0",
       "version_major": 2,
       "version_minor": 0
      },
      "text/plain": [
       "  0%|          | 0/238 [00:00<?, ?it/s]"
      ]
     },
     "metadata": {},
     "output_type": "display_data"
    },
    {
     "name": "stdout",
     "output_type": "stream",
     "text": [
      "Train acc: 0.330, Val acc: 0.244, Val loss: 1.358\n",
      "Epoch 17\n"
     ]
    },
    {
     "data": {
      "application/vnd.jupyter.widget-view+json": {
       "model_id": "9d38c21b8b074f1a8c8b90e4c543084f",
       "version_major": 2,
       "version_minor": 0
      },
      "text/plain": [
       "  0%|          | 0/238 [00:00<?, ?it/s]"
      ]
     },
     "metadata": {},
     "output_type": "display_data"
    },
    {
     "name": "stdout",
     "output_type": "stream",
     "text": [
      "Train acc: 0.340, Val acc: 0.279, Val loss: 1.358\n",
      "Epoch 18\n"
     ]
    },
    {
     "data": {
      "application/vnd.jupyter.widget-view+json": {
       "model_id": "39f73d2c800545bc9887097906eff0a5",
       "version_major": 2,
       "version_minor": 0
      },
      "text/plain": [
       "  0%|          | 0/238 [00:00<?, ?it/s]"
      ]
     },
     "metadata": {},
     "output_type": "display_data"
    },
    {
     "name": "stdout",
     "output_type": "stream",
     "text": [
      "Train acc: 0.339, Val acc: 0.284, Val loss: 1.429\n",
      "Epoch 19\n"
     ]
    },
    {
     "data": {
      "application/vnd.jupyter.widget-view+json": {
       "model_id": "a9f01b4613ed4adcbb7b36b18d412af6",
       "version_major": 2,
       "version_minor": 0
      },
      "text/plain": [
       "  0%|          | 0/238 [00:00<?, ?it/s]"
      ]
     },
     "metadata": {},
     "output_type": "display_data"
    },
    {
     "name": "stdout",
     "output_type": "stream",
     "text": [
      "Train acc: 0.338, Val acc: 0.239, Val loss: 1.421\n",
      "Epoch 20\n"
     ]
    },
    {
     "data": {
      "application/vnd.jupyter.widget-view+json": {
       "model_id": "526c11fddbd64021a8f1d8deae3c9bb0",
       "version_major": 2,
       "version_minor": 0
      },
      "text/plain": [
       "  0%|          | 0/238 [00:00<?, ?it/s]"
      ]
     },
     "metadata": {},
     "output_type": "display_data"
    },
    {
     "name": "stdout",
     "output_type": "stream",
     "text": [
      "Train acc: 0.339, Val acc: 0.291, Val loss: 1.426\n",
      "Epoch 21\n"
     ]
    },
    {
     "data": {
      "application/vnd.jupyter.widget-view+json": {
       "model_id": "7175244e751e4dcab2e6ed8d626c1f78",
       "version_major": 2,
       "version_minor": 0
      },
      "text/plain": [
       "  0%|          | 0/238 [00:00<?, ?it/s]"
      ]
     },
     "metadata": {},
     "output_type": "display_data"
    },
    {
     "name": "stdout",
     "output_type": "stream",
     "text": [
      "Train acc: 0.347, Val acc: 0.270, Val loss: 1.433\n",
      "Epoch 22\n"
     ]
    },
    {
     "data": {
      "application/vnd.jupyter.widget-view+json": {
       "model_id": "fa3862543def44e9a4d45b50beae9eb3",
       "version_major": 2,
       "version_minor": 0
      },
      "text/plain": [
       "  0%|          | 0/238 [00:00<?, ?it/s]"
      ]
     },
     "metadata": {},
     "output_type": "display_data"
    },
    {
     "name": "stdout",
     "output_type": "stream",
     "text": [
      "Train acc: 0.353, Val acc: 0.288, Val loss: 1.417\n",
      "Epoch 23\n"
     ]
    },
    {
     "data": {
      "application/vnd.jupyter.widget-view+json": {
       "model_id": "fc569dbf11274f32b87c04c6dc696f42",
       "version_major": 2,
       "version_minor": 0
      },
      "text/plain": [
       "  0%|          | 0/238 [00:00<?, ?it/s]"
      ]
     },
     "metadata": {},
     "output_type": "display_data"
    },
    {
     "name": "stdout",
     "output_type": "stream",
     "text": [
      "Train acc: 0.351, Val acc: 0.275, Val loss: 1.424\n",
      "Epoch 24\n"
     ]
    },
    {
     "data": {
      "application/vnd.jupyter.widget-view+json": {
       "model_id": "90d8b069bef04d9cbfe7501eb76316d4",
       "version_major": 2,
       "version_minor": 0
      },
      "text/plain": [
       "  0%|          | 0/238 [00:00<?, ?it/s]"
      ]
     },
     "metadata": {},
     "output_type": "display_data"
    },
    {
     "name": "stdout",
     "output_type": "stream",
     "text": [
      "Train acc: 0.361, Val acc: 0.296, Val loss: 1.430\n",
      "Epoch 25\n"
     ]
    },
    {
     "data": {
      "application/vnd.jupyter.widget-view+json": {
       "model_id": "4017dad9fc87491283c2ecd28e312825",
       "version_major": 2,
       "version_minor": 0
      },
      "text/plain": [
       "  0%|          | 0/238 [00:00<?, ?it/s]"
      ]
     },
     "metadata": {},
     "output_type": "display_data"
    },
    {
     "name": "stdout",
     "output_type": "stream",
     "text": [
      "Train acc: 0.362, Val acc: 0.292, Val loss: 1.448\n",
      "Epoch 26\n"
     ]
    },
    {
     "data": {
      "application/vnd.jupyter.widget-view+json": {
       "model_id": "24acf3a987154b7cba6ca65db2419c53",
       "version_major": 2,
       "version_minor": 0
      },
      "text/plain": [
       "  0%|          | 0/238 [00:00<?, ?it/s]"
      ]
     },
     "metadata": {},
     "output_type": "display_data"
    },
    {
     "name": "stdout",
     "output_type": "stream",
     "text": [
      "Train acc: 0.364, Val acc: 0.320, Val loss: 1.404\n",
      "Epoch 27\n"
     ]
    },
    {
     "data": {
      "application/vnd.jupyter.widget-view+json": {
       "model_id": "06a05aa508534a92b72d4952d6f9bcf6",
       "version_major": 2,
       "version_minor": 0
      },
      "text/plain": [
       "  0%|          | 0/238 [00:00<?, ?it/s]"
      ]
     },
     "metadata": {},
     "output_type": "display_data"
    },
    {
     "name": "stdout",
     "output_type": "stream",
     "text": [
      "Train acc: 0.368, Val acc: 0.325, Val loss: 1.395\n",
      "Epoch 28\n"
     ]
    },
    {
     "data": {
      "application/vnd.jupyter.widget-view+json": {
       "model_id": "b8dfc442fd064b789b23dab0c3d51878",
       "version_major": 2,
       "version_minor": 0
      },
      "text/plain": [
       "  0%|          | 0/238 [00:00<?, ?it/s]"
      ]
     },
     "metadata": {},
     "output_type": "display_data"
    },
    {
     "name": "stdout",
     "output_type": "stream",
     "text": [
      "Train acc: 0.369, Val acc: 0.302, Val loss: 1.362\n",
      "Epoch 29\n"
     ]
    },
    {
     "data": {
      "application/vnd.jupyter.widget-view+json": {
       "model_id": "cd2d1da808ab4d27b1149efb464ebfdd",
       "version_major": 2,
       "version_minor": 0
      },
      "text/plain": [
       "  0%|          | 0/238 [00:00<?, ?it/s]"
      ]
     },
     "metadata": {},
     "output_type": "display_data"
    },
    {
     "name": "stdout",
     "output_type": "stream",
     "text": [
      "Train acc: 0.375, Val acc: 0.301, Val loss: 1.433\n",
      "Epoch 30\n"
     ]
    },
    {
     "data": {
      "application/vnd.jupyter.widget-view+json": {
       "model_id": "f440ec749a55422a898e01f54f455473",
       "version_major": 2,
       "version_minor": 0
      },
      "text/plain": [
       "  0%|          | 0/238 [00:00<?, ?it/s]"
      ]
     },
     "metadata": {},
     "output_type": "display_data"
    },
    {
     "name": "stdout",
     "output_type": "stream",
     "text": [
      "Train acc: 0.375, Val acc: 0.278, Val loss: 1.391\n",
      "Epoch 31\n"
     ]
    },
    {
     "data": {
      "application/vnd.jupyter.widget-view+json": {
       "model_id": "33ee6822fdd04d28b75a13ece1322301",
       "version_major": 2,
       "version_minor": 0
      },
      "text/plain": [
       "  0%|          | 0/238 [00:00<?, ?it/s]"
      ]
     },
     "metadata": {},
     "output_type": "display_data"
    },
    {
     "name": "stdout",
     "output_type": "stream",
     "text": [
      "Train acc: 0.377, Val acc: 0.292, Val loss: 1.413\n",
      "Epoch 32\n"
     ]
    },
    {
     "data": {
      "application/vnd.jupyter.widget-view+json": {
       "model_id": "0416b1d611414909bf530d13b217aa28",
       "version_major": 2,
       "version_minor": 0
      },
      "text/plain": [
       "  0%|          | 0/238 [00:00<?, ?it/s]"
      ]
     },
     "metadata": {},
     "output_type": "display_data"
    },
    {
     "name": "stdout",
     "output_type": "stream",
     "text": [
      "Train acc: 0.385, Val acc: 0.293, Val loss: 1.355\n",
      "Epoch 33\n"
     ]
    },
    {
     "data": {
      "application/vnd.jupyter.widget-view+json": {
       "model_id": "e621c8a9711a48238313d4277257ec39",
       "version_major": 2,
       "version_minor": 0
      },
      "text/plain": [
       "  0%|          | 0/238 [00:00<?, ?it/s]"
      ]
     },
     "metadata": {},
     "output_type": "display_data"
    },
    {
     "name": "stdout",
     "output_type": "stream",
     "text": [
      "Train acc: 0.388, Val acc: 0.267, Val loss: 1.411\n",
      "Epoch 34\n"
     ]
    },
    {
     "data": {
      "application/vnd.jupyter.widget-view+json": {
       "model_id": "6d2019c46fb94b3087e1ca19cae9d438",
       "version_major": 2,
       "version_minor": 0
      },
      "text/plain": [
       "  0%|          | 0/238 [00:00<?, ?it/s]"
      ]
     },
     "metadata": {},
     "output_type": "display_data"
    },
    {
     "name": "stdout",
     "output_type": "stream",
     "text": [
      "Train acc: 0.388, Val acc: 0.323, Val loss: 1.421\n",
      "Epoch 35\n"
     ]
    },
    {
     "data": {
      "application/vnd.jupyter.widget-view+json": {
       "model_id": "9d02d7b4652d4b4db90e9c24685e60a3",
       "version_major": 2,
       "version_minor": 0
      },
      "text/plain": [
       "  0%|          | 0/238 [00:00<?, ?it/s]"
      ]
     },
     "metadata": {},
     "output_type": "display_data"
    },
    {
     "name": "stdout",
     "output_type": "stream",
     "text": [
      "Train acc: 0.392, Val acc: 0.271, Val loss: 1.386\n",
      "Epoch 36\n"
     ]
    },
    {
     "data": {
      "application/vnd.jupyter.widget-view+json": {
       "model_id": "72555fc546ee46fe8abc056aa594b938",
       "version_major": 2,
       "version_minor": 0
      },
      "text/plain": [
       "  0%|          | 0/238 [00:00<?, ?it/s]"
      ]
     },
     "metadata": {},
     "output_type": "display_data"
    },
    {
     "name": "stdout",
     "output_type": "stream",
     "text": [
      "Train acc: 0.400, Val acc: 0.269, Val loss: 1.383\n",
      "Epoch 37\n"
     ]
    },
    {
     "data": {
      "application/vnd.jupyter.widget-view+json": {
       "model_id": "a0908a4ed9494c859449cd28fdc4cae1",
       "version_major": 2,
       "version_minor": 0
      },
      "text/plain": [
       "  0%|          | 0/238 [00:00<?, ?it/s]"
      ]
     },
     "metadata": {},
     "output_type": "display_data"
    },
    {
     "name": "stdout",
     "output_type": "stream",
     "text": [
      "Train acc: 0.407, Val acc: 0.276, Val loss: 1.376\n",
      "Epoch 38\n"
     ]
    },
    {
     "data": {
      "application/vnd.jupyter.widget-view+json": {
       "model_id": "40fa84f4ea9247518a008ac734508357",
       "version_major": 2,
       "version_minor": 0
      },
      "text/plain": [
       "  0%|          | 0/238 [00:00<?, ?it/s]"
      ]
     },
     "metadata": {},
     "output_type": "display_data"
    },
    {
     "name": "stdout",
     "output_type": "stream",
     "text": [
      "Train acc: 0.412, Val acc: 0.291, Val loss: 1.412\n",
      "Epoch 39\n"
     ]
    },
    {
     "data": {
      "application/vnd.jupyter.widget-view+json": {
       "model_id": "8d1a56ad8c684ce49f64cdc84759205c",
       "version_major": 2,
       "version_minor": 0
      },
      "text/plain": [
       "  0%|          | 0/238 [00:00<?, ?it/s]"
      ]
     },
     "metadata": {},
     "output_type": "display_data"
    },
    {
     "name": "stdout",
     "output_type": "stream",
     "text": [
      "Train acc: 0.420, Val acc: 0.283, Val loss: 1.403\n",
      "Epoch 40\n"
     ]
    },
    {
     "data": {
      "application/vnd.jupyter.widget-view+json": {
       "model_id": "572aa05b055c4ad58558cfb7dbb15305",
       "version_major": 2,
       "version_minor": 0
      },
      "text/plain": [
       "  0%|          | 0/238 [00:00<?, ?it/s]"
      ]
     },
     "metadata": {},
     "output_type": "display_data"
    },
    {
     "name": "stdout",
     "output_type": "stream",
     "text": [
      "Train acc: 0.425, Val acc: 0.285, Val loss: 1.409\n",
      "Epoch 41\n"
     ]
    },
    {
     "data": {
      "application/vnd.jupyter.widget-view+json": {
       "model_id": "05ada9c5c2804fb78977a0a64e566e8e",
       "version_major": 2,
       "version_minor": 0
      },
      "text/plain": [
       "  0%|          | 0/238 [00:00<?, ?it/s]"
      ]
     },
     "metadata": {},
     "output_type": "display_data"
    },
    {
     "name": "stdout",
     "output_type": "stream",
     "text": [
      "Train acc: 0.430, Val acc: 0.302, Val loss: 1.348\n",
      "Epoch 42\n"
     ]
    },
    {
     "data": {
      "application/vnd.jupyter.widget-view+json": {
       "model_id": "3a32718d105c49408492dd5d7d0ec2b2",
       "version_major": 2,
       "version_minor": 0
      },
      "text/plain": [
       "  0%|          | 0/238 [00:00<?, ?it/s]"
      ]
     },
     "metadata": {},
     "output_type": "display_data"
    },
    {
     "name": "stdout",
     "output_type": "stream",
     "text": [
      "Train acc: 0.447, Val acc: 0.325, Val loss: 1.473\n",
      "Epoch 43\n"
     ]
    },
    {
     "data": {
      "application/vnd.jupyter.widget-view+json": {
       "model_id": "65cdd7689a414800bd9d6cd01c677f86",
       "version_major": 2,
       "version_minor": 0
      },
      "text/plain": [
       "  0%|          | 0/238 [00:00<?, ?it/s]"
      ]
     },
     "metadata": {},
     "output_type": "display_data"
    },
    {
     "name": "stdout",
     "output_type": "stream",
     "text": [
      "Train acc: 0.440, Val acc: 0.312, Val loss: 1.520\n",
      "Epoch 44\n"
     ]
    },
    {
     "data": {
      "application/vnd.jupyter.widget-view+json": {
       "model_id": "94da68a49c774a0da24c209830ff80a4",
       "version_major": 2,
       "version_minor": 0
      },
      "text/plain": [
       "  0%|          | 0/238 [00:00<?, ?it/s]"
      ]
     },
     "metadata": {},
     "output_type": "display_data"
    },
    {
     "name": "stdout",
     "output_type": "stream",
     "text": [
      "Train acc: 0.455, Val acc: 0.316, Val loss: 1.388\n",
      "Epoch 45\n"
     ]
    },
    {
     "data": {
      "application/vnd.jupyter.widget-view+json": {
       "model_id": "6882b4c52d284e09be34747ca3cc8f15",
       "version_major": 2,
       "version_minor": 0
      },
      "text/plain": [
       "  0%|          | 0/238 [00:00<?, ?it/s]"
      ]
     },
     "metadata": {},
     "output_type": "display_data"
    },
    {
     "name": "stdout",
     "output_type": "stream",
     "text": [
      "Train acc: 0.454, Val acc: 0.327, Val loss: 1.433\n",
      "Epoch 46\n"
     ]
    },
    {
     "data": {
      "application/vnd.jupyter.widget-view+json": {
       "model_id": "8f58572329e549ab95f8baf92236997c",
       "version_major": 2,
       "version_minor": 0
      },
      "text/plain": [
       "  0%|          | 0/238 [00:00<?, ?it/s]"
      ]
     },
     "metadata": {},
     "output_type": "display_data"
    }
   ],
   "source": [
    "start_time = time.time()\n",
    "train_accuracies, val_accuracies = train_model(model=model,\n",
    "                                                     criterion=criterion,\n",
    "                                                     optimizer=optimizer,\n",
    "                                                     scheduler=scheduler,\n",
    "                                                     train_loader=train_loader,\n",
    "                                                     val_loader=val_loader,\n",
    "                                                     num_epochs=number_epochs,\n",
    "                                                     learning=False,\n",
    "                                                     device=device,\n",
    "                                                     trial=None)"
   ]
  },
  {
   "cell_type": "code",
   "execution_count": null,
   "id": "e3fb5c12-801f-48de-8cae-3e41b6e9af6e",
   "metadata": {
    "colab": {
     "base_uri": "https://localhost:8080/",
     "height": 564
    },
    "id": "e3fb5c12-801f-48de-8cae-3e41b6e9af6e",
    "outputId": "f0997a5e-158e-4aad-c36c-8141cdf156ef"
   },
   "outputs": [],
   "source": [
    "import matplotlib.pyplot as plt\n",
    "n_epochs = number_epochs\n",
    "epochs = range(1, n_epochs + 1)\n",
    "\n",
    "plt.figure(figsize=(10, 6))\n",
    "plt.plot(epochs, train_accuracies, label='Training Accuracy')\n",
    "plt.plot(epochs, val_accuracies, label='Validation Accuracy')\n",
    "plt.title('Training and Validation Accuracy')\n",
    "plt.xlabel('Epoch')\n",
    "plt.ylabel('Accuracy')\n",
    "plt.legend()\n",
    "plt.grid(True)\n",
    "plt.show()"
   ]
  },
  {
   "cell_type": "code",
   "execution_count": null,
   "id": "519c27a0-d388-4193-80bf-5583b683efbc",
   "metadata": {
    "colab": {
     "base_uri": "https://localhost:8080/"
    },
    "id": "519c27a0-d388-4193-80bf-5583b683efbc",
    "outputId": "21836480-0108-4dd3-ea30-c5420c56a714"
   },
   "outputs": [],
   "source": [
    "end_time = time.time()\n",
    "calc_time(end_time, start_time)\n",
    "test_model(model, test_loader)"
   ]
  },
  {
   "cell_type": "code",
   "execution_count": null,
   "id": "UTAIlI7i4gjO",
   "metadata": {
    "id": "UTAIlI7i4gjO"
   },
   "outputs": [],
   "source": [
    "torch.save(model, path_to_save+'shallow_cnn')"
   ]
  },
  {
   "cell_type": "markdown",
   "id": "15364232-5649-46a7-b8ef-83f8fe050186",
   "metadata": {
    "id": "15364232-5649-46a7-b8ef-83f8fe050186"
   },
   "source": [
    "## cnn lstm"
   ]
  },
  {
   "cell_type": "code",
   "execution_count": null,
   "id": "3e2b54e0-2886-44cb-a5b5-79dd46f0ae6a",
   "metadata": {
    "id": "3e2b54e0-2886-44cb-a5b5-79dd46f0ae6a"
   },
   "outputs": [],
   "source": [
    "class TimeDistributed(nn.Module):\n",
    "    def __init__(self, layer):\n",
    "        super(TimeDistributed, self).__init__()\n",
    "        self.layer = layer\n",
    "\n",
    "    def forward(self, x):\n",
    "        tmp = x.contiguous().view(-1, x.size(-1))\n",
    "        y = self.layer(tmp)\n",
    "        y = y.contiguous().view(x.size(0), -1, y.size(-1))\n",
    "\n",
    "        return y"
   ]
  },
  {
   "cell_type": "code",
   "execution_count": null,
   "id": "7f6fc80e-f9a8-405c-9a19-9695d81c0f12",
   "metadata": {
    "id": "7f6fc80e-f9a8-405c-9a19-9695d81c0f12"
   },
   "outputs": [],
   "source": [
    "class CNNLSTM(nn.Module):\n",
    "    def __init__(self,\n",
    "                 num_classes=4,\n",
    "                 hidden_dims=256,\n",
    "                 num_layers=2,\n",
    "                 dropout=0.5,\n",
    "                 kernel=3,\n",
    "                 stride=2,\n",
    "                 padding=0,\n",
    "                 pool_kernel=2,\n",
    "                 time_bins=400,\n",
    "                 channels=22,\n",
    "                 depth=25):\n",
    "        super(CNNLSTM, self).__init__()\n",
    "\n",
    "        self.conv1 = nn.Sequential(\n",
    "            nn.Conv1d(in_channels=channels,\n",
    "                      out_channels=depth,\n",
    "                      kernel_size=kernel,\n",
    "                      stride=stride,\n",
    "                      padding=padding),\n",
    "            nn.ReLU(),\n",
    "        )\n",
    "        self.conv2 = nn.Sequential(\n",
    "            nn.Conv2d(in_channels=depth,\n",
    "                      out_channels=depth * 2,\n",
    "                      kernel_size=(1, depth),\n",
    "                      stride=stride,\n",
    "                      padding=padding),\n",
    "            nn.ELU(),\n",
    "            nn.BatchNorm2d(depth * 2),\n",
    "            nn.MaxPool2d(kernel_size=(1, pool_kernel)),\n",
    "            nn.Dropout(dropout)\n",
    "        )\n",
    "        self.conv3 = nn.Sequential(\n",
    "            nn.Conv1d(in_channels=depth * 2,\n",
    "                      out_channels=depth * 4,\n",
    "                      kernel_size=kernel,\n",
    "                      stride=stride,\n",
    "                      padding=padding + 3),\n",
    "            nn.ELU(),\n",
    "            nn.BatchNorm1d(depth * 4),\n",
    "        )\n",
    "        self.conv4 = nn.Sequential(\n",
    "            nn.Conv1d(in_channels=depth * 4,\n",
    "                      out_channels=depth * 4,\n",
    "                      kernel_size=kernel,\n",
    "                      stride=stride,\n",
    "                      padding=padding + 5),\n",
    "            nn.ELU(),\n",
    "            nn.BatchNorm1d(depth * 4),\n",
    "            nn.MaxPool1d(kernel_size=pool_kernel),\n",
    "            nn.Dropout(dropout)\n",
    "        )\n",
    "        self.conv5 = nn.Sequential(\n",
    "            nn.Conv1d(in_channels=depth * 4,\n",
    "                      out_channels=depth * 8,\n",
    "                      kernel_size=kernel,\n",
    "                      stride=stride,\n",
    "                      padding=padding),\n",
    "            nn.ELU(),\n",
    "            nn.BatchNorm1d(depth * 8),\n",
    "            nn.MaxPool1d(kernel_size=pool_kernel),\n",
    "            nn.Dropout(dropout)\n",
    "        )\n",
    "\n",
    "        self.linear = nn.Sequential(\n",
    "            nn.Linear(in_features=depth * 8,\n",
    "                      out_features=depth * 8),\n",
    "            nn.ReLU(),\n",
    "            nn.BatchNorm1d(depth * 8),\n",
    "            nn.MaxPool1d(kernel_size=pool_kernel),\n",
    "        )\n",
    "\n",
    "        self.lstm1 = nn.LSTM(input_size=depth * 4,\n",
    "                             hidden_size=depth * 4,\n",
    "                             num_layers=num_layers,\n",
    "                             batch_first=True,\n",
    "                             bidirectional=True)\n",
    "\n",
    "        self.lstm2 = nn.LSTM(input_size=depth * 8,\n",
    "                             hidden_size=depth * 4,\n",
    "                             num_layers=num_layers,\n",
    "                             batch_first=True,\n",
    "                             bidirectional=True)\n",
    "\n",
    "        self.td = nn.Sequential(\n",
    "            TimeDistributed(nn.Linear(in_features=depth * 8, out_features=depth * 4)),\n",
    "            TimeDistributed(nn.ReLU()),\n",
    "            TimeDistributed(nn.BatchNorm1d(depth * 4)),\n",
    "            # TimeDistributed(nn.Dropout(dropout)),\n",
    "            # TimeDistributed(nn.Linear(in_features=depth * 4, out_features=depth * 2)),\n",
    "            # TimeDistributed(nn.ReLU()),\n",
    "            # TimeDistributed(nn.BatchNorm1d(depth * 2)),\n",
    "            # TimeDistributed(nn.Dropout(dropout)),\n",
    "        )\n",
    "\n",
    "        self.dense = nn.Linear(in_features=depth * 4, out_features=num_classes)\n",
    "\n",
    "        self.nd = nn.Sequential(\n",
    "            nn.Linear(in_features=depth * 8, out_features=depth * 4),\n",
    "            nn.ReLU(),\n",
    "            nn.BatchNorm1d(depth * 4),\n",
    "            nn.Dropout(dropout),\n",
    "            # nn.Linear(in_features=depth * 4, out_features=depth * 2),\n",
    "            # nn.ReLU(),\n",
    "            # nn.BatchNorm1d(depth * 2),\n",
    "            # nn.Dropout(dropout),\n",
    "            # nn.Linear(in_features=depth * 2, out_features=depth),\n",
    "            # nn.ReLU(),\n",
    "            # nn.BatchNorm1d(depth),\n",
    "            # nn.Dropout(dropout),\n",
    "        )\n",
    "\n",
    "    def forward(self, x):\n",
    "        x = self.conv1(x)\n",
    "        x = x.unsqueeze(2)\n",
    "        x = self.conv2(x)\n",
    "        x = x.squeeze(2)\n",
    "        x = self.conv3(x)\n",
    "        x = self.conv4(x)\n",
    "        x = self.conv5(x)\n",
    "        x = x.transpose(1, 2)\n",
    "        x = x[:, -1, :]\n",
    "        x = self.linear(x)\n",
    "        x, _ = self.lstm1(x)\n",
    "        #x, _ = self.lstm2(x)\n",
    "        #x = self.td(x)\n",
    "        x = self.nd(x)\n",
    "        x = self.dense(x)\n",
    "        return F.log_softmax(x, dim=1)"
   ]
  },
  {
   "cell_type": "code",
   "execution_count": null,
   "id": "7e43f686-7d39-41cd-b82d-023458c5f862",
   "metadata": {
    "colab": {
     "base_uri": "https://localhost:8080/"
    },
    "id": "7e43f686-7d39-41cd-b82d-023458c5f862",
    "outputId": "7a9d418f-0e8c-470e-d4e4-350322a399a3"
   },
   "outputs": [],
   "source": [
    "torchinfo.summary(CNNLSTM(), input_size=(batch_size, 22, 400))"
   ]
  },
  {
   "cell_type": "code",
   "execution_count": null,
   "id": "a0801b41-52a1-44af-82d7-72a4e3bdf320",
   "metadata": {
    "id": "a0801b41-52a1-44af-82d7-72a4e3bdf320"
   },
   "outputs": [],
   "source": [
    "model = CNNLSTM().to(device)\n",
    "criterion = nn.CrossEntropyLoss()\n",
    "optimizer = torch.optim.NAdam(model.parameters(), lr=0.001, weight_decay=0.0005)\n",
    "scheduler = torch.optim.lr_scheduler.CosineAnnealingLR(optimizer, T_max=15, eta_min=0.0001)"
   ]
  },
  {
   "cell_type": "code",
   "execution_count": null,
   "id": "05b4e687-1cad-4f2e-9310-2d1fe6687d1c",
   "metadata": {
    "colab": {
     "base_uri": "https://localhost:8080/",
     "height": 84,
     "referenced_widgets": [
      "0fd261d6a8f946199fd05a35d15e0723",
      "d77e1a3da4b14a8b9baadcb589abb4c8",
      "30b785ad1ad4403b96157100e644963c",
      "09ea3a32551e485e9acf6f29efe78118",
      "a935dbbe17a14625912d10729cf3a6f5",
      "85a8148acce4449b86a7c515f637f0a4",
      "61babda7961a477f8f9ebacd0acca2c6",
      "8d0a1dee23514d7b825ac6103d0d2f36",
      "503c0ca637174076b37ff73fe40eadb1",
      "fd7a56d6d9204ba5ab7baf1e44085afa",
      "df16f671e9dc4eb2970b0005ba426e29"
     ]
    },
    "id": "05b4e687-1cad-4f2e-9310-2d1fe6687d1c",
    "outputId": "25a1a8d6-506f-4f23-a10b-95717a35bc43"
   },
   "outputs": [],
   "source": [
    "start_time = time.time()\n",
    "train_accuracies, val_accuracies = train_model(model=model,\n",
    "                                                     criterion=criterion,\n",
    "                                                     optimizer=optimizer,\n",
    "                                                     scheduler=scheduler,\n",
    "                                                     train_loader=train_loader,\n",
    "                                                     val_loader=val_loader,\n",
    "                                                     num_epochs=number_epochs,\n",
    "                                                     learning=False,\n",
    "                                                     device=device,\n",
    "                                                     trial=None)"
   ]
  },
  {
   "cell_type": "code",
   "execution_count": null,
   "id": "7c89101c-0973-43c1-b973-05e98ae97732",
   "metadata": {
    "colab": {
     "base_uri": "https://localhost:8080/",
     "height": 564
    },
    "id": "7c89101c-0973-43c1-b973-05e98ae97732",
    "outputId": "325d41d8-6e18-4a6e-b801-73593b0ebe59",
    "scrolled": true
   },
   "outputs": [],
   "source": [
    "import matplotlib.pyplot as plt\n",
    "n_epochs = number_epochs\n",
    "epochs = range(1, n_epochs + 1)\n",
    "\n",
    "plt.figure(figsize=(10, 6))\n",
    "plt.plot(epochs, train_accuracies, label='Training Accuracy')\n",
    "plt.plot(epochs, val_accuracies, label='Validation Accuracy')\n",
    "plt.title('Training and Validation Accuracy')\n",
    "plt.xlabel('Epoch')\n",
    "plt.ylabel('Accuracy')\n",
    "plt.legend()\n",
    "plt.grid(True)\n",
    "plt.show()"
   ]
  },
  {
   "cell_type": "code",
   "execution_count": null,
   "id": "638a6cbe-4947-49db-8e87-b9633c648379",
   "metadata": {
    "colab": {
     "base_uri": "https://localhost:8080/"
    },
    "id": "638a6cbe-4947-49db-8e87-b9633c648379",
    "outputId": "9ae91521-dd92-42bc-81f5-a16471b902b0"
   },
   "outputs": [],
   "source": [
    "end_time = time.time()\n",
    "calc_time(end_time, start_time)\n",
    "test_model(model, test_loader)"
   ]
  },
  {
   "cell_type": "code",
   "execution_count": null,
   "id": "bWWCvizn4j4j",
   "metadata": {
    "id": "bWWCvizn4j4j"
   },
   "outputs": [],
   "source": [
    "torch.save(model, path_to_save+'cnn_lstm')"
   ]
  },
  {
   "cell_type": "markdown",
   "id": "1b62c6d8-0a6a-40fe-89af-4505ecfa52af",
   "metadata": {
    "id": "1b62c6d8-0a6a-40fe-89af-4505ecfa52af"
   },
   "source": [
    "## cnn gru"
   ]
  },
  {
   "cell_type": "code",
   "execution_count": null,
   "id": "27be56f7-11db-45f8-8718-aab98ff61fd0",
   "metadata": {
    "id": "27be56f7-11db-45f8-8718-aab98ff61fd0"
   },
   "outputs": [],
   "source": [
    "class TimeDistributed(nn.Module):\n",
    "    def __init__(self, layer):\n",
    "        super(TimeDistributed, self).__init__()\n",
    "        self.layer = layer\n",
    "\n",
    "    def forward(self, x):\n",
    "        tmp = x.contiguous().view(-1, x.size(-1))\n",
    "        y = self.layer(tmp)\n",
    "        y = y.contiguous().view(x.size(0), -1, y.size(-1))\n",
    "\n",
    "        return y"
   ]
  },
  {
   "cell_type": "code",
   "execution_count": null,
   "id": "d0035a34-c6a9-4d01-88f3-b6cce30a60b5",
   "metadata": {
    "id": "d0035a34-c6a9-4d01-88f3-b6cce30a60b5"
   },
   "outputs": [],
   "source": [
    "class GRU(nn.Module):\n",
    "    def __init__(self,\n",
    "                 num_classes=4,\n",
    "                 hidden_dims=128,\n",
    "                 num_layers=2,\n",
    "                 dropout=0.5,\n",
    "                 kernel=7,\n",
    "                 stride=1,\n",
    "                 padding=0,\n",
    "                 pool_kernel=3,\n",
    "                 time_bins=400,\n",
    "                 channels=22,\n",
    "                 depth=64):\n",
    "        super(GRU, self).__init__()\n",
    "\n",
    "        self.conv1 = nn.Sequential(\n",
    "            nn.Conv1d(in_channels=channels,\n",
    "                      out_channels=depth,\n",
    "                      kernel_size=kernel,\n",
    "                      stride=stride,\n",
    "                      padding=padding),\n",
    "            nn.ReLU(),\n",
    "            nn.BatchNorm1d(depth),\n",
    "            nn.Dropout(dropout)\n",
    "        )\n",
    "        self.conv2 = nn.Sequential(\n",
    "            nn.Conv2d(in_channels=depth,\n",
    "                      out_channels=depth * 2,\n",
    "                      kernel_size=(1, depth),\n",
    "                      stride=stride,\n",
    "                      padding=padding),\n",
    "            nn.ELU(),\n",
    "            nn.BatchNorm2d(depth * 2),\n",
    "            nn.MaxPool2d(kernel_size=(1, pool_kernel)),\n",
    "            nn.Dropout(dropout)\n",
    "        )\n",
    "        self.conv3 = nn.Sequential(\n",
    "            nn.Conv1d(in_channels=depth * 2,\n",
    "                      out_channels=depth * 4,\n",
    "                      kernel_size=kernel,\n",
    "                      stride=stride,\n",
    "                      padding=padding + 1),\n",
    "            nn.ELU(),\n",
    "            nn.BatchNorm1d(depth * 4),\n",
    "            nn.MaxPool1d(kernel_size=pool_kernel),\n",
    "            nn.Dropout(dropout)\n",
    "        )\n",
    "        self.conv4 = nn.Sequential(\n",
    "            nn.Conv1d(in_channels=depth * 4,\n",
    "                      out_channels=depth * 4,\n",
    "                      kernel_size=kernel,\n",
    "                      stride=stride,\n",
    "                      padding=padding + 3),\n",
    "            nn.ELU(),\n",
    "            nn.BatchNorm1d(depth * 4),\n",
    "            nn.MaxPool1d(kernel_size=pool_kernel),\n",
    "            nn.Dropout(dropout)\n",
    "        )\n",
    "        self.conv5 = nn.Sequential(\n",
    "            nn.Conv1d(in_channels=depth * 4,\n",
    "                      out_channels=depth * 8,\n",
    "                      kernel_size=kernel,\n",
    "                      stride=stride,\n",
    "                      padding=padding + 5),\n",
    "            nn.ELU(),\n",
    "            nn.BatchNorm1d(depth * 8),\n",
    "            nn.MaxPool1d(kernel_size=pool_kernel),\n",
    "            nn.Dropout(dropout)\n",
    "        )\n",
    "\n",
    "        self.nd = nn.Sequential(\n",
    "            nn.Linear(in_features=depth * 8, out_features=depth * 4),\n",
    "            nn.ReLU(),\n",
    "            nn.BatchNorm1d(depth * 4),\n",
    "            nn.Dropout(dropout),\n",
    "        )\n",
    "\n",
    "        self.gru = nn.GRU(input_size=depth * 4,\n",
    "                           hidden_size=depth * 4,\n",
    "                           num_layers=num_layers,\n",
    "                           bias=True,\n",
    "                           batch_first=True,\n",
    "                           bidirectional=True)\n",
    "\n",
    "        self.td = nn.Sequential(\n",
    "            TimeDistributed(nn.Linear(in_features=depth * 8, out_features=depth * 4)),\n",
    "            TimeDistributed(nn.ReLU()),\n",
    "            TimeDistributed(nn.BatchNorm1d(depth * 4)),\n",
    "            TimeDistributed(nn.Dropout(dropout)),\n",
    "            TimeDistributed(nn.Linear(in_features=depth * 4, out_features=depth * 2)),\n",
    "            TimeDistributed(nn.ReLU()),\n",
    "            TimeDistributed(nn.BatchNorm1d(depth * 2)),\n",
    "            TimeDistributed(nn.Dropout(dropout)),\n",
    "            TimeDistributed(nn.Linear(in_features=depth * 2, out_features=depth)),\n",
    "            TimeDistributed(nn.ReLU()),\n",
    "            TimeDistributed(nn.BatchNorm1d(depth)),\n",
    "            TimeDistributed(nn.Dropout(dropout)),\n",
    "        )\n",
    "        self.dense = nn.Linear(in_features=depth * 8, out_features=num_classes)\n",
    "\n",
    "\n",
    "    def forward(self, x):\n",
    "        x = self.conv1(x)\n",
    "        x = x.unsqueeze(2)\n",
    "        x = self.conv2(x)\n",
    "        x = x.squeeze(2)\n",
    "        x = self.conv3(x)\n",
    "        x = self.conv4(x)\n",
    "        x = self.conv5(x)\n",
    "        x = x.transpose(1, 2)\n",
    "        x = x[:, -1, :]\n",
    "        x = self.nd(x)\n",
    "        x, _ = self.gru(x)\n",
    "        #x = self.td(x)\n",
    "        x = self.dense(x)\n",
    "        return F.log_softmax(x, dim=1)"
   ]
  },
  {
   "cell_type": "code",
   "execution_count": null,
   "id": "2d2f40ef-8c3f-4cf2-ab78-941086b2d53c",
   "metadata": {
    "colab": {
     "base_uri": "https://localhost:8080/"
    },
    "id": "2d2f40ef-8c3f-4cf2-ab78-941086b2d53c",
    "outputId": "2cba7bdd-e5b5-4d19-9319-f814dbf0987c"
   },
   "outputs": [],
   "source": [
    "torchinfo.summary(GRU(), input_size=(batch_size, 22, 400))"
   ]
  },
  {
   "cell_type": "code",
   "execution_count": null,
   "id": "ddc4e30b-082d-4d6c-90b1-a3a1a9bed940",
   "metadata": {
    "id": "ddc4e30b-082d-4d6c-90b1-a3a1a9bed940"
   },
   "outputs": [],
   "source": [
    "model = GRU().to(device)\n",
    "criterion = nn.CrossEntropyLoss()\n",
    "optimizer = torch.optim.Adam(model.parameters(), lr=0.001, weight_decay=0.0008)\n",
    "scheduler = torch.optim.lr_scheduler.CosineAnnealingLR(optimizer, T_max=50, eta_min=0.0001)"
   ]
  },
  {
   "cell_type": "code",
   "execution_count": null,
   "id": "bc123acc-72ad-4cdc-b54e-f7c3ff51e1a8",
   "metadata": {
    "colab": {
     "base_uri": "https://localhost:8080/",
     "height": 84,
     "referenced_widgets": [
      "39109f8322d94190b93ad25145077db3",
      "dbcaecb9f731440f94eae7215cb097a1",
      "41a898668c2842559c6949d936817354",
      "1c64d10bf9de4a558d64aafab20e8b71",
      "132d36099ddb46d786bf79e0126a7e87",
      "67fe25f3c0b746eea70d9a65fdf758ea",
      "deebd27121bf41a3837f96694a440db7",
      "f7be80beec754a8e832a5927d8ff0d64",
      "b10b3d3711f443dc9ac9368f15789ab7",
      "c527738b55a0407491dd817452f45186",
      "9d12e307b2e04ae4b331dca4a9101392"
     ]
    },
    "id": "bc123acc-72ad-4cdc-b54e-f7c3ff51e1a8",
    "outputId": "a5b0175f-5d45-42f4-b3a7-0d9c661d653b",
    "scrolled": true
   },
   "outputs": [],
   "source": [
    "start_time = time.time()\n",
    "train_accuracies, val_accuracies = train_model(model=model,\n",
    "                                                     criterion=criterion,\n",
    "                                                     optimizer=optimizer,\n",
    "                                                     scheduler=scheduler,\n",
    "                                                     train_loader=train_loader,\n",
    "                                                     val_loader=val_loader,\n",
    "                                                     num_epochs=number_epochs,\n",
    "                                                     learning=False,\n",
    "                                                     device=device,\n",
    "                                                     trial=None)"
   ]
  },
  {
   "cell_type": "code",
   "execution_count": null,
   "id": "bab6a221-fbb9-4331-a98f-57fe1f4c4458",
   "metadata": {
    "colab": {
     "base_uri": "https://localhost:8080/",
     "height": 564
    },
    "id": "bab6a221-fbb9-4331-a98f-57fe1f4c4458",
    "outputId": "ddd0a04e-99ae-42fb-f9e0-c1ee0381c322",
    "scrolled": true
   },
   "outputs": [],
   "source": [
    "import matplotlib.pyplot as plt\n",
    "n_epochs = number_epochs\n",
    "epochs = range(1, n_epochs + 1)\n",
    "\n",
    "plt.figure(figsize=(10, 6))\n",
    "plt.plot(epochs, train_accuracies, label='Training Accuracy')\n",
    "plt.plot(epochs, val_accuracies, label='Validation Accuracy')\n",
    "plt.title('Training and Validation Accuracy')\n",
    "plt.xlabel('Epoch')\n",
    "plt.ylabel('Accuracy')\n",
    "plt.legend()\n",
    "plt.grid(True)\n",
    "plt.show()"
   ]
  },
  {
   "cell_type": "code",
   "execution_count": null,
   "id": "ad750b83-94b0-4037-91c4-e9676d15ec76",
   "metadata": {
    "colab": {
     "base_uri": "https://localhost:8080/"
    },
    "id": "ad750b83-94b0-4037-91c4-e9676d15ec76",
    "outputId": "330dbf17-b520-4d97-e72f-9f084e3aacdd"
   },
   "outputs": [],
   "source": [
    "end_time = time.time()\n",
    "calc_time(end_time, start_time)\n",
    "test_model(model, test_loader)"
   ]
  },
  {
   "cell_type": "code",
   "execution_count": null,
   "id": "mprDfXVG4nEG",
   "metadata": {
    "id": "mprDfXVG4nEG"
   },
   "outputs": [],
   "source": [
    "torch.save(model, path_to_save+'cnn_gru')"
   ]
  },
  {
   "cell_type": "markdown",
   "id": "hjT88Wfisis7",
   "metadata": {
    "id": "hjT88Wfisis7"
   },
   "source": [
    "## lstm-lstm"
   ]
  },
  {
   "cell_type": "code",
   "execution_count": null,
   "id": "51d6ae7a-588c-4d6c-8980-fcf32df31da8",
   "metadata": {
    "id": "51d6ae7a-588c-4d6c-8980-fcf32df31da8"
   },
   "outputs": [],
   "source": [
    "class LSTM_LSTM(nn.Module):\n",
    "    def __init__(self,\n",
    "                 input_size = 22,\n",
    "                 hidden_size = 64,\n",
    "                 num_layers = 2,\n",
    "                 output_size = 54,\n",
    "                 num_classes = 4):\n",
    "        super(LSTM_LSTM, self).__init__()\n",
    "        self.hidden_size = hidden_size\n",
    "        self.num_layers = num_layers\n",
    "\n",
    "        # First LSTM layer\n",
    "        self.lstm1 = nn.LSTM(input_size,\n",
    "                             hidden_size,\n",
    "                             num_layers,\n",
    "                             batch_first=True,\n",
    "                             bidirectional=True)\n",
    "\n",
    "        # Second LSTM layer\n",
    "        self.lstm2 = nn.LSTM(hidden_size * 2,\n",
    "                             hidden_size,\n",
    "                             num_layers,\n",
    "                             batch_first=True,\n",
    "                             bidirectional=True)\n",
    "\n",
    "\n",
    "        # Output layer\n",
    "        self.linear = nn.Linear(hidden_size * 2, output_size)\n",
    "        self.fc = nn.Sequential(\n",
    "            nn.Linear(output_size, output_size-10),\n",
    "            nn.BatchNorm1d(num_features=output_size-10, eps=1e-05, momentum=0.2, affine=True),\n",
    "            nn.ReLU(inplace = True),\n",
    "            nn.Linear(output_size-10, num_classes)\n",
    "        )\n",
    "\n",
    "    def forward(self, x):\n",
    "        x = x.transpose(1, 2)\n",
    "\n",
    "        # Forward pass through LSTM1\n",
    "        out, _ = self.lstm1(x)\n",
    "\n",
    "        # Forward pass through LSTM2\n",
    "        out, _ = self.lstm2(out)\n",
    "\n",
    "        # fc layer\n",
    "        out = self.linear(out[:, -1, :])\n",
    "        return out\n"
   ]
  },
  {
   "cell_type": "code",
   "execution_count": null,
   "id": "a10a305b-313c-4d50-91ec-372bbf9ddf67",
   "metadata": {
    "colab": {
     "base_uri": "https://localhost:8080/"
    },
    "id": "a10a305b-313c-4d50-91ec-372bbf9ddf67",
    "outputId": "45fe0394-21b6-4d65-9801-8879d89cab83"
   },
   "outputs": [],
   "source": [
    "torchinfo.summary(LSTM_LSTM(), input_size=(batch_size, 22, 400))"
   ]
  },
  {
   "cell_type": "code",
   "execution_count": null,
   "id": "49729e38-c049-4248-bbc5-bcb2c17431d8",
   "metadata": {
    "id": "49729e38-c049-4248-bbc5-bcb2c17431d8"
   },
   "outputs": [],
   "source": [
    "model = LSTM_LSTM().to(device)\n",
    "criterion = nn.CrossEntropyLoss()\n",
    "optimizer = torch.optim.Adam(model.parameters(), lr=0.001, weight_decay=0.0008)\n",
    "scheduler = torch.optim.lr_scheduler.CosineAnnealingLR(optimizer, T_max=50, eta_min=0.0001)"
   ]
  },
  {
   "cell_type": "code",
   "execution_count": null,
   "id": "468TpLMFu2hw",
   "metadata": {
    "colab": {
     "base_uri": "https://localhost:8080/",
     "height": 84,
     "referenced_widgets": [
      "614ac7404bc245c98f7075407c976dda",
      "91cf4270bc8c46af80beec4a96a09686",
      "2ca0a9db64c043a6828a4407abbe6afe",
      "ab8709597c1d40249fab6200573bf84e",
      "7981c5832afd4d5e9a839aa00f46043c",
      "5bdd8b96d09049c89984092e3843430b",
      "a3b0fd9435684ccd99eba4aeea97e8cf",
      "190662e5bf3f4613908bc3ed275d44d4",
      "f42d38fb50314939ad7a46749ab9d815",
      "35fdf23c102e41198bbcfd702b07d7f2",
      "6a132b16e29b4fe397089aed888d0bfd"
     ]
    },
    "id": "468TpLMFu2hw",
    "outputId": "9e662a29-551e-449e-c39e-dee2b61ec27e"
   },
   "outputs": [],
   "source": [
    "start_time = time.time()\n",
    "train_accuracies, val_accuracies = train_model(model=model,\n",
    "                                                     criterion=criterion,\n",
    "                                                     optimizer=optimizer,\n",
    "                                                     scheduler=scheduler,\n",
    "                                                     train_loader=train_loader,\n",
    "                                                     val_loader=val_loader,\n",
    "                                                     num_epochs=number_epochs,\n",
    "                                                     learning=False,\n",
    "                                                     device=device,\n",
    "                                                     trial=None)"
   ]
  },
  {
   "cell_type": "code",
   "execution_count": null,
   "id": "G1or-ZC3vAHK",
   "metadata": {
    "colab": {
     "base_uri": "https://localhost:8080/",
     "height": 564
    },
    "id": "G1or-ZC3vAHK",
    "outputId": "aba53618-a7cb-41f5-d1bf-2494ba120003"
   },
   "outputs": [],
   "source": [
    "import matplotlib.pyplot as plt\n",
    "n_epochs = number_epochs\n",
    "epochs = range(1, n_epochs + 1)\n",
    "\n",
    "plt.figure(figsize=(10, 6))\n",
    "plt.plot(epochs, train_accuracies, label='Training Accuracy')\n",
    "plt.plot(epochs, val_accuracies, label='Validation Accuracy')\n",
    "plt.title('Training and Validation Accuracy')\n",
    "plt.xlabel('Epoch')\n",
    "plt.ylabel('Accuracy')\n",
    "plt.legend()\n",
    "plt.grid(True)\n",
    "plt.show()"
   ]
  },
  {
   "cell_type": "code",
   "execution_count": null,
   "id": "py3qzlwuwQWf",
   "metadata": {
    "colab": {
     "base_uri": "https://localhost:8080/"
    },
    "id": "py3qzlwuwQWf",
    "outputId": "a21e6ddb-3d29-40e5-c282-d9f65a0a982b"
   },
   "outputs": [],
   "source": [
    "end_time = time.time()\n",
    "calc_time(end_time, start_time)\n",
    "test_model(model, test_loader)"
   ]
  },
  {
   "cell_type": "code",
   "execution_count": null,
   "id": "4Hi6vlzE4sYg",
   "metadata": {
    "id": "4Hi6vlzE4sYg"
   },
   "outputs": [],
   "source": [
    "torch.save(model, path_to_save+'lstm_lstm')"
   ]
  },
  {
   "cell_type": "markdown",
   "id": "2mrHcDaHstSy",
   "metadata": {
    "id": "2mrHcDaHstSy"
   },
   "source": [
    "## gru"
   ]
  },
  {
   "cell_type": "code",
   "execution_count": null,
   "id": "gZmE36k-rmPF",
   "metadata": {
    "id": "gZmE36k-rmPF"
   },
   "outputs": [],
   "source": [
    "class GRU(nn.Module):\n",
    "    def __init__(self,\n",
    "                 input_size = 22,\n",
    "                 hidden_size = 64,\n",
    "                 num_layers = 3,\n",
    "                 output_size = 54,\n",
    "                 num_classes = 4):\n",
    "        super(GRU, self).__init__()\n",
    "        self.hidden_size = hidden_size\n",
    "        self.num_layers = num_layers\n",
    "\n",
    "        # GRU Layer\n",
    "        self.gru = nn.GRU(input_size, hidden_size, num_layers, dropout=dropout, bidirectional=True)\n",
    "\n",
    "        # Output layer\n",
    "        self.linear = nn.Linear(hidden_size * 2, output_size)\n",
    "        self.fc = nn.Sequential(\n",
    "            nn.Linear(output_size, output_size-10),\n",
    "            nn.BatchNorm1d(num_features=output_size-10, eps=1e-05, momentum=0.2, affine=True),\n",
    "            nn.ReLU(inplace = True),\n",
    "            nn.Linear(output_size-10, num_classes)\n",
    "        )\n",
    "\n",
    "    def forward(self, x):\n",
    "        x = x.transpose(1, 2)\n",
    "\n",
    "        # Forward pass through GRU\n",
    "        out, _ = self.gru(x)\n",
    "\n",
    "        # fc layer\n",
    "        out = self.linear(out[:, -1, :])\n",
    "        return out\n"
   ]
  },
  {
   "cell_type": "code",
   "execution_count": null,
   "id": "jaj7k9qwsG6M",
   "metadata": {
    "colab": {
     "base_uri": "https://localhost:8080/"
    },
    "id": "jaj7k9qwsG6M",
    "outputId": "494a5db4-4b7d-46b1-980b-3f2ff01f7585"
   },
   "outputs": [],
   "source": [
    "torchinfo.summary(GRU(), input_size=(batch_size, 22, 400))"
   ]
  },
  {
   "cell_type": "code",
   "execution_count": null,
   "id": "ZefCQkpEsKb6",
   "metadata": {
    "id": "ZefCQkpEsKb6"
   },
   "outputs": [],
   "source": [
    "model = GRU().to(device)\n",
    "criterion = nn.CrossEntropyLoss()\n",
    "optimizer = torch.optim.Adam(model.parameters(), lr=0.001, weight_decay=0.0008)\n",
    "scheduler = torch.optim.lr_scheduler.CosineAnnealingLR(optimizer, T_max=50, eta_min=0.0001)"
   ]
  },
  {
   "cell_type": "code",
   "execution_count": null,
   "id": "6_i5v_6du5JB",
   "metadata": {
    "colab": {
     "base_uri": "https://localhost:8080/",
     "height": 84,
     "referenced_widgets": [
      "323e3b283d274b378e24fda977f4fd26",
      "1010c610233840a8a79653956fa27461",
      "8c3b5ee4bc81465797493620bc3bda89",
      "90f9b17a71924f2da181f6a150abc5a7",
      "27f37b44917a4509a1e30bbb73a239ac",
      "35e900ea768e4159be8a76b8b3d54d86",
      "95a37aa022ac4c42823a03ed94fcb7e0",
      "76c693f059644043ae0f295723c821b3",
      "7836dad4838449c1b6148cda95205857",
      "1f18527718bc400487a6e003dde9eb29",
      "1730495fa200407085084415b653176c"
     ]
    },
    "id": "6_i5v_6du5JB",
    "outputId": "8d85ee06-2cda-456d-ab54-0163fb003ded"
   },
   "outputs": [],
   "source": [
    "start_time = time.time()\n",
    "train_accuracies, val_accuracies = train_model(model=model,\n",
    "                                                     criterion=criterion,\n",
    "                                                     optimizer=optimizer,\n",
    "                                                     scheduler=scheduler,\n",
    "                                                     train_loader=train_loader,\n",
    "                                                     val_loader=val_loader,\n",
    "                                                     num_epochs=number_epochs,\n",
    "                                                     learning=False,\n",
    "                                                     device=device,\n",
    "                                                     trial=None)"
   ]
  },
  {
   "cell_type": "code",
   "execution_count": null,
   "id": "E-Pi01SVvBPO",
   "metadata": {
    "colab": {
     "base_uri": "https://localhost:8080/",
     "height": 564
    },
    "id": "E-Pi01SVvBPO",
    "outputId": "083fa88c-ace2-4148-839d-066db610b890"
   },
   "outputs": [],
   "source": [
    "import matplotlib.pyplot as plt\n",
    "n_epochs = number_epochs\n",
    "epochs = range(1, n_epochs + 1)\n",
    "\n",
    "plt.figure(figsize=(10, 6))\n",
    "plt.plot(epochs, train_accuracies, label='Training Accuracy')\n",
    "plt.plot(epochs, val_accuracies, label='Validation Accuracy')\n",
    "plt.title('Training and Validation Accuracy')\n",
    "plt.xlabel('Epoch')\n",
    "plt.ylabel('Accuracy')\n",
    "plt.legend()\n",
    "plt.grid(True)\n",
    "plt.show()"
   ]
  },
  {
   "cell_type": "code",
   "execution_count": null,
   "id": "dJqcOK39wRi7",
   "metadata": {
    "colab": {
     "base_uri": "https://localhost:8080/"
    },
    "id": "dJqcOK39wRi7",
    "outputId": "325e4e16-1648-4e74-ed88-ab419f6628c4"
   },
   "outputs": [],
   "source": [
    "end_time = time.time()\n",
    "calc_time(end_time, start_time)\n",
    "test_model(model, test_loader)"
   ]
  },
  {
   "cell_type": "code",
   "execution_count": null,
   "id": "QN9HBT7A3xej",
   "metadata": {
    "id": "QN9HBT7A3xej"
   },
   "outputs": [],
   "source": [
    "torch.save(model, path_to_save+'gru')"
   ]
  },
  {
   "cell_type": "markdown",
   "id": "SoUK9oN64qJx",
   "metadata": {
    "id": "SoUK9oN64qJx"
   },
   "source": [
    "# end"
   ]
  },
  {
   "cell_type": "code",
   "execution_count": null,
   "id": "h-yjl_NvwU7e",
   "metadata": {
    "colab": {
     "base_uri": "https://localhost:8080/"
    },
    "id": "h-yjl_NvwU7e",
    "outputId": "d6990051-e3da-40b3-91af-50fb0d6a58e9"
   },
   "outputs": [],
   "source": [
    "print('time i will never get back:')\n",
    "hours = (end_time - super_start_time) // 3600\n",
    "minutes = ((end_time - super_start_time) % 3600) // 60\n",
    "seconds = (end_time - super_start_time) % 60\n",
    "\n",
    "print(f'time to train models: \\\n",
    "{hours} hours, \\\n",
    "{minutes} minutes, \\\n",
    "{int(seconds)} seconds')"
   ]
  },
  {
   "cell_type": "code",
   "execution_count": null,
   "id": "d771ed15-4cec-455a-9bf7-7b9ccccacea8",
   "metadata": {},
   "outputs": [],
   "source": []
  }
 ],
 "metadata": {
  "accelerator": "GPU",
  "colab": {
   "gpuType": "T4",
   "provenance": [],
   "toc_visible": true
  },
  "kernelspec": {
   "display_name": "Python 3 (ipykernel)",
   "language": "python",
   "name": "python3"
  },
  "language_info": {
   "codemirror_mode": {
    "name": "ipython",
    "version": 3
   },
   "file_extension": ".py",
   "mimetype": "text/x-python",
   "name": "python",
   "nbconvert_exporter": "python",
   "pygments_lexer": "ipython3",
   "version": "3.12.1"
  },
  "widgets": {
   "application/vnd.jupyter.widget-state+json": {
    "063a1c5294264d3eb51ec207ca2f49ed": {
     "model_module": "@jupyter-widgets/base",
     "model_module_version": "1.2.0",
     "model_name": "LayoutModel",
     "state": {
      "_model_module": "@jupyter-widgets/base",
      "_model_module_version": "1.2.0",
      "_model_name": "LayoutModel",
      "_view_count": null,
      "_view_module": "@jupyter-widgets/base",
      "_view_module_version": "1.2.0",
      "_view_name": "LayoutView",
      "align_content": null,
      "align_items": null,
      "align_self": null,
      "border": null,
      "bottom": null,
      "display": null,
      "flex": null,
      "flex_flow": null,
      "grid_area": null,
      "grid_auto_columns": null,
      "grid_auto_flow": null,
      "grid_auto_rows": null,
      "grid_column": null,
      "grid_gap": null,
      "grid_row": null,
      "grid_template_areas": null,
      "grid_template_columns": null,
      "grid_template_rows": null,
      "height": null,
      "justify_content": null,
      "justify_items": null,
      "left": null,
      "margin": null,
      "max_height": null,
      "max_width": null,
      "min_height": null,
      "min_width": null,
      "object_fit": null,
      "object_position": null,
      "order": null,
      "overflow": null,
      "overflow_x": null,
      "overflow_y": null,
      "padding": null,
      "right": null,
      "top": null,
      "visibility": null,
      "width": null
     }
    },
    "09ea3a32551e485e9acf6f29efe78118": {
     "model_module": "@jupyter-widgets/controls",
     "model_module_version": "1.5.0",
     "model_name": "HTMLModel",
     "state": {
      "_dom_classes": [],
      "_model_module": "@jupyter-widgets/controls",
      "_model_module_version": "1.5.0",
      "_model_name": "HTMLModel",
      "_view_count": null,
      "_view_module": "@jupyter-widgets/controls",
      "_view_module_version": "1.5.0",
      "_view_name": "HTMLView",
      "description": "",
      "description_tooltip": null,
      "layout": "IPY_MODEL_fd7a56d6d9204ba5ab7baf1e44085afa",
      "placeholder": "​",
      "style": "IPY_MODEL_df16f671e9dc4eb2970b0005ba426e29",
      "value": " 92/92 [00:01&lt;00:00, 58.67it/s]"
     }
    },
    "0fd261d6a8f946199fd05a35d15e0723": {
     "model_module": "@jupyter-widgets/controls",
     "model_module_version": "1.5.0",
     "model_name": "HBoxModel",
     "state": {
      "_dom_classes": [],
      "_model_module": "@jupyter-widgets/controls",
      "_model_module_version": "1.5.0",
      "_model_name": "HBoxModel",
      "_view_count": null,
      "_view_module": "@jupyter-widgets/controls",
      "_view_module_version": "1.5.0",
      "_view_name": "HBoxView",
      "box_style": "",
      "children": [
       "IPY_MODEL_d77e1a3da4b14a8b9baadcb589abb4c8",
       "IPY_MODEL_30b785ad1ad4403b96157100e644963c",
       "IPY_MODEL_09ea3a32551e485e9acf6f29efe78118"
      ],
      "layout": "IPY_MODEL_a935dbbe17a14625912d10729cf3a6f5"
     }
    },
    "1010c610233840a8a79653956fa27461": {
     "model_module": "@jupyter-widgets/controls",
     "model_module_version": "1.5.0",
     "model_name": "HTMLModel",
     "state": {
      "_dom_classes": [],
      "_model_module": "@jupyter-widgets/controls",
      "_model_module_version": "1.5.0",
      "_model_name": "HTMLModel",
      "_view_count": null,
      "_view_module": "@jupyter-widgets/controls",
      "_view_module_version": "1.5.0",
      "_view_name": "HTMLView",
      "description": "",
      "description_tooltip": null,
      "layout": "IPY_MODEL_35e900ea768e4159be8a76b8b3d54d86",
      "placeholder": "​",
      "style": "IPY_MODEL_95a37aa022ac4c42823a03ed94fcb7e0",
      "value": "100%"
     }
    },
    "10e9ad5da6c04e4f9f8f93d2afe073cf": {
     "model_module": "@jupyter-widgets/controls",
     "model_module_version": "1.5.0",
     "model_name": "HTMLModel",
     "state": {
      "_dom_classes": [],
      "_model_module": "@jupyter-widgets/controls",
      "_model_module_version": "1.5.0",
      "_model_name": "HTMLModel",
      "_view_count": null,
      "_view_module": "@jupyter-widgets/controls",
      "_view_module_version": "1.5.0",
      "_view_name": "HTMLView",
      "description": "",
      "description_tooltip": null,
      "layout": "IPY_MODEL_ed9a0fcf92f14902aa51dca7e2c775f0",
      "placeholder": "​",
      "style": "IPY_MODEL_c5c7d6086a294bc8bd939d425500e2aa",
      "value": " 92/92 [00:02&lt;00:00, 40.74it/s]"
     }
    },
    "132d36099ddb46d786bf79e0126a7e87": {
     "model_module": "@jupyter-widgets/base",
     "model_module_version": "1.2.0",
     "model_name": "LayoutModel",
     "state": {
      "_model_module": "@jupyter-widgets/base",
      "_model_module_version": "1.2.0",
      "_model_name": "LayoutModel",
      "_view_count": null,
      "_view_module": "@jupyter-widgets/base",
      "_view_module_version": "1.2.0",
      "_view_name": "LayoutView",
      "align_content": null,
      "align_items": null,
      "align_self": null,
      "border": null,
      "bottom": null,
      "display": null,
      "flex": null,
      "flex_flow": null,
      "grid_area": null,
      "grid_auto_columns": null,
      "grid_auto_flow": null,
      "grid_auto_rows": null,
      "grid_column": null,
      "grid_gap": null,
      "grid_row": null,
      "grid_template_areas": null,
      "grid_template_columns": null,
      "grid_template_rows": null,
      "height": null,
      "justify_content": null,
      "justify_items": null,
      "left": null,
      "margin": null,
      "max_height": null,
      "max_width": null,
      "min_height": null,
      "min_width": null,
      "object_fit": null,
      "object_position": null,
      "order": null,
      "overflow": null,
      "overflow_x": null,
      "overflow_y": null,
      "padding": null,
      "right": null,
      "top": null,
      "visibility": null,
      "width": null
     }
    },
    "13910287ba234daeb1f8dece67e0f057": {
     "model_module": "@jupyter-widgets/base",
     "model_module_version": "1.2.0",
     "model_name": "LayoutModel",
     "state": {
      "_model_module": "@jupyter-widgets/base",
      "_model_module_version": "1.2.0",
      "_model_name": "LayoutModel",
      "_view_count": null,
      "_view_module": "@jupyter-widgets/base",
      "_view_module_version": "1.2.0",
      "_view_name": "LayoutView",
      "align_content": null,
      "align_items": null,
      "align_self": null,
      "border": null,
      "bottom": null,
      "display": null,
      "flex": null,
      "flex_flow": null,
      "grid_area": null,
      "grid_auto_columns": null,
      "grid_auto_flow": null,
      "grid_auto_rows": null,
      "grid_column": null,
      "grid_gap": null,
      "grid_row": null,
      "grid_template_areas": null,
      "grid_template_columns": null,
      "grid_template_rows": null,
      "height": null,
      "justify_content": null,
      "justify_items": null,
      "left": null,
      "margin": null,
      "max_height": null,
      "max_width": null,
      "min_height": null,
      "min_width": null,
      "object_fit": null,
      "object_position": null,
      "order": null,
      "overflow": null,
      "overflow_x": null,
      "overflow_y": null,
      "padding": null,
      "right": null,
      "top": null,
      "visibility": null,
      "width": null
     }
    },
    "14eb294976e94fcbaa7804ac77b289ed": {
     "model_module": "@jupyter-widgets/controls",
     "model_module_version": "1.5.0",
     "model_name": "FloatProgressModel",
     "state": {
      "_dom_classes": [],
      "_model_module": "@jupyter-widgets/controls",
      "_model_module_version": "1.5.0",
      "_model_name": "FloatProgressModel",
      "_view_count": null,
      "_view_module": "@jupyter-widgets/controls",
      "_view_module_version": "1.5.0",
      "_view_name": "ProgressView",
      "bar_style": "success",
      "description": "",
      "description_tooltip": null,
      "layout": "IPY_MODEL_13910287ba234daeb1f8dece67e0f057",
      "max": 92,
      "min": 0,
      "orientation": "horizontal",
      "style": "IPY_MODEL_cea8ded2f626415a99b89cea34853bcd",
      "value": 92
     }
    },
    "1730495fa200407085084415b653176c": {
     "model_module": "@jupyter-widgets/controls",
     "model_module_version": "1.5.0",
     "model_name": "DescriptionStyleModel",
     "state": {
      "_model_module": "@jupyter-widgets/controls",
      "_model_module_version": "1.5.0",
      "_model_name": "DescriptionStyleModel",
      "_view_count": null,
      "_view_module": "@jupyter-widgets/base",
      "_view_module_version": "1.2.0",
      "_view_name": "StyleView",
      "description_width": ""
     }
    },
    "190662e5bf3f4613908bc3ed275d44d4": {
     "model_module": "@jupyter-widgets/base",
     "model_module_version": "1.2.0",
     "model_name": "LayoutModel",
     "state": {
      "_model_module": "@jupyter-widgets/base",
      "_model_module_version": "1.2.0",
      "_model_name": "LayoutModel",
      "_view_count": null,
      "_view_module": "@jupyter-widgets/base",
      "_view_module_version": "1.2.0",
      "_view_name": "LayoutView",
      "align_content": null,
      "align_items": null,
      "align_self": null,
      "border": null,
      "bottom": null,
      "display": null,
      "flex": null,
      "flex_flow": null,
      "grid_area": null,
      "grid_auto_columns": null,
      "grid_auto_flow": null,
      "grid_auto_rows": null,
      "grid_column": null,
      "grid_gap": null,
      "grid_row": null,
      "grid_template_areas": null,
      "grid_template_columns": null,
      "grid_template_rows": null,
      "height": null,
      "justify_content": null,
      "justify_items": null,
      "left": null,
      "margin": null,
      "max_height": null,
      "max_width": null,
      "min_height": null,
      "min_width": null,
      "object_fit": null,
      "object_position": null,
      "order": null,
      "overflow": null,
      "overflow_x": null,
      "overflow_y": null,
      "padding": null,
      "right": null,
      "top": null,
      "visibility": null,
      "width": null
     }
    },
    "1c64d10bf9de4a558d64aafab20e8b71": {
     "model_module": "@jupyter-widgets/controls",
     "model_module_version": "1.5.0",
     "model_name": "HTMLModel",
     "state": {
      "_dom_classes": [],
      "_model_module": "@jupyter-widgets/controls",
      "_model_module_version": "1.5.0",
      "_model_name": "HTMLModel",
      "_view_count": null,
      "_view_module": "@jupyter-widgets/controls",
      "_view_module_version": "1.5.0",
      "_view_name": "HTMLView",
      "description": "",
      "description_tooltip": null,
      "layout": "IPY_MODEL_c527738b55a0407491dd817452f45186",
      "placeholder": "​",
      "style": "IPY_MODEL_9d12e307b2e04ae4b331dca4a9101392",
      "value": " 92/92 [00:06&lt;00:00, 13.93it/s]"
     }
    },
    "1f18527718bc400487a6e003dde9eb29": {
     "model_module": "@jupyter-widgets/base",
     "model_module_version": "1.2.0",
     "model_name": "LayoutModel",
     "state": {
      "_model_module": "@jupyter-widgets/base",
      "_model_module_version": "1.2.0",
      "_model_name": "LayoutModel",
      "_view_count": null,
      "_view_module": "@jupyter-widgets/base",
      "_view_module_version": "1.2.0",
      "_view_name": "LayoutView",
      "align_content": null,
      "align_items": null,
      "align_self": null,
      "border": null,
      "bottom": null,
      "display": null,
      "flex": null,
      "flex_flow": null,
      "grid_area": null,
      "grid_auto_columns": null,
      "grid_auto_flow": null,
      "grid_auto_rows": null,
      "grid_column": null,
      "grid_gap": null,
      "grid_row": null,
      "grid_template_areas": null,
      "grid_template_columns": null,
      "grid_template_rows": null,
      "height": null,
      "justify_content": null,
      "justify_items": null,
      "left": null,
      "margin": null,
      "max_height": null,
      "max_width": null,
      "min_height": null,
      "min_width": null,
      "object_fit": null,
      "object_position": null,
      "order": null,
      "overflow": null,
      "overflow_x": null,
      "overflow_y": null,
      "padding": null,
      "right": null,
      "top": null,
      "visibility": null,
      "width": null
     }
    },
    "27f37b44917a4509a1e30bbb73a239ac": {
     "model_module": "@jupyter-widgets/base",
     "model_module_version": "1.2.0",
     "model_name": "LayoutModel",
     "state": {
      "_model_module": "@jupyter-widgets/base",
      "_model_module_version": "1.2.0",
      "_model_name": "LayoutModel",
      "_view_count": null,
      "_view_module": "@jupyter-widgets/base",
      "_view_module_version": "1.2.0",
      "_view_name": "LayoutView",
      "align_content": null,
      "align_items": null,
      "align_self": null,
      "border": null,
      "bottom": null,
      "display": null,
      "flex": null,
      "flex_flow": null,
      "grid_area": null,
      "grid_auto_columns": null,
      "grid_auto_flow": null,
      "grid_auto_rows": null,
      "grid_column": null,
      "grid_gap": null,
      "grid_row": null,
      "grid_template_areas": null,
      "grid_template_columns": null,
      "grid_template_rows": null,
      "height": null,
      "justify_content": null,
      "justify_items": null,
      "left": null,
      "margin": null,
      "max_height": null,
      "max_width": null,
      "min_height": null,
      "min_width": null,
      "object_fit": null,
      "object_position": null,
      "order": null,
      "overflow": null,
      "overflow_x": null,
      "overflow_y": null,
      "padding": null,
      "right": null,
      "top": null,
      "visibility": null,
      "width": null
     }
    },
    "2ca0a9db64c043a6828a4407abbe6afe": {
     "model_module": "@jupyter-widgets/controls",
     "model_module_version": "1.5.0",
     "model_name": "FloatProgressModel",
     "state": {
      "_dom_classes": [],
      "_model_module": "@jupyter-widgets/controls",
      "_model_module_version": "1.5.0",
      "_model_name": "FloatProgressModel",
      "_view_count": null,
      "_view_module": "@jupyter-widgets/controls",
      "_view_module_version": "1.5.0",
      "_view_name": "ProgressView",
      "bar_style": "success",
      "description": "",
      "description_tooltip": null,
      "layout": "IPY_MODEL_190662e5bf3f4613908bc3ed275d44d4",
      "max": 92,
      "min": 0,
      "orientation": "horizontal",
      "style": "IPY_MODEL_f42d38fb50314939ad7a46749ab9d815",
      "value": 92
     }
    },
    "2e3d25eaec15495fbf52c060f6223255": {
     "model_module": "@jupyter-widgets/base",
     "model_module_version": "1.2.0",
     "model_name": "LayoutModel",
     "state": {
      "_model_module": "@jupyter-widgets/base",
      "_model_module_version": "1.2.0",
      "_model_name": "LayoutModel",
      "_view_count": null,
      "_view_module": "@jupyter-widgets/base",
      "_view_module_version": "1.2.0",
      "_view_name": "LayoutView",
      "align_content": null,
      "align_items": null,
      "align_self": null,
      "border": null,
      "bottom": null,
      "display": null,
      "flex": null,
      "flex_flow": null,
      "grid_area": null,
      "grid_auto_columns": null,
      "grid_auto_flow": null,
      "grid_auto_rows": null,
      "grid_column": null,
      "grid_gap": null,
      "grid_row": null,
      "grid_template_areas": null,
      "grid_template_columns": null,
      "grid_template_rows": null,
      "height": null,
      "justify_content": null,
      "justify_items": null,
      "left": null,
      "margin": null,
      "max_height": null,
      "max_width": null,
      "min_height": null,
      "min_width": null,
      "object_fit": null,
      "object_position": null,
      "order": null,
      "overflow": null,
      "overflow_x": null,
      "overflow_y": null,
      "padding": null,
      "right": null,
      "top": null,
      "visibility": null,
      "width": null
     }
    },
    "30b785ad1ad4403b96157100e644963c": {
     "model_module": "@jupyter-widgets/controls",
     "model_module_version": "1.5.0",
     "model_name": "FloatProgressModel",
     "state": {
      "_dom_classes": [],
      "_model_module": "@jupyter-widgets/controls",
      "_model_module_version": "1.5.0",
      "_model_name": "FloatProgressModel",
      "_view_count": null,
      "_view_module": "@jupyter-widgets/controls",
      "_view_module_version": "1.5.0",
      "_view_name": "ProgressView",
      "bar_style": "success",
      "description": "",
      "description_tooltip": null,
      "layout": "IPY_MODEL_8d0a1dee23514d7b825ac6103d0d2f36",
      "max": 92,
      "min": 0,
      "orientation": "horizontal",
      "style": "IPY_MODEL_503c0ca637174076b37ff73fe40eadb1",
      "value": 92
     }
    },
    "323e3b283d274b378e24fda977f4fd26": {
     "model_module": "@jupyter-widgets/controls",
     "model_module_version": "1.5.0",
     "model_name": "HBoxModel",
     "state": {
      "_dom_classes": [],
      "_model_module": "@jupyter-widgets/controls",
      "_model_module_version": "1.5.0",
      "_model_name": "HBoxModel",
      "_view_count": null,
      "_view_module": "@jupyter-widgets/controls",
      "_view_module_version": "1.5.0",
      "_view_name": "HBoxView",
      "box_style": "",
      "children": [
       "IPY_MODEL_1010c610233840a8a79653956fa27461",
       "IPY_MODEL_8c3b5ee4bc81465797493620bc3bda89",
       "IPY_MODEL_90f9b17a71924f2da181f6a150abc5a7"
      ],
      "layout": "IPY_MODEL_27f37b44917a4509a1e30bbb73a239ac"
     }
    },
    "35e900ea768e4159be8a76b8b3d54d86": {
     "model_module": "@jupyter-widgets/base",
     "model_module_version": "1.2.0",
     "model_name": "LayoutModel",
     "state": {
      "_model_module": "@jupyter-widgets/base",
      "_model_module_version": "1.2.0",
      "_model_name": "LayoutModel",
      "_view_count": null,
      "_view_module": "@jupyter-widgets/base",
      "_view_module_version": "1.2.0",
      "_view_name": "LayoutView",
      "align_content": null,
      "align_items": null,
      "align_self": null,
      "border": null,
      "bottom": null,
      "display": null,
      "flex": null,
      "flex_flow": null,
      "grid_area": null,
      "grid_auto_columns": null,
      "grid_auto_flow": null,
      "grid_auto_rows": null,
      "grid_column": null,
      "grid_gap": null,
      "grid_row": null,
      "grid_template_areas": null,
      "grid_template_columns": null,
      "grid_template_rows": null,
      "height": null,
      "justify_content": null,
      "justify_items": null,
      "left": null,
      "margin": null,
      "max_height": null,
      "max_width": null,
      "min_height": null,
      "min_width": null,
      "object_fit": null,
      "object_position": null,
      "order": null,
      "overflow": null,
      "overflow_x": null,
      "overflow_y": null,
      "padding": null,
      "right": null,
      "top": null,
      "visibility": null,
      "width": null
     }
    },
    "35fdf23c102e41198bbcfd702b07d7f2": {
     "model_module": "@jupyter-widgets/base",
     "model_module_version": "1.2.0",
     "model_name": "LayoutModel",
     "state": {
      "_model_module": "@jupyter-widgets/base",
      "_model_module_version": "1.2.0",
      "_model_name": "LayoutModel",
      "_view_count": null,
      "_view_module": "@jupyter-widgets/base",
      "_view_module_version": "1.2.0",
      "_view_name": "LayoutView",
      "align_content": null,
      "align_items": null,
      "align_self": null,
      "border": null,
      "bottom": null,
      "display": null,
      "flex": null,
      "flex_flow": null,
      "grid_area": null,
      "grid_auto_columns": null,
      "grid_auto_flow": null,
      "grid_auto_rows": null,
      "grid_column": null,
      "grid_gap": null,
      "grid_row": null,
      "grid_template_areas": null,
      "grid_template_columns": null,
      "grid_template_rows": null,
      "height": null,
      "justify_content": null,
      "justify_items": null,
      "left": null,
      "margin": null,
      "max_height": null,
      "max_width": null,
      "min_height": null,
      "min_width": null,
      "object_fit": null,
      "object_position": null,
      "order": null,
      "overflow": null,
      "overflow_x": null,
      "overflow_y": null,
      "padding": null,
      "right": null,
      "top": null,
      "visibility": null,
      "width": null
     }
    },
    "39109f8322d94190b93ad25145077db3": {
     "model_module": "@jupyter-widgets/controls",
     "model_module_version": "1.5.0",
     "model_name": "HBoxModel",
     "state": {
      "_dom_classes": [],
      "_model_module": "@jupyter-widgets/controls",
      "_model_module_version": "1.5.0",
      "_model_name": "HBoxModel",
      "_view_count": null,
      "_view_module": "@jupyter-widgets/controls",
      "_view_module_version": "1.5.0",
      "_view_name": "HBoxView",
      "box_style": "",
      "children": [
       "IPY_MODEL_dbcaecb9f731440f94eae7215cb097a1",
       "IPY_MODEL_41a898668c2842559c6949d936817354",
       "IPY_MODEL_1c64d10bf9de4a558d64aafab20e8b71"
      ],
      "layout": "IPY_MODEL_132d36099ddb46d786bf79e0126a7e87"
     }
    },
    "40283d700d474407bef89172bd4f896e": {
     "model_module": "@jupyter-widgets/controls",
     "model_module_version": "1.5.0",
     "model_name": "DescriptionStyleModel",
     "state": {
      "_model_module": "@jupyter-widgets/controls",
      "_model_module_version": "1.5.0",
      "_model_name": "DescriptionStyleModel",
      "_view_count": null,
      "_view_module": "@jupyter-widgets/base",
      "_view_module_version": "1.2.0",
      "_view_name": "StyleView",
      "description_width": ""
     }
    },
    "41a898668c2842559c6949d936817354": {
     "model_module": "@jupyter-widgets/controls",
     "model_module_version": "1.5.0",
     "model_name": "FloatProgressModel",
     "state": {
      "_dom_classes": [],
      "_model_module": "@jupyter-widgets/controls",
      "_model_module_version": "1.5.0",
      "_model_name": "FloatProgressModel",
      "_view_count": null,
      "_view_module": "@jupyter-widgets/controls",
      "_view_module_version": "1.5.0",
      "_view_name": "ProgressView",
      "bar_style": "success",
      "description": "",
      "description_tooltip": null,
      "layout": "IPY_MODEL_f7be80beec754a8e832a5927d8ff0d64",
      "max": 92,
      "min": 0,
      "orientation": "horizontal",
      "style": "IPY_MODEL_b10b3d3711f443dc9ac9368f15789ab7",
      "value": 92
     }
    },
    "41ea96142f264c45a1492c0bcb070bc1": {
     "model_module": "@jupyter-widgets/controls",
     "model_module_version": "1.5.0",
     "model_name": "HTMLModel",
     "state": {
      "_dom_classes": [],
      "_model_module": "@jupyter-widgets/controls",
      "_model_module_version": "1.5.0",
      "_model_name": "HTMLModel",
      "_view_count": null,
      "_view_module": "@jupyter-widgets/controls",
      "_view_module_version": "1.5.0",
      "_view_name": "HTMLView",
      "description": "",
      "description_tooltip": null,
      "layout": "IPY_MODEL_5367703916dc486fa17e614d4b197eb5",
      "placeholder": "​",
      "style": "IPY_MODEL_a57773b6ac06447a9c683f467d25f8e5",
      "value": "100%"
     }
    },
    "4bc37fe9b8ee45fe9a09443eb827caec": {
     "model_module": "@jupyter-widgets/controls",
     "model_module_version": "1.5.0",
     "model_name": "HBoxModel",
     "state": {
      "_dom_classes": [],
      "_model_module": "@jupyter-widgets/controls",
      "_model_module_version": "1.5.0",
      "_model_name": "HBoxModel",
      "_view_count": null,
      "_view_module": "@jupyter-widgets/controls",
      "_view_module_version": "1.5.0",
      "_view_name": "HBoxView",
      "box_style": "",
      "children": [
       "IPY_MODEL_ea69c0cd370f40c19bcbb78d7cb7ff7f",
       "IPY_MODEL_5042e1e185b742f299d352fe875d2270",
       "IPY_MODEL_84163bb50e0f495386c805147f0c0060"
      ],
      "layout": "IPY_MODEL_63ca0ea9a7624e4da1f4ab6e734684a5"
     }
    },
    "503c0ca637174076b37ff73fe40eadb1": {
     "model_module": "@jupyter-widgets/controls",
     "model_module_version": "1.5.0",
     "model_name": "ProgressStyleModel",
     "state": {
      "_model_module": "@jupyter-widgets/controls",
      "_model_module_version": "1.5.0",
      "_model_name": "ProgressStyleModel",
      "_view_count": null,
      "_view_module": "@jupyter-widgets/base",
      "_view_module_version": "1.2.0",
      "_view_name": "StyleView",
      "bar_color": null,
      "description_width": ""
     }
    },
    "5042e1e185b742f299d352fe875d2270": {
     "model_module": "@jupyter-widgets/controls",
     "model_module_version": "1.5.0",
     "model_name": "FloatProgressModel",
     "state": {
      "_dom_classes": [],
      "_model_module": "@jupyter-widgets/controls",
      "_model_module_version": "1.5.0",
      "_model_name": "FloatProgressModel",
      "_view_count": null,
      "_view_module": "@jupyter-widgets/controls",
      "_view_module_version": "1.5.0",
      "_view_name": "ProgressView",
      "bar_style": "success",
      "description": "",
      "description_tooltip": null,
      "layout": "IPY_MODEL_c1d743c9712b4b6c88bc38661fa21055",
      "max": 92,
      "min": 0,
      "orientation": "horizontal",
      "style": "IPY_MODEL_cae96442cc3e4831a782661d8bd17fec",
      "value": 92
     }
    },
    "5367703916dc486fa17e614d4b197eb5": {
     "model_module": "@jupyter-widgets/base",
     "model_module_version": "1.2.0",
     "model_name": "LayoutModel",
     "state": {
      "_model_module": "@jupyter-widgets/base",
      "_model_module_version": "1.2.0",
      "_model_name": "LayoutModel",
      "_view_count": null,
      "_view_module": "@jupyter-widgets/base",
      "_view_module_version": "1.2.0",
      "_view_name": "LayoutView",
      "align_content": null,
      "align_items": null,
      "align_self": null,
      "border": null,
      "bottom": null,
      "display": null,
      "flex": null,
      "flex_flow": null,
      "grid_area": null,
      "grid_auto_columns": null,
      "grid_auto_flow": null,
      "grid_auto_rows": null,
      "grid_column": null,
      "grid_gap": null,
      "grid_row": null,
      "grid_template_areas": null,
      "grid_template_columns": null,
      "grid_template_rows": null,
      "height": null,
      "justify_content": null,
      "justify_items": null,
      "left": null,
      "margin": null,
      "max_height": null,
      "max_width": null,
      "min_height": null,
      "min_width": null,
      "object_fit": null,
      "object_position": null,
      "order": null,
      "overflow": null,
      "overflow_x": null,
      "overflow_y": null,
      "padding": null,
      "right": null,
      "top": null,
      "visibility": null,
      "width": null
     }
    },
    "58a12a3d32c848bc80d29cc24e5c5dd6": {
     "model_module": "@jupyter-widgets/controls",
     "model_module_version": "1.5.0",
     "model_name": "DescriptionStyleModel",
     "state": {
      "_model_module": "@jupyter-widgets/controls",
      "_model_module_version": "1.5.0",
      "_model_name": "DescriptionStyleModel",
      "_view_count": null,
      "_view_module": "@jupyter-widgets/base",
      "_view_module_version": "1.2.0",
      "_view_name": "StyleView",
      "description_width": ""
     }
    },
    "5bdd8b96d09049c89984092e3843430b": {
     "model_module": "@jupyter-widgets/base",
     "model_module_version": "1.2.0",
     "model_name": "LayoutModel",
     "state": {
      "_model_module": "@jupyter-widgets/base",
      "_model_module_version": "1.2.0",
      "_model_name": "LayoutModel",
      "_view_count": null,
      "_view_module": "@jupyter-widgets/base",
      "_view_module_version": "1.2.0",
      "_view_name": "LayoutView",
      "align_content": null,
      "align_items": null,
      "align_self": null,
      "border": null,
      "bottom": null,
      "display": null,
      "flex": null,
      "flex_flow": null,
      "grid_area": null,
      "grid_auto_columns": null,
      "grid_auto_flow": null,
      "grid_auto_rows": null,
      "grid_column": null,
      "grid_gap": null,
      "grid_row": null,
      "grid_template_areas": null,
      "grid_template_columns": null,
      "grid_template_rows": null,
      "height": null,
      "justify_content": null,
      "justify_items": null,
      "left": null,
      "margin": null,
      "max_height": null,
      "max_width": null,
      "min_height": null,
      "min_width": null,
      "object_fit": null,
      "object_position": null,
      "order": null,
      "overflow": null,
      "overflow_x": null,
      "overflow_y": null,
      "padding": null,
      "right": null,
      "top": null,
      "visibility": null,
      "width": null
     }
    },
    "614ac7404bc245c98f7075407c976dda": {
     "model_module": "@jupyter-widgets/controls",
     "model_module_version": "1.5.0",
     "model_name": "HBoxModel",
     "state": {
      "_dom_classes": [],
      "_model_module": "@jupyter-widgets/controls",
      "_model_module_version": "1.5.0",
      "_model_name": "HBoxModel",
      "_view_count": null,
      "_view_module": "@jupyter-widgets/controls",
      "_view_module_version": "1.5.0",
      "_view_name": "HBoxView",
      "box_style": "",
      "children": [
       "IPY_MODEL_91cf4270bc8c46af80beec4a96a09686",
       "IPY_MODEL_2ca0a9db64c043a6828a4407abbe6afe",
       "IPY_MODEL_ab8709597c1d40249fab6200573bf84e"
      ],
      "layout": "IPY_MODEL_7981c5832afd4d5e9a839aa00f46043c"
     }
    },
    "61babda7961a477f8f9ebacd0acca2c6": {
     "model_module": "@jupyter-widgets/controls",
     "model_module_version": "1.5.0",
     "model_name": "DescriptionStyleModel",
     "state": {
      "_model_module": "@jupyter-widgets/controls",
      "_model_module_version": "1.5.0",
      "_model_name": "DescriptionStyleModel",
      "_view_count": null,
      "_view_module": "@jupyter-widgets/base",
      "_view_module_version": "1.2.0",
      "_view_name": "StyleView",
      "description_width": ""
     }
    },
    "63ca0ea9a7624e4da1f4ab6e734684a5": {
     "model_module": "@jupyter-widgets/base",
     "model_module_version": "1.2.0",
     "model_name": "LayoutModel",
     "state": {
      "_model_module": "@jupyter-widgets/base",
      "_model_module_version": "1.2.0",
      "_model_name": "LayoutModel",
      "_view_count": null,
      "_view_module": "@jupyter-widgets/base",
      "_view_module_version": "1.2.0",
      "_view_name": "LayoutView",
      "align_content": null,
      "align_items": null,
      "align_self": null,
      "border": null,
      "bottom": null,
      "display": null,
      "flex": null,
      "flex_flow": null,
      "grid_area": null,
      "grid_auto_columns": null,
      "grid_auto_flow": null,
      "grid_auto_rows": null,
      "grid_column": null,
      "grid_gap": null,
      "grid_row": null,
      "grid_template_areas": null,
      "grid_template_columns": null,
      "grid_template_rows": null,
      "height": null,
      "justify_content": null,
      "justify_items": null,
      "left": null,
      "margin": null,
      "max_height": null,
      "max_width": null,
      "min_height": null,
      "min_width": null,
      "object_fit": null,
      "object_position": null,
      "order": null,
      "overflow": null,
      "overflow_x": null,
      "overflow_y": null,
      "padding": null,
      "right": null,
      "top": null,
      "visibility": null,
      "width": null
     }
    },
    "67fe25f3c0b746eea70d9a65fdf758ea": {
     "model_module": "@jupyter-widgets/base",
     "model_module_version": "1.2.0",
     "model_name": "LayoutModel",
     "state": {
      "_model_module": "@jupyter-widgets/base",
      "_model_module_version": "1.2.0",
      "_model_name": "LayoutModel",
      "_view_count": null,
      "_view_module": "@jupyter-widgets/base",
      "_view_module_version": "1.2.0",
      "_view_name": "LayoutView",
      "align_content": null,
      "align_items": null,
      "align_self": null,
      "border": null,
      "bottom": null,
      "display": null,
      "flex": null,
      "flex_flow": null,
      "grid_area": null,
      "grid_auto_columns": null,
      "grid_auto_flow": null,
      "grid_auto_rows": null,
      "grid_column": null,
      "grid_gap": null,
      "grid_row": null,
      "grid_template_areas": null,
      "grid_template_columns": null,
      "grid_template_rows": null,
      "height": null,
      "justify_content": null,
      "justify_items": null,
      "left": null,
      "margin": null,
      "max_height": null,
      "max_width": null,
      "min_height": null,
      "min_width": null,
      "object_fit": null,
      "object_position": null,
      "order": null,
      "overflow": null,
      "overflow_x": null,
      "overflow_y": null,
      "padding": null,
      "right": null,
      "top": null,
      "visibility": null,
      "width": null
     }
    },
    "6a132b16e29b4fe397089aed888d0bfd": {
     "model_module": "@jupyter-widgets/controls",
     "model_module_version": "1.5.0",
     "model_name": "DescriptionStyleModel",
     "state": {
      "_model_module": "@jupyter-widgets/controls",
      "_model_module_version": "1.5.0",
      "_model_name": "DescriptionStyleModel",
      "_view_count": null,
      "_view_module": "@jupyter-widgets/base",
      "_view_module_version": "1.2.0",
      "_view_name": "StyleView",
      "description_width": ""
     }
    },
    "6fe9b28cb41d46c9b0b9ff4512c8f1ed": {
     "model_module": "@jupyter-widgets/base",
     "model_module_version": "1.2.0",
     "model_name": "LayoutModel",
     "state": {
      "_model_module": "@jupyter-widgets/base",
      "_model_module_version": "1.2.0",
      "_model_name": "LayoutModel",
      "_view_count": null,
      "_view_module": "@jupyter-widgets/base",
      "_view_module_version": "1.2.0",
      "_view_name": "LayoutView",
      "align_content": null,
      "align_items": null,
      "align_self": null,
      "border": null,
      "bottom": null,
      "display": null,
      "flex": null,
      "flex_flow": null,
      "grid_area": null,
      "grid_auto_columns": null,
      "grid_auto_flow": null,
      "grid_auto_rows": null,
      "grid_column": null,
      "grid_gap": null,
      "grid_row": null,
      "grid_template_areas": null,
      "grid_template_columns": null,
      "grid_template_rows": null,
      "height": null,
      "justify_content": null,
      "justify_items": null,
      "left": null,
      "margin": null,
      "max_height": null,
      "max_width": null,
      "min_height": null,
      "min_width": null,
      "object_fit": null,
      "object_position": null,
      "order": null,
      "overflow": null,
      "overflow_x": null,
      "overflow_y": null,
      "padding": null,
      "right": null,
      "top": null,
      "visibility": null,
      "width": null
     }
    },
    "76c693f059644043ae0f295723c821b3": {
     "model_module": "@jupyter-widgets/base",
     "model_module_version": "1.2.0",
     "model_name": "LayoutModel",
     "state": {
      "_model_module": "@jupyter-widgets/base",
      "_model_module_version": "1.2.0",
      "_model_name": "LayoutModel",
      "_view_count": null,
      "_view_module": "@jupyter-widgets/base",
      "_view_module_version": "1.2.0",
      "_view_name": "LayoutView",
      "align_content": null,
      "align_items": null,
      "align_self": null,
      "border": null,
      "bottom": null,
      "display": null,
      "flex": null,
      "flex_flow": null,
      "grid_area": null,
      "grid_auto_columns": null,
      "grid_auto_flow": null,
      "grid_auto_rows": null,
      "grid_column": null,
      "grid_gap": null,
      "grid_row": null,
      "grid_template_areas": null,
      "grid_template_columns": null,
      "grid_template_rows": null,
      "height": null,
      "justify_content": null,
      "justify_items": null,
      "left": null,
      "margin": null,
      "max_height": null,
      "max_width": null,
      "min_height": null,
      "min_width": null,
      "object_fit": null,
      "object_position": null,
      "order": null,
      "overflow": null,
      "overflow_x": null,
      "overflow_y": null,
      "padding": null,
      "right": null,
      "top": null,
      "visibility": null,
      "width": null
     }
    },
    "7836dad4838449c1b6148cda95205857": {
     "model_module": "@jupyter-widgets/controls",
     "model_module_version": "1.5.0",
     "model_name": "ProgressStyleModel",
     "state": {
      "_model_module": "@jupyter-widgets/controls",
      "_model_module_version": "1.5.0",
      "_model_name": "ProgressStyleModel",
      "_view_count": null,
      "_view_module": "@jupyter-widgets/base",
      "_view_module_version": "1.2.0",
      "_view_name": "StyleView",
      "bar_color": null,
      "description_width": ""
     }
    },
    "7981c5832afd4d5e9a839aa00f46043c": {
     "model_module": "@jupyter-widgets/base",
     "model_module_version": "1.2.0",
     "model_name": "LayoutModel",
     "state": {
      "_model_module": "@jupyter-widgets/base",
      "_model_module_version": "1.2.0",
      "_model_name": "LayoutModel",
      "_view_count": null,
      "_view_module": "@jupyter-widgets/base",
      "_view_module_version": "1.2.0",
      "_view_name": "LayoutView",
      "align_content": null,
      "align_items": null,
      "align_self": null,
      "border": null,
      "bottom": null,
      "display": null,
      "flex": null,
      "flex_flow": null,
      "grid_area": null,
      "grid_auto_columns": null,
      "grid_auto_flow": null,
      "grid_auto_rows": null,
      "grid_column": null,
      "grid_gap": null,
      "grid_row": null,
      "grid_template_areas": null,
      "grid_template_columns": null,
      "grid_template_rows": null,
      "height": null,
      "justify_content": null,
      "justify_items": null,
      "left": null,
      "margin": null,
      "max_height": null,
      "max_width": null,
      "min_height": null,
      "min_width": null,
      "object_fit": null,
      "object_position": null,
      "order": null,
      "overflow": null,
      "overflow_x": null,
      "overflow_y": null,
      "padding": null,
      "right": null,
      "top": null,
      "visibility": null,
      "width": null
     }
    },
    "84163bb50e0f495386c805147f0c0060": {
     "model_module": "@jupyter-widgets/controls",
     "model_module_version": "1.5.0",
     "model_name": "HTMLModel",
     "state": {
      "_dom_classes": [],
      "_model_module": "@jupyter-widgets/controls",
      "_model_module_version": "1.5.0",
      "_model_name": "HTMLModel",
      "_view_count": null,
      "_view_module": "@jupyter-widgets/controls",
      "_view_module_version": "1.5.0",
      "_view_name": "HTMLView",
      "description": "",
      "description_tooltip": null,
      "layout": "IPY_MODEL_6fe9b28cb41d46c9b0b9ff4512c8f1ed",
      "placeholder": "​",
      "style": "IPY_MODEL_40283d700d474407bef89172bd4f896e",
      "value": " 92/92 [00:02&lt;00:00, 40.82it/s]"
     }
    },
    "85a8148acce4449b86a7c515f637f0a4": {
     "model_module": "@jupyter-widgets/base",
     "model_module_version": "1.2.0",
     "model_name": "LayoutModel",
     "state": {
      "_model_module": "@jupyter-widgets/base",
      "_model_module_version": "1.2.0",
      "_model_name": "LayoutModel",
      "_view_count": null,
      "_view_module": "@jupyter-widgets/base",
      "_view_module_version": "1.2.0",
      "_view_name": "LayoutView",
      "align_content": null,
      "align_items": null,
      "align_self": null,
      "border": null,
      "bottom": null,
      "display": null,
      "flex": null,
      "flex_flow": null,
      "grid_area": null,
      "grid_auto_columns": null,
      "grid_auto_flow": null,
      "grid_auto_rows": null,
      "grid_column": null,
      "grid_gap": null,
      "grid_row": null,
      "grid_template_areas": null,
      "grid_template_columns": null,
      "grid_template_rows": null,
      "height": null,
      "justify_content": null,
      "justify_items": null,
      "left": null,
      "margin": null,
      "max_height": null,
      "max_width": null,
      "min_height": null,
      "min_width": null,
      "object_fit": null,
      "object_position": null,
      "order": null,
      "overflow": null,
      "overflow_x": null,
      "overflow_y": null,
      "padding": null,
      "right": null,
      "top": null,
      "visibility": null,
      "width": null
     }
    },
    "8c3b5ee4bc81465797493620bc3bda89": {
     "model_module": "@jupyter-widgets/controls",
     "model_module_version": "1.5.0",
     "model_name": "FloatProgressModel",
     "state": {
      "_dom_classes": [],
      "_model_module": "@jupyter-widgets/controls",
      "_model_module_version": "1.5.0",
      "_model_name": "FloatProgressModel",
      "_view_count": null,
      "_view_module": "@jupyter-widgets/controls",
      "_view_module_version": "1.5.0",
      "_view_name": "ProgressView",
      "bar_style": "success",
      "description": "",
      "description_tooltip": null,
      "layout": "IPY_MODEL_76c693f059644043ae0f295723c821b3",
      "max": 92,
      "min": 0,
      "orientation": "horizontal",
      "style": "IPY_MODEL_7836dad4838449c1b6148cda95205857",
      "value": 92
     }
    },
    "8d0a1dee23514d7b825ac6103d0d2f36": {
     "model_module": "@jupyter-widgets/base",
     "model_module_version": "1.2.0",
     "model_name": "LayoutModel",
     "state": {
      "_model_module": "@jupyter-widgets/base",
      "_model_module_version": "1.2.0",
      "_model_name": "LayoutModel",
      "_view_count": null,
      "_view_module": "@jupyter-widgets/base",
      "_view_module_version": "1.2.0",
      "_view_name": "LayoutView",
      "align_content": null,
      "align_items": null,
      "align_self": null,
      "border": null,
      "bottom": null,
      "display": null,
      "flex": null,
      "flex_flow": null,
      "grid_area": null,
      "grid_auto_columns": null,
      "grid_auto_flow": null,
      "grid_auto_rows": null,
      "grid_column": null,
      "grid_gap": null,
      "grid_row": null,
      "grid_template_areas": null,
      "grid_template_columns": null,
      "grid_template_rows": null,
      "height": null,
      "justify_content": null,
      "justify_items": null,
      "left": null,
      "margin": null,
      "max_height": null,
      "max_width": null,
      "min_height": null,
      "min_width": null,
      "object_fit": null,
      "object_position": null,
      "order": null,
      "overflow": null,
      "overflow_x": null,
      "overflow_y": null,
      "padding": null,
      "right": null,
      "top": null,
      "visibility": null,
      "width": null
     }
    },
    "90f9b17a71924f2da181f6a150abc5a7": {
     "model_module": "@jupyter-widgets/controls",
     "model_module_version": "1.5.0",
     "model_name": "HTMLModel",
     "state": {
      "_dom_classes": [],
      "_model_module": "@jupyter-widgets/controls",
      "_model_module_version": "1.5.0",
      "_model_name": "HTMLModel",
      "_view_count": null,
      "_view_module": "@jupyter-widgets/controls",
      "_view_module_version": "1.5.0",
      "_view_name": "HTMLView",
      "description": "",
      "description_tooltip": null,
      "layout": "IPY_MODEL_1f18527718bc400487a6e003dde9eb29",
      "placeholder": "​",
      "style": "IPY_MODEL_1730495fa200407085084415b653176c",
      "value": " 92/92 [00:04&lt;00:00, 20.25it/s]"
     }
    },
    "91cf4270bc8c46af80beec4a96a09686": {
     "model_module": "@jupyter-widgets/controls",
     "model_module_version": "1.5.0",
     "model_name": "HTMLModel",
     "state": {
      "_dom_classes": [],
      "_model_module": "@jupyter-widgets/controls",
      "_model_module_version": "1.5.0",
      "_model_name": "HTMLModel",
      "_view_count": null,
      "_view_module": "@jupyter-widgets/controls",
      "_view_module_version": "1.5.0",
      "_view_name": "HTMLView",
      "description": "",
      "description_tooltip": null,
      "layout": "IPY_MODEL_5bdd8b96d09049c89984092e3843430b",
      "placeholder": "​",
      "style": "IPY_MODEL_a3b0fd9435684ccd99eba4aeea97e8cf",
      "value": "100%"
     }
    },
    "95a37aa022ac4c42823a03ed94fcb7e0": {
     "model_module": "@jupyter-widgets/controls",
     "model_module_version": "1.5.0",
     "model_name": "DescriptionStyleModel",
     "state": {
      "_model_module": "@jupyter-widgets/controls",
      "_model_module_version": "1.5.0",
      "_model_name": "DescriptionStyleModel",
      "_view_count": null,
      "_view_module": "@jupyter-widgets/base",
      "_view_module_version": "1.2.0",
      "_view_name": "StyleView",
      "description_width": ""
     }
    },
    "9d12e307b2e04ae4b331dca4a9101392": {
     "model_module": "@jupyter-widgets/controls",
     "model_module_version": "1.5.0",
     "model_name": "DescriptionStyleModel",
     "state": {
      "_model_module": "@jupyter-widgets/controls",
      "_model_module_version": "1.5.0",
      "_model_name": "DescriptionStyleModel",
      "_view_count": null,
      "_view_module": "@jupyter-widgets/base",
      "_view_module_version": "1.2.0",
      "_view_name": "StyleView",
      "description_width": ""
     }
    },
    "a3b0fd9435684ccd99eba4aeea97e8cf": {
     "model_module": "@jupyter-widgets/controls",
     "model_module_version": "1.5.0",
     "model_name": "DescriptionStyleModel",
     "state": {
      "_model_module": "@jupyter-widgets/controls",
      "_model_module_version": "1.5.0",
      "_model_name": "DescriptionStyleModel",
      "_view_count": null,
      "_view_module": "@jupyter-widgets/base",
      "_view_module_version": "1.2.0",
      "_view_name": "StyleView",
      "description_width": ""
     }
    },
    "a57773b6ac06447a9c683f467d25f8e5": {
     "model_module": "@jupyter-widgets/controls",
     "model_module_version": "1.5.0",
     "model_name": "DescriptionStyleModel",
     "state": {
      "_model_module": "@jupyter-widgets/controls",
      "_model_module_version": "1.5.0",
      "_model_name": "DescriptionStyleModel",
      "_view_count": null,
      "_view_module": "@jupyter-widgets/base",
      "_view_module_version": "1.2.0",
      "_view_name": "StyleView",
      "description_width": ""
     }
    },
    "a935dbbe17a14625912d10729cf3a6f5": {
     "model_module": "@jupyter-widgets/base",
     "model_module_version": "1.2.0",
     "model_name": "LayoutModel",
     "state": {
      "_model_module": "@jupyter-widgets/base",
      "_model_module_version": "1.2.0",
      "_model_name": "LayoutModel",
      "_view_count": null,
      "_view_module": "@jupyter-widgets/base",
      "_view_module_version": "1.2.0",
      "_view_name": "LayoutView",
      "align_content": null,
      "align_items": null,
      "align_self": null,
      "border": null,
      "bottom": null,
      "display": null,
      "flex": null,
      "flex_flow": null,
      "grid_area": null,
      "grid_auto_columns": null,
      "grid_auto_flow": null,
      "grid_auto_rows": null,
      "grid_column": null,
      "grid_gap": null,
      "grid_row": null,
      "grid_template_areas": null,
      "grid_template_columns": null,
      "grid_template_rows": null,
      "height": null,
      "justify_content": null,
      "justify_items": null,
      "left": null,
      "margin": null,
      "max_height": null,
      "max_width": null,
      "min_height": null,
      "min_width": null,
      "object_fit": null,
      "object_position": null,
      "order": null,
      "overflow": null,
      "overflow_x": null,
      "overflow_y": null,
      "padding": null,
      "right": null,
      "top": null,
      "visibility": null,
      "width": null
     }
    },
    "ab8709597c1d40249fab6200573bf84e": {
     "model_module": "@jupyter-widgets/controls",
     "model_module_version": "1.5.0",
     "model_name": "HTMLModel",
     "state": {
      "_dom_classes": [],
      "_model_module": "@jupyter-widgets/controls",
      "_model_module_version": "1.5.0",
      "_model_name": "HTMLModel",
      "_view_count": null,
      "_view_module": "@jupyter-widgets/controls",
      "_view_module_version": "1.5.0",
      "_view_name": "HTMLView",
      "description": "",
      "description_tooltip": null,
      "layout": "IPY_MODEL_35fdf23c102e41198bbcfd702b07d7f2",
      "placeholder": "​",
      "style": "IPY_MODEL_6a132b16e29b4fe397089aed888d0bfd",
      "value": " 92/92 [00:07&lt;00:00, 12.36it/s]"
     }
    },
    "b10b3d3711f443dc9ac9368f15789ab7": {
     "model_module": "@jupyter-widgets/controls",
     "model_module_version": "1.5.0",
     "model_name": "ProgressStyleModel",
     "state": {
      "_model_module": "@jupyter-widgets/controls",
      "_model_module_version": "1.5.0",
      "_model_name": "ProgressStyleModel",
      "_view_count": null,
      "_view_module": "@jupyter-widgets/base",
      "_view_module_version": "1.2.0",
      "_view_name": "StyleView",
      "bar_color": null,
      "description_width": ""
     }
    },
    "ba1a01c9a74541318aed6dfb940dfc0e": {
     "model_module": "@jupyter-widgets/controls",
     "model_module_version": "1.5.0",
     "model_name": "HBoxModel",
     "state": {
      "_dom_classes": [],
      "_model_module": "@jupyter-widgets/controls",
      "_model_module_version": "1.5.0",
      "_model_name": "HBoxModel",
      "_view_count": null,
      "_view_module": "@jupyter-widgets/controls",
      "_view_module_version": "1.5.0",
      "_view_name": "HBoxView",
      "box_style": "",
      "children": [
       "IPY_MODEL_41ea96142f264c45a1492c0bcb070bc1",
       "IPY_MODEL_14eb294976e94fcbaa7804ac77b289ed",
       "IPY_MODEL_10e9ad5da6c04e4f9f8f93d2afe073cf"
      ],
      "layout": "IPY_MODEL_2e3d25eaec15495fbf52c060f6223255"
     }
    },
    "c1d743c9712b4b6c88bc38661fa21055": {
     "model_module": "@jupyter-widgets/base",
     "model_module_version": "1.2.0",
     "model_name": "LayoutModel",
     "state": {
      "_model_module": "@jupyter-widgets/base",
      "_model_module_version": "1.2.0",
      "_model_name": "LayoutModel",
      "_view_count": null,
      "_view_module": "@jupyter-widgets/base",
      "_view_module_version": "1.2.0",
      "_view_name": "LayoutView",
      "align_content": null,
      "align_items": null,
      "align_self": null,
      "border": null,
      "bottom": null,
      "display": null,
      "flex": null,
      "flex_flow": null,
      "grid_area": null,
      "grid_auto_columns": null,
      "grid_auto_flow": null,
      "grid_auto_rows": null,
      "grid_column": null,
      "grid_gap": null,
      "grid_row": null,
      "grid_template_areas": null,
      "grid_template_columns": null,
      "grid_template_rows": null,
      "height": null,
      "justify_content": null,
      "justify_items": null,
      "left": null,
      "margin": null,
      "max_height": null,
      "max_width": null,
      "min_height": null,
      "min_width": null,
      "object_fit": null,
      "object_position": null,
      "order": null,
      "overflow": null,
      "overflow_x": null,
      "overflow_y": null,
      "padding": null,
      "right": null,
      "top": null,
      "visibility": null,
      "width": null
     }
    },
    "c527738b55a0407491dd817452f45186": {
     "model_module": "@jupyter-widgets/base",
     "model_module_version": "1.2.0",
     "model_name": "LayoutModel",
     "state": {
      "_model_module": "@jupyter-widgets/base",
      "_model_module_version": "1.2.0",
      "_model_name": "LayoutModel",
      "_view_count": null,
      "_view_module": "@jupyter-widgets/base",
      "_view_module_version": "1.2.0",
      "_view_name": "LayoutView",
      "align_content": null,
      "align_items": null,
      "align_self": null,
      "border": null,
      "bottom": null,
      "display": null,
      "flex": null,
      "flex_flow": null,
      "grid_area": null,
      "grid_auto_columns": null,
      "grid_auto_flow": null,
      "grid_auto_rows": null,
      "grid_column": null,
      "grid_gap": null,
      "grid_row": null,
      "grid_template_areas": null,
      "grid_template_columns": null,
      "grid_template_rows": null,
      "height": null,
      "justify_content": null,
      "justify_items": null,
      "left": null,
      "margin": null,
      "max_height": null,
      "max_width": null,
      "min_height": null,
      "min_width": null,
      "object_fit": null,
      "object_position": null,
      "order": null,
      "overflow": null,
      "overflow_x": null,
      "overflow_y": null,
      "padding": null,
      "right": null,
      "top": null,
      "visibility": null,
      "width": null
     }
    },
    "c5c7d6086a294bc8bd939d425500e2aa": {
     "model_module": "@jupyter-widgets/controls",
     "model_module_version": "1.5.0",
     "model_name": "DescriptionStyleModel",
     "state": {
      "_model_module": "@jupyter-widgets/controls",
      "_model_module_version": "1.5.0",
      "_model_name": "DescriptionStyleModel",
      "_view_count": null,
      "_view_module": "@jupyter-widgets/base",
      "_view_module_version": "1.2.0",
      "_view_name": "StyleView",
      "description_width": ""
     }
    },
    "cae96442cc3e4831a782661d8bd17fec": {
     "model_module": "@jupyter-widgets/controls",
     "model_module_version": "1.5.0",
     "model_name": "ProgressStyleModel",
     "state": {
      "_model_module": "@jupyter-widgets/controls",
      "_model_module_version": "1.5.0",
      "_model_name": "ProgressStyleModel",
      "_view_count": null,
      "_view_module": "@jupyter-widgets/base",
      "_view_module_version": "1.2.0",
      "_view_name": "StyleView",
      "bar_color": null,
      "description_width": ""
     }
    },
    "cea8ded2f626415a99b89cea34853bcd": {
     "model_module": "@jupyter-widgets/controls",
     "model_module_version": "1.5.0",
     "model_name": "ProgressStyleModel",
     "state": {
      "_model_module": "@jupyter-widgets/controls",
      "_model_module_version": "1.5.0",
      "_model_name": "ProgressStyleModel",
      "_view_count": null,
      "_view_module": "@jupyter-widgets/base",
      "_view_module_version": "1.2.0",
      "_view_name": "StyleView",
      "bar_color": null,
      "description_width": ""
     }
    },
    "d77e1a3da4b14a8b9baadcb589abb4c8": {
     "model_module": "@jupyter-widgets/controls",
     "model_module_version": "1.5.0",
     "model_name": "HTMLModel",
     "state": {
      "_dom_classes": [],
      "_model_module": "@jupyter-widgets/controls",
      "_model_module_version": "1.5.0",
      "_model_name": "HTMLModel",
      "_view_count": null,
      "_view_module": "@jupyter-widgets/controls",
      "_view_module_version": "1.5.0",
      "_view_name": "HTMLView",
      "description": "",
      "description_tooltip": null,
      "layout": "IPY_MODEL_85a8148acce4449b86a7c515f637f0a4",
      "placeholder": "​",
      "style": "IPY_MODEL_61babda7961a477f8f9ebacd0acca2c6",
      "value": "100%"
     }
    },
    "dbcaecb9f731440f94eae7215cb097a1": {
     "model_module": "@jupyter-widgets/controls",
     "model_module_version": "1.5.0",
     "model_name": "HTMLModel",
     "state": {
      "_dom_classes": [],
      "_model_module": "@jupyter-widgets/controls",
      "_model_module_version": "1.5.0",
      "_model_name": "HTMLModel",
      "_view_count": null,
      "_view_module": "@jupyter-widgets/controls",
      "_view_module_version": "1.5.0",
      "_view_name": "HTMLView",
      "description": "",
      "description_tooltip": null,
      "layout": "IPY_MODEL_67fe25f3c0b746eea70d9a65fdf758ea",
      "placeholder": "​",
      "style": "IPY_MODEL_deebd27121bf41a3837f96694a440db7",
      "value": "100%"
     }
    },
    "deebd27121bf41a3837f96694a440db7": {
     "model_module": "@jupyter-widgets/controls",
     "model_module_version": "1.5.0",
     "model_name": "DescriptionStyleModel",
     "state": {
      "_model_module": "@jupyter-widgets/controls",
      "_model_module_version": "1.5.0",
      "_model_name": "DescriptionStyleModel",
      "_view_count": null,
      "_view_module": "@jupyter-widgets/base",
      "_view_module_version": "1.2.0",
      "_view_name": "StyleView",
      "description_width": ""
     }
    },
    "df16f671e9dc4eb2970b0005ba426e29": {
     "model_module": "@jupyter-widgets/controls",
     "model_module_version": "1.5.0",
     "model_name": "DescriptionStyleModel",
     "state": {
      "_model_module": "@jupyter-widgets/controls",
      "_model_module_version": "1.5.0",
      "_model_name": "DescriptionStyleModel",
      "_view_count": null,
      "_view_module": "@jupyter-widgets/base",
      "_view_module_version": "1.2.0",
      "_view_name": "StyleView",
      "description_width": ""
     }
    },
    "ea69c0cd370f40c19bcbb78d7cb7ff7f": {
     "model_module": "@jupyter-widgets/controls",
     "model_module_version": "1.5.0",
     "model_name": "HTMLModel",
     "state": {
      "_dom_classes": [],
      "_model_module": "@jupyter-widgets/controls",
      "_model_module_version": "1.5.0",
      "_model_name": "HTMLModel",
      "_view_count": null,
      "_view_module": "@jupyter-widgets/controls",
      "_view_module_version": "1.5.0",
      "_view_name": "HTMLView",
      "description": "",
      "description_tooltip": null,
      "layout": "IPY_MODEL_063a1c5294264d3eb51ec207ca2f49ed",
      "placeholder": "​",
      "style": "IPY_MODEL_58a12a3d32c848bc80d29cc24e5c5dd6",
      "value": "100%"
     }
    },
    "ed9a0fcf92f14902aa51dca7e2c775f0": {
     "model_module": "@jupyter-widgets/base",
     "model_module_version": "1.2.0",
     "model_name": "LayoutModel",
     "state": {
      "_model_module": "@jupyter-widgets/base",
      "_model_module_version": "1.2.0",
      "_model_name": "LayoutModel",
      "_view_count": null,
      "_view_module": "@jupyter-widgets/base",
      "_view_module_version": "1.2.0",
      "_view_name": "LayoutView",
      "align_content": null,
      "align_items": null,
      "align_self": null,
      "border": null,
      "bottom": null,
      "display": null,
      "flex": null,
      "flex_flow": null,
      "grid_area": null,
      "grid_auto_columns": null,
      "grid_auto_flow": null,
      "grid_auto_rows": null,
      "grid_column": null,
      "grid_gap": null,
      "grid_row": null,
      "grid_template_areas": null,
      "grid_template_columns": null,
      "grid_template_rows": null,
      "height": null,
      "justify_content": null,
      "justify_items": null,
      "left": null,
      "margin": null,
      "max_height": null,
      "max_width": null,
      "min_height": null,
      "min_width": null,
      "object_fit": null,
      "object_position": null,
      "order": null,
      "overflow": null,
      "overflow_x": null,
      "overflow_y": null,
      "padding": null,
      "right": null,
      "top": null,
      "visibility": null,
      "width": null
     }
    },
    "f42d38fb50314939ad7a46749ab9d815": {
     "model_module": "@jupyter-widgets/controls",
     "model_module_version": "1.5.0",
     "model_name": "ProgressStyleModel",
     "state": {
      "_model_module": "@jupyter-widgets/controls",
      "_model_module_version": "1.5.0",
      "_model_name": "ProgressStyleModel",
      "_view_count": null,
      "_view_module": "@jupyter-widgets/base",
      "_view_module_version": "1.2.0",
      "_view_name": "StyleView",
      "bar_color": null,
      "description_width": ""
     }
    },
    "f7be80beec754a8e832a5927d8ff0d64": {
     "model_module": "@jupyter-widgets/base",
     "model_module_version": "1.2.0",
     "model_name": "LayoutModel",
     "state": {
      "_model_module": "@jupyter-widgets/base",
      "_model_module_version": "1.2.0",
      "_model_name": "LayoutModel",
      "_view_count": null,
      "_view_module": "@jupyter-widgets/base",
      "_view_module_version": "1.2.0",
      "_view_name": "LayoutView",
      "align_content": null,
      "align_items": null,
      "align_self": null,
      "border": null,
      "bottom": null,
      "display": null,
      "flex": null,
      "flex_flow": null,
      "grid_area": null,
      "grid_auto_columns": null,
      "grid_auto_flow": null,
      "grid_auto_rows": null,
      "grid_column": null,
      "grid_gap": null,
      "grid_row": null,
      "grid_template_areas": null,
      "grid_template_columns": null,
      "grid_template_rows": null,
      "height": null,
      "justify_content": null,
      "justify_items": null,
      "left": null,
      "margin": null,
      "max_height": null,
      "max_width": null,
      "min_height": null,
      "min_width": null,
      "object_fit": null,
      "object_position": null,
      "order": null,
      "overflow": null,
      "overflow_x": null,
      "overflow_y": null,
      "padding": null,
      "right": null,
      "top": null,
      "visibility": null,
      "width": null
     }
    },
    "fd7a56d6d9204ba5ab7baf1e44085afa": {
     "model_module": "@jupyter-widgets/base",
     "model_module_version": "1.2.0",
     "model_name": "LayoutModel",
     "state": {
      "_model_module": "@jupyter-widgets/base",
      "_model_module_version": "1.2.0",
      "_model_name": "LayoutModel",
      "_view_count": null,
      "_view_module": "@jupyter-widgets/base",
      "_view_module_version": "1.2.0",
      "_view_name": "LayoutView",
      "align_content": null,
      "align_items": null,
      "align_self": null,
      "border": null,
      "bottom": null,
      "display": null,
      "flex": null,
      "flex_flow": null,
      "grid_area": null,
      "grid_auto_columns": null,
      "grid_auto_flow": null,
      "grid_auto_rows": null,
      "grid_column": null,
      "grid_gap": null,
      "grid_row": null,
      "grid_template_areas": null,
      "grid_template_columns": null,
      "grid_template_rows": null,
      "height": null,
      "justify_content": null,
      "justify_items": null,
      "left": null,
      "margin": null,
      "max_height": null,
      "max_width": null,
      "min_height": null,
      "min_width": null,
      "object_fit": null,
      "object_position": null,
      "order": null,
      "overflow": null,
      "overflow_x": null,
      "overflow_y": null,
      "padding": null,
      "right": null,
      "top": null,
      "visibility": null,
      "width": null
     }
    }
   }
  }
 },
 "nbformat": 4,
 "nbformat_minor": 5
}
