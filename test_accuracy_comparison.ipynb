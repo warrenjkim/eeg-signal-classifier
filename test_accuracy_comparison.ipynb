{
 "cells": [
  {
   "cell_type": "code",
   "execution_count": 1,
   "metadata": {
    "id": "y6ejfdT5z-M0"
   },
   "outputs": [],
   "source": [
    "import os\n",
    "os.environ['PYTORCH_CUDA_ALLOC_CONF'] = 'expandable_segments:True'"
   ]
  },
  {
   "cell_type": "code",
   "execution_count": 2,
   "metadata": {
    "id": "lzMgL71f0NOI"
   },
   "outputs": [],
   "source": [
    "import numpy as np\n",
    "import matplotlib.pyplot as plt\n",
    "\n",
    "import torch\n",
    "import torch.nn as nn\n",
    "import torch.nn.functional as F\n",
    "from torch.utils.data import TensorDataset, DataLoader, random_split\n",
    "import torchvision\n",
    "from torchvision.transforms import v2\n",
    "from tqdm.notebook import tqdm\n",
    "\n",
    "import torchinfo\n",
    "import optuna\n",
    "\n",
    "import time\n",
    "import gc"
   ]
  },
  {
   "cell_type": "code",
   "execution_count": 3,
   "metadata": {
    "colab": {
     "base_uri": "https://localhost:8080/"
    },
    "id": "tQlpNubv0OdF",
    "outputId": "bdb82928-9c59-40f4-e1da-8398050cd3a2"
   },
   "outputs": [
    {
     "name": "stdout",
     "output_type": "stream",
     "text": [
      "Using cuda\n"
     ]
    }
   ],
   "source": [
    "if torch.cuda.is_available():\n",
    "  device = torch.device('cuda')\n",
    "elif torch.backends.mps.is_available():\n",
    "  device = torch.device('mps')\n",
    "else:\n",
    "  device = torch.device('cpu')\n",
    "\n",
    "print(\"Using\", device)"
   ]
  },
  {
   "cell_type": "markdown",
   "metadata": {
    "id": "00nTmQnnAMuX"
   },
   "source": [
    "# train_model and test_model functions"
   ]
  },
  {
   "cell_type": "code",
   "execution_count": 4,
   "metadata": {
    "id": "TcTJYri83jmb"
   },
   "outputs": [],
   "source": [
    "# ==============================================================================\n",
    "# START OF test_model()\n",
    "# ==============================================================================\n",
    "def test_model(model,\n",
    "               test_loader,\n",
    "               device=torch.device('cuda' if torch.cuda.is_available() else 'mps' if torch.backends.mps.is_available() else 'cpu'),\n",
    "               name=''):\n",
    "    model.eval()\n",
    "    with torch.no_grad():\n",
    "        test_count = 0\n",
    "        test_correct_count = 0\n",
    "\n",
    "        for _, (test_x, test_y) in enumerate(test_loader):\n",
    "            test_x = test_x.float().to(device)\n",
    "            test_y = test_y.long().to(device)\n",
    "\n",
    "            logits = model(test_x).detach()\n",
    "            y_hat = torch.argmax(logits, dim=-1)\n",
    "\n",
    "            test_correct_count += torch.sum(y_hat == test_y, axis=-1)\n",
    "            test_count += test_x.size(0)\n",
    "\n",
    "        test_acc = test_correct_count / test_count\n",
    "        print(name, 'Test acc: {:.3f}'.format(test_acc))\n",
    "# ==============================================================================\n",
    "# END OF test_model()\n",
    "# =============================================================================="
   ]
  },
  {
   "cell_type": "markdown",
   "metadata": {
    "id": "GO5bOfs9_8Lh"
   },
   "source": [
    "# data_prep function"
   ]
  },
  {
   "cell_type": "code",
   "execution_count": 5,
   "metadata": {
    "id": "GuYaLtI03bqZ"
   },
   "outputs": [],
   "source": [
    "def data_prep(X,y,sub_sample,average,noise,channel_dropout,time_reverse):\n",
    "\n",
    "    total_X = None\n",
    "    total_y = None\n",
    "    X = X[:,:,0:800]\n",
    "    print('Shape of X after trimming:',X.shape)\n",
    "\n",
    "    X_max, _ = torch.max(X.view(X.size(0), X.size(1), -1, sub_sample), axis=3)\n",
    "\n",
    "\n",
    "    total_X = X_max\n",
    "    total_y = y\n",
    "    print('Shape of X after maxpooling:',total_X.shape)\n",
    "\n",
    "    X_average = torch.mean(X.view(X.size(0), X.size(1), -1, average), axis=3)\n",
    "    X_average = X_average + torch.normal(0.0, 0.5, X_average.shape)\n",
    "\n",
    "    total_X = torch.cat((total_X, X_average), dim=0)\n",
    "    total_y = torch.cat((total_y, y))\n",
    "    print('Shape of X after averaging+noise and concatenating:',total_X.shape)\n",
    "\n",
    "    for i in range(sub_sample):\n",
    "\n",
    "        X_subsample = X[:, :, i::sub_sample] + \\\n",
    "                            (torch.normal(0.0, 0.5, X[:, :,i::sub_sample].shape) if noise else 0.0)\n",
    "\n",
    "        total_X = torch.cat((total_X, X_subsample), dim=0)\n",
    "        print(total_y.view(-1,1).shape)\n",
    "        print(y.view(-1,1).shape)\n",
    "        total_y = torch.cat((total_y, y))\n",
    "\n",
    "    print('Shape of X after subsampling and concatenating:',total_X.shape)\n",
    "    print('Shape of Y:',total_y.shape)\n",
    "\n",
    "    if channel_dropout != 0:\n",
    "        mask = (torch.rand(total_X.shape[0], total_X.shape[1]) >= channel_dropout).unsqueeze(2)\n",
    "        X_dropout = mask * total_X\n",
    "        total_X = torch.cat((total_X, X_dropout))\n",
    "        total_y = torch.cat((total_y, total_y))\n",
    "\n",
    "        print(f'Shape of X after channel dropout {total_X.shape}')\n",
    "        print(f'Shape of Y: {total_y.shape}')\n",
    "\n",
    "    if time_reverse != 0:\n",
    "        mask = (torch.rand(total_X.shape[0]) >= time_reverse)\n",
    "        X_reverse = torch.flip((total_X[mask]), [2])\n",
    "        total_X = torch.cat((total_X, X_reverse))\n",
    "        total_y = torch.cat((total_y, total_y[mask]))\n",
    "\n",
    "        print(f'Shape of X after reverse {total_X.shape}')\n",
    "        print(f'Shape of Y: {total_y.shape}')\n",
    "\n",
    "\n",
    "    return total_X,total_y\n",
    "    return total_X,total_y\n",
    "\n",
    "\n",
    "def test_data_prep(X):\n",
    "\n",
    "    total_X = None\n",
    "\n",
    "    X = X[:,:,0:800]\n",
    "    print('Shape of X after trimming:', X.shape)\n",
    "    X_max, _ = torch.max(X.view(X.size(0), X.size(1), -1, 2), axis=3)\n",
    "\n",
    "    total_X = X_max\n",
    "    print('Shape of X after maxpooling:',total_X.shape)\n",
    "\n",
    "    return total_X"
   ]
  },
  {
   "cell_type": "markdown",
   "metadata": {
    "id": "dA3-yAUeAVB7"
   },
   "source": [
    "# load data"
   ]
  },
  {
   "cell_type": "code",
   "execution_count": 6,
   "metadata": {
    "colab": {
     "base_uri": "https://localhost:8080/"
    },
    "id": "TmG9_4vZ0RWz",
    "outputId": "6bbb9566-0fd4-4559-8244-ab4cdc176dd7"
   },
   "outputs": [
    {
     "name": "stdout",
     "output_type": "stream",
     "text": [
      "---all data---\n",
      "X_test shape\t\t (443, 22, 1000)\n",
      "y_test shape\t\t (443,)\n",
      "person_test shape\t (443, 1)\n",
      "X_train_valid shape\t (2115, 22, 1000)\n",
      "y_train_valid shape\t (2115,)\n",
      "person_train_valid shape (2115, 1)\n",
      "\n"
     ]
    }
   ],
   "source": [
    "## Loading the dataset\n",
    "X_test = np.load(\"./project_data/X_test.npy\")\n",
    "y_test = np.load(\"./project_data/y_test.npy\")-769\n",
    "person_test = np.load(\"./project_data/person_test.npy\")\n",
    "X_train_valid = np.load(\"./project_data/X_train_valid.npy\")\n",
    "y_train_valid = np.load(\"./project_data/y_train_valid.npy\")-769\n",
    "person_train_valid = np.load(\"./project_data/person_train_valid.npy\")\n",
    "print(\"---all data---\")\n",
    "print(\"X_test shape\\t\\t\", X_test.shape)\n",
    "print(\"y_test shape\\t\\t\", y_test.shape)\n",
    "print(\"person_test shape\\t\", person_test.shape)\n",
    "print(\"X_train_valid shape\\t\", X_train_valid.shape)\n",
    "print(\"y_train_valid shape\\t\", y_train_valid.shape)\n",
    "print(\"person_train_valid shape\", person_train_valid.shape)\n",
    "print()"
   ]
  },
  {
   "cell_type": "markdown",
   "metadata": {
    "id": "yceUYe3u-76_"
   },
   "source": [
    "# select data (or subset of data)"
   ]
  },
  {
   "cell_type": "code",
   "execution_count": 7,
   "metadata": {
    "colab": {
     "base_uri": "https://localhost:8080/"
    },
    "id": "pNkAWQQo0THk",
    "outputId": "e74a80d0-8d8a-4d71-d6f1-8f49508ab652"
   },
   "outputs": [
    {
     "name": "stdout",
     "output_type": "stream",
     "text": [
      "---after isolating subjects---\n",
      "X_test shape\t\t (50, 22, 1000)\n",
      "y_test shape\t\t (50,)\n",
      "X_train_valid shape\t (237, 22, 1000)\n",
      "y_train_valid shape\t (237,)\n"
     ]
    }
   ],
   "source": [
    "# subjects is to load a subset of the data for a particular subject\n",
    "# subjects = [0, 1, 2, 3, 4, 5, 6, 7, 8] #use 0-8 for subjects 1-9\n",
    "subjects = [0] #use 0-8 for subjects 1-9\n",
    "\n",
    "X_test_subs = np.empty((0, X_test.shape[1], X_test.shape[2]))\n",
    "y_test_subs = np.empty((0))\n",
    "X_train_valid_subs = np.empty((0, X_train_valid.shape[1], X_train_valid.shape[2]))\n",
    "y_train_valid_subs = np.empty((0))\n",
    "\n",
    "for i in subjects:\n",
    "  sub = i\n",
    "  X_test_subs = np.concatenate( (X_test_subs, X_test[np.where(person_test == sub)[0],:,:] ))\n",
    "  y_test_subs = np.concatenate( (y_test_subs, y_test[np.where(person_test == sub)[0]] ))\n",
    "  X_train_valid_subs = np.concatenate(( X_train_valid_subs, X_train_valid[np.where(person_train_valid == sub)[0], :, :] ))\n",
    "  y_train_valid_subs = np.concatenate(( y_train_valid_subs, y_train_valid[np.where(person_train_valid == sub)[0]] ))\n",
    "\n",
    "X_test = X_test_subs\n",
    "y_test = y_test_subs\n",
    "X_train_valid = X_train_valid_subs\n",
    "y_train_valid = y_train_valid_subs\n",
    "print(\"---after isolating subjects---\")\n",
    "print(\"X_test shape\\t\\t\", X_test.shape)\n",
    "print(\"y_test shape\\t\\t\", y_test.shape)\n",
    "print(\"X_train_valid shape\\t\", X_train_valid.shape)\n",
    "print(\"y_train_valid shape\\t\", y_train_valid.shape)"
   ]
  },
  {
   "cell_type": "code",
   "execution_count": 8,
   "metadata": {
    "colab": {
     "base_uri": "https://localhost:8080/"
    },
    "id": "dGMJUhSi4NKP",
    "outputId": "cacec330-e4fb-4eb5-8629-87c529f9f7f4"
   },
   "outputs": [
    {
     "name": "stdout",
     "output_type": "stream",
     "text": [
      "SOME torch.Size([237, 22, 1000])\n",
      "Prepping Training Data\n",
      "Shape of X after trimming: torch.Size([213, 22, 800])\n",
      "Shape of X after maxpooling: torch.Size([213, 22, 400])\n",
      "Shape of X after averaging+noise and concatenating: torch.Size([426, 22, 400])\n",
      "torch.Size([426, 1])\n",
      "torch.Size([213, 1])\n",
      "torch.Size([639, 1])\n",
      "torch.Size([213, 1])\n",
      "Shape of X after subsampling and concatenating: torch.Size([852, 22, 400])\n",
      "Shape of Y: torch.Size([852])\n",
      "Shape of X after channel dropout torch.Size([1704, 22, 400])\n",
      "Shape of Y: torch.Size([1704])\n",
      "Shape of X after reverse torch.Size([2042, 22, 400])\n",
      "Shape of Y: torch.Size([2042])\n",
      "\n",
      "Prepping Validation Data\n",
      "Shape of X after trimming: torch.Size([24, 22, 800])\n",
      "Shape of X after maxpooling: torch.Size([24, 22, 400])\n",
      "Shape of X after averaging+noise and concatenating: torch.Size([48, 22, 400])\n",
      "torch.Size([48, 1])\n",
      "torch.Size([24, 1])\n",
      "torch.Size([72, 1])\n",
      "torch.Size([24, 1])\n",
      "Shape of X after subsampling and concatenating: torch.Size([96, 22, 400])\n",
      "Shape of Y: torch.Size([96])\n",
      "Shape of X after channel dropout torch.Size([192, 22, 400])\n",
      "Shape of Y: torch.Size([192])\n",
      "Shape of X after reverse torch.Size([223, 22, 400])\n",
      "Shape of Y: torch.Size([223])\n",
      "\n",
      "Prepping Test Data\n",
      "Shape of X after trimming: torch.Size([50, 22, 800])\n",
      "Shape of X after maxpooling: torch.Size([50, 22, 400])\n",
      "\n",
      "FINISHED PREP\n",
      "\n",
      "Final shape of training set: torch.Size([2042, 22, 400])\n",
      "Final shape of validation set: torch.Size([223, 22, 400])\n",
      "Final shape of test set: torch.Size([50, 22, 400])\n"
     ]
    }
   ],
   "source": [
    "input_size = 22\n",
    "hidden_size = 256\n",
    "num_layers = 10\n",
    "num_classes = 4\n",
    "learning_rate = 1e-4\n",
    "batch_size = 200\n",
    "num_epochs = 100\n",
    "dropout = 0.3\n",
    "\n",
    "folds = 10\n",
    "split_seed = 1\n",
    "subsample = 2\n",
    "average = 2\n",
    "channel_dropout = 0.2\n",
    "time_reverse = 0.8\n",
    "noise = True\n",
    "\n",
    "X_train_valid = torch.Tensor(X_train_valid)\n",
    "y_train_valid = torch.Tensor(y_train_valid)\n",
    "\n",
    "print(f'SOME {X_train_valid.shape}')\n",
    "indices = torch.randperm(X_train_valid.shape[0])\n",
    "#print(indices)\n",
    "split_idx = int(X_train_valid.shape[0] * ((folds-1)/folds))\n",
    "#print(split_idx)\n",
    "X_train, X_valid = X_train_valid[indices[:split_idx]], X_train_valid[indices[split_idx:]]\n",
    "y_train, y_valid = y_train_valid[indices[:split_idx]], y_train_valid[indices[split_idx:]]\n",
    "X_test, y_test = torch.Tensor(X_test), torch.Tensor(y_test)\n",
    "\n",
    "\n",
    "print('Prepping Training Data')\n",
    "X_train, y_train = data_prep(X_train, y_train, subsample, average, noise, channel_dropout, time_reverse)\n",
    "print('\\nPrepping Validation Data')\n",
    "X_valid, y_valid = data_prep(X_valid, y_valid, subsample, average, noise, channel_dropout, time_reverse)\n",
    "print('\\nPrepping Test Data')\n",
    "X_test = test_data_prep(X_test)\n",
    "print('\\nFINISHED PREP\\n')\n",
    "\n",
    "print('Final shape of training set:', X_train.shape)\n",
    "print('Final shape of validation set:', X_valid.shape)\n",
    "print('Final shape of test set:', X_test.shape)\n",
    "\n",
    "train_loader = DataLoader(TensorDataset(X_train, y_train), batch_size=batch_size, shuffle=True)\n",
    "val_loader = DataLoader(TensorDataset(X_valid, y_valid), batch_size=batch_size, shuffle=False)\n",
    "test_loader = DataLoader(TensorDataset(X_test, y_test), batch_size=batch_size, shuffle=False)"
   ]
  },
  {
   "cell_type": "markdown",
   "metadata": {
    "id": "EC4L-7pqz-sR"
   },
   "source": [
    "# **No Augment Models**"
   ]
  },
  {
   "cell_type": "code",
   "execution_count": 9,
   "metadata": {
    "colab": {
     "base_uri": "https://localhost:8080/"
    },
    "id": "OJamWc8Z0sTm",
    "outputId": "20517e08-d873-426b-e742-baba38ed9176"
   },
   "outputs": [
    {
     "data": {
      "text/plain": [
       "CNN(\n",
       "  (conv1): Sequential(\n",
       "    (0): Conv1d(22, 25, kernel_size=(5,), stride=(1,))\n",
       "    (1): ReLU()\n",
       "    (2): BatchNorm1d(25, eps=1e-05, momentum=0.1, affine=True, track_running_stats=True)\n",
       "    (3): Dropout(p=0.3647999634687216, inplace=False)\n",
       "  )\n",
       "  (conv2): Sequential(\n",
       "    (0): Conv2d(25, 50, kernel_size=(1, 25), stride=(1, 1))\n",
       "    (1): ELU(alpha=1.0)\n",
       "    (2): BatchNorm2d(50, eps=1e-05, momentum=0.1, affine=True, track_running_stats=True)\n",
       "    (3): MaxPool2d(kernel_size=(1, 3), stride=(1, 3), padding=0, dilation=1, ceil_mode=False)\n",
       "    (4): Dropout(p=0.3647999634687216, inplace=False)\n",
       "  )\n",
       "  (conv3): Sequential(\n",
       "    (0): Conv1d(50, 100, kernel_size=(6,), stride=(1,))\n",
       "    (1): ELU(alpha=1.0)\n",
       "    (2): BatchNorm1d(100, eps=1e-05, momentum=0.1, affine=True, track_running_stats=True)\n",
       "    (3): MaxPool1d(kernel_size=3, stride=3, padding=0, dilation=1, ceil_mode=False)\n",
       "    (4): Dropout(p=0.3647999634687216, inplace=False)\n",
       "  )\n",
       "  (conv4): Sequential(\n",
       "    (0): Conv1d(100, 405, kernel_size=(5,), stride=(1,))\n",
       "    (1): ELU(alpha=1.0)\n",
       "    (2): BatchNorm1d(405, eps=1e-05, momentum=0.1, affine=True, track_running_stats=True)\n",
       "    (3): MaxPool1d(kernel_size=3, stride=3, padding=0, dilation=1, ceil_mode=False)\n",
       "    (4): Dropout(p=0.3647999634687216, inplace=False)\n",
       "  )\n",
       "  (dense): Linear(in_features=4455, out_features=4, bias=True)\n",
       ")"
      ]
     },
     "execution_count": 9,
     "metadata": {},
     "output_type": "execute_result"
    }
   ],
   "source": [
    "cnn_model = torch.load('./results-no-augment/cnn', map_location=torch.device('cuda'))\n",
    "cnn_model.eval()"
   ]
  },
  {
   "cell_type": "code",
   "execution_count": 10,
   "metadata": {
    "colab": {
     "base_uri": "https://localhost:8080/"
    },
    "id": "bsNHdxw105wo",
    "outputId": "7eca30c1-e647-4f1f-8c8f-a5dc7d92417d"
   },
   "outputs": [
    {
     "data": {
      "text/plain": [
       "CGRU(\n",
       "  (conv1): Sequential(\n",
       "    (0): Conv1d(22, 25, kernel_size=(5,), stride=(1,))\n",
       "    (1): ReLU()\n",
       "    (2): BatchNorm1d(25, eps=1e-05, momentum=0.1, affine=True, track_running_stats=True)\n",
       "    (3): Dropout(p=0.3647999634687216, inplace=False)\n",
       "  )\n",
       "  (conv2): Sequential(\n",
       "    (0): Conv2d(25, 50, kernel_size=(1, 25), stride=(1, 1))\n",
       "    (1): ELU(alpha=1.0)\n",
       "    (2): BatchNorm2d(50, eps=1e-05, momentum=0.1, affine=True, track_running_stats=True)\n",
       "    (3): MaxPool2d(kernel_size=(1, 3), stride=(1, 3), padding=0, dilation=1, ceil_mode=False)\n",
       "    (4): Dropout(p=0.3647999634687216, inplace=False)\n",
       "  )\n",
       "  (conv3): Sequential(\n",
       "    (0): Conv1d(50, 100, kernel_size=(6,), stride=(1,))\n",
       "    (1): ELU(alpha=1.0)\n",
       "    (2): BatchNorm1d(100, eps=1e-05, momentum=0.1, affine=True, track_running_stats=True)\n",
       "    (3): MaxPool1d(kernel_size=3, stride=3, padding=0, dilation=1, ceil_mode=False)\n",
       "    (4): Dropout(p=0.3647999634687216, inplace=False)\n",
       "  )\n",
       "  (conv4): Sequential(\n",
       "    (0): Conv1d(100, 405, kernel_size=(5,), stride=(1,))\n",
       "    (1): ELU(alpha=1.0)\n",
       "    (2): BatchNorm1d(405, eps=1e-05, momentum=0.1, affine=True, track_running_stats=True)\n",
       "    (3): MaxPool1d(kernel_size=3, stride=3, padding=0, dilation=1, ceil_mode=False)\n",
       "    (4): Dropout(p=0.3647999634687216, inplace=False)\n",
       "  )\n",
       "  (linear): Sequential(\n",
       "    (0): Linear(in_features=4455, out_features=200, bias=True)\n",
       "    (1): ReLU()\n",
       "    (2): BatchNorm1d(200, eps=1e-05, momentum=0.1, affine=True, track_running_stats=True)\n",
       "    (3): Dropout(p=0.3647999634687216, inplace=False)\n",
       "  )\n",
       "  (gru): GRU(200, 100, num_layers=2, batch_first=True, bidirectional=True)\n",
       "  (dense): Linear(in_features=200, out_features=4, bias=True)\n",
       ")"
      ]
     },
     "execution_count": 10,
     "metadata": {},
     "output_type": "execute_result"
    }
   ],
   "source": [
    "cnngru_model = torch.load('./results-no-augment/cgru', map_location=torch.device('cuda'))\n",
    "cnngru_model.eval()"
   ]
  },
  {
   "cell_type": "code",
   "execution_count": 11,
   "metadata": {
    "colab": {
     "base_uri": "https://localhost:8080/"
    },
    "id": "mAQahhBt071J",
    "outputId": "eae55b83-0d43-4647-e7c8-6fe3f7abf638"
   },
   "outputs": [
    {
     "data": {
      "text/plain": [
       "CLSTM(\n",
       "  (conv1): Sequential(\n",
       "    (0): Conv1d(22, 25, kernel_size=(5,), stride=(1,))\n",
       "    (1): ReLU()\n",
       "    (2): BatchNorm1d(25, eps=1e-05, momentum=0.1, affine=True, track_running_stats=True)\n",
       "    (3): Dropout(p=0.3647999634687216, inplace=False)\n",
       "  )\n",
       "  (conv2): Sequential(\n",
       "    (0): Conv2d(25, 50, kernel_size=(1, 25), stride=(1, 1))\n",
       "    (1): ELU(alpha=1.0)\n",
       "    (2): BatchNorm2d(50, eps=1e-05, momentum=0.1, affine=True, track_running_stats=True)\n",
       "    (3): MaxPool2d(kernel_size=(1, 3), stride=(1, 3), padding=0, dilation=1, ceil_mode=False)\n",
       "    (4): Dropout(p=0.3647999634687216, inplace=False)\n",
       "  )\n",
       "  (conv3): Sequential(\n",
       "    (0): Conv1d(50, 100, kernel_size=(6,), stride=(1,))\n",
       "    (1): ELU(alpha=1.0)\n",
       "    (2): BatchNorm1d(100, eps=1e-05, momentum=0.1, affine=True, track_running_stats=True)\n",
       "    (3): MaxPool1d(kernel_size=3, stride=3, padding=0, dilation=1, ceil_mode=False)\n",
       "    (4): Dropout(p=0.3647999634687216, inplace=False)\n",
       "  )\n",
       "  (conv4): Sequential(\n",
       "    (0): Conv1d(100, 405, kernel_size=(5,), stride=(1,))\n",
       "    (1): ELU(alpha=1.0)\n",
       "    (2): BatchNorm1d(405, eps=1e-05, momentum=0.1, affine=True, track_running_stats=True)\n",
       "    (3): MaxPool1d(kernel_size=3, stride=3, padding=0, dilation=1, ceil_mode=False)\n",
       "    (4): Dropout(p=0.3647999634687216, inplace=False)\n",
       "  )\n",
       "  (linear): Sequential(\n",
       "    (0): Linear(in_features=4455, out_features=200, bias=True)\n",
       "    (1): ReLU()\n",
       "    (2): BatchNorm1d(200, eps=1e-05, momentum=0.1, affine=True, track_running_stats=True)\n",
       "    (3): Dropout(p=0.3647999634687216, inplace=False)\n",
       "  )\n",
       "  (lstm): LSTM(200, 100, num_layers=2, batch_first=True, bidirectional=True)\n",
       "  (dense): Linear(in_features=200, out_features=4, bias=True)\n",
       ")"
      ]
     },
     "execution_count": 11,
     "metadata": {},
     "output_type": "execute_result"
    }
   ],
   "source": [
    "cnnlstm_model = torch.load('./results-no-augment/clstm', map_location=torch.device('cuda'))\n",
    "cnnlstm_model.eval()"
   ]
  },
  {
   "cell_type": "code",
   "execution_count": 12,
   "metadata": {
    "colab": {
     "base_uri": "https://localhost:8080/"
    },
    "id": "iFqUwsqN0-Bm",
    "outputId": "3249df88-adb4-484f-e6bd-fe5227365d3a"
   },
   "outputs": [
    {
     "data": {
      "text/plain": [
       "LSTM_LSTM(\n",
       "  (lstm1): LSTM(22, 64, num_layers=2, batch_first=True, bidirectional=True)\n",
       "  (lstm2): LSTM(128, 64, num_layers=2, batch_first=True, bidirectional=True)\n",
       "  (linear): Linear(in_features=128, out_features=54, bias=True)\n",
       "  (fc): Sequential(\n",
       "    (0): Linear(in_features=54, out_features=44, bias=True)\n",
       "    (1): BatchNorm1d(44, eps=1e-05, momentum=0.2, affine=True, track_running_stats=True)\n",
       "    (2): ReLU(inplace=True)\n",
       "    (3): Linear(in_features=44, out_features=4, bias=True)\n",
       "  )\n",
       ")"
      ]
     },
     "execution_count": 12,
     "metadata": {},
     "output_type": "execute_result"
    }
   ],
   "source": [
    "lstm_model = torch.load('./results-no-augment/llstm', map_location=torch.device('cuda'))\n",
    "lstm_model.eval()"
   ]
  },
  {
   "cell_type": "code",
   "execution_count": 13,
   "metadata": {
    "colab": {
     "base_uri": "https://localhost:8080/"
    },
    "id": "rgcecyFA0_sJ",
    "outputId": "cae0f28d-46c4-4664-a704-ea61ea16463c"
   },
   "outputs": [
    {
     "data": {
      "text/plain": [
       "GRU(\n",
       "  (gru): GRU(22, 64, num_layers=3, dropout=0.5, bidirectional=True)\n",
       "  (linear): Linear(in_features=128, out_features=54, bias=True)\n",
       "  (fc): Sequential(\n",
       "    (0): Linear(in_features=54, out_features=44, bias=True)\n",
       "    (1): BatchNorm1d(44, eps=1e-05, momentum=0.2, affine=True, track_running_stats=True)\n",
       "    (2): ReLU(inplace=True)\n",
       "    (3): Linear(in_features=44, out_features=4, bias=True)\n",
       "  )\n",
       ")"
      ]
     },
     "execution_count": 13,
     "metadata": {},
     "output_type": "execute_result"
    }
   ],
   "source": [
    "gru_model = torch.load('./results-no-augment/gru', map_location=torch.device('cuda'))\n",
    "gru_model.eval()"
   ]
  },
  {
   "cell_type": "code",
   "execution_count": 14,
   "metadata": {
    "colab": {
     "base_uri": "https://localhost:8080/"
    },
    "id": "d2cOH_3U1ClZ",
    "outputId": "8a12b0bc-d763-4afa-a447-f25f915bdd45",
    "scrolled": true
   },
   "outputs": [
    {
     "data": {
      "text/plain": [
       "CTransformer(\n",
       "  (conv1): Sequential(\n",
       "    (0): Conv1d(22, 25, kernel_size=(5,), stride=(1,))\n",
       "    (1): ReLU()\n",
       "    (2): BatchNorm1d(25, eps=1e-05, momentum=0.1, affine=True, track_running_stats=True)\n",
       "    (3): Dropout(p=0.3647999634687216, inplace=False)\n",
       "  )\n",
       "  (conv2): Sequential(\n",
       "    (0): Conv2d(25, 200, kernel_size=(1, 25), stride=(1, 1))\n",
       "    (1): ELU(alpha=1.0)\n",
       "    (2): BatchNorm2d(200, eps=1e-05, momentum=0.1, affine=True, track_running_stats=True)\n",
       "    (3): MaxPool2d(kernel_size=(1, 3), stride=(1, 3), padding=0, dilation=1, ceil_mode=False)\n",
       "    (4): Dropout(p=0.3647999634687216, inplace=False)\n",
       "  )\n",
       "  (flatten): Flatten(start_dim=2, end_dim=-1)\n",
       "  (encoding): Positional(\n",
       "    (dropout): Dropout(p=0.2, inplace=False)\n",
       "  )\n",
       "  (transformer_encoder): TransformerEncoder(\n",
       "    (layers): ModuleList(\n",
       "      (0-2): 3 x TransformerEncoderLayer(\n",
       "        (self_attn): MultiheadAttention(\n",
       "          (out_proj): NonDynamicallyQuantizableLinear(in_features=200, out_features=200, bias=True)\n",
       "        )\n",
       "        (linear1): Linear(in_features=200, out_features=256, bias=True)\n",
       "        (dropout): Dropout(p=0.2, inplace=False)\n",
       "        (linear2): Linear(in_features=256, out_features=200, bias=True)\n",
       "        (norm1): LayerNorm((200,), eps=1e-05, elementwise_affine=True)\n",
       "        (norm2): LayerNorm((200,), eps=1e-05, elementwise_affine=True)\n",
       "        (dropout1): Dropout(p=0.2, inplace=False)\n",
       "        (dropout2): Dropout(p=0.2, inplace=False)\n",
       "      )\n",
       "    )\n",
       "  )\n",
       "  (dense): Linear(in_features=200, out_features=4, bias=True)\n",
       ")"
      ]
     },
     "execution_count": 14,
     "metadata": {},
     "output_type": "execute_result"
    }
   ],
   "source": [
    "shallowcnn_model = torch.load('./results-no-augment/ctransformer', map_location=torch.device('cuda'))\n",
    "shallowcnn_model.eval()"
   ]
  },
  {
   "cell_type": "markdown",
   "metadata": {
    "id": "RIjHCYCG1U0Y"
   },
   "source": [
    "# **No Augment Comparison**"
   ]
  },
  {
   "cell_type": "code",
   "execution_count": 15,
   "metadata": {
    "colab": {
     "base_uri": "https://localhost:8080/"
    },
    "id": "OvR49sIZ1UFk",
    "outputId": "931ab529-9035-41e2-b121-36422bae669f"
   },
   "outputs": [
    {
     "name": "stdout",
     "output_type": "stream",
     "text": [
      "cnn Test acc: 0.780\n"
     ]
    }
   ],
   "source": [
    "test_model(cnn_model, test_loader,name=\"cnn\")"
   ]
  },
  {
   "cell_type": "code",
   "execution_count": 16,
   "metadata": {
    "colab": {
     "base_uri": "https://localhost:8080/"
    },
    "id": "OvR49sIZ1UFk",
    "outputId": "931ab529-9035-41e2-b121-36422bae669f"
   },
   "outputs": [
    {
     "name": "stdout",
     "output_type": "stream",
     "text": [
      "cgru Test acc: 0.600\n"
     ]
    }
   ],
   "source": [
    "test_model(cnngru_model, test_loader,name=\"cgru\")"
   ]
  },
  {
   "cell_type": "code",
   "execution_count": 17,
   "metadata": {
    "colab": {
     "base_uri": "https://localhost:8080/"
    },
    "id": "OvR49sIZ1UFk",
    "outputId": "931ab529-9035-41e2-b121-36422bae669f"
   },
   "outputs": [
    {
     "name": "stdout",
     "output_type": "stream",
     "text": [
      "clstm Test acc: 0.660\n"
     ]
    }
   ],
   "source": [
    "test_model(cnnlstm_model, test_loader,name=\"clstm\")"
   ]
  },
  {
   "cell_type": "code",
   "execution_count": 18,
   "metadata": {
    "colab": {
     "base_uri": "https://localhost:8080/"
    },
    "id": "OvR49sIZ1UFk",
    "outputId": "931ab529-9035-41e2-b121-36422bae669f"
   },
   "outputs": [
    {
     "name": "stdout",
     "output_type": "stream",
     "text": [
      "llstm Test acc: 0.360\n"
     ]
    }
   ],
   "source": [
    "test_model(lstm_model, test_loader,name=\"llstm\")"
   ]
  },
  {
   "cell_type": "code",
   "execution_count": 19,
   "metadata": {
    "colab": {
     "base_uri": "https://localhost:8080/"
    },
    "id": "OvR49sIZ1UFk",
    "outputId": "931ab529-9035-41e2-b121-36422bae669f",
    "scrolled": true
   },
   "outputs": [
    {
     "name": "stdout",
     "output_type": "stream",
     "text": [
      "ctransformer Test acc: 0.660\n"
     ]
    }
   ],
   "source": [
    "test_model(shallowcnn_model, test_loader,name=\"ctransformer\")"
   ]
  },
  {
   "cell_type": "markdown",
   "metadata": {
    "id": "EC4L-7pqz-sR",
    "jp-MarkdownHeadingCollapsed": true
   },
   "source": [
    "# **No Augment Models**"
   ]
  },
  {
   "cell_type": "code",
   "execution_count": 20,
   "metadata": {
    "colab": {
     "base_uri": "https://localhost:8080/"
    },
    "id": "OJamWc8Z0sTm",
    "outputId": "20517e08-d873-426b-e742-baba38ed9176"
   },
   "outputs": [
    {
     "data": {
      "text/plain": [
       "CNN(\n",
       "  (conv1): Sequential(\n",
       "    (0): Conv1d(22, 25, kernel_size=(5,), stride=(1,))\n",
       "    (1): ReLU()\n",
       "    (2): BatchNorm1d(25, eps=1e-05, momentum=0.1, affine=True, track_running_stats=True)\n",
       "    (3): Dropout(p=0.3647999634687216, inplace=False)\n",
       "  )\n",
       "  (conv2): Sequential(\n",
       "    (0): Conv2d(25, 50, kernel_size=(1, 25), stride=(1, 1))\n",
       "    (1): ELU(alpha=1.0)\n",
       "    (2): BatchNorm2d(50, eps=1e-05, momentum=0.1, affine=True, track_running_stats=True)\n",
       "    (3): MaxPool2d(kernel_size=(1, 3), stride=(1, 3), padding=0, dilation=1, ceil_mode=False)\n",
       "    (4): Dropout(p=0.3647999634687216, inplace=False)\n",
       "  )\n",
       "  (conv3): Sequential(\n",
       "    (0): Conv1d(50, 100, kernel_size=(6,), stride=(1,))\n",
       "    (1): ELU(alpha=1.0)\n",
       "    (2): BatchNorm1d(100, eps=1e-05, momentum=0.1, affine=True, track_running_stats=True)\n",
       "    (3): MaxPool1d(kernel_size=3, stride=3, padding=0, dilation=1, ceil_mode=False)\n",
       "    (4): Dropout(p=0.3647999634687216, inplace=False)\n",
       "  )\n",
       "  (conv4): Sequential(\n",
       "    (0): Conv1d(100, 405, kernel_size=(5,), stride=(1,))\n",
       "    (1): ELU(alpha=1.0)\n",
       "    (2): BatchNorm1d(405, eps=1e-05, momentum=0.1, affine=True, track_running_stats=True)\n",
       "    (3): MaxPool1d(kernel_size=3, stride=3, padding=0, dilation=1, ceil_mode=False)\n",
       "    (4): Dropout(p=0.3647999634687216, inplace=False)\n",
       "  )\n",
       "  (dense): Linear(in_features=4455, out_features=4, bias=True)\n",
       ")"
      ]
     },
     "execution_count": 20,
     "metadata": {},
     "output_type": "execute_result"
    }
   ],
   "source": [
    "cnn_model = torch.load('./results-augment/cnn', map_location=torch.device('cuda'))\n",
    "cnn_model.eval()"
   ]
  },
  {
   "cell_type": "code",
   "execution_count": 21,
   "metadata": {
    "colab": {
     "base_uri": "https://localhost:8080/"
    },
    "id": "bsNHdxw105wo",
    "outputId": "7eca30c1-e647-4f1f-8c8f-a5dc7d92417d"
   },
   "outputs": [
    {
     "data": {
      "text/plain": [
       "CGRU(\n",
       "  (conv1): Sequential(\n",
       "    (0): Conv1d(22, 25, kernel_size=(5,), stride=(1,))\n",
       "    (1): ReLU()\n",
       "    (2): BatchNorm1d(25, eps=1e-05, momentum=0.1, affine=True, track_running_stats=True)\n",
       "    (3): Dropout(p=0.3647999634687216, inplace=False)\n",
       "  )\n",
       "  (conv2): Sequential(\n",
       "    (0): Conv2d(25, 50, kernel_size=(1, 25), stride=(1, 1))\n",
       "    (1): ELU(alpha=1.0)\n",
       "    (2): BatchNorm2d(50, eps=1e-05, momentum=0.1, affine=True, track_running_stats=True)\n",
       "    (3): MaxPool2d(kernel_size=(1, 3), stride=(1, 3), padding=0, dilation=1, ceil_mode=False)\n",
       "    (4): Dropout(p=0.3647999634687216, inplace=False)\n",
       "  )\n",
       "  (conv3): Sequential(\n",
       "    (0): Conv1d(50, 100, kernel_size=(6,), stride=(1,))\n",
       "    (1): ELU(alpha=1.0)\n",
       "    (2): BatchNorm1d(100, eps=1e-05, momentum=0.1, affine=True, track_running_stats=True)\n",
       "    (3): MaxPool1d(kernel_size=3, stride=3, padding=0, dilation=1, ceil_mode=False)\n",
       "    (4): Dropout(p=0.3647999634687216, inplace=False)\n",
       "  )\n",
       "  (conv4): Sequential(\n",
       "    (0): Conv1d(100, 405, kernel_size=(5,), stride=(1,))\n",
       "    (1): ELU(alpha=1.0)\n",
       "    (2): BatchNorm1d(405, eps=1e-05, momentum=0.1, affine=True, track_running_stats=True)\n",
       "    (3): MaxPool1d(kernel_size=3, stride=3, padding=0, dilation=1, ceil_mode=False)\n",
       "    (4): Dropout(p=0.3647999634687216, inplace=False)\n",
       "  )\n",
       "  (linear): Sequential(\n",
       "    (0): Linear(in_features=4455, out_features=200, bias=True)\n",
       "    (1): ReLU()\n",
       "    (2): BatchNorm1d(200, eps=1e-05, momentum=0.1, affine=True, track_running_stats=True)\n",
       "    (3): Dropout(p=0.3647999634687216, inplace=False)\n",
       "  )\n",
       "  (gru): GRU(200, 100, num_layers=2, batch_first=True, bidirectional=True)\n",
       "  (dense): Linear(in_features=200, out_features=4, bias=True)\n",
       ")"
      ]
     },
     "execution_count": 21,
     "metadata": {},
     "output_type": "execute_result"
    }
   ],
   "source": [
    "cnngru_model = torch.load('./results-augment/cgru', map_location=torch.device('cuda'))\n",
    "cnngru_model.eval()"
   ]
  },
  {
   "cell_type": "code",
   "execution_count": 22,
   "metadata": {
    "colab": {
     "base_uri": "https://localhost:8080/"
    },
    "id": "mAQahhBt071J",
    "outputId": "eae55b83-0d43-4647-e7c8-6fe3f7abf638"
   },
   "outputs": [
    {
     "data": {
      "text/plain": [
       "CLSTM(\n",
       "  (conv1): Sequential(\n",
       "    (0): Conv1d(22, 25, kernel_size=(5,), stride=(1,))\n",
       "    (1): ReLU()\n",
       "    (2): BatchNorm1d(25, eps=1e-05, momentum=0.1, affine=True, track_running_stats=True)\n",
       "    (3): Dropout(p=0.3647999634687216, inplace=False)\n",
       "  )\n",
       "  (conv2): Sequential(\n",
       "    (0): Conv2d(25, 50, kernel_size=(1, 25), stride=(1, 1))\n",
       "    (1): ELU(alpha=1.0)\n",
       "    (2): BatchNorm2d(50, eps=1e-05, momentum=0.1, affine=True, track_running_stats=True)\n",
       "    (3): MaxPool2d(kernel_size=(1, 3), stride=(1, 3), padding=0, dilation=1, ceil_mode=False)\n",
       "    (4): Dropout(p=0.3647999634687216, inplace=False)\n",
       "  )\n",
       "  (conv3): Sequential(\n",
       "    (0): Conv1d(50, 100, kernel_size=(6,), stride=(1,))\n",
       "    (1): ELU(alpha=1.0)\n",
       "    (2): BatchNorm1d(100, eps=1e-05, momentum=0.1, affine=True, track_running_stats=True)\n",
       "    (3): MaxPool1d(kernel_size=3, stride=3, padding=0, dilation=1, ceil_mode=False)\n",
       "    (4): Dropout(p=0.3647999634687216, inplace=False)\n",
       "  )\n",
       "  (conv4): Sequential(\n",
       "    (0): Conv1d(100, 405, kernel_size=(5,), stride=(1,))\n",
       "    (1): ELU(alpha=1.0)\n",
       "    (2): BatchNorm1d(405, eps=1e-05, momentum=0.1, affine=True, track_running_stats=True)\n",
       "    (3): MaxPool1d(kernel_size=3, stride=3, padding=0, dilation=1, ceil_mode=False)\n",
       "    (4): Dropout(p=0.3647999634687216, inplace=False)\n",
       "  )\n",
       "  (linear): Sequential(\n",
       "    (0): Linear(in_features=4455, out_features=200, bias=True)\n",
       "    (1): ReLU()\n",
       "    (2): BatchNorm1d(200, eps=1e-05, momentum=0.1, affine=True, track_running_stats=True)\n",
       "    (3): Dropout(p=0.3647999634687216, inplace=False)\n",
       "  )\n",
       "  (lstm): LSTM(200, 100, num_layers=2, batch_first=True, bidirectional=True)\n",
       "  (dense): Linear(in_features=200, out_features=4, bias=True)\n",
       ")"
      ]
     },
     "execution_count": 22,
     "metadata": {},
     "output_type": "execute_result"
    }
   ],
   "source": [
    "cnnlstm_model = torch.load('./results-augment/clstm', map_location=torch.device('cuda'))\n",
    "cnnlstm_model.eval()"
   ]
  },
  {
   "cell_type": "code",
   "execution_count": 23,
   "metadata": {
    "colab": {
     "base_uri": "https://localhost:8080/"
    },
    "id": "iFqUwsqN0-Bm",
    "outputId": "3249df88-adb4-484f-e6bd-fe5227365d3a"
   },
   "outputs": [
    {
     "data": {
      "text/plain": [
       "LSTM_LSTM(\n",
       "  (lstm1): LSTM(22, 64, num_layers=2, batch_first=True, bidirectional=True)\n",
       "  (lstm2): LSTM(128, 64, num_layers=2, batch_first=True, bidirectional=True)\n",
       "  (linear): Linear(in_features=128, out_features=54, bias=True)\n",
       "  (fc): Sequential(\n",
       "    (0): Linear(in_features=54, out_features=44, bias=True)\n",
       "    (1): BatchNorm1d(44, eps=1e-05, momentum=0.2, affine=True, track_running_stats=True)\n",
       "    (2): ReLU(inplace=True)\n",
       "    (3): Linear(in_features=44, out_features=4, bias=True)\n",
       "  )\n",
       ")"
      ]
     },
     "execution_count": 23,
     "metadata": {},
     "output_type": "execute_result"
    }
   ],
   "source": [
    "lstm_model = torch.load('./results-augment/llstm', map_location=torch.device('cuda'))\n",
    "lstm_model.eval()"
   ]
  },
  {
   "cell_type": "code",
   "execution_count": 24,
   "metadata": {
    "colab": {
     "base_uri": "https://localhost:8080/"
    },
    "id": "rgcecyFA0_sJ",
    "outputId": "cae0f28d-46c4-4664-a704-ea61ea16463c"
   },
   "outputs": [
    {
     "data": {
      "text/plain": [
       "GRU(\n",
       "  (gru): GRU(22, 64, num_layers=3, dropout=0.5, bidirectional=True)\n",
       "  (linear): Linear(in_features=128, out_features=54, bias=True)\n",
       "  (fc): Sequential(\n",
       "    (0): Linear(in_features=54, out_features=44, bias=True)\n",
       "    (1): BatchNorm1d(44, eps=1e-05, momentum=0.2, affine=True, track_running_stats=True)\n",
       "    (2): ReLU(inplace=True)\n",
       "    (3): Linear(in_features=44, out_features=4, bias=True)\n",
       "  )\n",
       ")"
      ]
     },
     "execution_count": 24,
     "metadata": {},
     "output_type": "execute_result"
    }
   ],
   "source": [
    "gru_model = torch.load('./results-augment/gru', map_location=torch.device('cuda'))\n",
    "gru_model.eval()"
   ]
  },
  {
   "cell_type": "code",
   "execution_count": 25,
   "metadata": {
    "colab": {
     "base_uri": "https://localhost:8080/"
    },
    "id": "d2cOH_3U1ClZ",
    "outputId": "8a12b0bc-d763-4afa-a447-f25f915bdd45",
    "scrolled": true
   },
   "outputs": [
    {
     "data": {
      "text/plain": [
       "CTransformer(\n",
       "  (conv1): Sequential(\n",
       "    (0): Conv1d(22, 25, kernel_size=(5,), stride=(1,))\n",
       "    (1): ReLU()\n",
       "    (2): BatchNorm1d(25, eps=1e-05, momentum=0.1, affine=True, track_running_stats=True)\n",
       "    (3): Dropout(p=0.3647999634687216, inplace=False)\n",
       "  )\n",
       "  (conv2): Sequential(\n",
       "    (0): Conv2d(25, 200, kernel_size=(1, 25), stride=(1, 1))\n",
       "    (1): ELU(alpha=1.0)\n",
       "    (2): BatchNorm2d(200, eps=1e-05, momentum=0.1, affine=True, track_running_stats=True)\n",
       "    (3): MaxPool2d(kernel_size=(1, 3), stride=(1, 3), padding=0, dilation=1, ceil_mode=False)\n",
       "    (4): Dropout(p=0.3647999634687216, inplace=False)\n",
       "  )\n",
       "  (flatten): Flatten(start_dim=2, end_dim=-1)\n",
       "  (encoding): Positional(\n",
       "    (dropout): Dropout(p=0.2, inplace=False)\n",
       "  )\n",
       "  (transformer_encoder): TransformerEncoder(\n",
       "    (layers): ModuleList(\n",
       "      (0-2): 3 x TransformerEncoderLayer(\n",
       "        (self_attn): MultiheadAttention(\n",
       "          (out_proj): NonDynamicallyQuantizableLinear(in_features=200, out_features=200, bias=True)\n",
       "        )\n",
       "        (linear1): Linear(in_features=200, out_features=256, bias=True)\n",
       "        (dropout): Dropout(p=0.2, inplace=False)\n",
       "        (linear2): Linear(in_features=256, out_features=200, bias=True)\n",
       "        (norm1): LayerNorm((200,), eps=1e-05, elementwise_affine=True)\n",
       "        (norm2): LayerNorm((200,), eps=1e-05, elementwise_affine=True)\n",
       "        (dropout1): Dropout(p=0.2, inplace=False)\n",
       "        (dropout2): Dropout(p=0.2, inplace=False)\n",
       "      )\n",
       "    )\n",
       "  )\n",
       "  (dense): Linear(in_features=200, out_features=4, bias=True)\n",
       ")"
      ]
     },
     "execution_count": 25,
     "metadata": {},
     "output_type": "execute_result"
    }
   ],
   "source": [
    "shallowcnn_model = torch.load('./results-augment/ctransformer', map_location=torch.device('cuda'))\n",
    "shallowcnn_model.eval()"
   ]
  },
  {
   "cell_type": "markdown",
   "metadata": {
    "id": "RIjHCYCG1U0Y"
   },
   "source": [
    "# **Augment Comparison**"
   ]
  },
  {
   "cell_type": "code",
   "execution_count": 26,
   "metadata": {
    "colab": {
     "base_uri": "https://localhost:8080/"
    },
    "id": "OvR49sIZ1UFk",
    "outputId": "931ab529-9035-41e2-b121-36422bae669f"
   },
   "outputs": [
    {
     "name": "stdout",
     "output_type": "stream",
     "text": [
      "cnn Test acc: 0.740\n"
     ]
    }
   ],
   "source": [
    "test_model(cnn_model, test_loader,name=\"cnn\")"
   ]
  },
  {
   "cell_type": "code",
   "execution_count": 27,
   "metadata": {
    "colab": {
     "base_uri": "https://localhost:8080/"
    },
    "id": "OvR49sIZ1UFk",
    "outputId": "931ab529-9035-41e2-b121-36422bae669f"
   },
   "outputs": [
    {
     "name": "stdout",
     "output_type": "stream",
     "text": [
      "cgru Test acc: 0.660\n"
     ]
    }
   ],
   "source": [
    "test_model(cnngru_model, test_loader,name=\"cgru\")"
   ]
  },
  {
   "cell_type": "code",
   "execution_count": 28,
   "metadata": {
    "colab": {
     "base_uri": "https://localhost:8080/"
    },
    "id": "OvR49sIZ1UFk",
    "outputId": "931ab529-9035-41e2-b121-36422bae669f"
   },
   "outputs": [
    {
     "name": "stdout",
     "output_type": "stream",
     "text": [
      "clstm Test acc: 0.680\n"
     ]
    }
   ],
   "source": [
    "test_model(cnnlstm_model, test_loader,name=\"clstm\")"
   ]
  },
  {
   "cell_type": "code",
   "execution_count": 29,
   "metadata": {
    "colab": {
     "base_uri": "https://localhost:8080/"
    },
    "id": "OvR49sIZ1UFk",
    "outputId": "931ab529-9035-41e2-b121-36422bae669f"
   },
   "outputs": [
    {
     "name": "stdout",
     "output_type": "stream",
     "text": [
      "llstm Test acc: 0.200\n"
     ]
    }
   ],
   "source": [
    "test_model(lstm_model, test_loader,name=\"llstm\")"
   ]
  },
  {
   "cell_type": "code",
   "execution_count": 30,
   "metadata": {
    "colab": {
     "base_uri": "https://localhost:8080/"
    },
    "id": "OvR49sIZ1UFk",
    "outputId": "931ab529-9035-41e2-b121-36422bae669f",
    "scrolled": true
   },
   "outputs": [
    {
     "name": "stdout",
     "output_type": "stream",
     "text": [
      "ctransformer Test acc: 0.600\n"
     ]
    }
   ],
   "source": [
    "test_model(shallowcnn_model, test_loader,name=\"ctransformer\")"
   ]
  }
 ],
 "metadata": {
  "colab": {
   "provenance": [],
   "toc_visible": true
  },
  "kernelspec": {
   "display_name": "Python 3 (ipykernel)",
   "language": "python",
   "name": "python3"
  },
  "language_info": {
   "codemirror_mode": {
    "name": "ipython",
    "version": 3
   },
   "file_extension": ".py",
   "mimetype": "text/x-python",
   "name": "python",
   "nbconvert_exporter": "python",
   "pygments_lexer": "ipython3",
   "version": "3.11.8"
  }
 },
 "nbformat": 4,
 "nbformat_minor": 4
}
