{
 "cells": [
  {
   "cell_type": "markdown",
   "id": "8c91a84d-0833-425a-91a1-30ea210c5f7d",
   "metadata": {},
   "source": [
    "# **Imports**"
   ]
  },
  {
   "cell_type": "markdown",
   "id": "b9fd3dfd-0cdb-4e1d-b1f2-1ca1d67f2945",
   "metadata": {},
   "source": [
    "## **Base Imports**"
   ]
  },
  {
   "cell_type": "code",
   "execution_count": 1,
   "id": "d61e1f3b-8116-4290-9caf-575f83ad7bf8",
   "metadata": {},
   "outputs": [],
   "source": [
    "import numpy as np\n",
    "import matplotlib.pyplot as plt\n",
    "\n",
    "import copy\n",
    "import torch\n",
    "import random\n",
    "import torch.nn as nn\n",
    "import torch.nn.functional as F\n",
    "\n",
    "import torchvision\n",
    "from tqdm.notebook import tqdm\n",
    "from torchvision.transforms import v2\n",
    "from torch.utils.data import random_split\n",
    "from torch.utils.data import TensorDataset, DataLoader\n",
    "\n",
    "import gc\n",
    "import time\n",
    "import optuna\n",
    "import torchinfo\n",
    "\n",
    "import nndl.utils as utils\n",
    "import nndl.models.cnn as cnn\n",
    "import nndl.models.cgru as cgru\n",
    "import nndl.models.clstm as clstm\n",
    "import nndl.models.ctransformer as ctransformer\n",
    "import nndl.models.gru as gru\n",
    "import nndl.models.llstm as llstm"
   ]
  },
  {
   "cell_type": "markdown",
   "id": "38c92222-c914-4c99-b393-7c7aa37ae75e",
   "metadata": {},
   "source": [
    "## **GPU**"
   ]
  },
  {
   "cell_type": "code",
   "execution_count": 2,
   "id": "0d0494ea-6ce7-4359-89e4-f70bd2708869",
   "metadata": {},
   "outputs": [
    {
     "name": "stdout",
     "output_type": "stream",
     "text": [
      "Using cuda\n"
     ]
    }
   ],
   "source": [
    "if torch.cuda.is_available():\n",
    "  device = torch.device('cuda')\n",
    "elif torch.backends.mps.is_available():\n",
    "  device = torch.device('mps')\n",
    "else:\n",
    "  device = torch.device('cpu')\n",
    "\n",
    "print(\"Using\", device)"
   ]
  },
  {
   "cell_type": "markdown",
   "id": "e1ec6559-debe-4f60-a42e-5336a9bd70cf",
   "metadata": {},
   "source": [
    "## **Seeds**"
   ]
  },
  {
   "cell_type": "code",
   "execution_count": 3,
   "id": "e2dc3a06-5ec9-4e3c-b58b-1a161eba22f8",
   "metadata": {},
   "outputs": [
    {
     "data": {
      "text/plain": [
       "<torch._C.Generator at 0x7e96fc15e3b0>"
      ]
     },
     "execution_count": 3,
     "metadata": {},
     "output_type": "execute_result"
    }
   ],
   "source": [
    "random.seed(1337)\n",
    "np.random.seed(1337)\n",
    "torch.manual_seed(1337)"
   ]
  },
  {
   "cell_type": "markdown",
   "id": "23370548-cdaa-448a-9c13-6310139669b8",
   "metadata": {},
   "source": [
    "# **Data Preparation**"
   ]
  },
  {
   "cell_type": "markdown",
   "id": "d5bff7ed-0d68-4965-9c54-33e542e48eb8",
   "metadata": {},
   "source": [
    "## **Load Data**"
   ]
  },
  {
   "cell_type": "code",
   "execution_count": 4,
   "id": "f228f4e7-e754-46a1-b8a0-b79751bcea46",
   "metadata": {},
   "outputs": [
    {
     "name": "stdout",
     "output_type": "stream",
     "text": [
      "(2115, 22, 1000)\n",
      "(2115, 22, 1000)\n",
      "(443, 22, 1000)\n",
      "[2 3 0 ... 3 3 2]\n"
     ]
    }
   ],
   "source": [
    "X_test = np.load(\"./project_data/X_test.npy\")\n",
    "y_test = np.load(\"./project_data/y_test.npy\") - 769\n",
    "person_train_valid = np.load(\"./project_data/person_train_valid.npy\")\n",
    "X_train_valid = np.load(\"./project_data/X_train_valid.npy\")\n",
    "print(X_train_valid.shape)\n",
    "y_train_valid = np.load(\"./project_data/y_train_valid.npy\") - 769\n",
    "person_test = np.load(\"./project_data/person_test.npy\")\n",
    "\n",
    "print(X_train_valid.shape)\n",
    "print(X_test.shape)\n",
    "\n",
    "print(y_train_valid)"
   ]
  },
  {
   "cell_type": "code",
   "execution_count": 5,
   "id": "6919a732-cb5e-4c55-a2bd-3f6a4c7cb680",
   "metadata": {},
   "outputs": [],
   "source": [
    "batch_size = 64\n",
    "\n",
    "folds = 10\n",
    "split_seed = 1\n",
    "\n",
    "subsample = 2\n",
    "average = 2\n",
    "noise = True\n",
    "p_channel_dropout = 0.01\n",
    "smooth_time_mask = True\n",
    "mask_size = 120\n",
    "time_shift = 30\n",
    "clipping_max = 800\n",
    "noise_stdev = 0.5"
   ]
  },
  {
   "cell_type": "code",
   "execution_count": 6,
   "id": "3b01a5f3-e8a6-421c-8cca-c7554c5904cc",
   "metadata": {},
   "outputs": [
    {
     "name": "stdout",
     "output_type": "stream",
     "text": [
      "SOME torch.Size([2115, 22, 1000])\n"
     ]
    }
   ],
   "source": [
    "X_train_valid = torch.Tensor(X_train_valid)\n",
    "y_train_valid = torch.Tensor(y_train_valid)\n",
    "\n",
    "print(f'SOME {X_train_valid.shape}')\n",
    "indices = torch.randperm(X_train_valid.shape[0])\n",
    "\n",
    "split_idx = int(X_train_valid.shape[0] * ((folds-1)/folds))\n",
    "\n",
    "X_train, X_valid = X_train_valid[indices[:split_idx]], X_train_valid[indices[split_idx:]]\n",
    "y_train, y_valid = y_train_valid[indices[:split_idx]], y_train_valid[indices[split_idx:]]\n",
    "X_test, y_test = torch.Tensor(X_test), torch.Tensor(y_test)\n",
    "\n",
    "person_train_valid, person_test = torch.Tensor(person_train_valid), torch.Tensor(person_test)\n",
    "person_train, person_valid = person_train_valid[indices[:split_idx]], person_train_valid[indices[split_idx:]]"
   ]
  },
  {
   "cell_type": "markdown",
   "id": "4457e6bb-7650-41a8-b85e-a20bb40ea317",
   "metadata": {},
   "source": [
    "## **Separate X_train by subject using person_train**"
   ]
  },
  {
   "cell_type": "code",
   "execution_count": 7,
   "id": "ca94a032-06c2-4eca-b95b-28de62b79a91",
   "metadata": {},
   "outputs": [
    {
     "name": "stdout",
     "output_type": "stream",
     "text": [
      "subject counts:  [221, 212, 213, 208, 207, 203, 214, 216, 209]\n",
      "subject count sum:  1903\n",
      "\n",
      "subject 0\n",
      "Shape of X after trimming: {X.shape}\n",
      "Shape of X after maxpooling: torch.Size([221, 22, 400])\n",
      "Shape of X after averaging+noise and concatenating: torch.Size([442, 22, 400])\n",
      "torch.Size([442, 1])\n",
      "torch.Size([221, 1])\n",
      "torch.Size([663, 1])\n",
      "torch.Size([221, 1])\n",
      "Shape of X after subsampling and concatenating: torch.Size([884, 22, 400])\n",
      "Shape of Y: torch.Size([884])\n",
      "Shape of X after channel dropout torch.Size([1768, 22, 400])\n",
      "Shape of Y: torch.Size([1768])\n",
      "Shape of X after smooth time mask torch.Size([3536, 22, 400])\n",
      "Shape of Y: torch.Size([3536])\n",
      "\n",
      "subject 1\n",
      "Shape of X after trimming: {X.shape}\n",
      "Shape of X after maxpooling: torch.Size([212, 22, 400])\n",
      "Shape of X after averaging+noise and concatenating: torch.Size([424, 22, 400])\n",
      "torch.Size([424, 1])\n",
      "torch.Size([212, 1])\n",
      "torch.Size([636, 1])\n",
      "torch.Size([212, 1])\n",
      "Shape of X after subsampling and concatenating: torch.Size([848, 22, 400])\n",
      "Shape of Y: torch.Size([848])\n",
      "Shape of X after channel dropout torch.Size([1696, 22, 400])\n",
      "Shape of Y: torch.Size([1696])\n",
      "Shape of X after smooth time mask torch.Size([3392, 22, 400])\n",
      "Shape of Y: torch.Size([3392])\n",
      "\n",
      "subject 2\n",
      "Shape of X after trimming: {X.shape}\n",
      "Shape of X after maxpooling: torch.Size([213, 22, 400])\n",
      "Shape of X after averaging+noise and concatenating: torch.Size([426, 22, 400])\n",
      "torch.Size([426, 1])\n",
      "torch.Size([213, 1])\n",
      "torch.Size([639, 1])\n",
      "torch.Size([213, 1])\n",
      "Shape of X after subsampling and concatenating: torch.Size([852, 22, 400])\n",
      "Shape of Y: torch.Size([852])\n",
      "Shape of X after channel dropout torch.Size([1704, 22, 400])\n",
      "Shape of Y: torch.Size([1704])\n",
      "Shape of X after smooth time mask torch.Size([3408, 22, 400])\n",
      "Shape of Y: torch.Size([3408])\n",
      "\n",
      "subject 3\n",
      "Shape of X after trimming: {X.shape}\n",
      "Shape of X after maxpooling: torch.Size([208, 22, 400])\n",
      "Shape of X after averaging+noise and concatenating: torch.Size([416, 22, 400])\n",
      "torch.Size([416, 1])\n",
      "torch.Size([208, 1])\n",
      "torch.Size([624, 1])\n",
      "torch.Size([208, 1])\n",
      "Shape of X after subsampling and concatenating: torch.Size([832, 22, 400])\n",
      "Shape of Y: torch.Size([832])\n",
      "Shape of X after channel dropout torch.Size([1664, 22, 400])\n",
      "Shape of Y: torch.Size([1664])\n",
      "Shape of X after smooth time mask torch.Size([3328, 22, 400])\n",
      "Shape of Y: torch.Size([3328])\n",
      "\n",
      "subject 4\n",
      "Shape of X after trimming: {X.shape}\n",
      "Shape of X after maxpooling: torch.Size([207, 22, 400])\n",
      "Shape of X after averaging+noise and concatenating: torch.Size([414, 22, 400])\n",
      "torch.Size([414, 1])\n",
      "torch.Size([207, 1])\n",
      "torch.Size([621, 1])\n",
      "torch.Size([207, 1])\n",
      "Shape of X after subsampling and concatenating: torch.Size([828, 22, 400])\n",
      "Shape of Y: torch.Size([828])\n",
      "Shape of X after channel dropout torch.Size([1656, 22, 400])\n",
      "Shape of Y: torch.Size([1656])\n",
      "Shape of X after smooth time mask torch.Size([3312, 22, 400])\n",
      "Shape of Y: torch.Size([3312])\n",
      "\n",
      "subject 5\n",
      "Shape of X after trimming: {X.shape}\n",
      "Shape of X after maxpooling: torch.Size([203, 22, 400])\n",
      "Shape of X after averaging+noise and concatenating: torch.Size([406, 22, 400])\n",
      "torch.Size([406, 1])\n",
      "torch.Size([203, 1])\n",
      "torch.Size([609, 1])\n",
      "torch.Size([203, 1])\n",
      "Shape of X after subsampling and concatenating: torch.Size([812, 22, 400])\n",
      "Shape of Y: torch.Size([812])\n",
      "Shape of X after channel dropout torch.Size([1624, 22, 400])\n",
      "Shape of Y: torch.Size([1624])\n",
      "Shape of X after smooth time mask torch.Size([3248, 22, 400])\n",
      "Shape of Y: torch.Size([3248])\n",
      "\n",
      "subject 6\n",
      "Shape of X after trimming: {X.shape}\n",
      "Shape of X after maxpooling: torch.Size([214, 22, 400])\n",
      "Shape of X after averaging+noise and concatenating: torch.Size([428, 22, 400])\n",
      "torch.Size([428, 1])\n",
      "torch.Size([214, 1])\n",
      "torch.Size([642, 1])\n",
      "torch.Size([214, 1])\n",
      "Shape of X after subsampling and concatenating: torch.Size([856, 22, 400])\n",
      "Shape of Y: torch.Size([856])\n",
      "Shape of X after channel dropout torch.Size([1712, 22, 400])\n",
      "Shape of Y: torch.Size([1712])\n",
      "Shape of X after smooth time mask torch.Size([3424, 22, 400])\n",
      "Shape of Y: torch.Size([3424])\n",
      "\n",
      "subject 7\n",
      "Shape of X after trimming: {X.shape}\n",
      "Shape of X after maxpooling: torch.Size([216, 22, 400])\n",
      "Shape of X after averaging+noise and concatenating: torch.Size([432, 22, 400])\n",
      "torch.Size([432, 1])\n",
      "torch.Size([216, 1])\n",
      "torch.Size([648, 1])\n",
      "torch.Size([216, 1])\n",
      "Shape of X after subsampling and concatenating: torch.Size([864, 22, 400])\n",
      "Shape of Y: torch.Size([864])\n",
      "Shape of X after channel dropout torch.Size([1728, 22, 400])\n",
      "Shape of Y: torch.Size([1728])\n",
      "Shape of X after smooth time mask torch.Size([3456, 22, 400])\n",
      "Shape of Y: torch.Size([3456])\n",
      "\n",
      "subject 8\n",
      "Shape of X after trimming: {X.shape}\n",
      "Shape of X after maxpooling: torch.Size([209, 22, 400])\n",
      "Shape of X after averaging+noise and concatenating: torch.Size([418, 22, 400])\n",
      "torch.Size([418, 1])\n",
      "torch.Size([209, 1])\n",
      "torch.Size([627, 1])\n",
      "torch.Size([209, 1])\n",
      "Shape of X after subsampling and concatenating: torch.Size([836, 22, 400])\n",
      "Shape of Y: torch.Size([836])\n",
      "Shape of X after channel dropout torch.Size([1672, 22, 400])\n",
      "Shape of Y: torch.Size([1672])\n",
      "Shape of X after smooth time mask torch.Size([3344, 22, 400])\n",
      "Shape of Y: torch.Size([3344])\n"
     ]
    }
   ],
   "source": [
    "s_train = [[], [], [], [], [], [], [], [], []]\n",
    "s_y_train = [[], [], [], [], [], [], [], [], []]\n",
    "count_train = [0, 0, 0, 0, 0, 0, 0, 0, 0]\n",
    "\n",
    "for (i, j) in zip(person_train, range(len(person_train))):\n",
    "    #i is a np.darray from subject_train, i[0] gives us the subject\n",
    "    #j is the index of i in subject_train that corresponds to the index in subject_train\n",
    "    s_train[int(i[0])].append(X_train[j])\n",
    "    s_y_train[int(i[0])].append(y_train[j])\n",
    "    \n",
    "    #for length check\n",
    "    count_train[int(i[0])]+=1\n",
    "\n",
    "print('subject counts: ', count_train)\n",
    "print('subject count sum: ', sum(count_train))\n",
    "\n",
    "#lebron\n",
    "for (i, j, k) in zip(count_train, s_train, s_y_train):\n",
    "    if i != len(j) or i != len(k):\n",
    "        print(\"length issue\")\n",
    "\n",
    "\n",
    "print('\\nsubject 0')\n",
    "s0_train, s0_y_train = utils.data_prep(torch.Tensor(np.asarray(s_train[0])),\n",
    "                                       torch.Tensor(np.asarray(s_y_train[0])),\n",
    "                                       subsample,\n",
    "                                       average,\n",
    "                                       noise,\n",
    "                                       p_channel_dropout,\n",
    "                                       smooth_time_mask,\n",
    "                                       mask_size)\n",
    "print('\\nsubject 1')\n",
    "s1_train, s1_y_train = utils.data_prep(torch.Tensor(np.asarray(s_train[1])),\n",
    "                                       torch.Tensor(np.asarray(s_y_train[1])),\n",
    "                                       subsample,\n",
    "                                       average,\n",
    "                                       noise,\n",
    "                                       p_channel_dropout,\n",
    "                                       smooth_time_mask,\n",
    "                                       mask_size)\n",
    "print('\\nsubject 2')\n",
    "s2_train, s2_y_train = utils.data_prep(torch.Tensor(np.asarray(s_train[2])),\n",
    "                                       torch.Tensor(np.asarray(s_y_train[2])),\n",
    "                                       subsample,\n",
    "                                       average,\n",
    "                                       noise,\n",
    "                                       p_channel_dropout,\n",
    "                                       smooth_time_mask,\n",
    "                                       mask_size)\n",
    "print('\\nsubject 3')\n",
    "s3_train, s3_y_train = utils.data_prep(torch.Tensor(np.asarray(s_train[3])),\n",
    "                                       torch.Tensor(np.asarray(s_y_train[3])),\n",
    "                                       subsample,\n",
    "                                       average,\n",
    "                                       noise,\n",
    "                                       p_channel_dropout,\n",
    "                                       smooth_time_mask,\n",
    "                                       mask_size)\n",
    "print('\\nsubject 4')\n",
    "s4_train, s4_y_train = utils.data_prep(torch.Tensor(np.asarray(s_train[4])),\n",
    "                                       torch.Tensor(np.asarray(s_y_train[4])),\n",
    "                                       subsample,\n",
    "                                       average,\n",
    "                                       noise,\n",
    "                                       p_channel_dropout,\n",
    "                                       smooth_time_mask,\n",
    "                                       mask_size)\n",
    "print('\\nsubject 5')\n",
    "s5_train, s5_y_train = utils.data_prep(torch.Tensor(np.asarray(s_train[5])),\n",
    "                                       torch.Tensor(np.asarray(s_y_train[5])),\n",
    "                                       subsample,\n",
    "                                       average,\n",
    "                                       noise,\n",
    "                                       p_channel_dropout,\n",
    "                                       smooth_time_mask,\n",
    "                                       mask_size)\n",
    "print('\\nsubject 6')\n",
    "s6_train, s6_y_train = utils.data_prep(torch.Tensor(np.asarray(s_train[6])),\n",
    "                                       torch.Tensor(np.asarray(s_y_train[6])),\n",
    "                                       subsample,\n",
    "                                       average,\n",
    "                                       noise,\n",
    "                                       p_channel_dropout,\n",
    "                                       smooth_time_mask,\n",
    "                                       mask_size)\n",
    "print('\\nsubject 7')\n",
    "s7_train, s7_y_train = utils.data_prep(torch.Tensor(np.asarray(s_train[7])),\n",
    "                                       torch.Tensor(np.asarray(s_y_train[7])),\n",
    "                                       subsample,\n",
    "                                       average,\n",
    "                                       noise,\n",
    "                                       p_channel_dropout,\n",
    "                                       smooth_time_mask,\n",
    "                                       mask_size)\n",
    "print('\\nsubject 8')\n",
    "s8_train, s8_y_train = utils.data_prep(torch.Tensor(np.asarray(s_train[8])),\n",
    "                                       torch.Tensor(np.asarray(s_y_train[8])),\n",
    "                                       subsample,\n",
    "                                       average,\n",
    "                                       noise,\n",
    "                                       p_channel_dropout,\n",
    "                                       smooth_time_mask,\n",
    "                                       mask_size)"
   ]
  },
  {
   "cell_type": "markdown",
   "id": "4c6aac01-aff2-4148-9f0a-b08d9d693c38",
   "metadata": {},
   "source": [
    "## **Separate X_val by subject using person_valid**"
   ]
  },
  {
   "cell_type": "code",
   "execution_count": 8,
   "id": "b568172f-85aa-4a86-b64c-dd55cafcc1e6",
   "metadata": {},
   "outputs": [
    {
     "name": "stdout",
     "output_type": "stream",
     "text": [
      "torch.Size([212, 22, 1000])\n",
      "val counts:  [16, 24, 23, 26, 28, 33, 24, 16, 22]\n",
      "val count sum:  212\n",
      "\n",
      "subject 0\n",
      "Shape of X after trimming: {X.shape}\n",
      "Shape of X after maxpooling: torch.Size([16, 22, 400])\n",
      "Shape of X after averaging+noise and concatenating: torch.Size([32, 22, 400])\n",
      "torch.Size([32, 1])\n",
      "torch.Size([16, 1])\n",
      "torch.Size([48, 1])\n",
      "torch.Size([16, 1])\n",
      "Shape of X after subsampling and concatenating: torch.Size([64, 22, 400])\n",
      "Shape of Y: torch.Size([64])\n",
      "Shape of X after channel dropout torch.Size([128, 22, 400])\n",
      "Shape of Y: torch.Size([128])\n",
      "Shape of X after smooth time mask torch.Size([256, 22, 400])\n",
      "Shape of Y: torch.Size([256])\n",
      "\n",
      "subject 1\n",
      "Shape of X after trimming: {X.shape}\n",
      "Shape of X after maxpooling: torch.Size([24, 22, 400])\n",
      "Shape of X after averaging+noise and concatenating: torch.Size([48, 22, 400])\n",
      "torch.Size([48, 1])\n",
      "torch.Size([24, 1])\n",
      "torch.Size([72, 1])\n",
      "torch.Size([24, 1])\n",
      "Shape of X after subsampling and concatenating: torch.Size([96, 22, 400])\n",
      "Shape of Y: torch.Size([96])\n",
      "Shape of X after channel dropout torch.Size([192, 22, 400])\n",
      "Shape of Y: torch.Size([192])\n",
      "Shape of X after smooth time mask torch.Size([384, 22, 400])\n",
      "Shape of Y: torch.Size([384])\n",
      "\n",
      "subject 2\n",
      "Shape of X after trimming: {X.shape}\n",
      "Shape of X after maxpooling: torch.Size([23, 22, 400])\n",
      "Shape of X after averaging+noise and concatenating: torch.Size([46, 22, 400])\n",
      "torch.Size([46, 1])\n",
      "torch.Size([23, 1])\n",
      "torch.Size([69, 1])\n",
      "torch.Size([23, 1])\n",
      "Shape of X after subsampling and concatenating: torch.Size([92, 22, 400])\n",
      "Shape of Y: torch.Size([92])\n",
      "Shape of X after channel dropout torch.Size([184, 22, 400])\n",
      "Shape of Y: torch.Size([184])\n",
      "Shape of X after smooth time mask torch.Size([368, 22, 400])\n",
      "Shape of Y: torch.Size([368])\n",
      "\n",
      "subject 3\n",
      "Shape of X after trimming: {X.shape}\n",
      "Shape of X after maxpooling: torch.Size([26, 22, 400])\n",
      "Shape of X after averaging+noise and concatenating: torch.Size([52, 22, 400])\n",
      "torch.Size([52, 1])\n",
      "torch.Size([26, 1])\n",
      "torch.Size([78, 1])\n",
      "torch.Size([26, 1])\n",
      "Shape of X after subsampling and concatenating: torch.Size([104, 22, 400])\n",
      "Shape of Y: torch.Size([104])\n",
      "Shape of X after channel dropout torch.Size([208, 22, 400])\n",
      "Shape of Y: torch.Size([208])\n",
      "Shape of X after smooth time mask torch.Size([416, 22, 400])\n",
      "Shape of Y: torch.Size([416])\n",
      "\n",
      "subject 4\n",
      "Shape of X after trimming: {X.shape}\n",
      "Shape of X after maxpooling: torch.Size([28, 22, 400])\n",
      "Shape of X after averaging+noise and concatenating: torch.Size([56, 22, 400])\n",
      "torch.Size([56, 1])\n",
      "torch.Size([28, 1])\n",
      "torch.Size([84, 1])\n",
      "torch.Size([28, 1])\n",
      "Shape of X after subsampling and concatenating: torch.Size([112, 22, 400])\n",
      "Shape of Y: torch.Size([112])\n",
      "Shape of X after channel dropout torch.Size([224, 22, 400])\n",
      "Shape of Y: torch.Size([224])\n",
      "Shape of X after smooth time mask torch.Size([448, 22, 400])\n",
      "Shape of Y: torch.Size([448])\n",
      "\n",
      "subject 5\n",
      "Shape of X after trimming: {X.shape}\n",
      "Shape of X after maxpooling: torch.Size([33, 22, 400])\n",
      "Shape of X after averaging+noise and concatenating: torch.Size([66, 22, 400])\n",
      "torch.Size([66, 1])\n",
      "torch.Size([33, 1])\n",
      "torch.Size([99, 1])\n",
      "torch.Size([33, 1])\n",
      "Shape of X after subsampling and concatenating: torch.Size([132, 22, 400])\n",
      "Shape of Y: torch.Size([132])\n",
      "Shape of X after channel dropout torch.Size([264, 22, 400])\n",
      "Shape of Y: torch.Size([264])\n",
      "Shape of X after smooth time mask torch.Size([528, 22, 400])\n",
      "Shape of Y: torch.Size([528])\n",
      "\n",
      "subject 6\n",
      "Shape of X after trimming: {X.shape}\n",
      "Shape of X after maxpooling: torch.Size([24, 22, 400])\n",
      "Shape of X after averaging+noise and concatenating: torch.Size([48, 22, 400])\n",
      "torch.Size([48, 1])\n",
      "torch.Size([24, 1])\n",
      "torch.Size([72, 1])\n",
      "torch.Size([24, 1])\n",
      "Shape of X after subsampling and concatenating: torch.Size([96, 22, 400])\n",
      "Shape of Y: torch.Size([96])\n",
      "Shape of X after channel dropout torch.Size([192, 22, 400])\n",
      "Shape of Y: torch.Size([192])\n",
      "Shape of X after smooth time mask torch.Size([384, 22, 400])\n",
      "Shape of Y: torch.Size([384])\n",
      "\n",
      "subject 7\n",
      "Shape of X after trimming: {X.shape}\n",
      "Shape of X after maxpooling: torch.Size([16, 22, 400])\n",
      "Shape of X after averaging+noise and concatenating: torch.Size([32, 22, 400])\n",
      "torch.Size([32, 1])\n",
      "torch.Size([16, 1])\n",
      "torch.Size([48, 1])\n",
      "torch.Size([16, 1])\n",
      "Shape of X after subsampling and concatenating: torch.Size([64, 22, 400])\n",
      "Shape of Y: torch.Size([64])\n",
      "Shape of X after channel dropout torch.Size([128, 22, 400])\n",
      "Shape of Y: torch.Size([128])\n",
      "Shape of X after smooth time mask torch.Size([256, 22, 400])\n",
      "Shape of Y: torch.Size([256])\n",
      "\n",
      "subject 8\n",
      "Shape of X after trimming: {X.shape}\n",
      "Shape of X after maxpooling: torch.Size([22, 22, 400])\n",
      "Shape of X after averaging+noise and concatenating: torch.Size([44, 22, 400])\n",
      "torch.Size([44, 1])\n",
      "torch.Size([22, 1])\n",
      "torch.Size([66, 1])\n",
      "torch.Size([22, 1])\n",
      "Shape of X after subsampling and concatenating: torch.Size([88, 22, 400])\n",
      "Shape of Y: torch.Size([88])\n",
      "Shape of X after channel dropout torch.Size([176, 22, 400])\n",
      "Shape of Y: torch.Size([176])\n",
      "Shape of X after smooth time mask torch.Size([352, 22, 400])\n",
      "Shape of Y: torch.Size([352])\n"
     ]
    }
   ],
   "source": [
    "print(X_valid.shape)\n",
    "\n",
    "s_valid = [[], [], [], [], [], [], [], [], []]\n",
    "s_y_valid = [[], [], [], [], [], [], [], [], []]\n",
    "count_val = [0, 0, 0, 0, 0, 0, 0, 0, 0]\n",
    "\n",
    "for (i, j) in zip(person_valid, range(len(person_valid))):\n",
    "    #i is a np.darray from subject_train, i[0] gives us the subject\n",
    "    #j is the index of i in subject_train that corresponds to the index in subject_train\n",
    "    s_valid[int(i[0])].append(X_valid[j])\n",
    "    s_y_valid[int(i[0])].append(y_valid[j])\n",
    "\n",
    "    #for length check\n",
    "    count_val[int(i[0])]+=1\n",
    "\n",
    "print('val counts: ', count_val)\n",
    "print('val count sum: ', sum(count_val))\n",
    "\n",
    "#lebron\n",
    "for (i, j, k) in zip(count_val, s_valid, s_y_valid):\n",
    "    if i != len(j) or i != len(k):\n",
    "        print(\"length issue\")\n",
    "\n",
    "print('\\nsubject 0')\n",
    "s0_valid, s0_y_valid = utils.data_prep(torch.Tensor(np.asarray(s_valid[0])),\n",
    "                                       torch.Tensor(np.asarray(s_y_valid[0])),\n",
    "                                       subsample,\n",
    "                                       average,\n",
    "                                       noise,\n",
    "                                       p_channel_dropout,\n",
    "                                       smooth_time_mask,\n",
    "                                       mask_size)\n",
    "print('\\nsubject 1')\n",
    "s1_valid, s1_y_valid = utils.data_prep(torch.Tensor(np.asarray(s_valid[1])),\n",
    "                                       torch.Tensor(np.asarray(s_y_valid[1])),\n",
    "                                       subsample,\n",
    "                                       average,\n",
    "                                       noise,\n",
    "                                       p_channel_dropout,\n",
    "                                       smooth_time_mask,\n",
    "                                       mask_size)\n",
    "print('\\nsubject 2')\n",
    "s2_valid, s2_y_valid = utils.data_prep(torch.Tensor(np.asarray(s_valid[2])),\n",
    "                                       torch.Tensor(np.asarray(s_y_valid[2])),\n",
    "                                       subsample,\n",
    "                                       average,\n",
    "                                       noise,\n",
    "                                       p_channel_dropout,\n",
    "                                       smooth_time_mask,\n",
    "                                       mask_size)\n",
    "print('\\nsubject 3')\n",
    "s3_valid, s3_y_valid = utils.data_prep(torch.Tensor(np.asarray(s_valid[3])),\n",
    "                                       torch.Tensor(np.asarray(s_y_valid[3])),\n",
    "                                       subsample,\n",
    "                                       average,\n",
    "                                       noise,\n",
    "                                       p_channel_dropout,\n",
    "                                       smooth_time_mask,\n",
    "                                       mask_size)\n",
    "print('\\nsubject 4')\n",
    "s4_valid, s4_y_valid = utils.data_prep(torch.Tensor(np.asarray(s_valid[4])),\n",
    "                                       torch.Tensor(np.asarray(s_y_valid[4])),\n",
    "                                       subsample,\n",
    "                                       average,\n",
    "                                       noise,\n",
    "                                       p_channel_dropout,\n",
    "                                       smooth_time_mask,\n",
    "                                       mask_size)\n",
    "print('\\nsubject 5')\n",
    "s5_valid, s5_y_valid = utils.data_prep(torch.Tensor(np.asarray(s_valid[5])),\n",
    "                                       torch.Tensor(np.asarray(s_y_valid[5])),\n",
    "                                       subsample,\n",
    "                                       average,\n",
    "                                       noise,\n",
    "                                       p_channel_dropout,\n",
    "                                       smooth_time_mask,\n",
    "                                       mask_size)\n",
    "print('\\nsubject 6')\n",
    "s6_valid, s6_y_valid = utils.data_prep(torch.Tensor(np.asarray(s_valid[6])),\n",
    "                                       torch.Tensor(np.asarray(s_y_valid[6])),\n",
    "                                       subsample,\n",
    "                                       average,\n",
    "                                       noise,\n",
    "                                       p_channel_dropout,\n",
    "                                       smooth_time_mask,\n",
    "                                       mask_size)\n",
    "print('\\nsubject 7')\n",
    "s7_valid, s7_y_valid = utils.data_prep(torch.Tensor(np.asarray(s_valid[7])),\n",
    "                                       torch.Tensor(np.asarray(s_y_valid[7])),\n",
    "                                       subsample,\n",
    "                                       average,\n",
    "                                       noise,\n",
    "                                       p_channel_dropout,\n",
    "                                       smooth_time_mask,\n",
    "                                       mask_size)\n",
    "print('\\nsubject 8')\n",
    "s8_valid, s8_y_valid = utils.data_prep(torch.Tensor(np.asarray(s_valid[8])),\n",
    "                                       torch.Tensor(np.asarray(s_y_valid[8])),\n",
    "                                       subsample,\n",
    "                                       average,\n",
    "                                       noise,\n",
    "                                       p_channel_dropout,\n",
    "                                       smooth_time_mask,\n",
    "                                       mask_size)"
   ]
  },
  {
   "cell_type": "markdown",
   "id": "bef331a0-dc00-4ed7-9bfe-8bee67e240b5",
   "metadata": {},
   "source": [
    "## **Separate X_test by subject using person_test**"
   ]
  },
  {
   "cell_type": "code",
   "execution_count": 9,
   "id": "403ceeda-7920-442b-bd23-b1e3f2743616",
   "metadata": {},
   "outputs": [
    {
     "name": "stdout",
     "output_type": "stream",
     "text": [
      "torch.Size([443, 22, 1000])\n",
      "test counts:  [50, 50, 50, 50, 47, 49, 50, 50, 47]\n",
      "test count sum:  443\n",
      "\n",
      "subject 0\n",
      "Shape of X after trimming: torch.Size([50, 22, 800])\n",
      "Shape of X after maxpooling: torch.Size([50, 22, 400])\n",
      "\n",
      "subject 1\n",
      "Shape of X after trimming: torch.Size([50, 22, 800])\n",
      "Shape of X after maxpooling: torch.Size([50, 22, 400])\n",
      "\n",
      "subject 2\n",
      "Shape of X after trimming: torch.Size([50, 22, 800])\n",
      "Shape of X after maxpooling: torch.Size([50, 22, 400])\n",
      "\n",
      "subject 3\n",
      "Shape of X after trimming: torch.Size([50, 22, 800])\n",
      "Shape of X after maxpooling: torch.Size([50, 22, 400])\n",
      "\n",
      "subject 4\n",
      "Shape of X after trimming: torch.Size([47, 22, 800])\n",
      "Shape of X after maxpooling: torch.Size([47, 22, 400])\n",
      "\n",
      "subject 5\n",
      "Shape of X after trimming: torch.Size([49, 22, 800])\n",
      "Shape of X after maxpooling: torch.Size([49, 22, 400])\n",
      "\n",
      "subject 6\n",
      "Shape of X after trimming: torch.Size([50, 22, 800])\n",
      "Shape of X after maxpooling: torch.Size([50, 22, 400])\n",
      "\n",
      "subject 7\n",
      "Shape of X after trimming: torch.Size([50, 22, 800])\n",
      "Shape of X after maxpooling: torch.Size([50, 22, 400])\n",
      "\n",
      "subject 8\n",
      "Shape of X after trimming: torch.Size([47, 22, 800])\n",
      "Shape of X after maxpooling: torch.Size([47, 22, 400])\n"
     ]
    }
   ],
   "source": [
    "print(X_test.shape)\n",
    "\n",
    "s_test = [[], [], [], [], [], [], [], [], []]\n",
    "s_y_test = [[], [], [], [], [], [], [], [], []]\n",
    "count_test = [0, 0, 0, 0, 0, 0, 0, 0, 0]\n",
    "\n",
    "for (i, j) in zip(person_test, range(len(person_test))):\n",
    "    #i is a np.darray from person_test, i[0] gives us the subject\n",
    "    #j is the index of i in person_test that corresponds to the index in X_test\n",
    "    s_test[int(i[0])].append(X_test[j])\n",
    "    s_y_test[int(i[0])].append(y_test[j])\n",
    "\n",
    "    #for length check\n",
    "    count_test[int(i[0])]+=1\n",
    "\n",
    "print('test counts: ', count_test)\n",
    "print('test count sum: ', sum(count_test))\n",
    "\n",
    "#lebron length check\n",
    "for (i, j, k) in zip(count_test, s_test, s_y_test):\n",
    "    if i != len(j) or i != len(k):\n",
    "        print(\"length issue\")\n",
    "\n",
    "#Look in my eyes, tell me your tale Do you see the road, the map to my soul? Look, tell me the signs whenever the smoke clear out of my face Am I picture-perfect or do I look fried?\n",
    "print('\\nsubject 0')\n",
    "s0_test, s0_y_test = utils.test_data_prep(torch.Tensor(np.asarray(s_test[0]))), torch.Tensor(np.asarray(s_y_test[0]))\n",
    "print('\\nsubject 1')\n",
    "s1_test, s1_y_test = utils.test_data_prep(torch.Tensor(np.asarray(s_test[1]))), torch.Tensor(np.asarray(s_y_test[1]))\n",
    "print('\\nsubject 2')\n",
    "s2_test, s2_y_test = utils.test_data_prep(torch.Tensor(np.asarray(s_test[2]))), torch.Tensor(np.asarray(s_y_test[2]))\n",
    "print('\\nsubject 3')\n",
    "s3_test, s3_y_test = utils.test_data_prep(torch.Tensor(np.asarray(s_test[3]))), torch.Tensor(np.asarray(s_y_test[3]))\n",
    "print('\\nsubject 4')\n",
    "s4_test, s4_y_test = utils.test_data_prep(torch.Tensor(np.asarray(s_test[4]))), torch.Tensor(np.asarray(s_y_test[4]))\n",
    "print('\\nsubject 5')\n",
    "s5_test, s5_y_test = utils.test_data_prep(torch.Tensor(np.asarray(s_test[5]))), torch.Tensor(np.asarray(s_y_test[5]))\n",
    "print('\\nsubject 6')\n",
    "s6_test, s6_y_test = utils.test_data_prep(torch.Tensor(np.asarray(s_test[6]))), torch.Tensor(np.asarray(s_y_test[6]))\n",
    "print('\\nsubject 7')\n",
    "s7_test, s7_y_test = utils.test_data_prep(torch.Tensor(np.asarray(s_test[7]))), torch.Tensor(np.asarray(s_y_test[7]))\n",
    "print('\\nsubject 8')\n",
    "s8_test, s8_y_test = utils.test_data_prep(torch.Tensor(np.asarray(s_test[8]))), torch.Tensor(np.asarray(s_y_test[8]))"
   ]
  },
  {
   "cell_type": "markdown",
   "id": "23cbcb15-fb24-4514-a4c7-8de6038c67a9",
   "metadata": {},
   "source": [
    "## **Generate subject Dataloader**"
   ]
  },
  {
   "cell_type": "code",
   "execution_count": 10,
   "id": "ef507eae-a258-4d2f-b504-6618c30ee227",
   "metadata": {},
   "outputs": [
    {
     "name": "stdout",
     "output_type": "stream",
     "text": [
      "Prepping Training Data\n",
      "Shape of X after trimming: {X.shape}\n",
      "Shape of X after maxpooling: torch.Size([1903, 22, 400])\n",
      "Shape of X after averaging+noise and concatenating: torch.Size([3806, 22, 400])\n",
      "torch.Size([3806, 1])\n",
      "torch.Size([1903, 1])\n",
      "torch.Size([5709, 1])\n",
      "torch.Size([1903, 1])\n",
      "Shape of X after subsampling and concatenating: torch.Size([7612, 22, 400])\n",
      "Shape of Y: torch.Size([7612])\n",
      "Shape of X after channel dropout torch.Size([15224, 22, 400])\n",
      "Shape of Y: torch.Size([15224])\n",
      "Shape of X after smooth time mask torch.Size([30448, 22, 400])\n",
      "Shape of Y: torch.Size([30448])\n",
      "\n",
      "Prepping Validation Data\n",
      "Shape of X after trimming: {X.shape}\n",
      "Shape of X after maxpooling: torch.Size([212, 22, 400])\n",
      "Shape of X after averaging+noise and concatenating: torch.Size([424, 22, 400])\n",
      "torch.Size([424, 1])\n",
      "torch.Size([212, 1])\n",
      "torch.Size([636, 1])\n",
      "torch.Size([212, 1])\n",
      "Shape of X after subsampling and concatenating: torch.Size([848, 22, 400])\n",
      "Shape of Y: torch.Size([848])\n",
      "Shape of X after channel dropout torch.Size([1696, 22, 400])\n",
      "Shape of Y: torch.Size([1696])\n",
      "Shape of X after smooth time mask torch.Size([3392, 22, 400])\n",
      "Shape of Y: torch.Size([3392])\n",
      "\n",
      "Prepping Test Data\n",
      "Shape of X after trimming: torch.Size([443, 22, 800])\n",
      "Shape of X after maxpooling: torch.Size([443, 22, 400])\n",
      "\n",
      "FINISHED PREP\n",
      "\n",
      "Final shape of training set: torch.Size([30448, 22, 400])\n",
      "Final shape of validation set: torch.Size([3392, 22, 400])\n",
      "Final shape of test set: torch.Size([443, 22, 400])\n",
      "TRAIN_DATA 476\n",
      "VALID_DATA 53\n",
      "TEST_DATA 7\n"
     ]
    }
   ],
   "source": [
    "s0_train_loader = DataLoader(TensorDataset(s0_train, s0_y_train),\n",
    "                             batch_size=batch_size,\n",
    "                             shuffle=True)\n",
    "s0_val_loader = DataLoader(TensorDataset(s0_valid, s0_y_valid),\n",
    "                           batch_size=batch_size,\n",
    "                           shuffle=True)\n",
    "s0_test_loader = DataLoader(TensorDataset(s0_test, s0_y_test),\n",
    "                            batch_size=batch_size,\n",
    "                            shuffle=True)\n",
    "\n",
    "s1_train_loader = DataLoader(TensorDataset(s1_train, s1_y_train),\n",
    "                             batch_size=batch_size,\n",
    "                             shuffle=True)\n",
    "s1_val_loader = DataLoader(TensorDataset(s1_valid, s1_y_valid),\n",
    "                           batch_size=batch_size,\n",
    "                           shuffle=True)\n",
    "s1_test_loader = DataLoader(TensorDataset(s1_test, s1_y_test),\n",
    "                            batch_size=batch_size,\n",
    "                            shuffle=True)\n",
    "\n",
    "s2_train_loader = DataLoader(TensorDataset(s2_train, s2_y_train),\n",
    "                             batch_size=batch_size,\n",
    "                             shuffle=True)\n",
    "s2_val_loader = DataLoader(TensorDataset(s2_valid, s2_y_valid),\n",
    "                           batch_size=batch_size,\n",
    "                           shuffle=True)\n",
    "s2_test_loader = DataLoader(TensorDataset(s2_test, s2_y_test),\n",
    "                            batch_size=batch_size,\n",
    "                            shuffle=True)\n",
    "\n",
    "s3_train_loader = DataLoader(TensorDataset(s3_train, s3_y_train),\n",
    "                             batch_size=batch_size,\n",
    "                             shuffle=True)\n",
    "s3_val_loader = DataLoader(TensorDataset(s3_valid, s3_y_valid),\n",
    "                           batch_size=batch_size,\n",
    "                           shuffle=True)\n",
    "s3_test_loader = DataLoader(TensorDataset(s3_test, s3_y_test),\n",
    "                            batch_size=batch_size,\n",
    "                            shuffle=True)\n",
    "\n",
    "s4_train_loader = DataLoader(TensorDataset(s4_train, s4_y_train),\n",
    "                             batch_size=batch_size,\n",
    "                             shuffle=True)\n",
    "s4_val_loader = DataLoader(TensorDataset(s4_valid, s4_y_valid),\n",
    "                           batch_size=batch_size,\n",
    "                           shuffle=True)\n",
    "s4_test_loader = DataLoader(TensorDataset(s4_test, s4_y_test),\n",
    "                            batch_size=batch_size,\n",
    "                            shuffle=True)\n",
    "\n",
    "s5_train_loader = DataLoader(TensorDataset(s5_train, s5_y_train),\n",
    "                             batch_size=batch_size,\n",
    "                             shuffle=True)\n",
    "s5_val_loader = DataLoader(TensorDataset(s5_valid, s5_y_valid),\n",
    "                           batch_size=batch_size,\n",
    "                           shuffle=True)\n",
    "s5_test_loader = DataLoader(TensorDataset(s5_test, s5_y_test),\n",
    "                            batch_size=batch_size,\n",
    "                            shuffle=True)\n",
    "\n",
    "s6_train_loader = DataLoader(TensorDataset(s6_train, s6_y_train),\n",
    "                             batch_size=batch_size,\n",
    "                             shuffle=True)\n",
    "s6_val_loader = DataLoader(TensorDataset(s6_valid, s6_y_valid),\n",
    "                           batch_size=batch_size,\n",
    "                           shuffle=True)\n",
    "s6_test_loader = DataLoader(TensorDataset(s6_test, s6_y_test),\n",
    "                            batch_size=batch_size,\n",
    "                            shuffle=True)\n",
    "\n",
    "s7_train_loader = DataLoader(TensorDataset(s7_train, s7_y_train),\n",
    "                             batch_size=batch_size,\n",
    "                             shuffle=True)\n",
    "s7_val_loader = DataLoader(TensorDataset(s7_valid, s7_y_valid),\n",
    "                           batch_size=batch_size,\n",
    "                           shuffle=True)\n",
    "s7_test_loader = DataLoader(TensorDataset(s7_test, s7_y_test),\n",
    "                            batch_size=batch_size,\n",
    "                            shuffle=True)\n",
    "\n",
    "s8_train_loader = DataLoader(TensorDataset(s8_train, s8_y_train),\n",
    "                             batch_size=batch_size,\n",
    "                             shuffle=True)\n",
    "s8_val_loader = DataLoader(TensorDataset(s8_valid, s8_y_valid),\n",
    "                           batch_size=batch_size,\n",
    "                           shuffle=True)\n",
    "s8_test_loader = DataLoader(TensorDataset(s8_test, s8_y_test),\n",
    "                            batch_size=batch_size,\n",
    "                            shuffle=True)\n",
    "\n",
    "subject_train_loader = [s0_train_loader,\n",
    "                        s1_train_loader,\n",
    "                        s2_train_loader,\n",
    "                        s3_train_loader,\n",
    "                        s4_train_loader,\n",
    "                        s5_train_loader,\n",
    "                        s6_train_loader,\n",
    "                        s7_train_loader,\n",
    "                        s8_train_loader]\n",
    "subject_val_loader = [s0_val_loader,\n",
    "                      s1_val_loader,\n",
    "                      s2_val_loader,\n",
    "                      s3_val_loader,\n",
    "                      s4_val_loader,\n",
    "                      s5_val_loader,\n",
    "                      s6_val_loader,\n",
    "                      s7_val_loader,\n",
    "                      s8_val_loader]\n",
    "subject_test_loader = [s0_test_loader,\n",
    "                       s1_test_loader,\n",
    "                       s2_test_loader,\n",
    "                       s3_test_loader,\n",
    "                       s4_test_loader,\n",
    "                       s5_test_loader,\n",
    "                       s6_test_loader,\n",
    "                       s7_test_loader,\n",
    "                       s8_test_loader]\n",
    "\n",
    "\n",
    "print('Prepping Training Data')\n",
    "X_train, y_train = utils.data_prep(X_train,\n",
    "                                   y_train,\n",
    "                                   subsample,\n",
    "                                   average,\n",
    "                                   noise,\n",
    "                                   p_channel_dropout,\n",
    "                                   smooth_time_mask,\n",
    "                                   mask_size)\n",
    "print('\\nPrepping Validation Data')\n",
    "X_valid, y_valid = utils.data_prep(X_valid,\n",
    "                                   y_valid,\n",
    "                                   subsample,\n",
    "                                   average,\n",
    "                                   noise,\n",
    "                                   p_channel_dropout,\n",
    "                                   smooth_time_mask,\n",
    "                                   mask_size)\n",
    "print('\\nPrepping Test Data')\n",
    "X_test = utils.test_data_prep(X_test)\n",
    "print('\\nFINISHED PREP\\n')\n",
    "\n",
    "print('Final shape of training set:', X_train.shape)\n",
    "print('Final shape of validation set:', X_valid.shape)\n",
    "print('Final shape of test set:', X_test.shape)\n",
    "\n",
    "train_loader = DataLoader(TensorDataset(X_train, y_train),\n",
    "                          batch_size=batch_size,\n",
    "                          shuffle=True)\n",
    "val_loader = DataLoader(TensorDataset(X_valid, y_valid),\n",
    "                        batch_size=batch_size,\n",
    "                        shuffle=False)\n",
    "test_loader = DataLoader(TensorDataset(X_test, y_test),\n",
    "                         batch_size=batch_size,\n",
    "                         shuffle=False)\n",
    "\n",
    "print(f'TRAIN_DATA {len(train_loader)}\\nVALID_DATA {len(val_loader)}\\nTEST_DATA {len(test_loader)}')"
   ]
  },
  {
   "cell_type": "markdown",
   "id": "af78f68f-c524-462f-a3ae-d6c61600f787",
   "metadata": {},
   "source": [
    "# **Models**"
   ]
  },
  {
   "cell_type": "code",
   "execution_count": 11,
   "id": "168f3c7d-92f4-4230-83fb-7abc6f0b7542",
   "metadata": {},
   "outputs": [],
   "source": [
    "num_epochs = 50\n",
    "T_max = 25\n",
    "eta_min = 1e-5\n",
    "start_time = time.time()\n",
    "path_to_save = './results-augment/'"
   ]
  },
  {
   "cell_type": "markdown",
   "id": "2e79c1b5-4b5a-4da3-bc66-092e20d973f0",
   "metadata": {},
   "source": [
    "# **CNN**"
   ]
  },
  {
   "cell_type": "markdown",
   "id": "fd7f41b3-01b3-47fc-9caa-aff7182e7ae2",
   "metadata": {},
   "source": [
    "### **Model Summary**"
   ]
  },
  {
   "cell_type": "code",
   "execution_count": 12,
   "id": "ba9854f1-8fea-446a-b1cf-881501cb073b",
   "metadata": {},
   "outputs": [
    {
     "data": {
      "text/plain": [
       "==========================================================================================\n",
       "Layer (type:depth-idx)                   Output Shape              Param #\n",
       "==========================================================================================\n",
       "CNN                                      [64, 4]                   --\n",
       "├─Sequential: 1-1                        [64, 25, 396]             --\n",
       "│    └─Conv1d: 2-1                       [64, 25, 396]             2,775\n",
       "│    └─ReLU: 2-2                         [64, 25, 396]             --\n",
       "│    └─BatchNorm1d: 2-3                  [64, 25, 396]             50\n",
       "│    └─Dropout: 2-4                      [64, 25, 396]             --\n",
       "├─Sequential: 1-2                        [64, 50, 1, 124]          --\n",
       "│    └─Conv2d: 2-5                       [64, 50, 1, 372]          31,300\n",
       "│    └─ELU: 2-6                          [64, 50, 1, 372]          --\n",
       "│    └─BatchNorm2d: 2-7                  [64, 50, 1, 372]          100\n",
       "│    └─MaxPool2d: 2-8                    [64, 50, 1, 124]          --\n",
       "│    └─Dropout: 2-9                      [64, 50, 1, 124]          --\n",
       "├─Sequential: 1-3                        [64, 100, 39]             --\n",
       "│    └─Conv1d: 2-10                      [64, 100, 119]            30,100\n",
       "│    └─ELU: 2-11                         [64, 100, 119]            --\n",
       "│    └─BatchNorm1d: 2-12                 [64, 100, 119]            200\n",
       "│    └─MaxPool1d: 2-13                   [64, 100, 39]             --\n",
       "│    └─Dropout: 2-14                     [64, 100, 39]             --\n",
       "├─Sequential: 1-4                        [64, 405, 11]             --\n",
       "│    └─Conv1d: 2-15                      [64, 405, 35]             202,905\n",
       "│    └─ELU: 2-16                         [64, 405, 35]             --\n",
       "│    └─BatchNorm1d: 2-17                 [64, 405, 35]             810\n",
       "│    └─MaxPool1d: 2-18                   [64, 405, 11]             --\n",
       "│    └─Dropout: 2-19                     [64, 405, 11]             --\n",
       "├─Linear: 1-5                            [64, 4]                   17,824\n",
       "==========================================================================================\n",
       "Total params: 286,064\n",
       "Trainable params: 286,064\n",
       "Non-trainable params: 0\n",
       "Total mult-adds (Units.GIGABYTES): 1.50\n",
       "==========================================================================================\n",
       "Input size (MB): 2.25\n",
       "Forward/backward pass size (MB): 55.89\n",
       "Params size (MB): 1.14\n",
       "Estimated Total Size (MB): 59.28\n",
       "=========================================================================================="
      ]
     },
     "execution_count": 12,
     "metadata": {},
     "output_type": "execute_result"
    }
   ],
   "source": [
    "torchinfo.summary(cnn.CNN(), input_size=(batch_size, 22, 400))"
   ]
  },
  {
   "cell_type": "code",
   "execution_count": 13,
   "id": "de11b1c3-4b88-4d0e-b623-6a0578926e73",
   "metadata": {},
   "outputs": [],
   "source": [
    "cnn_model = cnn.CNN().to(device)\n",
    "criterion = nn.CrossEntropyLoss()\n",
    "optimizer = torch.optim.Adamax(cnn_model.parameters(),\n",
    "                               lr=0.001767340543208569,\n",
    "                               weight_decay=0.008272087903010924)\n",
    "scheduler = torch.optim.lr_scheduler.CosineAnnealingLR(optimizer, \n",
    "                                                       T_max=T_max, \n",
    "                                                       eta_min=eta_min)"
   ]
  },
  {
   "cell_type": "markdown",
   "id": "ce6bb863-38b5-476f-9dc6-6fe86812bd05",
   "metadata": {},
   "source": [
    "### **Train the model**"
   ]
  },
  {
   "cell_type": "code",
   "execution_count": 14,
   "id": "3548d83f-2c6d-4d43-a231-3beaddf8f11f",
   "metadata": {},
   "outputs": [
    {
     "name": "stdout",
     "output_type": "stream",
     "text": [
      "Epoch 1\n"
     ]
    },
    {
     "data": {
      "application/vnd.jupyter.widget-view+json": {
       "model_id": "cbbb20939f374464908228ff74180c0d",
       "version_major": 2,
       "version_minor": 0
      },
      "text/plain": [
       "  0%|          | 0/476 [00:00<?, ?it/s]"
      ]
     },
     "metadata": {},
     "output_type": "display_data"
    },
    {
     "name": "stdout",
     "output_type": "stream",
     "text": [
      "Train acc: 0.489, Train loss: 1.223\n",
      "Val acc: 0.547, Val loss: 1.065\n",
      "\n",
      "Epoch 2\n"
     ]
    },
    {
     "data": {
      "application/vnd.jupyter.widget-view+json": {
       "model_id": "685635623f9d4e78b2d1ab2ad2e6b128",
       "version_major": 2,
       "version_minor": 0
      },
      "text/plain": [
       "  0%|          | 0/476 [00:00<?, ?it/s]"
      ]
     },
     "metadata": {},
     "output_type": "display_data"
    },
    {
     "name": "stdout",
     "output_type": "stream",
     "text": [
      "Train acc: 0.676, Train loss: 0.803\n",
      "Val acc: 0.604, Val loss: 0.958\n",
      "\n",
      "Epoch 3\n"
     ]
    },
    {
     "data": {
      "application/vnd.jupyter.widget-view+json": {
       "model_id": "a814120a8da74471a2c85542a108c620",
       "version_major": 2,
       "version_minor": 0
      },
      "text/plain": [
       "  0%|          | 0/476 [00:00<?, ?it/s]"
      ]
     },
     "metadata": {},
     "output_type": "display_data"
    },
    {
     "name": "stdout",
     "output_type": "stream",
     "text": [
      "Train acc: 0.758, Train loss: 0.624\n",
      "Val acc: 0.608, Val loss: 0.912\n",
      "\n",
      "Epoch 4\n"
     ]
    },
    {
     "data": {
      "application/vnd.jupyter.widget-view+json": {
       "model_id": "e59d1250eb8a401bb949fd345069d1b1",
       "version_major": 2,
       "version_minor": 0
      },
      "text/plain": [
       "  0%|          | 0/476 [00:00<?, ?it/s]"
      ]
     },
     "metadata": {},
     "output_type": "display_data"
    },
    {
     "name": "stdout",
     "output_type": "stream",
     "text": [
      "Train acc: 0.803, Train loss: 0.524\n",
      "Val acc: 0.634, Val loss: 0.897\n",
      "\n",
      "Epoch 5\n"
     ]
    },
    {
     "data": {
      "application/vnd.jupyter.widget-view+json": {
       "model_id": "61847998d7564daea822b96209b7fabc",
       "version_major": 2,
       "version_minor": 0
      },
      "text/plain": [
       "  0%|          | 0/476 [00:00<?, ?it/s]"
      ]
     },
     "metadata": {},
     "output_type": "display_data"
    },
    {
     "name": "stdout",
     "output_type": "stream",
     "text": [
      "Train acc: 0.829, Train loss: 0.466\n",
      "Val acc: 0.679, Val loss: 0.810\n",
      "\n",
      "Epoch 6\n"
     ]
    },
    {
     "data": {
      "application/vnd.jupyter.widget-view+json": {
       "model_id": "84891811ce0a468187b2b6b64983788f",
       "version_major": 2,
       "version_minor": 0
      },
      "text/plain": [
       "  0%|          | 0/476 [00:00<?, ?it/s]"
      ]
     },
     "metadata": {},
     "output_type": "display_data"
    },
    {
     "name": "stdout",
     "output_type": "stream",
     "text": [
      "Train acc: 0.845, Train loss: 0.425\n",
      "Val acc: 0.672, Val loss: 0.853\n",
      "\n",
      "Epoch 7\n"
     ]
    },
    {
     "data": {
      "application/vnd.jupyter.widget-view+json": {
       "model_id": "56954f4f49b04e7994557da807070424",
       "version_major": 2,
       "version_minor": 0
      },
      "text/plain": [
       "  0%|          | 0/476 [00:00<?, ?it/s]"
      ]
     },
     "metadata": {},
     "output_type": "display_data"
    },
    {
     "name": "stdout",
     "output_type": "stream",
     "text": [
      "Train acc: 0.862, Train loss: 0.386\n",
      "Val acc: 0.695, Val loss: 0.775\n",
      "\n",
      "Epoch 8\n"
     ]
    },
    {
     "data": {
      "application/vnd.jupyter.widget-view+json": {
       "model_id": "893e0746c5fa4cae9e7afbcbe23cc9ef",
       "version_major": 2,
       "version_minor": 0
      },
      "text/plain": [
       "  0%|          | 0/476 [00:00<?, ?it/s]"
      ]
     },
     "metadata": {},
     "output_type": "display_data"
    },
    {
     "name": "stdout",
     "output_type": "stream",
     "text": [
      "Train acc: 0.875, Train loss: 0.355\n",
      "Val acc: 0.636, Val loss: 0.908\n",
      "\n",
      "Epoch 9\n"
     ]
    },
    {
     "data": {
      "application/vnd.jupyter.widget-view+json": {
       "model_id": "655bf5b8fc1048a0b410a25799c66089",
       "version_major": 2,
       "version_minor": 0
      },
      "text/plain": [
       "  0%|          | 0/476 [00:00<?, ?it/s]"
      ]
     },
     "metadata": {},
     "output_type": "display_data"
    },
    {
     "name": "stdout",
     "output_type": "stream",
     "text": [
      "Train acc: 0.887, Train loss: 0.331\n",
      "Val acc: 0.675, Val loss: 0.831\n",
      "\n",
      "Epoch 10\n"
     ]
    },
    {
     "data": {
      "application/vnd.jupyter.widget-view+json": {
       "model_id": "abc69bda643f442f83db720c0b4b7edb",
       "version_major": 2,
       "version_minor": 0
      },
      "text/plain": [
       "  0%|          | 0/476 [00:00<?, ?it/s]"
      ]
     },
     "metadata": {},
     "output_type": "display_data"
    },
    {
     "name": "stdout",
     "output_type": "stream",
     "text": [
      "Train acc: 0.898, Train loss: 0.305\n",
      "Val acc: 0.697, Val loss: 0.829\n",
      "\n",
      "Epoch 11\n"
     ]
    },
    {
     "data": {
      "application/vnd.jupyter.widget-view+json": {
       "model_id": "27251979f364473a8e5116f15bfc7ee2",
       "version_major": 2,
       "version_minor": 0
      },
      "text/plain": [
       "  0%|          | 0/476 [00:00<?, ?it/s]"
      ]
     },
     "metadata": {},
     "output_type": "display_data"
    },
    {
     "name": "stdout",
     "output_type": "stream",
     "text": [
      "Train acc: 0.904, Train loss: 0.289\n",
      "Val acc: 0.683, Val loss: 0.842\n",
      "\n",
      "Epoch 12\n"
     ]
    },
    {
     "data": {
      "application/vnd.jupyter.widget-view+json": {
       "model_id": "05cc3ad2b2b44eceacb97648565ca304",
       "version_major": 2,
       "version_minor": 0
      },
      "text/plain": [
       "  0%|          | 0/476 [00:00<?, ?it/s]"
      ]
     },
     "metadata": {},
     "output_type": "display_data"
    },
    {
     "name": "stdout",
     "output_type": "stream",
     "text": [
      "Train acc: 0.909, Train loss: 0.277\n",
      "Val acc: 0.672, Val loss: 0.842\n",
      "\n",
      "Epoch 13\n"
     ]
    },
    {
     "data": {
      "application/vnd.jupyter.widget-view+json": {
       "model_id": "5c8d905fa198465b86329e01ddb3ac43",
       "version_major": 2,
       "version_minor": 0
      },
      "text/plain": [
       "  0%|          | 0/476 [00:00<?, ?it/s]"
      ]
     },
     "metadata": {},
     "output_type": "display_data"
    },
    {
     "name": "stdout",
     "output_type": "stream",
     "text": [
      "Train acc: 0.919, Train loss: 0.261\n",
      "Val acc: 0.698, Val loss: 0.787\n",
      "\n",
      "Epoch 14\n"
     ]
    },
    {
     "data": {
      "application/vnd.jupyter.widget-view+json": {
       "model_id": "4aeba88c7dd644d5ad00df432d429529",
       "version_major": 2,
       "version_minor": 0
      },
      "text/plain": [
       "  0%|          | 0/476 [00:00<?, ?it/s]"
      ]
     },
     "metadata": {},
     "output_type": "display_data"
    },
    {
     "name": "stdout",
     "output_type": "stream",
     "text": [
      "Train acc: 0.925, Train loss: 0.242\n",
      "Val acc: 0.686, Val loss: 0.805\n",
      "\n",
      "Epoch 15\n"
     ]
    },
    {
     "data": {
      "application/vnd.jupyter.widget-view+json": {
       "model_id": "2b235f7d5e264bc0892a13fb0f9975e3",
       "version_major": 2,
       "version_minor": 0
      },
      "text/plain": [
       "  0%|          | 0/476 [00:00<?, ?it/s]"
      ]
     },
     "metadata": {},
     "output_type": "display_data"
    },
    {
     "name": "stdout",
     "output_type": "stream",
     "text": [
      "Train acc: 0.930, Train loss: 0.230\n",
      "Val acc: 0.691, Val loss: 0.800\n",
      "\n",
      "Epoch 16\n"
     ]
    },
    {
     "data": {
      "application/vnd.jupyter.widget-view+json": {
       "model_id": "62ea0d448cea48abb64b66be877fbad5",
       "version_major": 2,
       "version_minor": 0
      },
      "text/plain": [
       "  0%|          | 0/476 [00:00<?, ?it/s]"
      ]
     },
     "metadata": {},
     "output_type": "display_data"
    },
    {
     "name": "stdout",
     "output_type": "stream",
     "text": [
      "Train acc: 0.935, Train loss: 0.219\n",
      "Val acc: 0.691, Val loss: 0.816\n",
      "\n",
      "Epoch 17\n"
     ]
    },
    {
     "data": {
      "application/vnd.jupyter.widget-view+json": {
       "model_id": "0b19a96076874eeab573ecfa4c44a987",
       "version_major": 2,
       "version_minor": 0
      },
      "text/plain": [
       "  0%|          | 0/476 [00:00<?, ?it/s]"
      ]
     },
     "metadata": {},
     "output_type": "display_data"
    },
    {
     "name": "stdout",
     "output_type": "stream",
     "text": [
      "Train acc: 0.942, Train loss: 0.206\n",
      "Val acc: 0.696, Val loss: 0.792\n",
      "\n",
      "Epoch 18\n"
     ]
    },
    {
     "data": {
      "application/vnd.jupyter.widget-view+json": {
       "model_id": "55cab5b78f884186a00598347b3edb94",
       "version_major": 2,
       "version_minor": 0
      },
      "text/plain": [
       "  0%|          | 0/476 [00:00<?, ?it/s]"
      ]
     },
     "metadata": {},
     "output_type": "display_data"
    },
    {
     "name": "stdout",
     "output_type": "stream",
     "text": [
      "Train acc: 0.945, Train loss: 0.196\n",
      "Val acc: 0.699, Val loss: 0.798\n",
      "\n",
      "Epoch 19\n"
     ]
    },
    {
     "data": {
      "application/vnd.jupyter.widget-view+json": {
       "model_id": "16834f09927b4740a880c48556d7e14b",
       "version_major": 2,
       "version_minor": 0
      },
      "text/plain": [
       "  0%|          | 0/476 [00:00<?, ?it/s]"
      ]
     },
     "metadata": {},
     "output_type": "display_data"
    },
    {
     "name": "stdout",
     "output_type": "stream",
     "text": [
      "Train acc: 0.948, Train loss: 0.186\n",
      "Val acc: 0.682, Val loss: 0.817\n",
      "\n",
      "Epoch 20\n"
     ]
    },
    {
     "data": {
      "application/vnd.jupyter.widget-view+json": {
       "model_id": "f1e634a82ed64e2997d2fb060ca7df2c",
       "version_major": 2,
       "version_minor": 0
      },
      "text/plain": [
       "  0%|          | 0/476 [00:00<?, ?it/s]"
      ]
     },
     "metadata": {},
     "output_type": "display_data"
    },
    {
     "name": "stdout",
     "output_type": "stream",
     "text": [
      "Train acc: 0.953, Train loss: 0.176\n",
      "Val acc: 0.703, Val loss: 0.788\n",
      "\n",
      "Epoch 21\n"
     ]
    },
    {
     "data": {
      "application/vnd.jupyter.widget-view+json": {
       "model_id": "9ac6703ecfe74d6a93fda8340b79eaa6",
       "version_major": 2,
       "version_minor": 0
      },
      "text/plain": [
       "  0%|          | 0/476 [00:00<?, ?it/s]"
      ]
     },
     "metadata": {},
     "output_type": "display_data"
    },
    {
     "name": "stdout",
     "output_type": "stream",
     "text": [
      "Train acc: 0.956, Train loss: 0.168\n",
      "Val acc: 0.698, Val loss: 0.807\n",
      "\n",
      "Epoch 22\n"
     ]
    },
    {
     "data": {
      "application/vnd.jupyter.widget-view+json": {
       "model_id": "e1cb526ce58f46b69f33eb2827b19c6c",
       "version_major": 2,
       "version_minor": 0
      },
      "text/plain": [
       "  0%|          | 0/476 [00:00<?, ?it/s]"
      ]
     },
     "metadata": {},
     "output_type": "display_data"
    },
    {
     "name": "stdout",
     "output_type": "stream",
     "text": [
      "Train acc: 0.958, Train loss: 0.165\n",
      "Val acc: 0.710, Val loss: 0.788\n",
      "\n",
      "Epoch 23\n"
     ]
    },
    {
     "data": {
      "application/vnd.jupyter.widget-view+json": {
       "model_id": "3162f3009d24411cbce6047ab2937f58",
       "version_major": 2,
       "version_minor": 0
      },
      "text/plain": [
       "  0%|          | 0/476 [00:00<?, ?it/s]"
      ]
     },
     "metadata": {},
     "output_type": "display_data"
    },
    {
     "name": "stdout",
     "output_type": "stream",
     "text": [
      "Train acc: 0.961, Train loss: 0.157\n",
      "Val acc: 0.700, Val loss: 0.792\n",
      "\n",
      "Epoch 24\n"
     ]
    },
    {
     "data": {
      "application/vnd.jupyter.widget-view+json": {
       "model_id": "b7813ff92a4c4954b4eaff9e201a3870",
       "version_major": 2,
       "version_minor": 0
      },
      "text/plain": [
       "  0%|          | 0/476 [00:00<?, ?it/s]"
      ]
     },
     "metadata": {},
     "output_type": "display_data"
    },
    {
     "name": "stdout",
     "output_type": "stream",
     "text": [
      "Train acc: 0.960, Train loss: 0.157\n",
      "Val acc: 0.708, Val loss: 0.788\n",
      "\n",
      "Epoch 25\n"
     ]
    },
    {
     "data": {
      "application/vnd.jupyter.widget-view+json": {
       "model_id": "38c4812fce6a47ada692ec7fc544d0bb",
       "version_major": 2,
       "version_minor": 0
      },
      "text/plain": [
       "  0%|          | 0/476 [00:00<?, ?it/s]"
      ]
     },
     "metadata": {},
     "output_type": "display_data"
    },
    {
     "name": "stdout",
     "output_type": "stream",
     "text": [
      "Train acc: 0.962, Train loss: 0.155\n",
      "Val acc: 0.709, Val loss: 0.782\n",
      "\n",
      "Epoch 26\n"
     ]
    },
    {
     "data": {
      "application/vnd.jupyter.widget-view+json": {
       "model_id": "f0f8bfdffc4f425aa9fe0d7896734dcf",
       "version_major": 2,
       "version_minor": 0
      },
      "text/plain": [
       "  0%|          | 0/476 [00:00<?, ?it/s]"
      ]
     },
     "metadata": {},
     "output_type": "display_data"
    },
    {
     "name": "stdout",
     "output_type": "stream",
     "text": [
      "Train acc: 0.962, Train loss: 0.152\n",
      "Val acc: 0.700, Val loss: 0.799\n",
      "\n",
      "Epoch 27\n"
     ]
    },
    {
     "data": {
      "application/vnd.jupyter.widget-view+json": {
       "model_id": "b31bdc8f6cb54b0ca8f23aa9c0854776",
       "version_major": 2,
       "version_minor": 0
      },
      "text/plain": [
       "  0%|          | 0/476 [00:00<?, ?it/s]"
      ]
     },
     "metadata": {},
     "output_type": "display_data"
    },
    {
     "name": "stdout",
     "output_type": "stream",
     "text": [
      "Train acc: 0.960, Train loss: 0.153\n",
      "Val acc: 0.706, Val loss: 0.793\n",
      "\n",
      "Epoch 28\n"
     ]
    },
    {
     "data": {
      "application/vnd.jupyter.widget-view+json": {
       "model_id": "988c2ecf24374c6b835e231003d4bd64",
       "version_major": 2,
       "version_minor": 0
      },
      "text/plain": [
       "  0%|          | 0/476 [00:00<?, ?it/s]"
      ]
     },
     "metadata": {},
     "output_type": "display_data"
    },
    {
     "name": "stdout",
     "output_type": "stream",
     "text": [
      "Train acc: 0.962, Train loss: 0.153\n",
      "Val acc: 0.704, Val loss: 0.804\n",
      "\n",
      "Epoch 29\n"
     ]
    },
    {
     "data": {
      "application/vnd.jupyter.widget-view+json": {
       "model_id": "293a0a7b3f3245e5ab3dd92ec331c0cc",
       "version_major": 2,
       "version_minor": 0
      },
      "text/plain": [
       "  0%|          | 0/476 [00:00<?, ?it/s]"
      ]
     },
     "metadata": {},
     "output_type": "display_data"
    },
    {
     "name": "stdout",
     "output_type": "stream",
     "text": [
      "Train acc: 0.960, Train loss: 0.157\n",
      "Val acc: 0.700, Val loss: 0.801\n",
      "\n",
      "Epoch 30\n"
     ]
    },
    {
     "data": {
      "application/vnd.jupyter.widget-view+json": {
       "model_id": "52f6b2ac98cd4c17bdc68734d1da8f4b",
       "version_major": 2,
       "version_minor": 0
      },
      "text/plain": [
       "  0%|          | 0/476 [00:00<?, ?it/s]"
      ]
     },
     "metadata": {},
     "output_type": "display_data"
    },
    {
     "name": "stdout",
     "output_type": "stream",
     "text": [
      "Train acc: 0.959, Train loss: 0.157\n",
      "Val acc: 0.695, Val loss: 0.805\n",
      "\n",
      "Epoch 31\n"
     ]
    },
    {
     "data": {
      "application/vnd.jupyter.widget-view+json": {
       "model_id": "25cc1820edaf43ddaf01e57ce4d62c90",
       "version_major": 2,
       "version_minor": 0
      },
      "text/plain": [
       "  0%|          | 0/476 [00:00<?, ?it/s]"
      ]
     },
     "metadata": {},
     "output_type": "display_data"
    },
    {
     "name": "stdout",
     "output_type": "stream",
     "text": [
      "Train acc: 0.959, Train loss: 0.160\n",
      "Val acc: 0.694, Val loss: 0.800\n",
      "\n",
      "Epoch 32\n"
     ]
    },
    {
     "data": {
      "application/vnd.jupyter.widget-view+json": {
       "model_id": "931706f0f0334db9a4e20827af3648bb",
       "version_major": 2,
       "version_minor": 0
      },
      "text/plain": [
       "  0%|          | 0/476 [00:00<?, ?it/s]"
      ]
     },
     "metadata": {},
     "output_type": "display_data"
    },
    {
     "name": "stdout",
     "output_type": "stream",
     "text": [
      "Train acc: 0.957, Train loss: 0.164\n",
      "Val acc: 0.693, Val loss: 0.833\n",
      "\n",
      "Epoch 33\n"
     ]
    },
    {
     "data": {
      "application/vnd.jupyter.widget-view+json": {
       "model_id": "a5840e8935164f50a81a0ddc8cab30c8",
       "version_major": 2,
       "version_minor": 0
      },
      "text/plain": [
       "  0%|          | 0/476 [00:00<?, ?it/s]"
      ]
     },
     "metadata": {},
     "output_type": "display_data"
    },
    {
     "name": "stdout",
     "output_type": "stream",
     "text": [
      "Train acc: 0.956, Train loss: 0.170\n",
      "Val acc: 0.700, Val loss: 0.796\n",
      "\n",
      "Epoch 34\n"
     ]
    },
    {
     "data": {
      "application/vnd.jupyter.widget-view+json": {
       "model_id": "d25178894851451daf5f3ad620f8eb9a",
       "version_major": 2,
       "version_minor": 0
      },
      "text/plain": [
       "  0%|          | 0/476 [00:00<?, ?it/s]"
      ]
     },
     "metadata": {},
     "output_type": "display_data"
    },
    {
     "name": "stdout",
     "output_type": "stream",
     "text": [
      "Train acc: 0.951, Train loss: 0.181\n",
      "Val acc: 0.695, Val loss: 0.788\n",
      "\n",
      "Epoch 35\n"
     ]
    },
    {
     "data": {
      "application/vnd.jupyter.widget-view+json": {
       "model_id": "7e88bb7551b6436ea653986f139c2f8c",
       "version_major": 2,
       "version_minor": 0
      },
      "text/plain": [
       "  0%|          | 0/476 [00:00<?, ?it/s]"
      ]
     },
     "metadata": {},
     "output_type": "display_data"
    },
    {
     "name": "stdout",
     "output_type": "stream",
     "text": [
      "Train acc: 0.948, Train loss: 0.190\n",
      "Val acc: 0.663, Val loss: 0.896\n",
      "\n",
      "Epoch 36\n"
     ]
    },
    {
     "data": {
      "application/vnd.jupyter.widget-view+json": {
       "model_id": "c39b67fa32c34c68a2e7018bbc3326a4",
       "version_major": 2,
       "version_minor": 0
      },
      "text/plain": [
       "  0%|          | 0/476 [00:00<?, ?it/s]"
      ]
     },
     "metadata": {},
     "output_type": "display_data"
    },
    {
     "name": "stdout",
     "output_type": "stream",
     "text": [
      "Train acc: 0.940, Train loss: 0.204\n",
      "Val acc: 0.684, Val loss: 0.799\n",
      "\n",
      "Epoch 37\n"
     ]
    },
    {
     "data": {
      "application/vnd.jupyter.widget-view+json": {
       "model_id": "155bcdb33d3146f3b8c53b07e4fd76e6",
       "version_major": 2,
       "version_minor": 0
      },
      "text/plain": [
       "  0%|          | 0/476 [00:00<?, ?it/s]"
      ]
     },
     "metadata": {},
     "output_type": "display_data"
    },
    {
     "name": "stdout",
     "output_type": "stream",
     "text": [
      "Train acc: 0.933, Train loss: 0.222\n",
      "Val acc: 0.691, Val loss: 0.817\n",
      "\n",
      "Epoch 38\n"
     ]
    },
    {
     "data": {
      "application/vnd.jupyter.widget-view+json": {
       "model_id": "2ff481a240374f7bb4b27539f6c96864",
       "version_major": 2,
       "version_minor": 0
      },
      "text/plain": [
       "  0%|          | 0/476 [00:00<?, ?it/s]"
      ]
     },
     "metadata": {},
     "output_type": "display_data"
    },
    {
     "name": "stdout",
     "output_type": "stream",
     "text": [
      "Train acc: 0.933, Train loss: 0.221\n",
      "Val acc: 0.691, Val loss: 0.855\n",
      "\n",
      "Epoch 39\n"
     ]
    },
    {
     "data": {
      "application/vnd.jupyter.widget-view+json": {
       "model_id": "d18b945395b742689cd5e7895f2d63ce",
       "version_major": 2,
       "version_minor": 0
      },
      "text/plain": [
       "  0%|          | 0/476 [00:00<?, ?it/s]"
      ]
     },
     "metadata": {},
     "output_type": "display_data"
    },
    {
     "name": "stdout",
     "output_type": "stream",
     "text": [
      "Train acc: 0.928, Train loss: 0.237\n",
      "Val acc: 0.653, Val loss: 0.882\n",
      "\n",
      "Epoch 40\n"
     ]
    },
    {
     "data": {
      "application/vnd.jupyter.widget-view+json": {
       "model_id": "f65f3506c1f748aba9105cd404887e94",
       "version_major": 2,
       "version_minor": 0
      },
      "text/plain": [
       "  0%|          | 0/476 [00:00<?, ?it/s]"
      ]
     },
     "metadata": {},
     "output_type": "display_data"
    },
    {
     "name": "stdout",
     "output_type": "stream",
     "text": [
      "Train acc: 0.923, Train loss: 0.245\n",
      "Val acc: 0.694, Val loss: 0.801\n",
      "\n",
      "Epoch 41\n"
     ]
    },
    {
     "data": {
      "application/vnd.jupyter.widget-view+json": {
       "model_id": "805e482ad681482f9153532541ea2e80",
       "version_major": 2,
       "version_minor": 0
      },
      "text/plain": [
       "  0%|          | 0/476 [00:00<?, ?it/s]"
      ]
     },
     "metadata": {},
     "output_type": "display_data"
    },
    {
     "name": "stdout",
     "output_type": "stream",
     "text": [
      "Train acc: 0.921, Train loss: 0.249\n",
      "Val acc: 0.684, Val loss: 0.822\n",
      "\n",
      "Epoch 42\n"
     ]
    },
    {
     "data": {
      "application/vnd.jupyter.widget-view+json": {
       "model_id": "525c0de3fcba48cebff85da7d42dcfb5",
       "version_major": 2,
       "version_minor": 0
      },
      "text/plain": [
       "  0%|          | 0/476 [00:00<?, ?it/s]"
      ]
     },
     "metadata": {},
     "output_type": "display_data"
    },
    {
     "name": "stdout",
     "output_type": "stream",
     "text": [
      "Train acc: 0.918, Train loss: 0.260\n",
      "Val acc: 0.648, Val loss: 0.888\n",
      "\n",
      "Epoch 43\n"
     ]
    },
    {
     "data": {
      "application/vnd.jupyter.widget-view+json": {
       "model_id": "613ee2d7c3824eee86698774b9a4655b",
       "version_major": 2,
       "version_minor": 0
      },
      "text/plain": [
       "  0%|          | 0/476 [00:00<?, ?it/s]"
      ]
     },
     "metadata": {},
     "output_type": "display_data"
    },
    {
     "name": "stdout",
     "output_type": "stream",
     "text": [
      "Train acc: 0.916, Train loss: 0.261\n",
      "Val acc: 0.632, Val loss: 0.938\n",
      "\n",
      "Epoch 44\n"
     ]
    },
    {
     "data": {
      "application/vnd.jupyter.widget-view+json": {
       "model_id": "5f2084850a0c44898153bcd537bbdc60",
       "version_major": 2,
       "version_minor": 0
      },
      "text/plain": [
       "  0%|          | 0/476 [00:00<?, ?it/s]"
      ]
     },
     "metadata": {},
     "output_type": "display_data"
    },
    {
     "name": "stdout",
     "output_type": "stream",
     "text": [
      "Train acc: 0.911, Train loss: 0.272\n",
      "Val acc: 0.663, Val loss: 0.894\n",
      "\n",
      "Epoch 45\n"
     ]
    },
    {
     "data": {
      "application/vnd.jupyter.widget-view+json": {
       "model_id": "6af74601c0eb4cc9ada7390aacb870dd",
       "version_major": 2,
       "version_minor": 0
      },
      "text/plain": [
       "  0%|          | 0/476 [00:00<?, ?it/s]"
      ]
     },
     "metadata": {},
     "output_type": "display_data"
    },
    {
     "name": "stdout",
     "output_type": "stream",
     "text": [
      "Train acc: 0.911, Train loss: 0.271\n",
      "Val acc: 0.655, Val loss: 0.916\n",
      "\n",
      "Epoch 46\n"
     ]
    },
    {
     "data": {
      "application/vnd.jupyter.widget-view+json": {
       "model_id": "4ed9abac7bd140668e621a2af4f0a6d9",
       "version_major": 2,
       "version_minor": 0
      },
      "text/plain": [
       "  0%|          | 0/476 [00:00<?, ?it/s]"
      ]
     },
     "metadata": {},
     "output_type": "display_data"
    },
    {
     "name": "stdout",
     "output_type": "stream",
     "text": [
      "Train acc: 0.908, Train loss: 0.278\n",
      "Val acc: 0.657, Val loss: 0.866\n",
      "\n",
      "Epoch 47\n"
     ]
    },
    {
     "data": {
      "application/vnd.jupyter.widget-view+json": {
       "model_id": "045b7d618feb4f37ade98b2838a5380d",
       "version_major": 2,
       "version_minor": 0
      },
      "text/plain": [
       "  0%|          | 0/476 [00:00<?, ?it/s]"
      ]
     },
     "metadata": {},
     "output_type": "display_data"
    },
    {
     "name": "stdout",
     "output_type": "stream",
     "text": [
      "Train acc: 0.912, Train loss: 0.277\n",
      "Val acc: 0.667, Val loss: 0.855\n",
      "\n",
      "Epoch 48\n"
     ]
    },
    {
     "data": {
      "application/vnd.jupyter.widget-view+json": {
       "model_id": "050206b3641d46418ac1caea11669506",
       "version_major": 2,
       "version_minor": 0
      },
      "text/plain": [
       "  0%|          | 0/476 [00:00<?, ?it/s]"
      ]
     },
     "metadata": {},
     "output_type": "display_data"
    },
    {
     "name": "stdout",
     "output_type": "stream",
     "text": [
      "Train acc: 0.909, Train loss: 0.280\n",
      "Val acc: 0.682, Val loss: 0.821\n",
      "\n",
      "Epoch 49\n"
     ]
    },
    {
     "data": {
      "application/vnd.jupyter.widget-view+json": {
       "model_id": "01cee5fb21c7497a8863fe0c373d74d1",
       "version_major": 2,
       "version_minor": 0
      },
      "text/plain": [
       "  0%|          | 0/476 [00:00<?, ?it/s]"
      ]
     },
     "metadata": {},
     "output_type": "display_data"
    },
    {
     "name": "stdout",
     "output_type": "stream",
     "text": [
      "Train acc: 0.907, Train loss: 0.281\n",
      "Val acc: 0.666, Val loss: 0.902\n",
      "\n",
      "Epoch 50\n"
     ]
    },
    {
     "data": {
      "application/vnd.jupyter.widget-view+json": {
       "model_id": "a044ebfba5ab4b7fa506b99e62c5016f",
       "version_major": 2,
       "version_minor": 0
      },
      "text/plain": [
       "  0%|          | 0/476 [00:00<?, ?it/s]"
      ]
     },
     "metadata": {},
     "output_type": "display_data"
    },
    {
     "name": "stdout",
     "output_type": "stream",
     "text": [
      "Train acc: 0.904, Train loss: 0.288\n",
      "Val acc: 0.678, Val loss: 0.810\n",
      "\n"
     ]
    }
   ],
   "source": [
    "train_accuracies, train_losses, val_accuracies, val_losses = utils.train_model(model=cnn_model,\n",
    "                                                                               criterion=criterion,\n",
    "                                                                               optimizer=optimizer,\n",
    "                                                                               scheduler=scheduler,\n",
    "                                                                               train_loader=train_loader,\n",
    "                                                                               val_loader=val_loader,\n",
    "                                                                               num_epochs=num_epochs,\n",
    "                                                                               learning=False,\n",
    "                                                                               device=device,\n",
    "                                                                               trial=None)"
   ]
  },
  {
   "cell_type": "markdown",
   "id": "8c58d045-e9bc-4cae-85fe-b3f13b094ebc",
   "metadata": {},
   "source": [
    "### **Training and Validation Accuracy Graph**"
   ]
  },
  {
   "cell_type": "code",
   "execution_count": 15,
   "id": "36df2b03-18e6-4e34-abca-b1f8fda8a8fe",
   "metadata": {},
   "outputs": [
    {
     "data": {
      "image/png": "[encoded data removed]",
      "text/plain": [
       "<Figure size 1000x600 with 1 Axes>"
      ]
     },
     "metadata": {},
     "output_type": "display_data"
    }
   ],
   "source": [
    "epochs = range(1, num_epochs + 1)\n",
    "\n",
    "plt.figure(figsize=(10, 6))\n",
    "plt.plot(epochs, train_accuracies, label='Training Accuracy')\n",
    "plt.plot(epochs, val_accuracies, label='Validation Accuracy')\n",
    "plt.title('Training and Validation Accuracy')\n",
    "plt.xlabel('Epoch')\n",
    "plt.ylabel('Accuracy')\n",
    "plt.legend()\n",
    "plt.grid(True)\n",
    "plt.show()"
   ]
  },
  {
   "cell_type": "markdown",
   "id": "cb6b671e-319e-48cc-b28c-bd31cc7ff881",
   "metadata": {},
   "source": [
    "### **Training and Validation Loss**"
   ]
  },
  {
   "cell_type": "code",
   "execution_count": 16,
   "id": "e6b1321b-1349-48ea-85b7-b7a7e5c2df10",
   "metadata": {
    "scrolled": true
   },
   "outputs": [
    {
     "data": {
      "image/png": "[encoded data removed]",
      "text/plain": [
       "<Figure size 1000x600 with 1 Axes>"
      ]
     },
     "metadata": {},
     "output_type": "display_data"
    }
   ],
   "source": [
    "import matplotlib.pyplot as plt\n",
    "epochs = range(1, num_epochs + 1)\n",
    "\n",
    "plt.figure(figsize=(10, 6))\n",
    "plt.plot(epochs, train_losses, label='Training Loss')\n",
    "plt.plot(epochs, val_losses, label='Validation Loss')\n",
    "plt.title('Training and Validation Loss')\n",
    "plt.xlabel('Epoch')\n",
    "plt.ylabel('Loss')\n",
    "plt.legend()\n",
    "plt.grid(True)\n",
    "plt.show()"
   ]
  },
  {
   "cell_type": "code",
   "execution_count": 17,
   "id": "71c8e6f3-5135-4d31-803b-f9045649b886",
   "metadata": {},
   "outputs": [
    {
     "name": "stdout",
     "output_type": "stream",
     "text": [
      "Test acc: 0.745\n"
     ]
    }
   ],
   "source": [
    "utils.test_model(cnn_model, test_loader)"
   ]
  },
  {
   "cell_type": "code",
   "execution_count": 18,
   "id": "540db587-e264-43e5-8ee6-30894ccb13a8",
   "metadata": {},
   "outputs": [
    {
     "data": {
      "text/plain": [
       "CNN(\n",
       "  (conv1): Sequential(\n",
       "    (0): Conv1d(22, 25, kernel_size=(5,), stride=(1,))\n",
       "    (1): ReLU()\n",
       "    (2): BatchNorm1d(25, eps=1e-05, momentum=0.1, affine=True, track_running_stats=True)\n",
       "    (3): Dropout(p=0.3647999634687216, inplace=False)\n",
       "  )\n",
       "  (conv2): Sequential(\n",
       "    (0): Conv2d(25, 50, kernel_size=(1, 25), stride=(1, 1))\n",
       "    (1): ELU(alpha=1.0)\n",
       "    (2): BatchNorm2d(50, eps=1e-05, momentum=0.1, affine=True, track_running_stats=True)\n",
       "    (3): MaxPool2d(kernel_size=(1, 3), stride=(1, 3), padding=0, dilation=1, ceil_mode=False)\n",
       "    (4): Dropout(p=0.3647999634687216, inplace=False)\n",
       "  )\n",
       "  (conv3): Sequential(\n",
       "    (0): Conv1d(50, 100, kernel_size=(6,), stride=(1,))\n",
       "    (1): ELU(alpha=1.0)\n",
       "    (2): BatchNorm1d(100, eps=1e-05, momentum=0.1, affine=True, track_running_stats=True)\n",
       "    (3): MaxPool1d(kernel_size=3, stride=3, padding=0, dilation=1, ceil_mode=False)\n",
       "    (4): Dropout(p=0.3647999634687216, inplace=False)\n",
       "  )\n",
       "  (conv4): Sequential(\n",
       "    (0): Conv1d(100, 405, kernel_size=(5,), stride=(1,))\n",
       "    (1): ELU(alpha=1.0)\n",
       "    (2): BatchNorm1d(405, eps=1e-05, momentum=0.1, affine=True, track_running_stats=True)\n",
       "    (3): MaxPool1d(kernel_size=3, stride=3, padding=0, dilation=1, ceil_mode=False)\n",
       "    (4): Dropout(p=0.3647999634687216, inplace=False)\n",
       "  )\n",
       "  (dense): Linear(in_features=4455, out_features=4, bias=True)\n",
       ")"
      ]
     },
     "execution_count": 18,
     "metadata": {},
     "output_type": "execute_result"
    }
   ],
   "source": [
    "torch.save(cnn_model, path_to_save+'cnn')\n",
    "torch.cuda.empty_cache()\n",
    "cnn_model.to('cpu')"
   ]
  },
  {
   "cell_type": "markdown",
   "id": "ef61e82d-c964-4274-9001-0bd832b5050f",
   "metadata": {},
   "source": [
    "# **CNN-GRU**"
   ]
  },
  {
   "cell_type": "markdown",
   "id": "f57f54d4-7278-4dc2-ab7c-1d984393bb9e",
   "metadata": {},
   "source": [
    "### **Model Summary**"
   ]
  },
  {
   "cell_type": "code",
   "execution_count": 19,
   "id": "8de9538a-e6e3-45d6-80a2-953471e7c998",
   "metadata": {},
   "outputs": [
    {
     "data": {
      "text/plain": [
       "==========================================================================================\n",
       "Layer (type:depth-idx)                   Output Shape              Param #\n",
       "==========================================================================================\n",
       "CGRU                                     [64, 4]                   --\n",
       "├─Sequential: 1-1                        [64, 25, 396]             --\n",
       "│    └─Conv1d: 2-1                       [64, 25, 396]             2,775\n",
       "│    └─ReLU: 2-2                         [64, 25, 396]             --\n",
       "│    └─BatchNorm1d: 2-3                  [64, 25, 396]             50\n",
       "│    └─Dropout: 2-4                      [64, 25, 396]             --\n",
       "├─Sequential: 1-2                        [64, 50, 1, 124]          --\n",
       "│    └─Conv2d: 2-5                       [64, 50, 1, 372]          31,300\n",
       "│    └─ELU: 2-6                          [64, 50, 1, 372]          --\n",
       "│    └─BatchNorm2d: 2-7                  [64, 50, 1, 372]          100\n",
       "│    └─MaxPool2d: 2-8                    [64, 50, 1, 124]          --\n",
       "│    └─Dropout: 2-9                      [64, 50, 1, 124]          --\n",
       "├─Sequential: 1-3                        [64, 100, 39]             --\n",
       "│    └─Conv1d: 2-10                      [64, 100, 119]            30,100\n",
       "│    └─ELU: 2-11                         [64, 100, 119]            --\n",
       "│    └─BatchNorm1d: 2-12                 [64, 100, 119]            200\n",
       "│    └─MaxPool1d: 2-13                   [64, 100, 39]             --\n",
       "│    └─Dropout: 2-14                     [64, 100, 39]             --\n",
       "├─Sequential: 1-4                        [64, 405, 11]             --\n",
       "│    └─Conv1d: 2-15                      [64, 405, 35]             202,905\n",
       "│    └─ELU: 2-16                         [64, 405, 35]             --\n",
       "│    └─BatchNorm1d: 2-17                 [64, 405, 35]             810\n",
       "│    └─MaxPool1d: 2-18                   [64, 405, 11]             --\n",
       "│    └─Dropout: 2-19                     [64, 405, 11]             --\n",
       "├─Sequential: 1-5                        [64, 200]                 --\n",
       "│    └─Linear: 2-20                      [64, 200]                 891,200\n",
       "│    └─ReLU: 2-21                        [64, 200]                 --\n",
       "│    └─BatchNorm1d: 2-22                 [64, 200]                 400\n",
       "│    └─Dropout: 2-23                     [64, 200]                 --\n",
       "├─GRU: 1-6                               [64, 200]                 362,400\n",
       "├─Linear: 1-7                            [64, 4]                   804\n",
       "==========================================================================================\n",
       "Total params: 1,523,044\n",
       "Trainable params: 1,523,044\n",
       "Non-trainable params: 0\n",
       "Total mult-adds (Units.GIGABYTES): 6.20\n",
       "==========================================================================================\n",
       "Input size (MB): 2.25\n",
       "Forward/backward pass size (MB): 56.19\n",
       "Params size (MB): 6.09\n",
       "Estimated Total Size (MB): 64.54\n",
       "=========================================================================================="
      ]
     },
     "execution_count": 19,
     "metadata": {},
     "output_type": "execute_result"
    }
   ],
   "source": [
    "torchinfo.summary(cgru.CGRU(), input_size=(batch_size, 22, 400))"
   ]
  },
  {
   "cell_type": "code",
   "execution_count": 20,
   "id": "3f3b2a37-404b-4548-bce4-c485fe963b7d",
   "metadata": {},
   "outputs": [],
   "source": [
    "cgru_model = cgru.CGRU().to(device)\n",
    "criterion = nn.CrossEntropyLoss()\n",
    "optimizer = torch.optim.Adamax(cgru_model.parameters(),\n",
    "                               lr=0.001767340543208569,\n",
    "                               weight_decay=0.008272087903010924)\n",
    "scheduler = torch.optim.lr_scheduler.CosineAnnealingLR(optimizer, \n",
    "                                                       T_max=T_max, \n",
    "                                                       eta_min=eta_min)"
   ]
  },
  {
   "cell_type": "markdown",
   "id": "3922236e-dca5-47f5-b631-310b6c5bf4a2",
   "metadata": {},
   "source": [
    "### **Train the model**"
   ]
  },
  {
   "cell_type": "code",
   "execution_count": 21,
   "id": "d0b1a548-f9e9-494b-9900-42cb4d46d526",
   "metadata": {},
   "outputs": [
    {
     "name": "stdout",
     "output_type": "stream",
     "text": [
      "Epoch 1\n"
     ]
    },
    {
     "data": {
      "application/vnd.jupyter.widget-view+json": {
       "model_id": "3d03875ab8114f3ea3fd7af43ac073af",
       "version_major": 2,
       "version_minor": 0
      },
      "text/plain": [
       "  0%|          | 0/476 [00:00<?, ?it/s]"
      ]
     },
     "metadata": {},
     "output_type": "display_data"
    },
    {
     "name": "stdout",
     "output_type": "stream",
     "text": [
      "Train acc: 0.437, Train loss: 1.222\n",
      "Val acc: 0.437, Val loss: 1.281\n",
      "\n",
      "Epoch 2\n"
     ]
    },
    {
     "data": {
      "application/vnd.jupyter.widget-view+json": {
       "model_id": "4d99af60175c49408b401d83cae62b25",
       "version_major": 2,
       "version_minor": 0
      },
      "text/plain": [
       "  0%|          | 0/476 [00:00<?, ?it/s]"
      ]
     },
     "metadata": {},
     "output_type": "display_data"
    },
    {
     "name": "stdout",
     "output_type": "stream",
     "text": [
      "Train acc: 0.548, Train loss: 1.023\n",
      "Val acc: 0.498, Val loss: 1.176\n",
      "\n",
      "Epoch 3\n"
     ]
    },
    {
     "data": {
      "application/vnd.jupyter.widget-view+json": {
       "model_id": "118892bdc46b4022b4eb5dd95e949465",
       "version_major": 2,
       "version_minor": 0
      },
      "text/plain": [
       "  0%|          | 0/476 [00:00<?, ?it/s]"
      ]
     },
     "metadata": {},
     "output_type": "display_data"
    },
    {
     "name": "stdout",
     "output_type": "stream",
     "text": [
      "Train acc: 0.619, Train loss: 0.892\n",
      "Val acc: 0.581, Val loss: 1.036\n",
      "\n",
      "Epoch 4\n"
     ]
    },
    {
     "data": {
      "application/vnd.jupyter.widget-view+json": {
       "model_id": "070d98743f324767909f82c533383355",
       "version_major": 2,
       "version_minor": 0
      },
      "text/plain": [
       "  0%|          | 0/476 [00:00<?, ?it/s]"
      ]
     },
     "metadata": {},
     "output_type": "display_data"
    },
    {
     "name": "stdout",
     "output_type": "stream",
     "text": [
      "Train acc: 0.704, Train loss: 0.745\n",
      "Val acc: 0.529, Val loss: 1.241\n",
      "\n",
      "Epoch 5\n"
     ]
    },
    {
     "data": {
      "application/vnd.jupyter.widget-view+json": {
       "model_id": "c5ff00ea56d94cf5b8a2a40f4454286e",
       "version_major": 2,
       "version_minor": 0
      },
      "text/plain": [
       "  0%|          | 0/476 [00:00<?, ?it/s]"
      ]
     },
     "metadata": {},
     "output_type": "display_data"
    },
    {
     "name": "stdout",
     "output_type": "stream",
     "text": [
      "Train acc: 0.774, Train loss: 0.610\n",
      "Val acc: 0.632, Val loss: 0.975\n",
      "\n",
      "Epoch 6\n"
     ]
    },
    {
     "data": {
      "application/vnd.jupyter.widget-view+json": {
       "model_id": "719faa47f3b9401299385bb64c716f75",
       "version_major": 2,
       "version_minor": 0
      },
      "text/plain": [
       "  0%|          | 0/476 [00:00<?, ?it/s]"
      ]
     },
     "metadata": {},
     "output_type": "display_data"
    },
    {
     "name": "stdout",
     "output_type": "stream",
     "text": [
      "Train acc: 0.807, Train loss: 0.529\n",
      "Val acc: 0.604, Val loss: 1.001\n",
      "\n",
      "Epoch 7\n"
     ]
    },
    {
     "data": {
      "application/vnd.jupyter.widget-view+json": {
       "model_id": "64800b0c4a404b948eb4a22c33b98d52",
       "version_major": 2,
       "version_minor": 0
      },
      "text/plain": [
       "  0%|          | 0/476 [00:00<?, ?it/s]"
      ]
     },
     "metadata": {},
     "output_type": "display_data"
    },
    {
     "name": "stdout",
     "output_type": "stream",
     "text": [
      "Train acc: 0.833, Train loss: 0.470\n",
      "Val acc: 0.628, Val loss: 1.011\n",
      "\n",
      "Epoch 8\n"
     ]
    },
    {
     "data": {
      "application/vnd.jupyter.widget-view+json": {
       "model_id": "e369801f87f648158e9f4462f5cae17f",
       "version_major": 2,
       "version_minor": 0
      },
      "text/plain": [
       "  0%|          | 0/476 [00:00<?, ?it/s]"
      ]
     },
     "metadata": {},
     "output_type": "display_data"
    },
    {
     "name": "stdout",
     "output_type": "stream",
     "text": [
      "Train acc: 0.853, Train loss: 0.425\n",
      "Val acc: 0.635, Val loss: 1.034\n",
      "\n",
      "Epoch 9\n"
     ]
    },
    {
     "data": {
      "application/vnd.jupyter.widget-view+json": {
       "model_id": "9a9683eae47e4bc0b5c5fb930c6b7cfb",
       "version_major": 2,
       "version_minor": 0
      },
      "text/plain": [
       "  0%|          | 0/476 [00:00<?, ?it/s]"
      ]
     },
     "metadata": {},
     "output_type": "display_data"
    },
    {
     "name": "stdout",
     "output_type": "stream",
     "text": [
      "Train acc: 0.869, Train loss: 0.384\n",
      "Val acc: 0.654, Val loss: 0.971\n",
      "\n",
      "Epoch 10\n"
     ]
    },
    {
     "data": {
      "application/vnd.jupyter.widget-view+json": {
       "model_id": "03f6fb011ca04ca3adb5bdea71e53471",
       "version_major": 2,
       "version_minor": 0
      },
      "text/plain": [
       "  0%|          | 0/476 [00:00<?, ?it/s]"
      ]
     },
     "metadata": {},
     "output_type": "display_data"
    },
    {
     "name": "stdout",
     "output_type": "stream",
     "text": [
      "Train acc: 0.882, Train loss: 0.352\n",
      "Val acc: 0.631, Val loss: 1.063\n",
      "\n",
      "Epoch 11\n"
     ]
    },
    {
     "data": {
      "application/vnd.jupyter.widget-view+json": {
       "model_id": "2e8d09df9cbb4bcca28808a4b579a881",
       "version_major": 2,
       "version_minor": 0
      },
      "text/plain": [
       "  0%|          | 0/476 [00:00<?, ?it/s]"
      ]
     },
     "metadata": {},
     "output_type": "display_data"
    },
    {
     "name": "stdout",
     "output_type": "stream",
     "text": [
      "Train acc: 0.893, Train loss: 0.324\n",
      "Val acc: 0.642, Val loss: 1.049\n",
      "\n",
      "Epoch 12\n"
     ]
    },
    {
     "data": {
      "application/vnd.jupyter.widget-view+json": {
       "model_id": "4fd1e509cabc4ca1ac3370e689187250",
       "version_major": 2,
       "version_minor": 0
      },
      "text/plain": [
       "  0%|          | 0/476 [00:00<?, ?it/s]"
      ]
     },
     "metadata": {},
     "output_type": "display_data"
    },
    {
     "name": "stdout",
     "output_type": "stream",
     "text": [
      "Train acc: 0.903, Train loss: 0.297\n",
      "Val acc: 0.645, Val loss: 1.090\n",
      "\n",
      "Epoch 13\n"
     ]
    },
    {
     "data": {
      "application/vnd.jupyter.widget-view+json": {
       "model_id": "938cf9f77e4e465ead3f5317a64ca83f",
       "version_major": 2,
       "version_minor": 0
      },
      "text/plain": [
       "  0%|          | 0/476 [00:00<?, ?it/s]"
      ]
     },
     "metadata": {},
     "output_type": "display_data"
    },
    {
     "name": "stdout",
     "output_type": "stream",
     "text": [
      "Train acc: 0.912, Train loss: 0.270\n",
      "Val acc: 0.633, Val loss: 1.122\n",
      "\n",
      "Epoch 14\n"
     ]
    },
    {
     "data": {
      "application/vnd.jupyter.widget-view+json": {
       "model_id": "4f992084f363411e9ca801a68491c942",
       "version_major": 2,
       "version_minor": 0
      },
      "text/plain": [
       "  0%|          | 0/476 [00:00<?, ?it/s]"
      ]
     },
     "metadata": {},
     "output_type": "display_data"
    },
    {
     "name": "stdout",
     "output_type": "stream",
     "text": [
      "Train acc: 0.922, Train loss: 0.242\n",
      "Val acc: 0.665, Val loss: 0.973\n",
      "\n",
      "Epoch 15\n"
     ]
    },
    {
     "data": {
      "application/vnd.jupyter.widget-view+json": {
       "model_id": "2992180ea43b45479e9e4d0f75e50009",
       "version_major": 2,
       "version_minor": 0
      },
      "text/plain": [
       "  0%|          | 0/476 [00:00<?, ?it/s]"
      ]
     },
     "metadata": {},
     "output_type": "display_data"
    },
    {
     "name": "stdout",
     "output_type": "stream",
     "text": [
      "Train acc: 0.928, Train loss: 0.223\n",
      "Val acc: 0.647, Val loss: 1.031\n",
      "\n",
      "Epoch 16\n"
     ]
    },
    {
     "data": {
      "application/vnd.jupyter.widget-view+json": {
       "model_id": "39bd2df881784ca4b5397d5cf0da98b9",
       "version_major": 2,
       "version_minor": 0
      },
      "text/plain": [
       "  0%|          | 0/476 [00:00<?, ?it/s]"
      ]
     },
     "metadata": {},
     "output_type": "display_data"
    },
    {
     "name": "stdout",
     "output_type": "stream",
     "text": [
      "Train acc: 0.934, Train loss: 0.202\n",
      "Val acc: 0.630, Val loss: 1.142\n",
      "\n",
      "Epoch 17\n"
     ]
    },
    {
     "data": {
      "application/vnd.jupyter.widget-view+json": {
       "model_id": "dddb66a80bb54c58a8054b371d9231a9",
       "version_major": 2,
       "version_minor": 0
      },
      "text/plain": [
       "  0%|          | 0/476 [00:00<?, ?it/s]"
      ]
     },
     "metadata": {},
     "output_type": "display_data"
    },
    {
     "name": "stdout",
     "output_type": "stream",
     "text": [
      "Train acc: 0.946, Train loss: 0.176\n",
      "Val acc: 0.658, Val loss: 1.017\n",
      "\n",
      "Epoch 18\n"
     ]
    },
    {
     "data": {
      "application/vnd.jupyter.widget-view+json": {
       "model_id": "47e70de675ae4f8e99fe212b36491bdc",
       "version_major": 2,
       "version_minor": 0
      },
      "text/plain": [
       "  0%|          | 0/476 [00:00<?, ?it/s]"
      ]
     },
     "metadata": {},
     "output_type": "display_data"
    },
    {
     "name": "stdout",
     "output_type": "stream",
     "text": [
      "Train acc: 0.948, Train loss: 0.168\n",
      "Val acc: 0.674, Val loss: 0.988\n",
      "\n",
      "Epoch 19\n"
     ]
    },
    {
     "data": {
      "application/vnd.jupyter.widget-view+json": {
       "model_id": "5530b8b22fc84dde861292afc6d3b386",
       "version_major": 2,
       "version_minor": 0
      },
      "text/plain": [
       "  0%|          | 0/476 [00:00<?, ?it/s]"
      ]
     },
     "metadata": {},
     "output_type": "display_data"
    },
    {
     "name": "stdout",
     "output_type": "stream",
     "text": [
      "Train acc: 0.953, Train loss: 0.152\n",
      "Val acc: 0.672, Val loss: 0.959\n",
      "\n",
      "Epoch 20\n"
     ]
    },
    {
     "data": {
      "application/vnd.jupyter.widget-view+json": {
       "model_id": "503323fb57de486eab56e24f9e792c47",
       "version_major": 2,
       "version_minor": 0
      },
      "text/plain": [
       "  0%|          | 0/476 [00:00<?, ?it/s]"
      ]
     },
     "metadata": {},
     "output_type": "display_data"
    },
    {
     "name": "stdout",
     "output_type": "stream",
     "text": [
      "Train acc: 0.959, Train loss: 0.140\n",
      "Val acc: 0.657, Val loss: 1.011\n",
      "\n",
      "Epoch 21\n"
     ]
    },
    {
     "data": {
      "application/vnd.jupyter.widget-view+json": {
       "model_id": "a42576f9f6f64f0bb9b1f4272b2fd814",
       "version_major": 2,
       "version_minor": 0
      },
      "text/plain": [
       "  0%|          | 0/476 [00:00<?, ?it/s]"
      ]
     },
     "metadata": {},
     "output_type": "display_data"
    },
    {
     "name": "stdout",
     "output_type": "stream",
     "text": [
      "Train acc: 0.962, Train loss: 0.131\n",
      "Val acc: 0.675, Val loss: 0.972\n",
      "\n",
      "Epoch 22\n"
     ]
    },
    {
     "data": {
      "application/vnd.jupyter.widget-view+json": {
       "model_id": "7995ed178aa14fe685bdf0200a34cf7a",
       "version_major": 2,
       "version_minor": 0
      },
      "text/plain": [
       "  0%|          | 0/476 [00:00<?, ?it/s]"
      ]
     },
     "metadata": {},
     "output_type": "display_data"
    },
    {
     "name": "stdout",
     "output_type": "stream",
     "text": [
      "Train acc: 0.966, Train loss: 0.121\n",
      "Val acc: 0.673, Val loss: 0.988\n",
      "\n",
      "Epoch 23\n"
     ]
    },
    {
     "data": {
      "application/vnd.jupyter.widget-view+json": {
       "model_id": "47122f11bcf44a008cc4eff70fe3ac59",
       "version_major": 2,
       "version_minor": 0
      },
      "text/plain": [
       "  0%|          | 0/476 [00:00<?, ?it/s]"
      ]
     },
     "metadata": {},
     "output_type": "display_data"
    },
    {
     "name": "stdout",
     "output_type": "stream",
     "text": [
      "Train acc: 0.968, Train loss: 0.114\n",
      "Val acc: 0.660, Val loss: 1.021\n",
      "\n",
      "Epoch 24\n"
     ]
    },
    {
     "data": {
      "application/vnd.jupyter.widget-view+json": {
       "model_id": "8e86b60bb259414d8898bb9054bb0283",
       "version_major": 2,
       "version_minor": 0
      },
      "text/plain": [
       "  0%|          | 0/476 [00:00<?, ?it/s]"
      ]
     },
     "metadata": {},
     "output_type": "display_data"
    },
    {
     "name": "stdout",
     "output_type": "stream",
     "text": [
      "Train acc: 0.972, Train loss: 0.106\n",
      "Val acc: 0.665, Val loss: 0.983\n",
      "\n",
      "Epoch 25\n"
     ]
    },
    {
     "data": {
      "application/vnd.jupyter.widget-view+json": {
       "model_id": "c35029b087c84ffd833c7cc7947f814b",
       "version_major": 2,
       "version_minor": 0
      },
      "text/plain": [
       "  0%|          | 0/476 [00:00<?, ?it/s]"
      ]
     },
     "metadata": {},
     "output_type": "display_data"
    },
    {
     "name": "stdout",
     "output_type": "stream",
     "text": [
      "Train acc: 0.970, Train loss: 0.109\n",
      "Val acc: 0.663, Val loss: 1.013\n",
      "\n",
      "Epoch 26\n"
     ]
    },
    {
     "data": {
      "application/vnd.jupyter.widget-view+json": {
       "model_id": "4f1ef45f51e74960a3f177f76e2bbe93",
       "version_major": 2,
       "version_minor": 0
      },
      "text/plain": [
       "  0%|          | 0/476 [00:00<?, ?it/s]"
      ]
     },
     "metadata": {},
     "output_type": "display_data"
    },
    {
     "name": "stdout",
     "output_type": "stream",
     "text": [
      "Train acc: 0.971, Train loss: 0.106\n",
      "Val acc: 0.664, Val loss: 1.025\n",
      "\n",
      "Epoch 27\n"
     ]
    },
    {
     "data": {
      "application/vnd.jupyter.widget-view+json": {
       "model_id": "1742bb581d554936a1abaf87799aa158",
       "version_major": 2,
       "version_minor": 0
      },
      "text/plain": [
       "  0%|          | 0/476 [00:00<?, ?it/s]"
      ]
     },
     "metadata": {},
     "output_type": "display_data"
    },
    {
     "name": "stdout",
     "output_type": "stream",
     "text": [
      "Train acc: 0.971, Train loss: 0.105\n",
      "Val acc: 0.665, Val loss: 1.012\n",
      "\n",
      "Epoch 28\n"
     ]
    },
    {
     "data": {
      "application/vnd.jupyter.widget-view+json": {
       "model_id": "c712c737142f4b85bba548e791ab4944",
       "version_major": 2,
       "version_minor": 0
      },
      "text/plain": [
       "  0%|          | 0/476 [00:00<?, ?it/s]"
      ]
     },
     "metadata": {},
     "output_type": "display_data"
    },
    {
     "name": "stdout",
     "output_type": "stream",
     "text": [
      "Train acc: 0.971, Train loss: 0.108\n",
      "Val acc: 0.662, Val loss: 1.022\n",
      "\n",
      "Epoch 29\n"
     ]
    },
    {
     "data": {
      "application/vnd.jupyter.widget-view+json": {
       "model_id": "4a4e141a839248419fa0b371783efd87",
       "version_major": 2,
       "version_minor": 0
      },
      "text/plain": [
       "  0%|          | 0/476 [00:00<?, ?it/s]"
      ]
     },
     "metadata": {},
     "output_type": "display_data"
    },
    {
     "name": "stdout",
     "output_type": "stream",
     "text": [
      "Train acc: 0.971, Train loss: 0.103\n",
      "Val acc: 0.662, Val loss: 1.020\n",
      "\n",
      "Epoch 30\n"
     ]
    },
    {
     "data": {
      "application/vnd.jupyter.widget-view+json": {
       "model_id": "42780f7ab20140818cd48955317e0e0d",
       "version_major": 2,
       "version_minor": 0
      },
      "text/plain": [
       "  0%|          | 0/476 [00:00<?, ?it/s]"
      ]
     },
     "metadata": {},
     "output_type": "display_data"
    },
    {
     "name": "stdout",
     "output_type": "stream",
     "text": [
      "Train acc: 0.970, Train loss: 0.109\n",
      "Val acc: 0.655, Val loss: 1.063\n",
      "\n",
      "Epoch 31\n"
     ]
    },
    {
     "data": {
      "application/vnd.jupyter.widget-view+json": {
       "model_id": "1afec60594434726b0dad08acf4d98a7",
       "version_major": 2,
       "version_minor": 0
      },
      "text/plain": [
       "  0%|          | 0/476 [00:00<?, ?it/s]"
      ]
     },
     "metadata": {},
     "output_type": "display_data"
    },
    {
     "name": "stdout",
     "output_type": "stream",
     "text": [
      "Train acc: 0.970, Train loss: 0.107\n",
      "Val acc: 0.664, Val loss: 1.038\n",
      "\n",
      "Epoch 32\n"
     ]
    },
    {
     "data": {
      "application/vnd.jupyter.widget-view+json": {
       "model_id": "1feb0d9995a14469a3521125c2a6ec6f",
       "version_major": 2,
       "version_minor": 0
      },
      "text/plain": [
       "  0%|          | 0/476 [00:00<?, ?it/s]"
      ]
     },
     "metadata": {},
     "output_type": "display_data"
    },
    {
     "name": "stdout",
     "output_type": "stream",
     "text": [
      "Train acc: 0.968, Train loss: 0.111\n",
      "Val acc: 0.659, Val loss: 1.006\n",
      "\n",
      "Epoch 33\n"
     ]
    },
    {
     "data": {
      "application/vnd.jupyter.widget-view+json": {
       "model_id": "83c4c19d8937497289a9952d2bfa8515",
       "version_major": 2,
       "version_minor": 0
      },
      "text/plain": [
       "  0%|          | 0/476 [00:00<?, ?it/s]"
      ]
     },
     "metadata": {},
     "output_type": "display_data"
    },
    {
     "name": "stdout",
     "output_type": "stream",
     "text": [
      "Train acc: 0.965, Train loss: 0.117\n",
      "Val acc: 0.654, Val loss: 1.066\n",
      "\n",
      "Epoch 34\n"
     ]
    },
    {
     "data": {
      "application/vnd.jupyter.widget-view+json": {
       "model_id": "6a80c0c6e52e45329f8b7854c9b92f1f",
       "version_major": 2,
       "version_minor": 0
      },
      "text/plain": [
       "  0%|          | 0/476 [00:00<?, ?it/s]"
      ]
     },
     "metadata": {},
     "output_type": "display_data"
    },
    {
     "name": "stdout",
     "output_type": "stream",
     "text": [
      "Train acc: 0.962, Train loss: 0.130\n",
      "Val acc: 0.657, Val loss: 1.068\n",
      "\n",
      "Epoch 35\n"
     ]
    },
    {
     "data": {
      "application/vnd.jupyter.widget-view+json": {
       "model_id": "2f90fe1590a24121b16ccf86d02e8ff1",
       "version_major": 2,
       "version_minor": 0
      },
      "text/plain": [
       "  0%|          | 0/476 [00:00<?, ?it/s]"
      ]
     },
     "metadata": {},
     "output_type": "display_data"
    },
    {
     "name": "stdout",
     "output_type": "stream",
     "text": [
      "Train acc: 0.954, Train loss: 0.149\n",
      "Val acc: 0.657, Val loss: 1.050\n",
      "\n",
      "Epoch 36\n"
     ]
    },
    {
     "data": {
      "application/vnd.jupyter.widget-view+json": {
       "model_id": "80ae67b8bb8a451887cb03f6a7c5d9c9",
       "version_major": 2,
       "version_minor": 0
      },
      "text/plain": [
       "  0%|          | 0/476 [00:00<?, ?it/s]"
      ]
     },
     "metadata": {},
     "output_type": "display_data"
    },
    {
     "name": "stdout",
     "output_type": "stream",
     "text": [
      "Train acc: 0.947, Train loss: 0.169\n",
      "Val acc: 0.642, Val loss: 1.068\n",
      "\n",
      "Epoch 37\n"
     ]
    },
    {
     "data": {
      "application/vnd.jupyter.widget-view+json": {
       "model_id": "9aaeb88448e146b992b521c38a12fd42",
       "version_major": 2,
       "version_minor": 0
      },
      "text/plain": [
       "  0%|          | 0/476 [00:00<?, ?it/s]"
      ]
     },
     "metadata": {},
     "output_type": "display_data"
    },
    {
     "name": "stdout",
     "output_type": "stream",
     "text": [
      "Train acc: 0.943, Train loss: 0.186\n",
      "Val acc: 0.631, Val loss: 1.139\n",
      "\n",
      "Epoch 38\n"
     ]
    },
    {
     "data": {
      "application/vnd.jupyter.widget-view+json": {
       "model_id": "3b30031dbd4d4fc49da909cd6d637421",
       "version_major": 2,
       "version_minor": 0
      },
      "text/plain": [
       "  0%|          | 0/476 [00:00<?, ?it/s]"
      ]
     },
     "metadata": {},
     "output_type": "display_data"
    },
    {
     "name": "stdout",
     "output_type": "stream",
     "text": [
      "Train acc: 0.935, Train loss: 0.204\n",
      "Val acc: 0.625, Val loss: 1.094\n",
      "\n",
      "Epoch 39\n"
     ]
    },
    {
     "data": {
      "application/vnd.jupyter.widget-view+json": {
       "model_id": "f507619d9a054fd8a969014c9d7b90f9",
       "version_major": 2,
       "version_minor": 0
      },
      "text/plain": [
       "  0%|          | 0/476 [00:00<?, ?it/s]"
      ]
     },
     "metadata": {},
     "output_type": "display_data"
    },
    {
     "name": "stdout",
     "output_type": "stream",
     "text": [
      "Train acc: 0.927, Train loss: 0.226\n",
      "Val acc: 0.599, Val loss: 1.149\n",
      "\n",
      "Epoch 40\n"
     ]
    },
    {
     "data": {
      "application/vnd.jupyter.widget-view+json": {
       "model_id": "92b8f1da11f241e4a8f7a2120375b986",
       "version_major": 2,
       "version_minor": 0
      },
      "text/plain": [
       "  0%|          | 0/476 [00:00<?, ?it/s]"
      ]
     },
     "metadata": {},
     "output_type": "display_data"
    },
    {
     "name": "stdout",
     "output_type": "stream",
     "text": [
      "Train acc: 0.919, Train loss: 0.248\n",
      "Val acc: 0.618, Val loss: 1.214\n",
      "\n",
      "Epoch 41\n"
     ]
    },
    {
     "data": {
      "application/vnd.jupyter.widget-view+json": {
       "model_id": "0748fadaacad42fb8302ec501f48e55e",
       "version_major": 2,
       "version_minor": 0
      },
      "text/plain": [
       "  0%|          | 0/476 [00:00<?, ?it/s]"
      ]
     },
     "metadata": {},
     "output_type": "display_data"
    },
    {
     "name": "stdout",
     "output_type": "stream",
     "text": [
      "Train acc: 0.916, Train loss: 0.254\n",
      "Val acc: 0.611, Val loss: 1.178\n",
      "\n",
      "Epoch 42\n"
     ]
    },
    {
     "data": {
      "application/vnd.jupyter.widget-view+json": {
       "model_id": "291c448b7b6f45ee8b936f6dc8b4913f",
       "version_major": 2,
       "version_minor": 0
      },
      "text/plain": [
       "  0%|          | 0/476 [00:00<?, ?it/s]"
      ]
     },
     "metadata": {},
     "output_type": "display_data"
    },
    {
     "name": "stdout",
     "output_type": "stream",
     "text": [
      "Train acc: 0.910, Train loss: 0.278\n",
      "Val acc: 0.646, Val loss: 1.082\n",
      "\n",
      "Epoch 43\n"
     ]
    },
    {
     "data": {
      "application/vnd.jupyter.widget-view+json": {
       "model_id": "ccb8943aa27c4b5b80c8cfbbf54db146",
       "version_major": 2,
       "version_minor": 0
      },
      "text/plain": [
       "  0%|          | 0/476 [00:00<?, ?it/s]"
      ]
     },
     "metadata": {},
     "output_type": "display_data"
    },
    {
     "name": "stdout",
     "output_type": "stream",
     "text": [
      "Train acc: 0.904, Train loss: 0.286\n",
      "Val acc: 0.633, Val loss: 1.164\n",
      "\n",
      "Epoch 44\n"
     ]
    },
    {
     "data": {
      "application/vnd.jupyter.widget-view+json": {
       "model_id": "9070f28abddd41abb835d363d8456754",
       "version_major": 2,
       "version_minor": 0
      },
      "text/plain": [
       "  0%|          | 0/476 [00:00<?, ?it/s]"
      ]
     },
     "metadata": {},
     "output_type": "display_data"
    },
    {
     "name": "stdout",
     "output_type": "stream",
     "text": [
      "Train acc: 0.904, Train loss: 0.292\n",
      "Val acc: 0.639, Val loss: 1.056\n",
      "\n",
      "Epoch 45\n"
     ]
    },
    {
     "data": {
      "application/vnd.jupyter.widget-view+json": {
       "model_id": "a56722d98517421f84900279d86209a2",
       "version_major": 2,
       "version_minor": 0
      },
      "text/plain": [
       "  0%|          | 0/476 [00:00<?, ?it/s]"
      ]
     },
     "metadata": {},
     "output_type": "display_data"
    },
    {
     "name": "stdout",
     "output_type": "stream",
     "text": [
      "Train acc: 0.899, Train loss: 0.306\n",
      "Val acc: 0.631, Val loss: 1.178\n",
      "\n",
      "Epoch 46\n"
     ]
    },
    {
     "data": {
      "application/vnd.jupyter.widget-view+json": {
       "model_id": "d5a503a7b0b147e9a9f3bc651d11c15d",
       "version_major": 2,
       "version_minor": 0
      },
      "text/plain": [
       "  0%|          | 0/476 [00:00<?, ?it/s]"
      ]
     },
     "metadata": {},
     "output_type": "display_data"
    },
    {
     "name": "stdout",
     "output_type": "stream",
     "text": [
      "Train acc: 0.899, Train loss: 0.309\n",
      "Val acc: 0.629, Val loss: 1.140\n",
      "\n",
      "Epoch 47\n"
     ]
    },
    {
     "data": {
      "application/vnd.jupyter.widget-view+json": {
       "model_id": "03783c3b3b0c433692c5f4de31456a7d",
       "version_major": 2,
       "version_minor": 0
      },
      "text/plain": [
       "  0%|          | 0/476 [00:00<?, ?it/s]"
      ]
     },
     "metadata": {},
     "output_type": "display_data"
    },
    {
     "name": "stdout",
     "output_type": "stream",
     "text": [
      "Train acc: 0.897, Train loss: 0.316\n",
      "Val acc: 0.617, Val loss: 1.180\n",
      "\n",
      "Epoch 48\n"
     ]
    },
    {
     "data": {
      "application/vnd.jupyter.widget-view+json": {
       "model_id": "c7a44d8ed3cb49248121b9d9efa0b329",
       "version_major": 2,
       "version_minor": 0
      },
      "text/plain": [
       "  0%|          | 0/476 [00:00<?, ?it/s]"
      ]
     },
     "metadata": {},
     "output_type": "display_data"
    },
    {
     "name": "stdout",
     "output_type": "stream",
     "text": [
      "Train acc: 0.896, Train loss: 0.314\n",
      "Val acc: 0.620, Val loss: 1.080\n",
      "\n",
      "Epoch 49\n"
     ]
    },
    {
     "data": {
      "application/vnd.jupyter.widget-view+json": {
       "model_id": "190d46e547c84d7a9c4157c338c9f1a7",
       "version_major": 2,
       "version_minor": 0
      },
      "text/plain": [
       "  0%|          | 0/476 [00:00<?, ?it/s]"
      ]
     },
     "metadata": {},
     "output_type": "display_data"
    },
    {
     "name": "stdout",
     "output_type": "stream",
     "text": [
      "Train acc: 0.895, Train loss: 0.318\n",
      "Val acc: 0.568, Val loss: 1.409\n",
      "\n",
      "Epoch 50\n"
     ]
    },
    {
     "data": {
      "application/vnd.jupyter.widget-view+json": {
       "model_id": "368af43d882f465aa9c963371808adfc",
       "version_major": 2,
       "version_minor": 0
      },
      "text/plain": [
       "  0%|          | 0/476 [00:00<?, ?it/s]"
      ]
     },
     "metadata": {},
     "output_type": "display_data"
    },
    {
     "name": "stdout",
     "output_type": "stream",
     "text": [
      "Train acc: 0.893, Train loss: 0.325\n",
      "Val acc: 0.610, Val loss: 1.189\n",
      "\n"
     ]
    }
   ],
   "source": [
    "train_accuracies, train_losses, val_accuracies, val_losses = utils.train_model(model=cgru_model,\n",
    "                                                                               criterion=criterion,\n",
    "                                                                               optimizer=optimizer,\n",
    "                                                                               scheduler=scheduler,\n",
    "                                                                               train_loader=train_loader,\n",
    "                                                                               val_loader=val_loader,\n",
    "                                                                               num_epochs=num_epochs,\n",
    "                                                                               learning=False,\n",
    "                                                                               device=device,\n",
    "                                                                               trial=None)"
   ]
  },
  {
   "cell_type": "markdown",
   "id": "7a706f1e-f660-4c21-a7c2-08d948fb2786",
   "metadata": {},
   "source": [
    "### **Training and Validation Accuracy Graph**"
   ]
  },
  {
   "cell_type": "code",
   "execution_count": 22,
   "id": "01e0ccd3-8d7b-4a18-8a7e-f8c16f9e8cc9",
   "metadata": {},
   "outputs": [
    {
     "data": {
      "image/png": "[encoded data removed]",
      "text/plain": [
       "<Figure size 1000x600 with 1 Axes>"
      ]
     },
     "metadata": {},
     "output_type": "display_data"
    }
   ],
   "source": [
    "epochs = range(1, num_epochs + 1)\n",
    "\n",
    "plt.figure(figsize=(10, 6))\n",
    "plt.plot(epochs, train_accuracies, label='Training Accuracy')\n",
    "plt.plot(epochs, val_accuracies, label='Validation Accuracy')\n",
    "plt.title('Training and Validation Accuracy')\n",
    "plt.xlabel('Epoch')\n",
    "plt.ylabel('Accuracy')\n",
    "plt.legend()\n",
    "plt.grid(True)\n",
    "plt.show()"
   ]
  },
  {
   "cell_type": "markdown",
   "id": "7e2dce00-d836-4a31-953e-cd762b88fd32",
   "metadata": {},
   "source": [
    "### **Training and Validation Loss**"
   ]
  },
  {
   "cell_type": "code",
   "execution_count": 23,
   "id": "e8f4b6b5-0619-4a98-a4aa-fca3e8eb4003",
   "metadata": {
    "scrolled": true
   },
   "outputs": [
    {
     "data": {
      "image/png": "[encoded data removed]",
      "text/plain": [
       "<Figure size 1000x600 with 1 Axes>"
      ]
     },
     "metadata": {},
     "output_type": "display_data"
    }
   ],
   "source": [
    "import matplotlib.pyplot as plt\n",
    "epochs = range(1, num_epochs + 1)\n",
    "\n",
    "plt.figure(figsize=(10, 6))\n",
    "plt.plot(epochs, train_losses, label='Training Loss')\n",
    "plt.plot(epochs, val_losses, label='Validation Loss')\n",
    "plt.title('Training and Validation Loss')\n",
    "plt.xlabel('Epoch')\n",
    "plt.ylabel('Loss')\n",
    "plt.legend()\n",
    "plt.grid(True)\n",
    "plt.show()"
   ]
  },
  {
   "cell_type": "code",
   "execution_count": 24,
   "id": "1aca540d-6cd4-4e91-a567-69d675fb948e",
   "metadata": {},
   "outputs": [
    {
     "name": "stdout",
     "output_type": "stream",
     "text": [
      "Test acc: 0.612\n"
     ]
    }
   ],
   "source": [
    "utils.test_model(cgru_model, test_loader)"
   ]
  },
  {
   "cell_type": "code",
   "execution_count": 25,
   "id": "12d24bdc-90b4-4f0c-a22d-a5ffc4ea5d7a",
   "metadata": {},
   "outputs": [
    {
     "data": {
      "text/plain": [
       "CGRU(\n",
       "  (conv1): Sequential(\n",
       "    (0): Conv1d(22, 25, kernel_size=(5,), stride=(1,))\n",
       "    (1): ReLU()\n",
       "    (2): BatchNorm1d(25, eps=1e-05, momentum=0.1, affine=True, track_running_stats=True)\n",
       "    (3): Dropout(p=0.3647999634687216, inplace=False)\n",
       "  )\n",
       "  (conv2): Sequential(\n",
       "    (0): Conv2d(25, 50, kernel_size=(1, 25), stride=(1, 1))\n",
       "    (1): ELU(alpha=1.0)\n",
       "    (2): BatchNorm2d(50, eps=1e-05, momentum=0.1, affine=True, track_running_stats=True)\n",
       "    (3): MaxPool2d(kernel_size=(1, 3), stride=(1, 3), padding=0, dilation=1, ceil_mode=False)\n",
       "    (4): Dropout(p=0.3647999634687216, inplace=False)\n",
       "  )\n",
       "  (conv3): Sequential(\n",
       "    (0): Conv1d(50, 100, kernel_size=(6,), stride=(1,))\n",
       "    (1): ELU(alpha=1.0)\n",
       "    (2): BatchNorm1d(100, eps=1e-05, momentum=0.1, affine=True, track_running_stats=True)\n",
       "    (3): MaxPool1d(kernel_size=3, stride=3, padding=0, dilation=1, ceil_mode=False)\n",
       "    (4): Dropout(p=0.3647999634687216, inplace=False)\n",
       "  )\n",
       "  (conv4): Sequential(\n",
       "    (0): Conv1d(100, 405, kernel_size=(5,), stride=(1,))\n",
       "    (1): ELU(alpha=1.0)\n",
       "    (2): BatchNorm1d(405, eps=1e-05, momentum=0.1, affine=True, track_running_stats=True)\n",
       "    (3): MaxPool1d(kernel_size=3, stride=3, padding=0, dilation=1, ceil_mode=False)\n",
       "    (4): Dropout(p=0.3647999634687216, inplace=False)\n",
       "  )\n",
       "  (linear): Sequential(\n",
       "    (0): Linear(in_features=4455, out_features=200, bias=True)\n",
       "    (1): ReLU()\n",
       "    (2): BatchNorm1d(200, eps=1e-05, momentum=0.1, affine=True, track_running_stats=True)\n",
       "    (3): Dropout(p=0.3647999634687216, inplace=False)\n",
       "  )\n",
       "  (gru): GRU(200, 100, num_layers=2, batch_first=True, bidirectional=True)\n",
       "  (dense): Linear(in_features=200, out_features=4, bias=True)\n",
       ")"
      ]
     },
     "execution_count": 25,
     "metadata": {},
     "output_type": "execute_result"
    }
   ],
   "source": [
    "torch.save(cgru_model, path_to_save+'cgru')\n",
    "torch.cuda.empty_cache()\n",
    "cgru_model.to('cpu')"
   ]
  },
  {
   "cell_type": "markdown",
   "id": "3efffa78-cc02-4dae-af5f-9806cc5cccc8",
   "metadata": {},
   "source": [
    "# **CNN-LSTM**"
   ]
  },
  {
   "cell_type": "markdown",
   "id": "3f106a91-6f66-4fff-9fb3-55053c15c99f",
   "metadata": {},
   "source": [
    "### **Model Summary**"
   ]
  },
  {
   "cell_type": "code",
   "execution_count": 26,
   "id": "7e3e7bc4-7dce-4b40-929e-468ba5c3dad9",
   "metadata": {},
   "outputs": [
    {
     "data": {
      "text/plain": [
       "==========================================================================================\n",
       "Layer (type:depth-idx)                   Output Shape              Param #\n",
       "==========================================================================================\n",
       "CLSTM                                    [64, 4]                   --\n",
       "├─Sequential: 1-1                        [64, 25, 396]             --\n",
       "│    └─Conv1d: 2-1                       [64, 25, 396]             2,775\n",
       "│    └─ReLU: 2-2                         [64, 25, 396]             --\n",
       "│    └─BatchNorm1d: 2-3                  [64, 25, 396]             50\n",
       "│    └─Dropout: 2-4                      [64, 25, 396]             --\n",
       "├─Sequential: 1-2                        [64, 50, 1, 124]          --\n",
       "│    └─Conv2d: 2-5                       [64, 50, 1, 372]          31,300\n",
       "│    └─ELU: 2-6                          [64, 50, 1, 372]          --\n",
       "│    └─BatchNorm2d: 2-7                  [64, 50, 1, 372]          100\n",
       "│    └─MaxPool2d: 2-8                    [64, 50, 1, 124]          --\n",
       "│    └─Dropout: 2-9                      [64, 50, 1, 124]          --\n",
       "├─Sequential: 1-3                        [64, 100, 39]             --\n",
       "│    └─Conv1d: 2-10                      [64, 100, 119]            30,100\n",
       "│    └─ELU: 2-11                         [64, 100, 119]            --\n",
       "│    └─BatchNorm1d: 2-12                 [64, 100, 119]            200\n",
       "│    └─MaxPool1d: 2-13                   [64, 100, 39]             --\n",
       "│    └─Dropout: 2-14                     [64, 100, 39]             --\n",
       "├─Sequential: 1-4                        [64, 405, 11]             --\n",
       "│    └─Conv1d: 2-15                      [64, 405, 35]             202,905\n",
       "│    └─ELU: 2-16                         [64, 405, 35]             --\n",
       "│    └─BatchNorm1d: 2-17                 [64, 405, 35]             810\n",
       "│    └─MaxPool1d: 2-18                   [64, 405, 11]             --\n",
       "│    └─Dropout: 2-19                     [64, 405, 11]             --\n",
       "├─Sequential: 1-5                        [64, 200]                 --\n",
       "│    └─Linear: 2-20                      [64, 200]                 891,200\n",
       "│    └─ReLU: 2-21                        [64, 200]                 --\n",
       "│    └─BatchNorm1d: 2-22                 [64, 200]                 400\n",
       "│    └─Dropout: 2-23                     [64, 200]                 --\n",
       "├─LSTM: 1-6                              [64, 200]                 483,200\n",
       "├─Linear: 1-7                            [64, 4]                   804\n",
       "==========================================================================================\n",
       "Total params: 1,643,844\n",
       "Trainable params: 1,643,844\n",
       "Non-trainable params: 0\n",
       "Total mult-adds (Units.GIGABYTES): 7.74\n",
       "==========================================================================================\n",
       "Input size (MB): 2.25\n",
       "Forward/backward pass size (MB): 56.19\n",
       "Params size (MB): 6.58\n",
       "Estimated Total Size (MB): 65.02\n",
       "=========================================================================================="
      ]
     },
     "execution_count": 26,
     "metadata": {},
     "output_type": "execute_result"
    }
   ],
   "source": [
    "torchinfo.summary(clstm.CLSTM(), input_size=(batch_size, 22, 400))"
   ]
  },
  {
   "cell_type": "code",
   "execution_count": 27,
   "id": "ebcfa47e-1264-4c9f-b0aa-d67e77bc884a",
   "metadata": {},
   "outputs": [],
   "source": [
    "clstm_model = clstm.CLSTM().to(device)\n",
    "criterion = nn.CrossEntropyLoss()\n",
    "optimizer = torch.optim.Adamax(clstm_model.parameters(),\n",
    "                               lr=0.001767340543208569,\n",
    "                               weight_decay=0.008272087903010924)\n",
    "scheduler = torch.optim.lr_scheduler.CosineAnnealingLR(optimizer, \n",
    "                                                       T_max=T_max, \n",
    "                                                       eta_min=eta_min)"
   ]
  },
  {
   "cell_type": "markdown",
   "id": "7b4a2f36-0671-44b9-99c9-c558b9bd377e",
   "metadata": {},
   "source": [
    "### **Train the model**"
   ]
  },
  {
   "cell_type": "code",
   "execution_count": 28,
   "id": "e3348cb6-ab5d-46f8-b33d-8b6fa2807dd5",
   "metadata": {},
   "outputs": [
    {
     "name": "stdout",
     "output_type": "stream",
     "text": [
      "Epoch 1\n"
     ]
    },
    {
     "data": {
      "application/vnd.jupyter.widget-view+json": {
       "model_id": "d0f449b36f21438485d1fc938335aeb0",
       "version_major": 2,
       "version_minor": 0
      },
      "text/plain": [
       "  0%|          | 0/476 [00:00<?, ?it/s]"
      ]
     },
     "metadata": {},
     "output_type": "display_data"
    },
    {
     "name": "stdout",
     "output_type": "stream",
     "text": [
      "Train acc: 0.417, Train loss: 1.238\n",
      "Val acc: 0.428, Val loss: 1.212\n",
      "\n",
      "Epoch 2\n"
     ]
    },
    {
     "data": {
      "application/vnd.jupyter.widget-view+json": {
       "model_id": "d1bf88ca3c5e4f299035c327a38dee38",
       "version_major": 2,
       "version_minor": 0
      },
      "text/plain": [
       "  0%|          | 0/476 [00:00<?, ?it/s]"
      ]
     },
     "metadata": {},
     "output_type": "display_data"
    },
    {
     "name": "stdout",
     "output_type": "stream",
     "text": [
      "Train acc: 0.527, Train loss: 1.049\n",
      "Val acc: 0.468, Val loss: 1.140\n",
      "\n",
      "Epoch 3\n"
     ]
    },
    {
     "data": {
      "application/vnd.jupyter.widget-view+json": {
       "model_id": "ebb561917c9742ea8d43a1133c5c93de",
       "version_major": 2,
       "version_minor": 0
      },
      "text/plain": [
       "  0%|          | 0/476 [00:00<?, ?it/s]"
      ]
     },
     "metadata": {},
     "output_type": "display_data"
    },
    {
     "name": "stdout",
     "output_type": "stream",
     "text": [
      "Train acc: 0.584, Train loss: 0.948\n",
      "Val acc: 0.509, Val loss: 1.093\n",
      "\n",
      "Epoch 4\n"
     ]
    },
    {
     "data": {
      "application/vnd.jupyter.widget-view+json": {
       "model_id": "f8d5457154b8425bb31c5bcb856094c2",
       "version_major": 2,
       "version_minor": 0
      },
      "text/plain": [
       "  0%|          | 0/476 [00:00<?, ?it/s]"
      ]
     },
     "metadata": {},
     "output_type": "display_data"
    },
    {
     "name": "stdout",
     "output_type": "stream",
     "text": [
      "Train acc: 0.620, Train loss: 0.872\n",
      "Val acc: 0.462, Val loss: 1.187\n",
      "\n",
      "Epoch 5\n"
     ]
    },
    {
     "data": {
      "application/vnd.jupyter.widget-view+json": {
       "model_id": "0a2767e7c3fc4a78be6135f9572dd5ee",
       "version_major": 2,
       "version_minor": 0
      },
      "text/plain": [
       "  0%|          | 0/476 [00:00<?, ?it/s]"
      ]
     },
     "metadata": {},
     "output_type": "display_data"
    },
    {
     "name": "stdout",
     "output_type": "stream",
     "text": [
      "Train acc: 0.657, Train loss: 0.801\n",
      "Val acc: 0.524, Val loss: 1.056\n",
      "\n",
      "Epoch 6\n"
     ]
    },
    {
     "data": {
      "application/vnd.jupyter.widget-view+json": {
       "model_id": "ec89874f49cc47d5b0b752157e7f9dc8",
       "version_major": 2,
       "version_minor": 0
      },
      "text/plain": [
       "  0%|          | 0/476 [00:00<?, ?it/s]"
      ]
     },
     "metadata": {},
     "output_type": "display_data"
    },
    {
     "name": "stdout",
     "output_type": "stream",
     "text": [
      "Train acc: 0.698, Train loss: 0.730\n",
      "Val acc: 0.530, Val loss: 1.114\n",
      "\n",
      "Epoch 7\n"
     ]
    },
    {
     "data": {
      "application/vnd.jupyter.widget-view+json": {
       "model_id": "9e4b43c0899343169aa25c64aeae6dba",
       "version_major": 2,
       "version_minor": 0
      },
      "text/plain": [
       "  0%|          | 0/476 [00:00<?, ?it/s]"
      ]
     },
     "metadata": {},
     "output_type": "display_data"
    },
    {
     "name": "stdout",
     "output_type": "stream",
     "text": [
      "Train acc: 0.756, Train loss: 0.644\n",
      "Val acc: 0.600, Val loss: 1.019\n",
      "\n",
      "Epoch 8\n"
     ]
    },
    {
     "data": {
      "application/vnd.jupyter.widget-view+json": {
       "model_id": "ff45706e40ce4738998af044f638eff4",
       "version_major": 2,
       "version_minor": 0
      },
      "text/plain": [
       "  0%|          | 0/476 [00:00<?, ?it/s]"
      ]
     },
     "metadata": {},
     "output_type": "display_data"
    },
    {
     "name": "stdout",
     "output_type": "stream",
     "text": [
      "Train acc: 0.810, Train loss: 0.545\n",
      "Val acc: 0.598, Val loss: 1.022\n",
      "\n",
      "Epoch 9\n"
     ]
    },
    {
     "data": {
      "application/vnd.jupyter.widget-view+json": {
       "model_id": "fde2c06375ad44ed9f3cddcf762c1b92",
       "version_major": 2,
       "version_minor": 0
      },
      "text/plain": [
       "  0%|          | 0/476 [00:00<?, ?it/s]"
      ]
     },
     "metadata": {},
     "output_type": "display_data"
    },
    {
     "name": "stdout",
     "output_type": "stream",
     "text": [
      "Train acc: 0.836, Train loss: 0.485\n",
      "Val acc: 0.596, Val loss: 1.052\n",
      "\n",
      "Epoch 10\n"
     ]
    },
    {
     "data": {
      "application/vnd.jupyter.widget-view+json": {
       "model_id": "2bbf54272c8d47d4840f7f782e3a689c",
       "version_major": 2,
       "version_minor": 0
      },
      "text/plain": [
       "  0%|          | 0/476 [00:00<?, ?it/s]"
      ]
     },
     "metadata": {},
     "output_type": "display_data"
    },
    {
     "name": "stdout",
     "output_type": "stream",
     "text": [
      "Train acc: 0.857, Train loss: 0.439\n",
      "Val acc: 0.647, Val loss: 0.907\n",
      "\n",
      "Epoch 11\n"
     ]
    },
    {
     "data": {
      "application/vnd.jupyter.widget-view+json": {
       "model_id": "8976e1097e7a4008ab839b1d26c895dd",
       "version_major": 2,
       "version_minor": 0
      },
      "text/plain": [
       "  0%|          | 0/476 [00:00<?, ?it/s]"
      ]
     },
     "metadata": {},
     "output_type": "display_data"
    },
    {
     "name": "stdout",
     "output_type": "stream",
     "text": [
      "Train acc: 0.873, Train loss: 0.400\n",
      "Val acc: 0.621, Val loss: 1.005\n",
      "\n",
      "Epoch 12\n"
     ]
    },
    {
     "data": {
      "application/vnd.jupyter.widget-view+json": {
       "model_id": "1287446572a74268b05a38697dab3c54",
       "version_major": 2,
       "version_minor": 0
      },
      "text/plain": [
       "  0%|          | 0/476 [00:00<?, ?it/s]"
      ]
     },
     "metadata": {},
     "output_type": "display_data"
    },
    {
     "name": "stdout",
     "output_type": "stream",
     "text": [
      "Train acc: 0.886, Train loss: 0.368\n",
      "Val acc: 0.627, Val loss: 1.030\n",
      "\n",
      "Epoch 13\n"
     ]
    },
    {
     "data": {
      "application/vnd.jupyter.widget-view+json": {
       "model_id": "38c23e0971b24439998614f509b418c9",
       "version_major": 2,
       "version_minor": 0
      },
      "text/plain": [
       "  0%|          | 0/476 [00:00<?, ?it/s]"
      ]
     },
     "metadata": {},
     "output_type": "display_data"
    },
    {
     "name": "stdout",
     "output_type": "stream",
     "text": [
      "Train acc: 0.896, Train loss: 0.342\n",
      "Val acc: 0.631, Val loss: 1.022\n",
      "\n",
      "Epoch 14\n"
     ]
    },
    {
     "data": {
      "application/vnd.jupyter.widget-view+json": {
       "model_id": "016e064a66da4a40a7cdd7c22f5f913e",
       "version_major": 2,
       "version_minor": 0
      },
      "text/plain": [
       "  0%|          | 0/476 [00:00<?, ?it/s]"
      ]
     },
     "metadata": {},
     "output_type": "display_data"
    },
    {
     "name": "stdout",
     "output_type": "stream",
     "text": [
      "Train acc: 0.903, Train loss: 0.320\n",
      "Val acc: 0.645, Val loss: 0.950\n",
      "\n",
      "Epoch 15\n"
     ]
    },
    {
     "data": {
      "application/vnd.jupyter.widget-view+json": {
       "model_id": "cfe23f4a617848e5a944337277015613",
       "version_major": 2,
       "version_minor": 0
      },
      "text/plain": [
       "  0%|          | 0/476 [00:00<?, ?it/s]"
      ]
     },
     "metadata": {},
     "output_type": "display_data"
    },
    {
     "name": "stdout",
     "output_type": "stream",
     "text": [
      "Train acc: 0.914, Train loss: 0.300\n",
      "Val acc: 0.619, Val loss: 1.071\n",
      "\n",
      "Epoch 16\n"
     ]
    },
    {
     "data": {
      "application/vnd.jupyter.widget-view+json": {
       "model_id": "3ca5d67f3be04200a893537d79faca7b",
       "version_major": 2,
       "version_minor": 0
      },
      "text/plain": [
       "  0%|          | 0/476 [00:00<?, ?it/s]"
      ]
     },
     "metadata": {},
     "output_type": "display_data"
    },
    {
     "name": "stdout",
     "output_type": "stream",
     "text": [
      "Train acc: 0.923, Train loss: 0.280\n",
      "Val acc: 0.650, Val loss: 0.987\n",
      "\n",
      "Epoch 17\n"
     ]
    },
    {
     "data": {
      "application/vnd.jupyter.widget-view+json": {
       "model_id": "180e58c176f24fa2aacedfa03bb3cfbc",
       "version_major": 2,
       "version_minor": 0
      },
      "text/plain": [
       "  0%|          | 0/476 [00:00<?, ?it/s]"
      ]
     },
     "metadata": {},
     "output_type": "display_data"
    },
    {
     "name": "stdout",
     "output_type": "stream",
     "text": [
      "Train acc: 0.931, Train loss: 0.256\n",
      "Val acc: 0.629, Val loss: 1.057\n",
      "\n",
      "Epoch 18\n"
     ]
    },
    {
     "data": {
      "application/vnd.jupyter.widget-view+json": {
       "model_id": "dbd7b984e06d430e97a21637d2443d1f",
       "version_major": 2,
       "version_minor": 0
      },
      "text/plain": [
       "  0%|          | 0/476 [00:00<?, ?it/s]"
      ]
     },
     "metadata": {},
     "output_type": "display_data"
    },
    {
     "name": "stdout",
     "output_type": "stream",
     "text": [
      "Train acc: 0.938, Train loss: 0.239\n",
      "Val acc: 0.631, Val loss: 1.046\n",
      "\n",
      "Epoch 19\n"
     ]
    },
    {
     "data": {
      "application/vnd.jupyter.widget-view+json": {
       "model_id": "219850ca818841318e420eba926879d7",
       "version_major": 2,
       "version_minor": 0
      },
      "text/plain": [
       "  0%|          | 0/476 [00:00<?, ?it/s]"
      ]
     },
     "metadata": {},
     "output_type": "display_data"
    },
    {
     "name": "stdout",
     "output_type": "stream",
     "text": [
      "Train acc: 0.944, Train loss: 0.225\n",
      "Val acc: 0.658, Val loss: 0.974\n",
      "\n",
      "Epoch 20\n"
     ]
    },
    {
     "data": {
      "application/vnd.jupyter.widget-view+json": {
       "model_id": "f7a183db1f074516b5184ff65339e97a",
       "version_major": 2,
       "version_minor": 0
      },
      "text/plain": [
       "  0%|          | 0/476 [00:00<?, ?it/s]"
      ]
     },
     "metadata": {},
     "output_type": "display_data"
    },
    {
     "name": "stdout",
     "output_type": "stream",
     "text": [
      "Train acc: 0.949, Train loss: 0.209\n",
      "Val acc: 0.648, Val loss: 0.991\n",
      "\n",
      "Epoch 21\n"
     ]
    },
    {
     "data": {
      "application/vnd.jupyter.widget-view+json": {
       "model_id": "0ad49d79db164177af33b2359adade9f",
       "version_major": 2,
       "version_minor": 0
      },
      "text/plain": [
       "  0%|          | 0/476 [00:00<?, ?it/s]"
      ]
     },
     "metadata": {},
     "output_type": "display_data"
    },
    {
     "name": "stdout",
     "output_type": "stream",
     "text": [
      "Train acc: 0.951, Train loss: 0.201\n",
      "Val acc: 0.660, Val loss: 0.964\n",
      "\n",
      "Epoch 22\n"
     ]
    },
    {
     "data": {
      "application/vnd.jupyter.widget-view+json": {
       "model_id": "e8ead46d6af84c0db2b4e925f5b5036e",
       "version_major": 2,
       "version_minor": 0
      },
      "text/plain": [
       "  0%|          | 0/476 [00:00<?, ?it/s]"
      ]
     },
     "metadata": {},
     "output_type": "display_data"
    },
    {
     "name": "stdout",
     "output_type": "stream",
     "text": [
      "Train acc: 0.955, Train loss: 0.197\n",
      "Val acc: 0.662, Val loss: 0.972\n",
      "\n",
      "Epoch 23\n"
     ]
    },
    {
     "data": {
      "application/vnd.jupyter.widget-view+json": {
       "model_id": "84ff4de0f6be470f871a2dc795434a5f",
       "version_major": 2,
       "version_minor": 0
      },
      "text/plain": [
       "  0%|          | 0/476 [00:00<?, ?it/s]"
      ]
     },
     "metadata": {},
     "output_type": "display_data"
    },
    {
     "name": "stdout",
     "output_type": "stream",
     "text": [
      "Train acc: 0.956, Train loss: 0.193\n",
      "Val acc: 0.657, Val loss: 0.999\n",
      "\n",
      "Epoch 24\n"
     ]
    },
    {
     "data": {
      "application/vnd.jupyter.widget-view+json": {
       "model_id": "6fe5083e1207499380913e8ddc75612f",
       "version_major": 2,
       "version_minor": 0
      },
      "text/plain": [
       "  0%|          | 0/476 [00:00<?, ?it/s]"
      ]
     },
     "metadata": {},
     "output_type": "display_data"
    },
    {
     "name": "stdout",
     "output_type": "stream",
     "text": [
      "Train acc: 0.961, Train loss: 0.183\n",
      "Val acc: 0.662, Val loss: 0.959\n",
      "\n",
      "Epoch 25\n"
     ]
    },
    {
     "data": {
      "application/vnd.jupyter.widget-view+json": {
       "model_id": "f5110dc279ac4b26a1819063177778bd",
       "version_major": 2,
       "version_minor": 0
      },
      "text/plain": [
       "  0%|          | 0/476 [00:00<?, ?it/s]"
      ]
     },
     "metadata": {},
     "output_type": "display_data"
    },
    {
     "name": "stdout",
     "output_type": "stream",
     "text": [
      "Train acc: 0.960, Train loss: 0.183\n",
      "Val acc: 0.664, Val loss: 0.975\n",
      "\n",
      "Epoch 26\n"
     ]
    },
    {
     "data": {
      "application/vnd.jupyter.widget-view+json": {
       "model_id": "a9e8986ed5db46049de700ada39441d0",
       "version_major": 2,
       "version_minor": 0
      },
      "text/plain": [
       "  0%|          | 0/476 [00:00<?, ?it/s]"
      ]
     },
     "metadata": {},
     "output_type": "display_data"
    },
    {
     "name": "stdout",
     "output_type": "stream",
     "text": [
      "Train acc: 0.962, Train loss: 0.179\n",
      "Val acc: 0.666, Val loss: 0.957\n",
      "\n",
      "Epoch 27\n"
     ]
    },
    {
     "data": {
      "application/vnd.jupyter.widget-view+json": {
       "model_id": "5f050909bf69489193eba9233f3eb82a",
       "version_major": 2,
       "version_minor": 0
      },
      "text/plain": [
       "  0%|          | 0/476 [00:00<?, ?it/s]"
      ]
     },
     "metadata": {},
     "output_type": "display_data"
    },
    {
     "name": "stdout",
     "output_type": "stream",
     "text": [
      "Train acc: 0.961, Train loss: 0.181\n",
      "Val acc: 0.657, Val loss: 0.975\n",
      "\n",
      "Epoch 28\n"
     ]
    },
    {
     "data": {
      "application/vnd.jupyter.widget-view+json": {
       "model_id": "c1761baf3d5a4080a5c1a8bf94c8b3f1",
       "version_major": 2,
       "version_minor": 0
      },
      "text/plain": [
       "  0%|          | 0/476 [00:00<?, ?it/s]"
      ]
     },
     "metadata": {},
     "output_type": "display_data"
    },
    {
     "name": "stdout",
     "output_type": "stream",
     "text": [
      "Train acc: 0.963, Train loss: 0.177\n",
      "Val acc: 0.659, Val loss: 0.979\n",
      "\n",
      "Epoch 29\n"
     ]
    },
    {
     "data": {
      "application/vnd.jupyter.widget-view+json": {
       "model_id": "21ffa1e104354d52b3116722f55fa921",
       "version_major": 2,
       "version_minor": 0
      },
      "text/plain": [
       "  0%|          | 0/476 [00:00<?, ?it/s]"
      ]
     },
     "metadata": {},
     "output_type": "display_data"
    },
    {
     "name": "stdout",
     "output_type": "stream",
     "text": [
      "Train acc: 0.962, Train loss: 0.179\n",
      "Val acc: 0.662, Val loss: 0.961\n",
      "\n",
      "Epoch 30\n"
     ]
    },
    {
     "data": {
      "application/vnd.jupyter.widget-view+json": {
       "model_id": "ac4d6f020401427c80e90436e50c45f9",
       "version_major": 2,
       "version_minor": 0
      },
      "text/plain": [
       "  0%|          | 0/476 [00:00<?, ?it/s]"
      ]
     },
     "metadata": {},
     "output_type": "display_data"
    },
    {
     "name": "stdout",
     "output_type": "stream",
     "text": [
      "Train acc: 0.960, Train loss: 0.184\n",
      "Val acc: 0.663, Val loss: 0.999\n",
      "\n",
      "Epoch 31\n"
     ]
    },
    {
     "data": {
      "application/vnd.jupyter.widget-view+json": {
       "model_id": "a18e078ef3da469d9e585455128feae0",
       "version_major": 2,
       "version_minor": 0
      },
      "text/plain": [
       "  0%|          | 0/476 [00:00<?, ?it/s]"
      ]
     },
     "metadata": {},
     "output_type": "display_data"
    },
    {
     "name": "stdout",
     "output_type": "stream",
     "text": [
      "Train acc: 0.960, Train loss: 0.183\n",
      "Val acc: 0.653, Val loss: 1.002\n",
      "\n",
      "Epoch 32\n"
     ]
    },
    {
     "data": {
      "application/vnd.jupyter.widget-view+json": {
       "model_id": "bec04cca9a8945fdbfed3c511d5c5664",
       "version_major": 2,
       "version_minor": 0
      },
      "text/plain": [
       "  0%|          | 0/476 [00:00<?, ?it/s]"
      ]
     },
     "metadata": {},
     "output_type": "display_data"
    },
    {
     "name": "stdout",
     "output_type": "stream",
     "text": [
      "Train acc: 0.957, Train loss: 0.190\n",
      "Val acc: 0.659, Val loss: 0.963\n",
      "\n",
      "Epoch 33\n"
     ]
    },
    {
     "data": {
      "application/vnd.jupyter.widget-view+json": {
       "model_id": "833dd8709d4640af9dd18fc4d811f001",
       "version_major": 2,
       "version_minor": 0
      },
      "text/plain": [
       "  0%|          | 0/476 [00:00<?, ?it/s]"
      ]
     },
     "metadata": {},
     "output_type": "display_data"
    },
    {
     "name": "stdout",
     "output_type": "stream",
     "text": [
      "Train acc: 0.952, Train loss: 0.203\n",
      "Val acc: 0.649, Val loss: 1.010\n",
      "\n",
      "Epoch 34\n"
     ]
    },
    {
     "data": {
      "application/vnd.jupyter.widget-view+json": {
       "model_id": "1ab240a95a3f492c998bb58a46f569a3",
       "version_major": 2,
       "version_minor": 0
      },
      "text/plain": [
       "  0%|          | 0/476 [00:00<?, ?it/s]"
      ]
     },
     "metadata": {},
     "output_type": "display_data"
    },
    {
     "name": "stdout",
     "output_type": "stream",
     "text": [
      "Train acc: 0.947, Train loss: 0.211\n",
      "Val acc: 0.664, Val loss: 0.998\n",
      "\n",
      "Epoch 35\n"
     ]
    },
    {
     "data": {
      "application/vnd.jupyter.widget-view+json": {
       "model_id": "da2fc140da534ce09bfbef6521705f45",
       "version_major": 2,
       "version_minor": 0
      },
      "text/plain": [
       "  0%|          | 0/476 [00:00<?, ?it/s]"
      ]
     },
     "metadata": {},
     "output_type": "display_data"
    },
    {
     "name": "stdout",
     "output_type": "stream",
     "text": [
      "Train acc: 0.943, Train loss: 0.226\n",
      "Val acc: 0.638, Val loss: 1.026\n",
      "\n",
      "Epoch 36\n"
     ]
    },
    {
     "data": {
      "application/vnd.jupyter.widget-view+json": {
       "model_id": "a440481b974247f091330c89f27f1ac0",
       "version_major": 2,
       "version_minor": 0
      },
      "text/plain": [
       "  0%|          | 0/476 [00:00<?, ?it/s]"
      ]
     },
     "metadata": {},
     "output_type": "display_data"
    },
    {
     "name": "stdout",
     "output_type": "stream",
     "text": [
      "Train acc: 0.934, Train loss: 0.249\n",
      "Val acc: 0.653, Val loss: 0.969\n",
      "\n",
      "Epoch 37\n"
     ]
    },
    {
     "data": {
      "application/vnd.jupyter.widget-view+json": {
       "model_id": "873992ced7a74b46b8b1bafc1f927035",
       "version_major": 2,
       "version_minor": 0
      },
      "text/plain": [
       "  0%|          | 0/476 [00:00<?, ?it/s]"
      ]
     },
     "metadata": {},
     "output_type": "display_data"
    },
    {
     "name": "stdout",
     "output_type": "stream",
     "text": [
      "Train acc: 0.929, Train loss: 0.264\n",
      "Val acc: 0.626, Val loss: 1.056\n",
      "\n",
      "Epoch 38\n"
     ]
    },
    {
     "data": {
      "application/vnd.jupyter.widget-view+json": {
       "model_id": "a7cff738257f406a99915c51800c807d",
       "version_major": 2,
       "version_minor": 0
      },
      "text/plain": [
       "  0%|          | 0/476 [00:00<?, ?it/s]"
      ]
     },
     "metadata": {},
     "output_type": "display_data"
    },
    {
     "name": "stdout",
     "output_type": "stream",
     "text": [
      "Train acc: 0.922, Train loss: 0.277\n",
      "Val acc: 0.628, Val loss: 1.008\n",
      "\n",
      "Epoch 39\n"
     ]
    },
    {
     "data": {
      "application/vnd.jupyter.widget-view+json": {
       "model_id": "0b490f72a02e4fb0bd537149cc7d0f55",
       "version_major": 2,
       "version_minor": 0
      },
      "text/plain": [
       "  0%|          | 0/476 [00:00<?, ?it/s]"
      ]
     },
     "metadata": {},
     "output_type": "display_data"
    },
    {
     "name": "stdout",
     "output_type": "stream",
     "text": [
      "Train acc: 0.911, Train loss: 0.301\n",
      "Val acc: 0.605, Val loss: 1.092\n",
      "\n",
      "Epoch 40\n"
     ]
    },
    {
     "data": {
      "application/vnd.jupyter.widget-view+json": {
       "model_id": "7955696ec6db408a98d1162a308380d5",
       "version_major": 2,
       "version_minor": 0
      },
      "text/plain": [
       "  0%|          | 0/476 [00:00<?, ?it/s]"
      ]
     },
     "metadata": {},
     "output_type": "display_data"
    },
    {
     "name": "stdout",
     "output_type": "stream",
     "text": [
      "Train acc: 0.903, Train loss: 0.306\n",
      "Val acc: 0.643, Val loss: 0.994\n",
      "\n",
      "Epoch 41\n"
     ]
    },
    {
     "data": {
      "application/vnd.jupyter.widget-view+json": {
       "model_id": "280a94a8fbc74b7291b3012450c8c039",
       "version_major": 2,
       "version_minor": 0
      },
      "text/plain": [
       "  0%|          | 0/476 [00:00<?, ?it/s]"
      ]
     },
     "metadata": {},
     "output_type": "display_data"
    },
    {
     "name": "stdout",
     "output_type": "stream",
     "text": [
      "Train acc: 0.898, Train loss: 0.318\n",
      "Val acc: 0.654, Val loss: 1.026\n",
      "\n",
      "Epoch 42\n"
     ]
    },
    {
     "data": {
      "application/vnd.jupyter.widget-view+json": {
       "model_id": "327d6b815e284ece8fad01744ea0988a",
       "version_major": 2,
       "version_minor": 0
      },
      "text/plain": [
       "  0%|          | 0/476 [00:00<?, ?it/s]"
      ]
     },
     "metadata": {},
     "output_type": "display_data"
    },
    {
     "name": "stdout",
     "output_type": "stream",
     "text": [
      "Train acc: 0.895, Train loss: 0.327\n",
      "Val acc: 0.669, Val loss: 0.969\n",
      "\n",
      "Epoch 43\n"
     ]
    },
    {
     "data": {
      "application/vnd.jupyter.widget-view+json": {
       "model_id": "c040bbd5fc15475a858c0fcac3340c68",
       "version_major": 2,
       "version_minor": 0
      },
      "text/plain": [
       "  0%|          | 0/476 [00:00<?, ?it/s]"
      ]
     },
     "metadata": {},
     "output_type": "display_data"
    },
    {
     "name": "stdout",
     "output_type": "stream",
     "text": [
      "Train acc: 0.891, Train loss: 0.331\n",
      "Val acc: 0.614, Val loss: 1.098\n",
      "\n",
      "Epoch 44\n"
     ]
    },
    {
     "data": {
      "application/vnd.jupyter.widget-view+json": {
       "model_id": "74672eca968a4349a0b08ae239912d42",
       "version_major": 2,
       "version_minor": 0
      },
      "text/plain": [
       "  0%|          | 0/476 [00:00<?, ?it/s]"
      ]
     },
     "metadata": {},
     "output_type": "display_data"
    },
    {
     "name": "stdout",
     "output_type": "stream",
     "text": [
      "Train acc: 0.885, Train loss: 0.352\n",
      "Val acc: 0.649, Val loss: 1.001\n",
      "\n",
      "Epoch 45\n"
     ]
    },
    {
     "data": {
      "application/vnd.jupyter.widget-view+json": {
       "model_id": "82b1e0640b0044539efad4b1f233d475",
       "version_major": 2,
       "version_minor": 0
      },
      "text/plain": [
       "  0%|          | 0/476 [00:00<?, ?it/s]"
      ]
     },
     "metadata": {},
     "output_type": "display_data"
    },
    {
     "name": "stdout",
     "output_type": "stream",
     "text": [
      "Train acc: 0.884, Train loss: 0.357\n",
      "Val acc: 0.629, Val loss: 1.157\n",
      "\n",
      "Epoch 46\n"
     ]
    },
    {
     "data": {
      "application/vnd.jupyter.widget-view+json": {
       "model_id": "49ecbcc1431e46b99d349b172f3006c1",
       "version_major": 2,
       "version_minor": 0
      },
      "text/plain": [
       "  0%|          | 0/476 [00:00<?, ?it/s]"
      ]
     },
     "metadata": {},
     "output_type": "display_data"
    },
    {
     "name": "stdout",
     "output_type": "stream",
     "text": [
      "Train acc: 0.880, Train loss: 0.369\n",
      "Val acc: 0.651, Val loss: 1.027\n",
      "\n",
      "Epoch 47\n"
     ]
    },
    {
     "data": {
      "application/vnd.jupyter.widget-view+json": {
       "model_id": "1d5e4f95810146d39394fe547ab35ed8",
       "version_major": 2,
       "version_minor": 0
      },
      "text/plain": [
       "  0%|          | 0/476 [00:00<?, ?it/s]"
      ]
     },
     "metadata": {},
     "output_type": "display_data"
    },
    {
     "name": "stdout",
     "output_type": "stream",
     "text": [
      "Train acc: 0.880, Train loss: 0.368\n",
      "Val acc: 0.649, Val loss: 0.983\n",
      "\n",
      "Epoch 48\n"
     ]
    },
    {
     "data": {
      "application/vnd.jupyter.widget-view+json": {
       "model_id": "c3ea575466954a8586d1ed1ea2396bec",
       "version_major": 2,
       "version_minor": 0
      },
      "text/plain": [
       "  0%|          | 0/476 [00:00<?, ?it/s]"
      ]
     },
     "metadata": {},
     "output_type": "display_data"
    },
    {
     "name": "stdout",
     "output_type": "stream",
     "text": [
      "Train acc: 0.882, Train loss: 0.366\n",
      "Val acc: 0.613, Val loss: 1.128\n",
      "\n",
      "Epoch 49\n"
     ]
    },
    {
     "data": {
      "application/vnd.jupyter.widget-view+json": {
       "model_id": "f201685d6de549b58a3893c379ae8fd4",
       "version_major": 2,
       "version_minor": 0
      },
      "text/plain": [
       "  0%|          | 0/476 [00:00<?, ?it/s]"
      ]
     },
     "metadata": {},
     "output_type": "display_data"
    },
    {
     "name": "stdout",
     "output_type": "stream",
     "text": [
      "Train acc: 0.881, Train loss: 0.367\n",
      "Val acc: 0.603, Val loss: 1.267\n",
      "\n",
      "Epoch 50\n"
     ]
    },
    {
     "data": {
      "application/vnd.jupyter.widget-view+json": {
       "model_id": "91e2525210244232bdb925afaa025127",
       "version_major": 2,
       "version_minor": 0
      },
      "text/plain": [
       "  0%|          | 0/476 [00:00<?, ?it/s]"
      ]
     },
     "metadata": {},
     "output_type": "display_data"
    },
    {
     "name": "stdout",
     "output_type": "stream",
     "text": [
      "Train acc: 0.876, Train loss: 0.374\n",
      "Val acc: 0.645, Val loss: 1.055\n",
      "\n"
     ]
    }
   ],
   "source": [
    "train_accuracies, train_losses, val_accuracies, val_losses = utils.train_model(model=clstm_model,\n",
    "                                                                               criterion=criterion,\n",
    "                                                                               optimizer=optimizer,\n",
    "                                                                               scheduler=scheduler,\n",
    "                                                                               train_loader=train_loader,\n",
    "                                                                               val_loader=val_loader,\n",
    "                                                                               num_epochs=num_epochs,\n",
    "                                                                               learning=False,\n",
    "                                                                               device=device,\n",
    "                                                                               trial=None)"
   ]
  },
  {
   "cell_type": "markdown",
   "id": "c310eb3d-a623-48ef-b1a0-3f7ce9534a70",
   "metadata": {},
   "source": [
    "### **Training and Validation Accuracy Graph**"
   ]
  },
  {
   "cell_type": "code",
   "execution_count": 29,
   "id": "84f91c2e-2cb9-4271-90e8-c934204f92aa",
   "metadata": {},
   "outputs": [
    {
     "data": {
      "image/png": "[encoded data removed]",
      "text/plain": [
       "<Figure size 1000x600 with 1 Axes>"
      ]
     },
     "metadata": {},
     "output_type": "display_data"
    }
   ],
   "source": [
    "epochs = range(1, num_epochs + 1)\n",
    "\n",
    "plt.figure(figsize=(10, 6))\n",
    "plt.plot(epochs, train_accuracies, label='Training Accuracy')\n",
    "plt.plot(epochs, val_accuracies, label='Validation Accuracy')\n",
    "plt.title('Training and Validation Accuracy')\n",
    "plt.xlabel('Epoch')\n",
    "plt.ylabel('Accuracy')\n",
    "plt.legend()\n",
    "plt.grid(True)\n",
    "plt.show()"
   ]
  },
  {
   "cell_type": "markdown",
   "id": "73a1afc1-3082-4fc5-b98e-3345f49cd2dc",
   "metadata": {},
   "source": [
    "### **Training and Validation Loss**"
   ]
  },
  {
   "cell_type": "code",
   "execution_count": 30,
   "id": "f207f1d6-df49-4fc3-828c-af8c6f422155",
   "metadata": {
    "scrolled": true
   },
   "outputs": [
    {
     "data": {
      "image/png": "[encoded data removed]",
      "text/plain": [
       "<Figure size 1000x600 with 1 Axes>"
      ]
     },
     "metadata": {},
     "output_type": "display_data"
    }
   ],
   "source": [
    "import matplotlib.pyplot as plt\n",
    "epochs = range(1, num_epochs + 1)\n",
    "\n",
    "plt.figure(figsize=(10, 6))\n",
    "plt.plot(epochs, train_losses, label='Training Loss')\n",
    "plt.plot(epochs, val_losses, label='Validation Loss')\n",
    "plt.title('Training and Validation Loss')\n",
    "plt.xlabel('Epoch')\n",
    "plt.ylabel('Loss')\n",
    "plt.legend()\n",
    "plt.grid(True)\n",
    "plt.show()"
   ]
  },
  {
   "cell_type": "code",
   "execution_count": 31,
   "id": "9f3747d2-bd0b-4e61-8688-23fa0825f157",
   "metadata": {},
   "outputs": [
    {
     "name": "stdout",
     "output_type": "stream",
     "text": [
      "Test acc: 0.648\n"
     ]
    }
   ],
   "source": [
    "utils.test_model(clstm_model, test_loader)"
   ]
  },
  {
   "cell_type": "code",
   "execution_count": 32,
   "id": "951d17eb-7464-48b8-96ee-bf644f281871",
   "metadata": {},
   "outputs": [],
   "source": [
    "torch.save(clstm_model, path_to_save+'clstm')\n",
    "torch.cuda.empty_cache()"
   ]
  },
  {
   "cell_type": "markdown",
   "id": "0ce717a6-deb0-4c48-b550-fbb0173a28b7",
   "metadata": {},
   "source": [
    "# **CNN-Transformer**"
   ]
  },
  {
   "cell_type": "markdown",
   "id": "7d560dc8-a07c-41a9-82a8-4cc14fcd90d8",
   "metadata": {},
   "source": [
    "### **Model Summary**"
   ]
  },
  {
   "cell_type": "code",
   "execution_count": 33,
   "id": "22e70685-7bdc-417b-bb6e-ee110c37215d",
   "metadata": {},
   "outputs": [
    {
     "data": {
      "text/plain": [
       "===============================================================================================\n",
       "Layer (type:depth-idx)                        Output Shape              Param #\n",
       "===============================================================================================\n",
       "CTransformer                                  [64, 4]                   --\n",
       "├─Sequential: 1-1                             [64, 25, 396]             --\n",
       "│    └─Conv1d: 2-1                            [64, 25, 396]             2,775\n",
       "│    └─ReLU: 2-2                              [64, 25, 396]             --\n",
       "│    └─BatchNorm1d: 2-3                       [64, 25, 396]             50\n",
       "│    └─Dropout: 2-4                           [64, 25, 396]             --\n",
       "├─Sequential: 1-2                             [64, 200, 1, 124]         --\n",
       "│    └─Conv2d: 2-5                            [64, 200, 1, 372]         125,200\n",
       "│    └─ELU: 2-6                               [64, 200, 1, 372]         --\n",
       "│    └─BatchNorm2d: 2-7                       [64, 200, 1, 372]         400\n",
       "│    └─MaxPool2d: 2-8                         [64, 200, 1, 124]         --\n",
       "│    └─Dropout: 2-9                           [64, 200, 1, 124]         --\n",
       "├─Positional: 1-3                             [64, 124, 200]            --\n",
       "│    └─Dropout: 2-10                          [64, 124, 200]            --\n",
       "├─TransformerEncoder: 1-4                     [64, 124, 200]            --\n",
       "│    └─ModuleList: 2-11                       --                        --\n",
       "│    │    └─TransformerEncoderLayer: 3-1      [64, 124, 200]            264,456\n",
       "│    │    └─TransformerEncoderLayer: 3-2      [64, 124, 200]            264,456\n",
       "│    │    └─TransformerEncoderLayer: 3-3      [64, 124, 200]            264,456\n",
       "├─Linear: 1-5                                 [64, 4]                   804\n",
       "===============================================================================================\n",
       "Total params: 922,597\n",
       "Trainable params: 922,597\n",
       "Non-trainable params: 0\n",
       "Total mult-adds (Units.GIGABYTES): 3.05\n",
       "===============================================================================================\n",
       "Input size (MB): 2.25\n",
       "Forward/backward pass size (MB): 86.33\n",
       "Params size (MB): 0.52\n",
       "Estimated Total Size (MB): 89.10\n",
       "==============================================================================================="
      ]
     },
     "execution_count": 33,
     "metadata": {},
     "output_type": "execute_result"
    }
   ],
   "source": [
    "torchinfo.summary(ctransformer.CTransformer(), input_size=(batch_size, 22, 400))"
   ]
  },
  {
   "cell_type": "code",
   "execution_count": 34,
   "id": "9d96abe3-ccac-4069-9963-c2c14c8cd85a",
   "metadata": {},
   "outputs": [],
   "source": [
    "ctransformer_model = ctransformer.CTransformer().to(device)\n",
    "criterion = nn.CrossEntropyLoss()\n",
    "optimizer = torch.optim.AdamW(ctransformer_model.parameters(),\n",
    "                              lr=0.001767340543208569,\n",
    "                              betas=(0.9,0.999),\n",
    "                              weight_decay=0.008272087903010924,\n",
    "                              eps=5e-4)\n",
    "scheduler = torch.optim.lr_scheduler.CosineAnnealingLR(optimizer, \n",
    "                                                       T_max=T_max, \n",
    "                                                       eta_min=eta_min)"
   ]
  },
  {
   "cell_type": "markdown",
   "id": "3158aec7-21b0-49df-8579-7168e46cf371",
   "metadata": {},
   "source": [
    "### **Train the model**"
   ]
  },
  {
   "cell_type": "code",
   "execution_count": 35,
   "id": "fb3d963c-60a9-4fd2-a49e-91af81ab22e7",
   "metadata": {},
   "outputs": [
    {
     "name": "stdout",
     "output_type": "stream",
     "text": [
      "Epoch 1\n"
     ]
    },
    {
     "data": {
      "application/vnd.jupyter.widget-view+json": {
       "model_id": "f79bfa8c69f64ddba3431a7a857e591c",
       "version_major": 2,
       "version_minor": 0
      },
      "text/plain": [
       "  0%|          | 0/476 [00:00<?, ?it/s]"
      ]
     },
     "metadata": {},
     "output_type": "display_data"
    },
    {
     "name": "stdout",
     "output_type": "stream",
     "text": [
      "Train acc: 0.339, Train loss: 1.347\n",
      "Val acc: 0.373, Val loss: 1.342\n",
      "\n",
      "Epoch 2\n"
     ]
    },
    {
     "data": {
      "application/vnd.jupyter.widget-view+json": {
       "model_id": "e6fd341fd55a46a6bb44dca03afcf25c",
       "version_major": 2,
       "version_minor": 0
      },
      "text/plain": [
       "  0%|          | 0/476 [00:00<?, ?it/s]"
      ]
     },
     "metadata": {},
     "output_type": "display_data"
    },
    {
     "name": "stdout",
     "output_type": "stream",
     "text": [
      "Train acc: 0.487, Train loss: 1.161\n",
      "Val acc: 0.514, Val loss: 1.241\n",
      "\n",
      "Epoch 3\n"
     ]
    },
    {
     "data": {
      "application/vnd.jupyter.widget-view+json": {
       "model_id": "4ef391f4b75249d381b3a5165e4934d1",
       "version_major": 2,
       "version_minor": 0
      },
      "text/plain": [
       "  0%|          | 0/476 [00:00<?, ?it/s]"
      ]
     },
     "metadata": {},
     "output_type": "display_data"
    },
    {
     "name": "stdout",
     "output_type": "stream",
     "text": [
      "Train acc: 0.579, Train loss: 1.010\n",
      "Val acc: 0.538, Val loss: 1.131\n",
      "\n",
      "Epoch 4\n"
     ]
    },
    {
     "data": {
      "application/vnd.jupyter.widget-view+json": {
       "model_id": "e298c51c1e424cd581793096f44fe85c",
       "version_major": 2,
       "version_minor": 0
      },
      "text/plain": [
       "  0%|          | 0/476 [00:00<?, ?it/s]"
      ]
     },
     "metadata": {},
     "output_type": "display_data"
    },
    {
     "name": "stdout",
     "output_type": "stream",
     "text": [
      "Train acc: 0.644, Train loss: 0.881\n",
      "Val acc: 0.571, Val loss: 1.116\n",
      "\n",
      "Epoch 5\n"
     ]
    },
    {
     "data": {
      "application/vnd.jupyter.widget-view+json": {
       "model_id": "81ab8ba41cf34842873aac0a8b4850fe",
       "version_major": 2,
       "version_minor": 0
      },
      "text/plain": [
       "  0%|          | 0/476 [00:00<?, ?it/s]"
      ]
     },
     "metadata": {},
     "output_type": "display_data"
    },
    {
     "name": "stdout",
     "output_type": "stream",
     "text": [
      "Train acc: 0.691, Train loss: 0.786\n",
      "Val acc: 0.583, Val loss: 1.155\n",
      "\n",
      "Epoch 6\n"
     ]
    },
    {
     "data": {
      "application/vnd.jupyter.widget-view+json": {
       "model_id": "71a0f9bb7dc542cb903daa554a15dd58",
       "version_major": 2,
       "version_minor": 0
      },
      "text/plain": [
       "  0%|          | 0/476 [00:00<?, ?it/s]"
      ]
     },
     "metadata": {},
     "output_type": "display_data"
    },
    {
     "name": "stdout",
     "output_type": "stream",
     "text": [
      "Train acc: 0.734, Train loss: 0.681\n",
      "Val acc: 0.619, Val loss: 1.150\n",
      "\n",
      "Epoch 7\n"
     ]
    },
    {
     "data": {
      "application/vnd.jupyter.widget-view+json": {
       "model_id": "d266fae1a12c46eaae41cf62fb63a6fa",
       "version_major": 2,
       "version_minor": 0
      },
      "text/plain": [
       "  0%|          | 0/476 [00:00<?, ?it/s]"
      ]
     },
     "metadata": {},
     "output_type": "display_data"
    },
    {
     "name": "stdout",
     "output_type": "stream",
     "text": [
      "Train acc: 0.762, Train loss: 0.608\n",
      "Val acc: 0.626, Val loss: 1.071\n",
      "\n",
      "Epoch 8\n"
     ]
    },
    {
     "data": {
      "application/vnd.jupyter.widget-view+json": {
       "model_id": "88572fb2d8914fb389afd7721b45778b",
       "version_major": 2,
       "version_minor": 0
      },
      "text/plain": [
       "  0%|          | 0/476 [00:00<?, ?it/s]"
      ]
     },
     "metadata": {},
     "output_type": "display_data"
    },
    {
     "name": "stdout",
     "output_type": "stream",
     "text": [
      "Train acc: 0.788, Train loss: 0.553\n",
      "Val acc: 0.543, Val loss: 1.610\n",
      "\n",
      "Epoch 9\n"
     ]
    },
    {
     "data": {
      "application/vnd.jupyter.widget-view+json": {
       "model_id": "0669f35a21d5477699fe372d695b6c3f",
       "version_major": 2,
       "version_minor": 0
      },
      "text/plain": [
       "  0%|          | 0/476 [00:00<?, ?it/s]"
      ]
     },
     "metadata": {},
     "output_type": "display_data"
    },
    {
     "name": "stdout",
     "output_type": "stream",
     "text": [
      "Train acc: 0.800, Train loss: 0.519\n",
      "Val acc: 0.644, Val loss: 1.155\n",
      "\n",
      "Epoch 10\n"
     ]
    },
    {
     "data": {
      "application/vnd.jupyter.widget-view+json": {
       "model_id": "e68018c6e9c24591b7aaa3c890122938",
       "version_major": 2,
       "version_minor": 0
      },
      "text/plain": [
       "  0%|          | 0/476 [00:00<?, ?it/s]"
      ]
     },
     "metadata": {},
     "output_type": "display_data"
    },
    {
     "name": "stdout",
     "output_type": "stream",
     "text": [
      "Train acc: 0.819, Train loss: 0.468\n",
      "Val acc: 0.622, Val loss: 1.324\n",
      "\n",
      "Epoch 11\n"
     ]
    },
    {
     "data": {
      "application/vnd.jupyter.widget-view+json": {
       "model_id": "c1aef583c9094a0c95273e8d340d416d",
       "version_major": 2,
       "version_minor": 0
      },
      "text/plain": [
       "  0%|          | 0/476 [00:00<?, ?it/s]"
      ]
     },
     "metadata": {},
     "output_type": "display_data"
    },
    {
     "name": "stdout",
     "output_type": "stream",
     "text": [
      "Train acc: 0.834, Train loss: 0.435\n",
      "Val acc: 0.670, Val loss: 1.178\n",
      "\n",
      "Epoch 12\n"
     ]
    },
    {
     "data": {
      "application/vnd.jupyter.widget-view+json": {
       "model_id": "628682560fe247e292dfac33d7e8034d",
       "version_major": 2,
       "version_minor": 0
      },
      "text/plain": [
       "  0%|          | 0/476 [00:00<?, ?it/s]"
      ]
     },
     "metadata": {},
     "output_type": "display_data"
    },
    {
     "name": "stdout",
     "output_type": "stream",
     "text": [
      "Train acc: 0.848, Train loss: 0.397\n",
      "Val acc: 0.659, Val loss: 1.284\n",
      "\n",
      "Epoch 13\n"
     ]
    },
    {
     "data": {
      "application/vnd.jupyter.widget-view+json": {
       "model_id": "1c622571e94048ebb465f1d7365f0653",
       "version_major": 2,
       "version_minor": 0
      },
      "text/plain": [
       "  0%|          | 0/476 [00:00<?, ?it/s]"
      ]
     },
     "metadata": {},
     "output_type": "display_data"
    },
    {
     "name": "stdout",
     "output_type": "stream",
     "text": [
      "Train acc: 0.867, Train loss: 0.354\n",
      "Val acc: 0.648, Val loss: 1.399\n",
      "\n",
      "Epoch 14\n"
     ]
    },
    {
     "data": {
      "application/vnd.jupyter.widget-view+json": {
       "model_id": "6931aac916f04463baa0ada086c76e78",
       "version_major": 2,
       "version_minor": 0
      },
      "text/plain": [
       "  0%|          | 0/476 [00:00<?, ?it/s]"
      ]
     },
     "metadata": {},
     "output_type": "display_data"
    },
    {
     "name": "stdout",
     "output_type": "stream",
     "text": [
      "Train acc: 0.877, Train loss: 0.325\n",
      "Val acc: 0.650, Val loss: 1.300\n",
      "\n",
      "Epoch 15\n"
     ]
    },
    {
     "data": {
      "application/vnd.jupyter.widget-view+json": {
       "model_id": "a26e3508998244b9a92bd3f20f90c46a",
       "version_major": 2,
       "version_minor": 0
      },
      "text/plain": [
       "  0%|          | 0/476 [00:00<?, ?it/s]"
      ]
     },
     "metadata": {},
     "output_type": "display_data"
    },
    {
     "name": "stdout",
     "output_type": "stream",
     "text": [
      "Train acc: 0.889, Train loss: 0.296\n",
      "Val acc: 0.681, Val loss: 1.277\n",
      "\n",
      "Epoch 16\n"
     ]
    },
    {
     "data": {
      "application/vnd.jupyter.widget-view+json": {
       "model_id": "1853f2cc2a2f48eea4d3ecf88b65763d",
       "version_major": 2,
       "version_minor": 0
      },
      "text/plain": [
       "  0%|          | 0/476 [00:00<?, ?it/s]"
      ]
     },
     "metadata": {},
     "output_type": "display_data"
    },
    {
     "name": "stdout",
     "output_type": "stream",
     "text": [
      "Train acc: 0.899, Train loss: 0.276\n",
      "Val acc: 0.673, Val loss: 1.302\n",
      "\n",
      "Epoch 17\n"
     ]
    },
    {
     "data": {
      "application/vnd.jupyter.widget-view+json": {
       "model_id": "31e08f72c18f4693b806d1c3690f8417",
       "version_major": 2,
       "version_minor": 0
      },
      "text/plain": [
       "  0%|          | 0/476 [00:00<?, ?it/s]"
      ]
     },
     "metadata": {},
     "output_type": "display_data"
    },
    {
     "name": "stdout",
     "output_type": "stream",
     "text": [
      "Train acc: 0.904, Train loss: 0.257\n",
      "Val acc: 0.687, Val loss: 1.302\n",
      "\n",
      "Epoch 18\n"
     ]
    },
    {
     "data": {
      "application/vnd.jupyter.widget-view+json": {
       "model_id": "1c54ef3b9e3e4211949722187e246173",
       "version_major": 2,
       "version_minor": 0
      },
      "text/plain": [
       "  0%|          | 0/476 [00:00<?, ?it/s]"
      ]
     },
     "metadata": {},
     "output_type": "display_data"
    },
    {
     "name": "stdout",
     "output_type": "stream",
     "text": [
      "Train acc: 0.909, Train loss: 0.241\n",
      "Val acc: 0.682, Val loss: 1.382\n",
      "\n",
      "Epoch 19\n"
     ]
    },
    {
     "data": {
      "application/vnd.jupyter.widget-view+json": {
       "model_id": "82af522ef5eb41ff83fdf54d14b3a475",
       "version_major": 2,
       "version_minor": 0
      },
      "text/plain": [
       "  0%|          | 0/476 [00:00<?, ?it/s]"
      ]
     },
     "metadata": {},
     "output_type": "display_data"
    },
    {
     "name": "stdout",
     "output_type": "stream",
     "text": [
      "Train acc: 0.920, Train loss: 0.217\n",
      "Val acc: 0.684, Val loss: 1.343\n",
      "\n",
      "Epoch 20\n"
     ]
    },
    {
     "data": {
      "application/vnd.jupyter.widget-view+json": {
       "model_id": "247778b250b64f34b4634f2e08f34b54",
       "version_major": 2,
       "version_minor": 0
      },
      "text/plain": [
       "  0%|          | 0/476 [00:00<?, ?it/s]"
      ]
     },
     "metadata": {},
     "output_type": "display_data"
    },
    {
     "name": "stdout",
     "output_type": "stream",
     "text": [
      "Train acc: 0.925, Train loss: 0.207\n",
      "Val acc: 0.670, Val loss: 1.430\n",
      "\n",
      "Epoch 21\n"
     ]
    },
    {
     "data": {
      "application/vnd.jupyter.widget-view+json": {
       "model_id": "f0f3d2040f914e5ba7a07540e344123c",
       "version_major": 2,
       "version_minor": 0
      },
      "text/plain": [
       "  0%|          | 0/476 [00:00<?, ?it/s]"
      ]
     },
     "metadata": {},
     "output_type": "display_data"
    },
    {
     "name": "stdout",
     "output_type": "stream",
     "text": [
      "Train acc: 0.931, Train loss: 0.185\n",
      "Val acc: 0.670, Val loss: 1.498\n",
      "\n",
      "Epoch 22\n"
     ]
    },
    {
     "data": {
      "application/vnd.jupyter.widget-view+json": {
       "model_id": "46e3bbe596c547cea2e39479b30fb698",
       "version_major": 2,
       "version_minor": 0
      },
      "text/plain": [
       "  0%|          | 0/476 [00:00<?, ?it/s]"
      ]
     },
     "metadata": {},
     "output_type": "display_data"
    },
    {
     "name": "stdout",
     "output_type": "stream",
     "text": [
      "Train acc: 0.932, Train loss: 0.183\n",
      "Val acc: 0.680, Val loss: 1.392\n",
      "\n",
      "Epoch 23\n"
     ]
    },
    {
     "data": {
      "application/vnd.jupyter.widget-view+json": {
       "model_id": "9782acf2dc214c87a5fbc454ca204120",
       "version_major": 2,
       "version_minor": 0
      },
      "text/plain": [
       "  0%|          | 0/476 [00:00<?, ?it/s]"
      ]
     },
     "metadata": {},
     "output_type": "display_data"
    },
    {
     "name": "stdout",
     "output_type": "stream",
     "text": [
      "Train acc: 0.933, Train loss: 0.179\n",
      "Val acc: 0.690, Val loss: 1.426\n",
      "\n",
      "Epoch 24\n"
     ]
    },
    {
     "data": {
      "application/vnd.jupyter.widget-view+json": {
       "model_id": "39163841952c4a639779e0e6d7e5ebd0",
       "version_major": 2,
       "version_minor": 0
      },
      "text/plain": [
       "  0%|          | 0/476 [00:00<?, ?it/s]"
      ]
     },
     "metadata": {},
     "output_type": "display_data"
    },
    {
     "name": "stdout",
     "output_type": "stream",
     "text": [
      "Train acc: 0.938, Train loss: 0.172\n",
      "Val acc: 0.684, Val loss: 1.418\n",
      "\n",
      "Epoch 25\n"
     ]
    },
    {
     "data": {
      "application/vnd.jupyter.widget-view+json": {
       "model_id": "8f105936ec9c49458ea455fdc8341379",
       "version_major": 2,
       "version_minor": 0
      },
      "text/plain": [
       "  0%|          | 0/476 [00:00<?, ?it/s]"
      ]
     },
     "metadata": {},
     "output_type": "display_data"
    },
    {
     "name": "stdout",
     "output_type": "stream",
     "text": [
      "Train acc: 0.937, Train loss: 0.169\n",
      "Val acc: 0.679, Val loss: 1.465\n",
      "\n",
      "Epoch 26\n"
     ]
    },
    {
     "data": {
      "application/vnd.jupyter.widget-view+json": {
       "model_id": "869359a11939413dae537544a90ba8bb",
       "version_major": 2,
       "version_minor": 0
      },
      "text/plain": [
       "  0%|          | 0/476 [00:00<?, ?it/s]"
      ]
     },
     "metadata": {},
     "output_type": "display_data"
    },
    {
     "name": "stdout",
     "output_type": "stream",
     "text": [
      "Train acc: 0.941, Train loss: 0.165\n",
      "Val acc: 0.680, Val loss: 1.460\n",
      "\n",
      "Epoch 27\n"
     ]
    },
    {
     "data": {
      "application/vnd.jupyter.widget-view+json": {
       "model_id": "07d779a76f3340f6b22c3c1440f222c5",
       "version_major": 2,
       "version_minor": 0
      },
      "text/plain": [
       "  0%|          | 0/476 [00:00<?, ?it/s]"
      ]
     },
     "metadata": {},
     "output_type": "display_data"
    },
    {
     "name": "stdout",
     "output_type": "stream",
     "text": [
      "Train acc: 0.939, Train loss: 0.168\n",
      "Val acc: 0.680, Val loss: 1.445\n",
      "\n",
      "Epoch 28\n"
     ]
    },
    {
     "data": {
      "application/vnd.jupyter.widget-view+json": {
       "model_id": "3dd84ac0bcf148d2991b827768d9ab2c",
       "version_major": 2,
       "version_minor": 0
      },
      "text/plain": [
       "  0%|          | 0/476 [00:00<?, ?it/s]"
      ]
     },
     "metadata": {},
     "output_type": "display_data"
    },
    {
     "name": "stdout",
     "output_type": "stream",
     "text": [
      "Train acc: 0.940, Train loss: 0.164\n",
      "Val acc: 0.686, Val loss: 1.460\n",
      "\n",
      "Epoch 29\n"
     ]
    },
    {
     "data": {
      "application/vnd.jupyter.widget-view+json": {
       "model_id": "887f0292f6be4837ab5fd8397148bd61",
       "version_major": 2,
       "version_minor": 0
      },
      "text/plain": [
       "  0%|          | 0/476 [00:00<?, ?it/s]"
      ]
     },
     "metadata": {},
     "output_type": "display_data"
    },
    {
     "name": "stdout",
     "output_type": "stream",
     "text": [
      "Train acc: 0.940, Train loss: 0.166\n",
      "Val acc: 0.681, Val loss: 1.495\n",
      "\n",
      "Epoch 30\n"
     ]
    },
    {
     "data": {
      "application/vnd.jupyter.widget-view+json": {
       "model_id": "88f87739ad35472987593fbcbd4b85bc",
       "version_major": 2,
       "version_minor": 0
      },
      "text/plain": [
       "  0%|          | 0/476 [00:00<?, ?it/s]"
      ]
     },
     "metadata": {},
     "output_type": "display_data"
    },
    {
     "name": "stdout",
     "output_type": "stream",
     "text": [
      "Train acc: 0.937, Train loss: 0.172\n",
      "Val acc: 0.671, Val loss: 1.546\n",
      "\n",
      "Epoch 31\n"
     ]
    },
    {
     "data": {
      "application/vnd.jupyter.widget-view+json": {
       "model_id": "cfb5475607ed4edfa6cb2c60155942be",
       "version_major": 2,
       "version_minor": 0
      },
      "text/plain": [
       "  0%|          | 0/476 [00:00<?, ?it/s]"
      ]
     },
     "metadata": {},
     "output_type": "display_data"
    },
    {
     "name": "stdout",
     "output_type": "stream",
     "text": [
      "Train acc: 0.936, Train loss: 0.176\n",
      "Val acc: 0.674, Val loss: 1.531\n",
      "\n",
      "Epoch 32\n"
     ]
    },
    {
     "data": {
      "application/vnd.jupyter.widget-view+json": {
       "model_id": "ff4d73f904444db2b137067094554b43",
       "version_major": 2,
       "version_minor": 0
      },
      "text/plain": [
       "  0%|          | 0/476 [00:00<?, ?it/s]"
      ]
     },
     "metadata": {},
     "output_type": "display_data"
    },
    {
     "name": "stdout",
     "output_type": "stream",
     "text": [
      "Train acc: 0.935, Train loss: 0.177\n",
      "Val acc: 0.682, Val loss: 1.463\n",
      "\n",
      "Epoch 33\n"
     ]
    },
    {
     "data": {
      "application/vnd.jupyter.widget-view+json": {
       "model_id": "c6fb10cee4d44919874ed4cfaa43c80b",
       "version_major": 2,
       "version_minor": 0
      },
      "text/plain": [
       "  0%|          | 0/476 [00:00<?, ?it/s]"
      ]
     },
     "metadata": {},
     "output_type": "display_data"
    },
    {
     "name": "stdout",
     "output_type": "stream",
     "text": [
      "Train acc: 0.930, Train loss: 0.187\n",
      "Val acc: 0.691, Val loss: 1.453\n",
      "\n",
      "Epoch 34\n"
     ]
    },
    {
     "data": {
      "application/vnd.jupyter.widget-view+json": {
       "model_id": "ac6ee62f21544de69b2c30ea682a5c72",
       "version_major": 2,
       "version_minor": 0
      },
      "text/plain": [
       "  0%|          | 0/476 [00:00<?, ?it/s]"
      ]
     },
     "metadata": {},
     "output_type": "display_data"
    },
    {
     "name": "stdout",
     "output_type": "stream",
     "text": [
      "Train acc: 0.930, Train loss: 0.185\n",
      "Val acc: 0.693, Val loss: 1.405\n",
      "\n",
      "Epoch 35\n"
     ]
    },
    {
     "data": {
      "application/vnd.jupyter.widget-view+json": {
       "model_id": "0ec407e1516b4a588f29c49ec3a94a1a",
       "version_major": 2,
       "version_minor": 0
      },
      "text/plain": [
       "  0%|          | 0/476 [00:00<?, ?it/s]"
      ]
     },
     "metadata": {},
     "output_type": "display_data"
    },
    {
     "name": "stdout",
     "output_type": "stream",
     "text": [
      "Train acc: 0.929, Train loss: 0.195\n",
      "Val acc: 0.677, Val loss: 1.543\n",
      "\n",
      "Epoch 36\n"
     ]
    },
    {
     "data": {
      "application/vnd.jupyter.widget-view+json": {
       "model_id": "070c8034857343af8c142a51cd6dd3a2",
       "version_major": 2,
       "version_minor": 0
      },
      "text/plain": [
       "  0%|          | 0/476 [00:00<?, ?it/s]"
      ]
     },
     "metadata": {},
     "output_type": "display_data"
    },
    {
     "name": "stdout",
     "output_type": "stream",
     "text": [
      "Train acc: 0.923, Train loss: 0.210\n",
      "Val acc: 0.690, Val loss: 1.441\n",
      "\n",
      "Epoch 37\n"
     ]
    },
    {
     "data": {
      "application/vnd.jupyter.widget-view+json": {
       "model_id": "3278d63096394688b63611249237edb0",
       "version_major": 2,
       "version_minor": 0
      },
      "text/plain": [
       "  0%|          | 0/476 [00:00<?, ?it/s]"
      ]
     },
     "metadata": {},
     "output_type": "display_data"
    },
    {
     "name": "stdout",
     "output_type": "stream",
     "text": [
      "Train acc: 0.920, Train loss: 0.220\n",
      "Val acc: 0.660, Val loss: 1.367\n",
      "\n",
      "Epoch 38\n"
     ]
    },
    {
     "data": {
      "application/vnd.jupyter.widget-view+json": {
       "model_id": "a40e3cff6b854a0c9dfdfff71555c520",
       "version_major": 2,
       "version_minor": 0
      },
      "text/plain": [
       "  0%|          | 0/476 [00:00<?, ?it/s]"
      ]
     },
     "metadata": {},
     "output_type": "display_data"
    },
    {
     "name": "stdout",
     "output_type": "stream",
     "text": [
      "Train acc: 0.919, Train loss: 0.220\n",
      "Val acc: 0.649, Val loss: 1.504\n",
      "\n",
      "Epoch 39\n"
     ]
    },
    {
     "data": {
      "application/vnd.jupyter.widget-view+json": {
       "model_id": "f1c5ddd400b84de6b405a3a455d39dc6",
       "version_major": 2,
       "version_minor": 0
      },
      "text/plain": [
       "  0%|          | 0/476 [00:00<?, ?it/s]"
      ]
     },
     "metadata": {},
     "output_type": "display_data"
    },
    {
     "name": "stdout",
     "output_type": "stream",
     "text": [
      "Train acc: 0.916, Train loss: 0.222\n",
      "Val acc: 0.673, Val loss: 1.433\n",
      "\n",
      "Epoch 40\n"
     ]
    },
    {
     "data": {
      "application/vnd.jupyter.widget-view+json": {
       "model_id": "d4023582fb274c9d9c7b2366c0cb962a",
       "version_major": 2,
       "version_minor": 0
      },
      "text/plain": [
       "  0%|          | 0/476 [00:00<?, ?it/s]"
      ]
     },
     "metadata": {},
     "output_type": "display_data"
    },
    {
     "name": "stdout",
     "output_type": "stream",
     "text": [
      "Train acc: 0.912, Train loss: 0.244\n",
      "Val acc: 0.680, Val loss: 1.383\n",
      "\n",
      "Epoch 41\n"
     ]
    },
    {
     "data": {
      "application/vnd.jupyter.widget-view+json": {
       "model_id": "a003c91f2ddd4a13bd6bdd7a0a76cbdc",
       "version_major": 2,
       "version_minor": 0
      },
      "text/plain": [
       "  0%|          | 0/476 [00:00<?, ?it/s]"
      ]
     },
     "metadata": {},
     "output_type": "display_data"
    },
    {
     "name": "stdout",
     "output_type": "stream",
     "text": [
      "Train acc: 0.910, Train loss: 0.243\n",
      "Val acc: 0.687, Val loss: 1.281\n",
      "\n",
      "Epoch 42\n"
     ]
    },
    {
     "data": {
      "application/vnd.jupyter.widget-view+json": {
       "model_id": "475ce0d8563c4c5ab61cc735d10371c1",
       "version_major": 2,
       "version_minor": 0
      },
      "text/plain": [
       "  0%|          | 0/476 [00:00<?, ?it/s]"
      ]
     },
     "metadata": {},
     "output_type": "display_data"
    },
    {
     "name": "stdout",
     "output_type": "stream",
     "text": [
      "Train acc: 0.904, Train loss: 0.257\n",
      "Val acc: 0.665, Val loss: 1.409\n",
      "\n",
      "Epoch 43\n"
     ]
    },
    {
     "data": {
      "application/vnd.jupyter.widget-view+json": {
       "model_id": "7c3430777f394e54b2676eb149e916ee",
       "version_major": 2,
       "version_minor": 0
      },
      "text/plain": [
       "  0%|          | 0/476 [00:00<?, ?it/s]"
      ]
     },
     "metadata": {},
     "output_type": "display_data"
    },
    {
     "name": "stdout",
     "output_type": "stream",
     "text": [
      "Train acc: 0.901, Train loss: 0.267\n",
      "Val acc: 0.672, Val loss: 1.246\n",
      "\n",
      "Epoch 44\n"
     ]
    },
    {
     "data": {
      "application/vnd.jupyter.widget-view+json": {
       "model_id": "e73ce2a788e7443bb5861af670f9868a",
       "version_major": 2,
       "version_minor": 0
      },
      "text/plain": [
       "  0%|          | 0/476 [00:00<?, ?it/s]"
      ]
     },
     "metadata": {},
     "output_type": "display_data"
    },
    {
     "name": "stdout",
     "output_type": "stream",
     "text": [
      "Train acc: 0.900, Train loss: 0.271\n",
      "Val acc: 0.673, Val loss: 1.317\n",
      "\n",
      "Epoch 45\n"
     ]
    },
    {
     "data": {
      "application/vnd.jupyter.widget-view+json": {
       "model_id": "dc85dae37396434d95e696cf1972958f",
       "version_major": 2,
       "version_minor": 0
      },
      "text/plain": [
       "  0%|          | 0/476 [00:00<?, ?it/s]"
      ]
     },
     "metadata": {},
     "output_type": "display_data"
    },
    {
     "name": "stdout",
     "output_type": "stream",
     "text": [
      "Train acc: 0.899, Train loss: 0.271\n",
      "Val acc: 0.676, Val loss: 1.377\n",
      "\n",
      "Epoch 46\n"
     ]
    },
    {
     "data": {
      "application/vnd.jupyter.widget-view+json": {
       "model_id": "baace0fd36174930a28709859e94a55c",
       "version_major": 2,
       "version_minor": 0
      },
      "text/plain": [
       "  0%|          | 0/476 [00:00<?, ?it/s]"
      ]
     },
     "metadata": {},
     "output_type": "display_data"
    },
    {
     "name": "stdout",
     "output_type": "stream",
     "text": [
      "Train acc: 0.899, Train loss: 0.276\n",
      "Val acc: 0.659, Val loss: 1.370\n",
      "\n",
      "Epoch 47\n"
     ]
    },
    {
     "data": {
      "application/vnd.jupyter.widget-view+json": {
       "model_id": "205e8b2397c04cc2814018d19cf3ec7f",
       "version_major": 2,
       "version_minor": 0
      },
      "text/plain": [
       "  0%|          | 0/476 [00:00<?, ?it/s]"
      ]
     },
     "metadata": {},
     "output_type": "display_data"
    },
    {
     "name": "stdout",
     "output_type": "stream",
     "text": [
      "Train acc: 0.897, Train loss: 0.278\n",
      "Val acc: 0.667, Val loss: 1.203\n",
      "\n",
      "Epoch 48\n"
     ]
    },
    {
     "data": {
      "application/vnd.jupyter.widget-view+json": {
       "model_id": "6d9118d4f5a34100969fd1395ed550f7",
       "version_major": 2,
       "version_minor": 0
      },
      "text/plain": [
       "  0%|          | 0/476 [00:00<?, ?it/s]"
      ]
     },
     "metadata": {},
     "output_type": "display_data"
    },
    {
     "name": "stdout",
     "output_type": "stream",
     "text": [
      "Train acc: 0.899, Train loss: 0.273\n",
      "Val acc: 0.671, Val loss: 1.385\n",
      "\n",
      "Epoch 49\n"
     ]
    },
    {
     "data": {
      "application/vnd.jupyter.widget-view+json": {
       "model_id": "b785501aeb6d41e290a9c1a76ffc7ab3",
       "version_major": 2,
       "version_minor": 0
      },
      "text/plain": [
       "  0%|          | 0/476 [00:00<?, ?it/s]"
      ]
     },
     "metadata": {},
     "output_type": "display_data"
    },
    {
     "name": "stdout",
     "output_type": "stream",
     "text": [
      "Train acc: 0.899, Train loss: 0.271\n",
      "Val acc: 0.672, Val loss: 1.213\n",
      "\n",
      "Epoch 50\n"
     ]
    },
    {
     "data": {
      "application/vnd.jupyter.widget-view+json": {
       "model_id": "eeca6e81f31f48bd9480a8817586b1ff",
       "version_major": 2,
       "version_minor": 0
      },
      "text/plain": [
       "  0%|          | 0/476 [00:00<?, ?it/s]"
      ]
     },
     "metadata": {},
     "output_type": "display_data"
    },
    {
     "name": "stdout",
     "output_type": "stream",
     "text": [
      "Train acc: 0.901, Train loss: 0.269\n",
      "Val acc: 0.677, Val loss: 1.375\n",
      "\n"
     ]
    }
   ],
   "source": [
    "train_accuracies, train_losses, val_accuracies, val_losses = utils.train_model(model=ctransformer_model,\n",
    "                                                                               criterion=criterion,\n",
    "                                                                               optimizer=optimizer,\n",
    "                                                                               scheduler=scheduler,\n",
    "                                                                               train_loader=train_loader,\n",
    "                                                                               val_loader=val_loader,\n",
    "                                                                               num_epochs=num_epochs,\n",
    "                                                                               learning=False,\n",
    "                                                                               device=device,\n",
    "                                                                               trial=None)"
   ]
  },
  {
   "cell_type": "markdown",
   "id": "fc965d9d-4938-474b-b272-9052a7c14a36",
   "metadata": {},
   "source": [
    "### **Training and Validation Accuracy Graph**"
   ]
  },
  {
   "cell_type": "code",
   "execution_count": 36,
   "id": "9c2e49ba-62f6-44c8-bd48-163136ce0a6c",
   "metadata": {},
   "outputs": [
    {
     "data": {
      "image/png": "[encoded data removed]",
      "text/plain": [
       "<Figure size 1000x600 with 1 Axes>"
      ]
     },
     "metadata": {},
     "output_type": "display_data"
    }
   ],
   "source": [
    "epochs = range(1, num_epochs + 1)\n",
    "\n",
    "plt.figure(figsize=(10, 6))\n",
    "plt.plot(epochs, train_accuracies, label='Training Accuracy')\n",
    "plt.plot(epochs, val_accuracies, label='Validation Accuracy')\n",
    "plt.title('Training and Validation Accuracy')\n",
    "plt.xlabel('Epoch')\n",
    "plt.ylabel('Accuracy')\n",
    "plt.legend()\n",
    "plt.grid(True)\n",
    "plt.show()"
   ]
  },
  {
   "cell_type": "markdown",
   "id": "57d3b420-30cc-4b27-aacd-2373587e27bd",
   "metadata": {},
   "source": [
    "### **Training and Validation Loss**"
   ]
  },
  {
   "cell_type": "code",
   "execution_count": 37,
   "id": "4a7ef25c-25e4-4d0f-ab0b-fa98334c4273",
   "metadata": {
    "scrolled": true
   },
   "outputs": [
    {
     "data": {
      "image/png": "[encoded data removed]",
      "text/plain": [
       "<Figure size 1000x600 with 1 Axes>"
      ]
     },
     "metadata": {},
     "output_type": "display_data"
    }
   ],
   "source": [
    "import matplotlib.pyplot as plt\n",
    "epochs = range(1, num_epochs + 1)\n",
    "\n",
    "plt.figure(figsize=(10, 6))\n",
    "plt.plot(epochs, train_losses, label='Training Loss')\n",
    "plt.plot(epochs, val_losses, label='Validation Loss')\n",
    "plt.title('Training and Validation Loss')\n",
    "plt.xlabel('Epoch')\n",
    "plt.ylabel('Loss')\n",
    "plt.legend()\n",
    "plt.grid(True)\n",
    "plt.show()"
   ]
  },
  {
   "cell_type": "code",
   "execution_count": 38,
   "id": "10257b5f-988b-4583-994f-dc3cb7bf37b7",
   "metadata": {},
   "outputs": [
    {
     "name": "stdout",
     "output_type": "stream",
     "text": [
      "Test acc: 0.716\n"
     ]
    }
   ],
   "source": [
    "utils.test_model(ctransformer_model, test_loader)"
   ]
  },
  {
   "cell_type": "code",
   "execution_count": 39,
   "id": "82aa4b6d-2330-4a04-89ff-5cdc54932ed8",
   "metadata": {},
   "outputs": [],
   "source": [
    "torch.save(ctransformer_model, path_to_save+'ctransformer')\n",
    "torch.cuda.empty_cache()"
   ]
  },
  {
   "cell_type": "markdown",
   "id": "3aa0a94e-d5ef-456c-94f5-d1238dcf0c61",
   "metadata": {},
   "source": [
    "# **GRU**"
   ]
  },
  {
   "cell_type": "markdown",
   "id": "953524a1-314a-4506-9eaa-f1b742f10314",
   "metadata": {},
   "source": [
    "### **Model Summary**"
   ]
  },
  {
   "cell_type": "code",
   "execution_count": 40,
   "id": "609f78c6-6d18-40eb-ab2e-2125a548d153",
   "metadata": {},
   "outputs": [
    {
     "data": {
      "text/plain": [
       "==========================================================================================\n",
       "Layer (type:depth-idx)                   Output Shape              Param #\n",
       "==========================================================================================\n",
       "GRU                                      [64, 54]                  2,688\n",
       "├─GRU: 1-1                               [64, 400, 128]            182,784\n",
       "├─Linear: 1-2                            [64, 54]                  6,966\n",
       "==========================================================================================\n",
       "Total params: 192,438\n",
       "Trainable params: 192,438\n",
       "Non-trainable params: 0\n",
       "Total mult-adds (Units.GIGABYTES): 4.68\n",
       "==========================================================================================\n",
       "Input size (MB): 2.25\n",
       "Forward/backward pass size (MB): 26.24\n",
       "Params size (MB): 0.76\n",
       "Estimated Total Size (MB): 29.25\n",
       "=========================================================================================="
      ]
     },
     "execution_count": 40,
     "metadata": {},
     "output_type": "execute_result"
    }
   ],
   "source": [
    "torchinfo.summary(gru.GRU(), input_size=(batch_size, 22, 400))"
   ]
  },
  {
   "cell_type": "code",
   "execution_count": 41,
   "id": "3cbfe20c-23ca-4f81-a867-6e57c60a7c57",
   "metadata": {},
   "outputs": [],
   "source": [
    "gru_model = gru.GRU().to(device)\n",
    "criterion = nn.CrossEntropyLoss()\n",
    "optimizer = torch.optim.AdamW(gru_model.parameters(),\n",
    "                             lr=0.001767340543208569,\n",
    "                             weight_decay=0.008272087903010924)\n",
    "scheduler = torch.optim.lr_scheduler.CosineAnnealingLR(optimizer, \n",
    "                                                       T_max=T_max, \n",
    "                                                       eta_min=eta_min)"
   ]
  },
  {
   "cell_type": "markdown",
   "id": "dcb1110f-e555-4388-9788-38057d48b716",
   "metadata": {},
   "source": [
    "### **Train the model**"
   ]
  },
  {
   "cell_type": "code",
   "execution_count": 42,
   "id": "a0e5eac1-5afc-4693-882d-2e4fc00c9f3a",
   "metadata": {},
   "outputs": [
    {
     "name": "stdout",
     "output_type": "stream",
     "text": [
      "Epoch 1\n"
     ]
    },
    {
     "data": {
      "application/vnd.jupyter.widget-view+json": {
       "model_id": "85e6cc12a30441aab2899009d1e814dd",
       "version_major": 2,
       "version_minor": 0
      },
      "text/plain": [
       "  0%|          | 0/476 [00:00<?, ?it/s]"
      ]
     },
     "metadata": {},
     "output_type": "display_data"
    },
    {
     "name": "stdout",
     "output_type": "stream",
     "text": [
      "Train acc: 0.248, Train loss: 1.428\n",
      "Val acc: 0.269, Val loss: 1.396\n",
      "\n",
      "Epoch 2\n"
     ]
    },
    {
     "data": {
      "application/vnd.jupyter.widget-view+json": {
       "model_id": "17f271459a2a47e88df6b40f9cff5ecf",
       "version_major": 2,
       "version_minor": 0
      },
      "text/plain": [
       "  0%|          | 0/476 [00:00<?, ?it/s]"
      ]
     },
     "metadata": {},
     "output_type": "display_data"
    },
    {
     "name": "stdout",
     "output_type": "stream",
     "text": [
      "Train acc: 0.251, Train loss: 1.398\n",
      "Val acc: 0.264, Val loss: 1.385\n",
      "\n",
      "Epoch 3\n"
     ]
    },
    {
     "data": {
      "application/vnd.jupyter.widget-view+json": {
       "model_id": "fd37598f4797483983e5c87c0f4621de",
       "version_major": 2,
       "version_minor": 0
      },
      "text/plain": [
       "  0%|          | 0/476 [00:00<?, ?it/s]"
      ]
     },
     "metadata": {},
     "output_type": "display_data"
    },
    {
     "name": "stdout",
     "output_type": "stream",
     "text": [
      "Train acc: 0.255, Train loss: 1.392\n",
      "Val acc: 0.263, Val loss: 1.394\n",
      "\n",
      "Epoch 4\n"
     ]
    },
    {
     "data": {
      "application/vnd.jupyter.widget-view+json": {
       "model_id": "51b00e3e117040c39e74ee71259c880e",
       "version_major": 2,
       "version_minor": 0
      },
      "text/plain": [
       "  0%|          | 0/476 [00:00<?, ?it/s]"
      ]
     },
     "metadata": {},
     "output_type": "display_data"
    },
    {
     "name": "stdout",
     "output_type": "stream",
     "text": [
      "Train acc: 0.261, Train loss: 1.391\n",
      "Val acc: 0.264, Val loss: 1.419\n",
      "\n",
      "Epoch 5\n"
     ]
    },
    {
     "data": {
      "application/vnd.jupyter.widget-view+json": {
       "model_id": "39a1ac2b8839423fb42853d24dd5cd1c",
       "version_major": 2,
       "version_minor": 0
      },
      "text/plain": [
       "  0%|          | 0/476 [00:00<?, ?it/s]"
      ]
     },
     "metadata": {},
     "output_type": "display_data"
    },
    {
     "name": "stdout",
     "output_type": "stream",
     "text": [
      "Train acc: 0.268, Train loss: 1.387\n",
      "Val acc: 0.265, Val loss: 1.402\n",
      "\n",
      "Epoch 6\n"
     ]
    },
    {
     "data": {
      "application/vnd.jupyter.widget-view+json": {
       "model_id": "39b003f49e25494faa73313328c84d8d",
       "version_major": 2,
       "version_minor": 0
      },
      "text/plain": [
       "  0%|          | 0/476 [00:00<?, ?it/s]"
      ]
     },
     "metadata": {},
     "output_type": "display_data"
    },
    {
     "name": "stdout",
     "output_type": "stream",
     "text": [
      "Train acc: 0.279, Train loss: 1.382\n",
      "Val acc: 0.213, Val loss: 1.427\n",
      "\n",
      "Epoch 7\n"
     ]
    },
    {
     "data": {
      "application/vnd.jupyter.widget-view+json": {
       "model_id": "e44fdba9c9b4462eae113eea0e5bf681",
       "version_major": 2,
       "version_minor": 0
      },
      "text/plain": [
       "  0%|          | 0/476 [00:00<?, ?it/s]"
      ]
     },
     "metadata": {},
     "output_type": "display_data"
    },
    {
     "name": "stdout",
     "output_type": "stream",
     "text": [
      "Train acc: 0.287, Train loss: 1.376\n",
      "Val acc: 0.201, Val loss: 1.422\n",
      "\n",
      "Epoch 8\n"
     ]
    },
    {
     "data": {
      "application/vnd.jupyter.widget-view+json": {
       "model_id": "e94004b930a74004a3ebf79d61bcdac5",
       "version_major": 2,
       "version_minor": 0
      },
      "text/plain": [
       "  0%|          | 0/476 [00:00<?, ?it/s]"
      ]
     },
     "metadata": {},
     "output_type": "display_data"
    },
    {
     "name": "stdout",
     "output_type": "stream",
     "text": [
      "Train acc: 0.291, Train loss: 1.373\n",
      "Val acc: 0.207, Val loss: 1.447\n",
      "\n",
      "Epoch 9\n"
     ]
    },
    {
     "data": {
      "application/vnd.jupyter.widget-view+json": {
       "model_id": "6d847730b3cb43d7b970b5324fdc6e2e",
       "version_major": 2,
       "version_minor": 0
      },
      "text/plain": [
       "  0%|          | 0/476 [00:00<?, ?it/s]"
      ]
     },
     "metadata": {},
     "output_type": "display_data"
    },
    {
     "name": "stdout",
     "output_type": "stream",
     "text": [
      "Train acc: 0.300, Train loss: 1.367\n",
      "Val acc: 0.225, Val loss: 1.416\n",
      "\n",
      "Epoch 10\n"
     ]
    },
    {
     "data": {
      "application/vnd.jupyter.widget-view+json": {
       "model_id": "363f639762a54114805db9040fa01c65",
       "version_major": 2,
       "version_minor": 0
      },
      "text/plain": [
       "  0%|          | 0/476 [00:00<?, ?it/s]"
      ]
     },
     "metadata": {},
     "output_type": "display_data"
    },
    {
     "name": "stdout",
     "output_type": "stream",
     "text": [
      "Train acc: 0.307, Train loss: 1.359\n",
      "Val acc: 0.264, Val loss: 1.434\n",
      "\n",
      "Epoch 11\n"
     ]
    },
    {
     "data": {
      "application/vnd.jupyter.widget-view+json": {
       "model_id": "99b6800fddaa4112a747a26787be7bc1",
       "version_major": 2,
       "version_minor": 0
      },
      "text/plain": [
       "  0%|          | 0/476 [00:00<?, ?it/s]"
      ]
     },
     "metadata": {},
     "output_type": "display_data"
    },
    {
     "name": "stdout",
     "output_type": "stream",
     "text": [
      "Train acc: 0.314, Train loss: 1.353\n",
      "Val acc: 0.216, Val loss: 1.427\n",
      "\n",
      "Epoch 12\n"
     ]
    },
    {
     "data": {
      "application/vnd.jupyter.widget-view+json": {
       "model_id": "563f09d5f1d14139a12e7e7859670163",
       "version_major": 2,
       "version_minor": 0
      },
      "text/plain": [
       "  0%|          | 0/476 [00:00<?, ?it/s]"
      ]
     },
     "metadata": {},
     "output_type": "display_data"
    },
    {
     "name": "stdout",
     "output_type": "stream",
     "text": [
      "Train acc: 0.320, Train loss: 1.347\n",
      "Val acc: 0.217, Val loss: 1.445\n",
      "\n",
      "Epoch 13\n"
     ]
    },
    {
     "data": {
      "application/vnd.jupyter.widget-view+json": {
       "model_id": "3a1a3936c5e748dda2d10e22bd819278",
       "version_major": 2,
       "version_minor": 0
      },
      "text/plain": [
       "  0%|          | 0/476 [00:00<?, ?it/s]"
      ]
     },
     "metadata": {},
     "output_type": "display_data"
    },
    {
     "name": "stdout",
     "output_type": "stream",
     "text": [
      "Train acc: 0.322, Train loss: 1.341\n",
      "Val acc: 0.236, Val loss: 1.458\n",
      "\n",
      "Epoch 14\n"
     ]
    },
    {
     "data": {
      "application/vnd.jupyter.widget-view+json": {
       "model_id": "e6f4fa7aebed493abf17dd305ec8d832",
       "version_major": 2,
       "version_minor": 0
      },
      "text/plain": [
       "  0%|          | 0/476 [00:00<?, ?it/s]"
      ]
     },
     "metadata": {},
     "output_type": "display_data"
    },
    {
     "name": "stdout",
     "output_type": "stream",
     "text": [
      "Train acc: 0.327, Train loss: 1.337\n",
      "Val acc: 0.200, Val loss: 1.450\n",
      "\n",
      "Epoch 15\n"
     ]
    },
    {
     "data": {
      "application/vnd.jupyter.widget-view+json": {
       "model_id": "17450419cfe14132a32248330f2f9e92",
       "version_major": 2,
       "version_minor": 0
      },
      "text/plain": [
       "  0%|          | 0/476 [00:00<?, ?it/s]"
      ]
     },
     "metadata": {},
     "output_type": "display_data"
    },
    {
     "name": "stdout",
     "output_type": "stream",
     "text": [
      "Train acc: 0.332, Train loss: 1.331\n",
      "Val acc: 0.195, Val loss: 1.464\n",
      "\n",
      "Epoch 16\n"
     ]
    },
    {
     "data": {
      "application/vnd.jupyter.widget-view+json": {
       "model_id": "57e65f07589040b690582540a3557794",
       "version_major": 2,
       "version_minor": 0
      },
      "text/plain": [
       "  0%|          | 0/476 [00:00<?, ?it/s]"
      ]
     },
     "metadata": {},
     "output_type": "display_data"
    },
    {
     "name": "stdout",
     "output_type": "stream",
     "text": [
      "Train acc: 0.340, Train loss: 1.326\n",
      "Val acc: 0.236, Val loss: 1.459\n",
      "\n",
      "Epoch 17\n"
     ]
    },
    {
     "data": {
      "application/vnd.jupyter.widget-view+json": {
       "model_id": "1230d6ceb42c4c1890f15ea832f68a85",
       "version_major": 2,
       "version_minor": 0
      },
      "text/plain": [
       "  0%|          | 0/476 [00:00<?, ?it/s]"
      ]
     },
     "metadata": {},
     "output_type": "display_data"
    },
    {
     "name": "stdout",
     "output_type": "stream",
     "text": [
      "Train acc: 0.347, Train loss: 1.318\n",
      "Val acc: 0.259, Val loss: 1.462\n",
      "\n",
      "Epoch 18\n"
     ]
    },
    {
     "data": {
      "application/vnd.jupyter.widget-view+json": {
       "model_id": "1480005db9f942e7b0b6a7f833ee4991",
       "version_major": 2,
       "version_minor": 0
      },
      "text/plain": [
       "  0%|          | 0/476 [00:00<?, ?it/s]"
      ]
     },
     "metadata": {},
     "output_type": "display_data"
    },
    {
     "name": "stdout",
     "output_type": "stream",
     "text": [
      "Train acc: 0.356, Train loss: 1.311\n",
      "Val acc: 0.209, Val loss: 1.477\n",
      "\n",
      "Epoch 19\n"
     ]
    },
    {
     "data": {
      "application/vnd.jupyter.widget-view+json": {
       "model_id": "800874fbedd64ffeaa161f47b459db97",
       "version_major": 2,
       "version_minor": 0
      },
      "text/plain": [
       "  0%|          | 0/476 [00:00<?, ?it/s]"
      ]
     },
     "metadata": {},
     "output_type": "display_data"
    },
    {
     "name": "stdout",
     "output_type": "stream",
     "text": [
      "Train acc: 0.359, Train loss: 1.308\n",
      "Val acc: 0.213, Val loss: 1.487\n",
      "\n",
      "Epoch 20\n"
     ]
    },
    {
     "data": {
      "application/vnd.jupyter.widget-view+json": {
       "model_id": "076baf608b54468499d253550fe94b24",
       "version_major": 2,
       "version_minor": 0
      },
      "text/plain": [
       "  0%|          | 0/476 [00:00<?, ?it/s]"
      ]
     },
     "metadata": {},
     "output_type": "display_data"
    },
    {
     "name": "stdout",
     "output_type": "stream",
     "text": [
      "Train acc: 0.362, Train loss: 1.304\n",
      "Val acc: 0.190, Val loss: 1.493\n",
      "\n",
      "Epoch 21\n"
     ]
    },
    {
     "data": {
      "application/vnd.jupyter.widget-view+json": {
       "model_id": "992966f7a30a45d195131d6fe2adcf89",
       "version_major": 2,
       "version_minor": 0
      },
      "text/plain": [
       "  0%|          | 0/476 [00:00<?, ?it/s]"
      ]
     },
     "metadata": {},
     "output_type": "display_data"
    },
    {
     "name": "stdout",
     "output_type": "stream",
     "text": [
      "Train acc: 0.362, Train loss: 1.301\n",
      "Val acc: 0.206, Val loss: 1.491\n",
      "\n",
      "Epoch 22\n"
     ]
    },
    {
     "data": {
      "application/vnd.jupyter.widget-view+json": {
       "model_id": "7fb16ac84ffe4501ad050e61eb94736f",
       "version_major": 2,
       "version_minor": 0
      },
      "text/plain": [
       "  0%|          | 0/476 [00:00<?, ?it/s]"
      ]
     },
     "metadata": {},
     "output_type": "display_data"
    },
    {
     "name": "stdout",
     "output_type": "stream",
     "text": [
      "Train acc: 0.366, Train loss: 1.299\n",
      "Val acc: 0.191, Val loss: 1.491\n",
      "\n",
      "Epoch 23\n"
     ]
    },
    {
     "data": {
      "application/vnd.jupyter.widget-view+json": {
       "model_id": "114b80e562e34bc28a644f6f5266c81b",
       "version_major": 2,
       "version_minor": 0
      },
      "text/plain": [
       "  0%|          | 0/476 [00:00<?, ?it/s]"
      ]
     },
     "metadata": {},
     "output_type": "display_data"
    },
    {
     "name": "stdout",
     "output_type": "stream",
     "text": [
      "Train acc: 0.372, Train loss: 1.298\n",
      "Val acc: 0.204, Val loss: 1.491\n",
      "\n",
      "Epoch 24\n"
     ]
    },
    {
     "data": {
      "application/vnd.jupyter.widget-view+json": {
       "model_id": "45fb6d15c3b44202a87d904732d113ab",
       "version_major": 2,
       "version_minor": 0
      },
      "text/plain": [
       "  0%|          | 0/476 [00:00<?, ?it/s]"
      ]
     },
     "metadata": {},
     "output_type": "display_data"
    },
    {
     "name": "stdout",
     "output_type": "stream",
     "text": [
      "Train acc: 0.367, Train loss: 1.297\n",
      "Val acc: 0.195, Val loss: 1.494\n",
      "\n",
      "Epoch 25\n"
     ]
    },
    {
     "data": {
      "application/vnd.jupyter.widget-view+json": {
       "model_id": "4fc45b7b4cb94d45b1ed542f8d31d5d8",
       "version_major": 2,
       "version_minor": 0
      },
      "text/plain": [
       "  0%|          | 0/476 [00:00<?, ?it/s]"
      ]
     },
     "metadata": {},
     "output_type": "display_data"
    },
    {
     "name": "stdout",
     "output_type": "stream",
     "text": [
      "Train acc: 0.364, Train loss: 1.301\n",
      "Val acc: 0.198, Val loss: 1.493\n",
      "\n",
      "Epoch 26\n"
     ]
    },
    {
     "data": {
      "application/vnd.jupyter.widget-view+json": {
       "model_id": "6409f051c4a749cb908ef5b636c13d26",
       "version_major": 2,
       "version_minor": 0
      },
      "text/plain": [
       "  0%|          | 0/476 [00:00<?, ?it/s]"
      ]
     },
     "metadata": {},
     "output_type": "display_data"
    },
    {
     "name": "stdout",
     "output_type": "stream",
     "text": [
      "Train acc: 0.371, Train loss: 1.297\n",
      "Val acc: 0.196, Val loss: 1.493\n",
      "\n",
      "Epoch 27\n"
     ]
    },
    {
     "data": {
      "application/vnd.jupyter.widget-view+json": {
       "model_id": "d1f0c2380be94874ba3cd4f711871dbb",
       "version_major": 2,
       "version_minor": 0
      },
      "text/plain": [
       "  0%|          | 0/476 [00:00<?, ?it/s]"
      ]
     },
     "metadata": {},
     "output_type": "display_data"
    },
    {
     "name": "stdout",
     "output_type": "stream",
     "text": [
      "Train acc: 0.366, Train loss: 1.297\n",
      "Val acc: 0.192, Val loss: 1.493\n",
      "\n",
      "Epoch 28\n"
     ]
    },
    {
     "data": {
      "application/vnd.jupyter.widget-view+json": {
       "model_id": "c9eb4119fa8346fdb60e55e3cc21ac36",
       "version_major": 2,
       "version_minor": 0
      },
      "text/plain": [
       "  0%|          | 0/476 [00:00<?, ?it/s]"
      ]
     },
     "metadata": {},
     "output_type": "display_data"
    },
    {
     "name": "stdout",
     "output_type": "stream",
     "text": [
      "Train acc: 0.371, Train loss: 1.297\n",
      "Val acc: 0.192, Val loss: 1.496\n",
      "\n",
      "Epoch 29\n"
     ]
    },
    {
     "data": {
      "application/vnd.jupyter.widget-view+json": {
       "model_id": "0ab64fe609d3491d8e7e5c917a4e3574",
       "version_major": 2,
       "version_minor": 0
      },
      "text/plain": [
       "  0%|          | 0/476 [00:00<?, ?it/s]"
      ]
     },
     "metadata": {},
     "output_type": "display_data"
    },
    {
     "name": "stdout",
     "output_type": "stream",
     "text": [
      "Train acc: 0.371, Train loss: 1.295\n",
      "Val acc: 0.203, Val loss: 1.493\n",
      "\n",
      "Epoch 30\n"
     ]
    },
    {
     "data": {
      "application/vnd.jupyter.widget-view+json": {
       "model_id": "c602f5add52b4700a30c560b44e80028",
       "version_major": 2,
       "version_minor": 0
      },
      "text/plain": [
       "  0%|          | 0/476 [00:00<?, ?it/s]"
      ]
     },
     "metadata": {},
     "output_type": "display_data"
    },
    {
     "name": "stdout",
     "output_type": "stream",
     "text": [
      "Train acc: 0.372, Train loss: 1.296\n",
      "Val acc: 0.199, Val loss: 1.494\n",
      "\n",
      "Epoch 31\n"
     ]
    },
    {
     "data": {
      "application/vnd.jupyter.widget-view+json": {
       "model_id": "35ee172faea745e286f5cfb826243cca",
       "version_major": 2,
       "version_minor": 0
      },
      "text/plain": [
       "  0%|          | 0/476 [00:00<?, ?it/s]"
      ]
     },
     "metadata": {},
     "output_type": "display_data"
    },
    {
     "name": "stdout",
     "output_type": "stream",
     "text": [
      "Train acc: 0.370, Train loss: 1.297\n",
      "Val acc: 0.201, Val loss: 1.496\n",
      "\n",
      "Epoch 32\n"
     ]
    },
    {
     "data": {
      "application/vnd.jupyter.widget-view+json": {
       "model_id": "9365aa6977884c1e8cd1abf9378b4a6d",
       "version_major": 2,
       "version_minor": 0
      },
      "text/plain": [
       "  0%|          | 0/476 [00:00<?, ?it/s]"
      ]
     },
     "metadata": {},
     "output_type": "display_data"
    },
    {
     "name": "stdout",
     "output_type": "stream",
     "text": [
      "Train acc: 0.368, Train loss: 1.296\n",
      "Val acc: 0.187, Val loss: 1.510\n",
      "\n",
      "Epoch 33\n"
     ]
    },
    {
     "data": {
      "application/vnd.jupyter.widget-view+json": {
       "model_id": "015fcecbb0bc4017957254c562283813",
       "version_major": 2,
       "version_minor": 0
      },
      "text/plain": [
       "  0%|          | 0/476 [00:00<?, ?it/s]"
      ]
     },
     "metadata": {},
     "output_type": "display_data"
    },
    {
     "name": "stdout",
     "output_type": "stream",
     "text": [
      "Train acc: 0.374, Train loss: 1.292\n",
      "Val acc: 0.217, Val loss: 1.494\n",
      "\n",
      "Epoch 34\n"
     ]
    },
    {
     "data": {
      "application/vnd.jupyter.widget-view+json": {
       "model_id": "afcfa715e9ae45158d0f384cd58956a6",
       "version_major": 2,
       "version_minor": 0
      },
      "text/plain": [
       "  0%|          | 0/476 [00:00<?, ?it/s]"
      ]
     },
     "metadata": {},
     "output_type": "display_data"
    },
    {
     "name": "stdout",
     "output_type": "stream",
     "text": [
      "Train acc: 0.369, Train loss: 1.295\n",
      "Val acc: 0.254, Val loss: 1.484\n",
      "\n",
      "Epoch 35\n"
     ]
    },
    {
     "data": {
      "application/vnd.jupyter.widget-view+json": {
       "model_id": "68543f5a1b1842ecb78f55edd13f8ea0",
       "version_major": 2,
       "version_minor": 0
      },
      "text/plain": [
       "  0%|          | 0/476 [00:00<?, ?it/s]"
      ]
     },
     "metadata": {},
     "output_type": "display_data"
    },
    {
     "name": "stdout",
     "output_type": "stream",
     "text": [
      "Train acc: 0.374, Train loss: 1.293\n",
      "Val acc: 0.220, Val loss: 1.493\n",
      "\n",
      "Epoch 36\n"
     ]
    },
    {
     "data": {
      "application/vnd.jupyter.widget-view+json": {
       "model_id": "e01598ec6cd24d39bbb407663c458af7",
       "version_major": 2,
       "version_minor": 0
      },
      "text/plain": [
       "  0%|          | 0/476 [00:00<?, ?it/s]"
      ]
     },
     "metadata": {},
     "output_type": "display_data"
    },
    {
     "name": "stdout",
     "output_type": "stream",
     "text": [
      "Train acc: 0.372, Train loss: 1.294\n",
      "Val acc: 0.194, Val loss: 1.501\n",
      "\n",
      "Epoch 37\n"
     ]
    },
    {
     "data": {
      "application/vnd.jupyter.widget-view+json": {
       "model_id": "3745a3d3eee94f998f4f6b6457820357",
       "version_major": 2,
       "version_minor": 0
      },
      "text/plain": [
       "  0%|          | 0/476 [00:00<?, ?it/s]"
      ]
     },
     "metadata": {},
     "output_type": "display_data"
    },
    {
     "name": "stdout",
     "output_type": "stream",
     "text": [
      "Train acc: 0.376, Train loss: 1.292\n",
      "Val acc: 0.221, Val loss: 1.511\n",
      "\n",
      "Epoch 38\n"
     ]
    },
    {
     "data": {
      "application/vnd.jupyter.widget-view+json": {
       "model_id": "774fc39e2eed46ee81b747b0f761843d",
       "version_major": 2,
       "version_minor": 0
      },
      "text/plain": [
       "  0%|          | 0/476 [00:00<?, ?it/s]"
      ]
     },
     "metadata": {},
     "output_type": "display_data"
    },
    {
     "name": "stdout",
     "output_type": "stream",
     "text": [
      "Train acc: 0.374, Train loss: 1.290\n",
      "Val acc: 0.216, Val loss: 1.510\n",
      "\n",
      "Epoch 39\n"
     ]
    },
    {
     "data": {
      "application/vnd.jupyter.widget-view+json": {
       "model_id": "97a74d2a143d46e79ce0d26791b6d792",
       "version_major": 2,
       "version_minor": 0
      },
      "text/plain": [
       "  0%|          | 0/476 [00:00<?, ?it/s]"
      ]
     },
     "metadata": {},
     "output_type": "display_data"
    },
    {
     "name": "stdout",
     "output_type": "stream",
     "text": [
      "Train acc: 0.373, Train loss: 1.289\n",
      "Val acc: 0.227, Val loss: 1.498\n",
      "\n",
      "Epoch 40\n"
     ]
    },
    {
     "data": {
      "application/vnd.jupyter.widget-view+json": {
       "model_id": "d9bc3fecef5644158b8f508a190d5809",
       "version_major": 2,
       "version_minor": 0
      },
      "text/plain": [
       "  0%|          | 0/476 [00:00<?, ?it/s]"
      ]
     },
     "metadata": {},
     "output_type": "display_data"
    },
    {
     "name": "stdout",
     "output_type": "stream",
     "text": [
      "Train acc: 0.378, Train loss: 1.289\n",
      "Val acc: 0.251, Val loss: 1.516\n",
      "\n",
      "Epoch 41\n"
     ]
    },
    {
     "data": {
      "application/vnd.jupyter.widget-view+json": {
       "model_id": "5895f0a67ad94f5ca45154d6ee525713",
       "version_major": 2,
       "version_minor": 0
      },
      "text/plain": [
       "  0%|          | 0/476 [00:00<?, ?it/s]"
      ]
     },
     "metadata": {},
     "output_type": "display_data"
    },
    {
     "name": "stdout",
     "output_type": "stream",
     "text": [
      "Train acc: 0.373, Train loss: 1.286\n",
      "Val acc: 0.267, Val loss: 1.529\n",
      "\n",
      "Epoch 42\n"
     ]
    },
    {
     "data": {
      "application/vnd.jupyter.widget-view+json": {
       "model_id": "e3f7f279084c4c20aeb4908db1ccadfe",
       "version_major": 2,
       "version_minor": 0
      },
      "text/plain": [
       "  0%|          | 0/476 [00:00<?, ?it/s]"
      ]
     },
     "metadata": {},
     "output_type": "display_data"
    },
    {
     "name": "stdout",
     "output_type": "stream",
     "text": [
      "Train acc: 0.376, Train loss: 1.287\n",
      "Val acc: 0.239, Val loss: 1.512\n",
      "\n",
      "Epoch 43\n"
     ]
    },
    {
     "data": {
      "application/vnd.jupyter.widget-view+json": {
       "model_id": "bb2c9bd8456648da8aaa99abffc9dee0",
       "version_major": 2,
       "version_minor": 0
      },
      "text/plain": [
       "  0%|          | 0/476 [00:00<?, ?it/s]"
      ]
     },
     "metadata": {},
     "output_type": "display_data"
    },
    {
     "name": "stdout",
     "output_type": "stream",
     "text": [
      "Train acc: 0.380, Train loss: 1.287\n",
      "Val acc: 0.241, Val loss: 1.507\n",
      "\n",
      "Epoch 44\n"
     ]
    },
    {
     "data": {
      "application/vnd.jupyter.widget-view+json": {
       "model_id": "472c8f7ef9324bf5b5698d3933f225e2",
       "version_major": 2,
       "version_minor": 0
      },
      "text/plain": [
       "  0%|          | 0/476 [00:00<?, ?it/s]"
      ]
     },
     "metadata": {},
     "output_type": "display_data"
    },
    {
     "name": "stdout",
     "output_type": "stream",
     "text": [
      "Train acc: 0.376, Train loss: 1.285\n",
      "Val acc: 0.217, Val loss: 1.530\n",
      "\n",
      "Epoch 45\n"
     ]
    },
    {
     "data": {
      "application/vnd.jupyter.widget-view+json": {
       "model_id": "3b49a47f21f84ff3976cc4399727dca3",
       "version_major": 2,
       "version_minor": 0
      },
      "text/plain": [
       "  0%|          | 0/476 [00:00<?, ?it/s]"
      ]
     },
     "metadata": {},
     "output_type": "display_data"
    },
    {
     "name": "stdout",
     "output_type": "stream",
     "text": [
      "Train acc: 0.377, Train loss: 1.283\n",
      "Val acc: 0.229, Val loss: 1.498\n",
      "\n",
      "Epoch 46\n"
     ]
    },
    {
     "data": {
      "application/vnd.jupyter.widget-view+json": {
       "model_id": "75de81baffc04e77a200cc5a46683b13",
       "version_major": 2,
       "version_minor": 0
      },
      "text/plain": [
       "  0%|          | 0/476 [00:00<?, ?it/s]"
      ]
     },
     "metadata": {},
     "output_type": "display_data"
    },
    {
     "name": "stdout",
     "output_type": "stream",
     "text": [
      "Train acc: 0.380, Train loss: 1.286\n",
      "Val acc: 0.269, Val loss: 1.494\n",
      "\n",
      "Epoch 47\n"
     ]
    },
    {
     "data": {
      "application/vnd.jupyter.widget-view+json": {
       "model_id": "efeccdb32a564661a985ba4400e527bf",
       "version_major": 2,
       "version_minor": 0
      },
      "text/plain": [
       "  0%|          | 0/476 [00:00<?, ?it/s]"
      ]
     },
     "metadata": {},
     "output_type": "display_data"
    },
    {
     "name": "stdout",
     "output_type": "stream",
     "text": [
      "Train acc: 0.385, Train loss: 1.277\n",
      "Val acc: 0.210, Val loss: 1.544\n",
      "\n",
      "Epoch 48\n"
     ]
    },
    {
     "data": {
      "application/vnd.jupyter.widget-view+json": {
       "model_id": "ccf36ec2b4624dedbd709f69c3b7da57",
       "version_major": 2,
       "version_minor": 0
      },
      "text/plain": [
       "  0%|          | 0/476 [00:00<?, ?it/s]"
      ]
     },
     "metadata": {},
     "output_type": "display_data"
    },
    {
     "name": "stdout",
     "output_type": "stream",
     "text": [
      "Train acc: 0.383, Train loss: 1.279\n",
      "Val acc: 0.214, Val loss: 1.574\n",
      "\n",
      "Epoch 49\n"
     ]
    },
    {
     "data": {
      "application/vnd.jupyter.widget-view+json": {
       "model_id": "4bba7719d0a44117a90ae202275d74a0",
       "version_major": 2,
       "version_minor": 0
      },
      "text/plain": [
       "  0%|          | 0/476 [00:00<?, ?it/s]"
      ]
     },
     "metadata": {},
     "output_type": "display_data"
    },
    {
     "name": "stdout",
     "output_type": "stream",
     "text": [
      "Train acc: 0.387, Train loss: 1.276\n",
      "Val acc: 0.236, Val loss: 1.507\n",
      "\n",
      "Epoch 50\n"
     ]
    },
    {
     "data": {
      "application/vnd.jupyter.widget-view+json": {
       "model_id": "5e804a7737a14db7962f368db2b783bc",
       "version_major": 2,
       "version_minor": 0
      },
      "text/plain": [
       "  0%|          | 0/476 [00:00<?, ?it/s]"
      ]
     },
     "metadata": {},
     "output_type": "display_data"
    },
    {
     "name": "stdout",
     "output_type": "stream",
     "text": [
      "Train acc: 0.384, Train loss: 1.274\n",
      "Val acc: 0.211, Val loss: 1.536\n",
      "\n"
     ]
    }
   ],
   "source": [
    "train_accuracies, train_losses, val_accuracies, val_losses = utils.train_model(model=gru_model,\n",
    "                                                                               criterion=criterion,\n",
    "                                                                               optimizer=optimizer,\n",
    "                                                                               scheduler=scheduler,\n",
    "                                                                               train_loader=train_loader,\n",
    "                                                                               val_loader=val_loader,\n",
    "                                                                               num_epochs=num_epochs,\n",
    "                                                                               learning=False,\n",
    "                                                                               device=device,\n",
    "                                                                               trial=None)"
   ]
  },
  {
   "cell_type": "markdown",
   "id": "2a36f981-a1fe-4671-9892-07f3a8ed8b84",
   "metadata": {},
   "source": [
    "### **Training and Validation Accuracy Graph**"
   ]
  },
  {
   "cell_type": "code",
   "execution_count": 43,
   "id": "3609655e-69ef-4da3-9601-10ef4b263f38",
   "metadata": {},
   "outputs": [
    {
     "data": {
      "image/png": "[encoded data removed]",
      "text/plain": [
       "<Figure size 1000x600 with 1 Axes>"
      ]
     },
     "metadata": {},
     "output_type": "display_data"
    }
   ],
   "source": [
    "epochs = range(1, num_epochs + 1)\n",
    "\n",
    "plt.figure(figsize=(10, 6))\n",
    "plt.plot(epochs, train_accuracies, label='Training Accuracy')\n",
    "plt.plot(epochs, val_accuracies, label='Validation Accuracy')\n",
    "plt.title('Training and Validation Accuracy')\n",
    "plt.xlabel('Epoch')\n",
    "plt.ylabel('Accuracy')\n",
    "plt.legend()\n",
    "plt.grid(True)\n",
    "plt.show()"
   ]
  },
  {
   "cell_type": "markdown",
   "id": "b80eac7e-b7cd-4cb8-bf24-f40365bf8991",
   "metadata": {},
   "source": [
    "### **Training and Validation Loss**"
   ]
  },
  {
   "cell_type": "code",
   "execution_count": 44,
   "id": "7d5105ae-7d39-4746-aad1-5b82baef1bb4",
   "metadata": {
    "scrolled": true
   },
   "outputs": [
    {
     "data": {
      "image/png": "[encoded data removed]",
      "text/plain": [
       "<Figure size 1000x600 with 1 Axes>"
      ]
     },
     "metadata": {},
     "output_type": "display_data"
    }
   ],
   "source": [
    "import matplotlib.pyplot as plt\n",
    "epochs = range(1, num_epochs + 1)\n",
    "\n",
    "plt.figure(figsize=(10, 6))\n",
    "plt.plot(epochs, train_losses, label='Training Loss')\n",
    "plt.plot(epochs, val_losses, label='Validation Loss')\n",
    "plt.title('Training and Validation Loss')\n",
    "plt.xlabel('Epoch')\n",
    "plt.ylabel('Loss')\n",
    "plt.legend()\n",
    "plt.grid(True)\n",
    "plt.show()"
   ]
  },
  {
   "cell_type": "code",
   "execution_count": 45,
   "id": "d1285018-4ba7-4f46-a016-d81b200b9385",
   "metadata": {},
   "outputs": [
    {
     "name": "stdout",
     "output_type": "stream",
     "text": [
      "Test acc: 0.284\n"
     ]
    }
   ],
   "source": [
    "utils.test_model(gru_model, test_loader)"
   ]
  },
  {
   "cell_type": "code",
   "execution_count": 46,
   "id": "76e7442f-2bfd-44f9-8614-6d90ed99f497",
   "metadata": {},
   "outputs": [
    {
     "data": {
      "text/plain": [
       "GRU(\n",
       "  (gru): GRU(22, 64, num_layers=3, dropout=0.5, bidirectional=True)\n",
       "  (linear): Linear(in_features=128, out_features=54, bias=True)\n",
       "  (fc): Sequential(\n",
       "    (0): Linear(in_features=54, out_features=44, bias=True)\n",
       "    (1): BatchNorm1d(44, eps=1e-05, momentum=0.2, affine=True, track_running_stats=True)\n",
       "    (2): ReLU(inplace=True)\n",
       "    (3): Linear(in_features=44, out_features=4, bias=True)\n",
       "  )\n",
       ")"
      ]
     },
     "execution_count": 46,
     "metadata": {},
     "output_type": "execute_result"
    }
   ],
   "source": [
    "torch.save(gru_model, path_to_save+'gru')\n",
    "torch.cuda.empty_cache()\n",
    "gru_model.to('cpu')"
   ]
  },
  {
   "cell_type": "markdown",
   "id": "b4e01570-7d85-4648-a380-3d71c912a303",
   "metadata": {},
   "source": [
    "# **LSTM-LSTM**"
   ]
  },
  {
   "cell_type": "markdown",
   "id": "dae419ed-d92a-4c40-b3d5-2e92070953f3",
   "metadata": {},
   "source": [
    "### **Model Summary**"
   ]
  },
  {
   "cell_type": "code",
   "execution_count": 47,
   "id": "ab686eeb-282a-4b1e-aa21-19a106129c9c",
   "metadata": {},
   "outputs": [
    {
     "data": {
      "text/plain": [
       "==========================================================================================\n",
       "Layer (type:depth-idx)                   Output Shape              Param #\n",
       "==========================================================================================\n",
       "LSTM_LSTM                                [64, 54]                  2,688\n",
       "├─LSTM: 1-1                              [64, 400, 128]            144,384\n",
       "├─LSTM: 1-2                              [64, 400, 128]            198,656\n",
       "├─Linear: 1-3                            [64, 54]                  6,966\n",
       "==========================================================================================\n",
       "Total params: 352,694\n",
       "Trainable params: 352,694\n",
       "Non-trainable params: 0\n",
       "Total mult-adds (Units.GIGABYTES): 8.78\n",
       "==========================================================================================\n",
       "Input size (MB): 2.25\n",
       "Forward/backward pass size (MB): 52.46\n",
       "Params size (MB): 1.40\n",
       "Estimated Total Size (MB): 56.11\n",
       "=========================================================================================="
      ]
     },
     "execution_count": 47,
     "metadata": {},
     "output_type": "execute_result"
    }
   ],
   "source": [
    "torchinfo.summary(llstm.LSTM_LSTM(), input_size=(batch_size, 22, 400))"
   ]
  },
  {
   "cell_type": "code",
   "execution_count": 48,
   "id": "7478c8e9-1a72-4ab4-b5a5-5946588c65a0",
   "metadata": {},
   "outputs": [],
   "source": [
    "llstm_model = llstm.LSTM_LSTM().to(device)\n",
    "criterion = nn.CrossEntropyLoss()\n",
    "optimizer = torch.optim.AdamW(llstm_model.parameters(),\n",
    "                             lr=0.001767340543208569,\n",
    "                             weight_decay=0.008272087903010924)\n",
    "scheduler = torch.optim.lr_scheduler.CosineAnnealingLR(optimizer, \n",
    "                                                       T_max=T_max, \n",
    "                                                       eta_min=eta_min)"
   ]
  },
  {
   "cell_type": "markdown",
   "id": "837bcd84-824f-443c-a6b8-16e80b731a2e",
   "metadata": {},
   "source": [
    "### **Train the model**"
   ]
  },
  {
   "cell_type": "code",
   "execution_count": 49,
   "id": "64741365-220a-4a23-a126-8b836011e219",
   "metadata": {},
   "outputs": [
    {
     "name": "stdout",
     "output_type": "stream",
     "text": [
      "Epoch 1\n"
     ]
    },
    {
     "data": {
      "application/vnd.jupyter.widget-view+json": {
       "model_id": "71994f5662df415aa8f620effa078a0b",
       "version_major": 2,
       "version_minor": 0
      },
      "text/plain": [
       "  0%|          | 0/476 [00:00<?, ?it/s]"
      ]
     },
     "metadata": {},
     "output_type": "display_data"
    },
    {
     "name": "stdout",
     "output_type": "stream",
     "text": [
      "Train acc: 0.247, Train loss: 1.442\n",
      "Val acc: 0.264, Val loss: 1.394\n",
      "\n",
      "Epoch 2\n"
     ]
    },
    {
     "data": {
      "application/vnd.jupyter.widget-view+json": {
       "model_id": "b9893118264d4ea9b93ebbbf9bb7184c",
       "version_major": 2,
       "version_minor": 0
      },
      "text/plain": [
       "  0%|          | 0/476 [00:00<?, ?it/s]"
      ]
     },
     "metadata": {},
     "output_type": "display_data"
    },
    {
     "name": "stdout",
     "output_type": "stream",
     "text": [
      "Train acc: 0.251, Train loss: 1.395\n",
      "Val acc: 0.217, Val loss: 1.411\n",
      "\n",
      "Epoch 3\n"
     ]
    },
    {
     "data": {
      "application/vnd.jupyter.widget-view+json": {
       "model_id": "a94e4685a13248458f4e9c9ee8839304",
       "version_major": 2,
       "version_minor": 0
      },
      "text/plain": [
       "  0%|          | 0/476 [00:00<?, ?it/s]"
      ]
     },
     "metadata": {},
     "output_type": "display_data"
    },
    {
     "name": "stdout",
     "output_type": "stream",
     "text": [
      "Train acc: 0.275, Train loss: 1.380\n",
      "Val acc: 0.253, Val loss: 1.458\n",
      "\n",
      "Epoch 4\n"
     ]
    },
    {
     "data": {
      "application/vnd.jupyter.widget-view+json": {
       "model_id": "6c091da0c2e8465c9f5cf21e2c2398c9",
       "version_major": 2,
       "version_minor": 0
      },
      "text/plain": [
       "  0%|          | 0/476 [00:00<?, ?it/s]"
      ]
     },
     "metadata": {},
     "output_type": "display_data"
    },
    {
     "name": "stdout",
     "output_type": "stream",
     "text": [
      "Train acc: 0.388, Train loss: 1.276\n",
      "Val acc: 0.271, Val loss: 1.561\n",
      "\n",
      "Epoch 5\n"
     ]
    },
    {
     "data": {
      "application/vnd.jupyter.widget-view+json": {
       "model_id": "c6a567de929e4abba756f62d721a6628",
       "version_major": 2,
       "version_minor": 0
      },
      "text/plain": [
       "  0%|          | 0/476 [00:00<?, ?it/s]"
      ]
     },
     "metadata": {},
     "output_type": "display_data"
    },
    {
     "name": "stdout",
     "output_type": "stream",
     "text": [
      "Train acc: 0.555, Train loss: 1.015\n",
      "Val acc: 0.225, Val loss: 1.989\n",
      "\n",
      "Epoch 6\n"
     ]
    },
    {
     "data": {
      "application/vnd.jupyter.widget-view+json": {
       "model_id": "a2ecd8c169ac4faa9c26b606f87dd8a9",
       "version_major": 2,
       "version_minor": 0
      },
      "text/plain": [
       "  0%|          | 0/476 [00:00<?, ?it/s]"
      ]
     },
     "metadata": {},
     "output_type": "display_data"
    },
    {
     "name": "stdout",
     "output_type": "stream",
     "text": [
      "Train acc: 0.767, Train loss: 0.618\n",
      "Val acc: 0.256, Val loss: 2.655\n",
      "\n",
      "Epoch 7\n"
     ]
    },
    {
     "data": {
      "application/vnd.jupyter.widget-view+json": {
       "model_id": "2b3c2a1e642c41d49688d908cbef4549",
       "version_major": 2,
       "version_minor": 0
      },
      "text/plain": [
       "  0%|          | 0/476 [00:00<?, ?it/s]"
      ]
     },
     "metadata": {},
     "output_type": "display_data"
    },
    {
     "name": "stdout",
     "output_type": "stream",
     "text": [
      "Train acc: 0.907, Train loss: 0.284\n",
      "Val acc: 0.264, Val loss: 3.447\n",
      "\n",
      "Epoch 8\n"
     ]
    },
    {
     "data": {
      "application/vnd.jupyter.widget-view+json": {
       "model_id": "2ae23718a2be46f2a9af460c90ce9f62",
       "version_major": 2,
       "version_minor": 0
      },
      "text/plain": [
       "  0%|          | 0/476 [00:00<?, ?it/s]"
      ]
     },
     "metadata": {},
     "output_type": "display_data"
    },
    {
     "name": "stdout",
     "output_type": "stream",
     "text": [
      "Train acc: 0.959, Train loss: 0.126\n",
      "Val acc: 0.246, Val loss: 4.039\n",
      "\n",
      "Epoch 9\n"
     ]
    },
    {
     "data": {
      "application/vnd.jupyter.widget-view+json": {
       "model_id": "03c51741e368418faf5ceddc86a872f2",
       "version_major": 2,
       "version_minor": 0
      },
      "text/plain": [
       "  0%|          | 0/476 [00:00<?, ?it/s]"
      ]
     },
     "metadata": {},
     "output_type": "display_data"
    },
    {
     "name": "stdout",
     "output_type": "stream",
     "text": [
      "Train acc: 0.979, Train loss: 0.070\n",
      "Val acc: 0.247, Val loss: 4.638\n",
      "\n",
      "Epoch 10\n"
     ]
    },
    {
     "data": {
      "application/vnd.jupyter.widget-view+json": {
       "model_id": "672a1f2f7820441bac3d8a24cda962de",
       "version_major": 2,
       "version_minor": 0
      },
      "text/plain": [
       "  0%|          | 0/476 [00:00<?, ?it/s]"
      ]
     },
     "metadata": {},
     "output_type": "display_data"
    },
    {
     "name": "stdout",
     "output_type": "stream",
     "text": [
      "Train acc: 0.985, Train loss: 0.049\n",
      "Val acc: 0.236, Val loss: 4.733\n",
      "\n",
      "Epoch 11\n"
     ]
    },
    {
     "data": {
      "application/vnd.jupyter.widget-view+json": {
       "model_id": "ff0acfd238c04cfa8f2d1092e1cc1f00",
       "version_major": 2,
       "version_minor": 0
      },
      "text/plain": [
       "  0%|          | 0/476 [00:00<?, ?it/s]"
      ]
     },
     "metadata": {},
     "output_type": "display_data"
    },
    {
     "name": "stdout",
     "output_type": "stream",
     "text": [
      "Train acc: 0.992, Train loss: 0.028\n",
      "Val acc: 0.265, Val loss: 5.104\n",
      "\n",
      "Epoch 12\n"
     ]
    },
    {
     "data": {
      "application/vnd.jupyter.widget-view+json": {
       "model_id": "88ceef154ff046688b0e71b7512f8b11",
       "version_major": 2,
       "version_minor": 0
      },
      "text/plain": [
       "  0%|          | 0/476 [00:00<?, ?it/s]"
      ]
     },
     "metadata": {},
     "output_type": "display_data"
    },
    {
     "name": "stdout",
     "output_type": "stream",
     "text": [
      "Train acc: 0.993, Train loss: 0.024\n",
      "Val acc: 0.247, Val loss: 5.420\n",
      "\n",
      "Epoch 13\n"
     ]
    },
    {
     "data": {
      "application/vnd.jupyter.widget-view+json": {
       "model_id": "22a34fa736f6409dac9f28d6a2dd8af7",
       "version_major": 2,
       "version_minor": 0
      },
      "text/plain": [
       "  0%|          | 0/476 [00:00<?, ?it/s]"
      ]
     },
     "metadata": {},
     "output_type": "display_data"
    },
    {
     "name": "stdout",
     "output_type": "stream",
     "text": [
      "Train acc: 0.994, Train loss: 0.020\n",
      "Val acc: 0.267, Val loss: 5.487\n",
      "\n",
      "Epoch 14\n"
     ]
    },
    {
     "data": {
      "application/vnd.jupyter.widget-view+json": {
       "model_id": "cb05a0048fea4ca39fd0d11aabf2f6b3",
       "version_major": 2,
       "version_minor": 0
      },
      "text/plain": [
       "  0%|          | 0/476 [00:00<?, ?it/s]"
      ]
     },
     "metadata": {},
     "output_type": "display_data"
    },
    {
     "name": "stdout",
     "output_type": "stream",
     "text": [
      "Train acc: 0.997, Train loss: 0.009\n",
      "Val acc: 0.255, Val loss: 5.609\n",
      "\n",
      "Epoch 15\n"
     ]
    },
    {
     "data": {
      "application/vnd.jupyter.widget-view+json": {
       "model_id": "39e557ac17674285955836f10a1e35a3",
       "version_major": 2,
       "version_minor": 0
      },
      "text/plain": [
       "  0%|          | 0/476 [00:00<?, ?it/s]"
      ]
     },
     "metadata": {},
     "output_type": "display_data"
    },
    {
     "name": "stdout",
     "output_type": "stream",
     "text": [
      "Train acc: 0.997, Train loss: 0.010\n",
      "Val acc: 0.251, Val loss: 5.883\n",
      "\n",
      "Epoch 16\n"
     ]
    },
    {
     "data": {
      "application/vnd.jupyter.widget-view+json": {
       "model_id": "f61f279e02fe42f199a95739385b3628",
       "version_major": 2,
       "version_minor": 0
      },
      "text/plain": [
       "  0%|          | 0/476 [00:00<?, ?it/s]"
      ]
     },
     "metadata": {},
     "output_type": "display_data"
    },
    {
     "name": "stdout",
     "output_type": "stream",
     "text": [
      "Train acc: 0.998, Train loss: 0.007\n",
      "Val acc: 0.248, Val loss: 6.048\n",
      "\n",
      "Epoch 17\n"
     ]
    },
    {
     "data": {
      "application/vnd.jupyter.widget-view+json": {
       "model_id": "b490335752354dffbcdc789a659ec15c",
       "version_major": 2,
       "version_minor": 0
      },
      "text/plain": [
       "  0%|          | 0/476 [00:00<?, ?it/s]"
      ]
     },
     "metadata": {},
     "output_type": "display_data"
    },
    {
     "name": "stdout",
     "output_type": "stream",
     "text": [
      "Train acc: 0.999, Train loss: 0.004\n",
      "Val acc: 0.251, Val loss: 6.254\n",
      "\n",
      "Epoch 18\n"
     ]
    },
    {
     "data": {
      "application/vnd.jupyter.widget-view+json": {
       "model_id": "e6f659271932487890ab3608dd40b1d1",
       "version_major": 2,
       "version_minor": 0
      },
      "text/plain": [
       "  0%|          | 0/476 [00:00<?, ?it/s]"
      ]
     },
     "metadata": {},
     "output_type": "display_data"
    },
    {
     "name": "stdout",
     "output_type": "stream",
     "text": [
      "Train acc: 1.000, Train loss: 0.002\n",
      "Val acc: 0.247, Val loss: 6.295\n",
      "\n",
      "Epoch 19\n"
     ]
    },
    {
     "data": {
      "application/vnd.jupyter.widget-view+json": {
       "model_id": "0a79814ffa7b4bd5a70d4d669afef68d",
       "version_major": 2,
       "version_minor": 0
      },
      "text/plain": [
       "  0%|          | 0/476 [00:00<?, ?it/s]"
      ]
     },
     "metadata": {},
     "output_type": "display_data"
    },
    {
     "name": "stdout",
     "output_type": "stream",
     "text": [
      "Train acc: 1.000, Train loss: 0.001\n",
      "Val acc: 0.253, Val loss: 6.397\n",
      "\n",
      "Epoch 20\n"
     ]
    },
    {
     "data": {
      "application/vnd.jupyter.widget-view+json": {
       "model_id": "1b404a3d8f08427b99ab46ed15d2888d",
       "version_major": 2,
       "version_minor": 0
      },
      "text/plain": [
       "  0%|          | 0/476 [00:00<?, ?it/s]"
      ]
     },
     "metadata": {},
     "output_type": "display_data"
    },
    {
     "name": "stdout",
     "output_type": "stream",
     "text": [
      "Train acc: 1.000, Train loss: 0.000\n",
      "Val acc: 0.250, Val loss: 6.473\n",
      "\n",
      "Epoch 21\n"
     ]
    },
    {
     "data": {
      "application/vnd.jupyter.widget-view+json": {
       "model_id": "da179e2a591a4a62bdccc196a7749093",
       "version_major": 2,
       "version_minor": 0
      },
      "text/plain": [
       "  0%|          | 0/476 [00:00<?, ?it/s]"
      ]
     },
     "metadata": {},
     "output_type": "display_data"
    },
    {
     "name": "stdout",
     "output_type": "stream",
     "text": [
      "Train acc: 1.000, Train loss: 0.000\n",
      "Val acc: 0.250, Val loss: 6.528\n",
      "\n",
      "Epoch 22\n"
     ]
    },
    {
     "data": {
      "application/vnd.jupyter.widget-view+json": {
       "model_id": "c76859414230410085df13c2000621fb",
       "version_major": 2,
       "version_minor": 0
      },
      "text/plain": [
       "  0%|          | 0/476 [00:00<?, ?it/s]"
      ]
     },
     "metadata": {},
     "output_type": "display_data"
    },
    {
     "name": "stdout",
     "output_type": "stream",
     "text": [
      "Train acc: 1.000, Train loss: 0.000\n",
      "Val acc: 0.251, Val loss: 6.575\n",
      "\n",
      "Epoch 23\n"
     ]
    },
    {
     "data": {
      "application/vnd.jupyter.widget-view+json": {
       "model_id": "43ae576b60884e6db04b735d26ec2342",
       "version_major": 2,
       "version_minor": 0
      },
      "text/plain": [
       "  0%|          | 0/476 [00:00<?, ?it/s]"
      ]
     },
     "metadata": {},
     "output_type": "display_data"
    },
    {
     "name": "stdout",
     "output_type": "stream",
     "text": [
      "Train acc: 1.000, Train loss: 0.000\n",
      "Val acc: 0.251, Val loss: 6.607\n",
      "\n",
      "Epoch 24\n"
     ]
    },
    {
     "data": {
      "application/vnd.jupyter.widget-view+json": {
       "model_id": "529b43691b2e4a938c9fbe9439a0f217",
       "version_major": 2,
       "version_minor": 0
      },
      "text/plain": [
       "  0%|          | 0/476 [00:00<?, ?it/s]"
      ]
     },
     "metadata": {},
     "output_type": "display_data"
    },
    {
     "name": "stdout",
     "output_type": "stream",
     "text": [
      "Train acc: 1.000, Train loss: 0.000\n",
      "Val acc: 0.252, Val loss: 6.628\n",
      "\n",
      "Epoch 25\n"
     ]
    },
    {
     "data": {
      "application/vnd.jupyter.widget-view+json": {
       "model_id": "3fe02d68fe43405195e89b38c47072e0",
       "version_major": 2,
       "version_minor": 0
      },
      "text/plain": [
       "  0%|          | 0/476 [00:00<?, ?it/s]"
      ]
     },
     "metadata": {},
     "output_type": "display_data"
    },
    {
     "name": "stdout",
     "output_type": "stream",
     "text": [
      "Train acc: 1.000, Train loss: 0.000\n",
      "Val acc: 0.251, Val loss: 6.639\n",
      "\n",
      "Epoch 26\n"
     ]
    },
    {
     "data": {
      "application/vnd.jupyter.widget-view+json": {
       "model_id": "976473c62fd1412fbb351610fcb4c3e6",
       "version_major": 2,
       "version_minor": 0
      },
      "text/plain": [
       "  0%|          | 0/476 [00:00<?, ?it/s]"
      ]
     },
     "metadata": {},
     "output_type": "display_data"
    },
    {
     "name": "stdout",
     "output_type": "stream",
     "text": [
      "Train acc: 1.000, Train loss: 0.000\n",
      "Val acc: 0.251, Val loss: 6.647\n",
      "\n",
      "Epoch 27\n"
     ]
    },
    {
     "data": {
      "application/vnd.jupyter.widget-view+json": {
       "model_id": "fad41dae07cc4bde8b223f947e43a216",
       "version_major": 2,
       "version_minor": 0
      },
      "text/plain": [
       "  0%|          | 0/476 [00:00<?, ?it/s]"
      ]
     },
     "metadata": {},
     "output_type": "display_data"
    },
    {
     "name": "stdout",
     "output_type": "stream",
     "text": [
      "Train acc: 1.000, Train loss: 0.000\n",
      "Val acc: 0.252, Val loss: 6.665\n",
      "\n",
      "Epoch 28\n"
     ]
    },
    {
     "data": {
      "application/vnd.jupyter.widget-view+json": {
       "model_id": "be52017f905e4c27be6c79eed2bfd76e",
       "version_major": 2,
       "version_minor": 0
      },
      "text/plain": [
       "  0%|          | 0/476 [00:00<?, ?it/s]"
      ]
     },
     "metadata": {},
     "output_type": "display_data"
    },
    {
     "name": "stdout",
     "output_type": "stream",
     "text": [
      "Train acc: 1.000, Train loss: 0.000\n",
      "Val acc: 0.252, Val loss: 6.713\n",
      "\n",
      "Epoch 29\n"
     ]
    },
    {
     "data": {
      "application/vnd.jupyter.widget-view+json": {
       "model_id": "4abcc3b88d3a4ddca8ecaa628573b665",
       "version_major": 2,
       "version_minor": 0
      },
      "text/plain": [
       "  0%|          | 0/476 [00:00<?, ?it/s]"
      ]
     },
     "metadata": {},
     "output_type": "display_data"
    },
    {
     "name": "stdout",
     "output_type": "stream",
     "text": [
      "Train acc: 1.000, Train loss: 0.000\n",
      "Val acc: 0.252, Val loss: 6.814\n",
      "\n",
      "Epoch 30\n"
     ]
    },
    {
     "data": {
      "application/vnd.jupyter.widget-view+json": {
       "model_id": "17af4a1e6d0e414cbc7447dd93b41aed",
       "version_major": 2,
       "version_minor": 0
      },
      "text/plain": [
       "  0%|          | 0/476 [00:00<?, ?it/s]"
      ]
     },
     "metadata": {},
     "output_type": "display_data"
    },
    {
     "name": "stdout",
     "output_type": "stream",
     "text": [
      "Train acc: 1.000, Train loss: 0.000\n",
      "Val acc: 0.252, Val loss: 6.988\n",
      "\n",
      "Epoch 31\n"
     ]
    },
    {
     "data": {
      "application/vnd.jupyter.widget-view+json": {
       "model_id": "c705a92a6f93419b950e91b1b6fe9109",
       "version_major": 2,
       "version_minor": 0
      },
      "text/plain": [
       "  0%|          | 0/476 [00:00<?, ?it/s]"
      ]
     },
     "metadata": {},
     "output_type": "display_data"
    },
    {
     "name": "stdout",
     "output_type": "stream",
     "text": [
      "Train acc: 1.000, Train loss: 0.000\n",
      "Val acc: 0.254, Val loss: 7.201\n",
      "\n",
      "Epoch 32\n"
     ]
    },
    {
     "data": {
      "application/vnd.jupyter.widget-view+json": {
       "model_id": "cdff60be43f649fd910adff0f60eae3f",
       "version_major": 2,
       "version_minor": 0
      },
      "text/plain": [
       "  0%|          | 0/476 [00:00<?, ?it/s]"
      ]
     },
     "metadata": {},
     "output_type": "display_data"
    },
    {
     "name": "stdout",
     "output_type": "stream",
     "text": [
      "Train acc: 1.000, Train loss: 0.000\n",
      "Val acc: 0.257, Val loss: 7.457\n",
      "\n",
      "Epoch 33\n"
     ]
    },
    {
     "data": {
      "application/vnd.jupyter.widget-view+json": {
       "model_id": "8ead1f462add40748b1c7c4ffa739777",
       "version_major": 2,
       "version_minor": 0
      },
      "text/plain": [
       "  0%|          | 0/476 [00:00<?, ?it/s]"
      ]
     },
     "metadata": {},
     "output_type": "display_data"
    },
    {
     "name": "stdout",
     "output_type": "stream",
     "text": [
      "Train acc: 1.000, Train loss: 0.000\n",
      "Val acc: 0.257, Val loss: 7.723\n",
      "\n",
      "Epoch 34\n"
     ]
    },
    {
     "data": {
      "application/vnd.jupyter.widget-view+json": {
       "model_id": "9d512df51b24492abd657659f1c5db6e",
       "version_major": 2,
       "version_minor": 0
      },
      "text/plain": [
       "  0%|          | 0/476 [00:00<?, ?it/s]"
      ]
     },
     "metadata": {},
     "output_type": "display_data"
    },
    {
     "name": "stdout",
     "output_type": "stream",
     "text": [
      "Train acc: 0.989, Train loss: 0.040\n",
      "Val acc: 0.263, Val loss: 5.328\n",
      "\n",
      "Epoch 35\n"
     ]
    },
    {
     "data": {
      "application/vnd.jupyter.widget-view+json": {
       "model_id": "126d9bcce60241abbcbf22f9d1ed9c2a",
       "version_major": 2,
       "version_minor": 0
      },
      "text/plain": [
       "  0%|          | 0/476 [00:00<?, ?it/s]"
      ]
     },
     "metadata": {},
     "output_type": "display_data"
    },
    {
     "name": "stdout",
     "output_type": "stream",
     "text": [
      "Train acc: 0.998, Train loss: 0.007\n",
      "Val acc: 0.264, Val loss: 5.629\n",
      "\n",
      "Epoch 36\n"
     ]
    },
    {
     "data": {
      "application/vnd.jupyter.widget-view+json": {
       "model_id": "c0485ae155c74e0681994a15fe06dd0f",
       "version_major": 2,
       "version_minor": 0
      },
      "text/plain": [
       "  0%|          | 0/476 [00:00<?, ?it/s]"
      ]
     },
     "metadata": {},
     "output_type": "display_data"
    },
    {
     "name": "stdout",
     "output_type": "stream",
     "text": [
      "Train acc: 0.997, Train loss: 0.010\n",
      "Val acc: 0.274, Val loss: 5.714\n",
      "\n",
      "Epoch 37\n"
     ]
    },
    {
     "data": {
      "application/vnd.jupyter.widget-view+json": {
       "model_id": "1cf1468b1630421fa377b592e682ddd8",
       "version_major": 2,
       "version_minor": 0
      },
      "text/plain": [
       "  0%|          | 0/476 [00:00<?, ?it/s]"
      ]
     },
     "metadata": {},
     "output_type": "display_data"
    },
    {
     "name": "stdout",
     "output_type": "stream",
     "text": [
      "Train acc: 0.995, Train loss: 0.016\n",
      "Val acc: 0.289, Val loss: 5.807\n",
      "\n",
      "Epoch 38\n"
     ]
    },
    {
     "data": {
      "application/vnd.jupyter.widget-view+json": {
       "model_id": "0abae308590d423e842436faaf40e890",
       "version_major": 2,
       "version_minor": 0
      },
      "text/plain": [
       "  0%|          | 0/476 [00:00<?, ?it/s]"
      ]
     },
     "metadata": {},
     "output_type": "display_data"
    },
    {
     "name": "stdout",
     "output_type": "stream",
     "text": [
      "Train acc: 0.993, Train loss: 0.025\n",
      "Val acc: 0.259, Val loss: 5.367\n",
      "\n",
      "Epoch 39\n"
     ]
    },
    {
     "data": {
      "application/vnd.jupyter.widget-view+json": {
       "model_id": "68bcc3dadd8c4835856cdde72d67874a",
       "version_major": 2,
       "version_minor": 0
      },
      "text/plain": [
       "  0%|          | 0/476 [00:00<?, ?it/s]"
      ]
     },
     "metadata": {},
     "output_type": "display_data"
    },
    {
     "name": "stdout",
     "output_type": "stream",
     "text": [
      "Train acc: 0.996, Train loss: 0.013\n",
      "Val acc: 0.254, Val loss: 5.722\n",
      "\n",
      "Epoch 40\n"
     ]
    },
    {
     "data": {
      "application/vnd.jupyter.widget-view+json": {
       "model_id": "01cd671911554dee896cb2634616de30",
       "version_major": 2,
       "version_minor": 0
      },
      "text/plain": [
       "  0%|          | 0/476 [00:00<?, ?it/s]"
      ]
     },
     "metadata": {},
     "output_type": "display_data"
    },
    {
     "name": "stdout",
     "output_type": "stream",
     "text": [
      "Train acc: 0.990, Train loss: 0.031\n",
      "Val acc: 0.251, Val loss: 5.547\n",
      "\n",
      "Epoch 41\n"
     ]
    },
    {
     "data": {
      "application/vnd.jupyter.widget-view+json": {
       "model_id": "90d65ac35c994dfab35a1b945424cc5b",
       "version_major": 2,
       "version_minor": 0
      },
      "text/plain": [
       "  0%|          | 0/476 [00:00<?, ?it/s]"
      ]
     },
     "metadata": {},
     "output_type": "display_data"
    },
    {
     "name": "stdout",
     "output_type": "stream",
     "text": [
      "Train acc: 0.993, Train loss: 0.021\n",
      "Val acc: 0.256, Val loss: 5.702\n",
      "\n",
      "Epoch 42\n"
     ]
    },
    {
     "data": {
      "application/vnd.jupyter.widget-view+json": {
       "model_id": "843b36b8d78c4dba993a3e541ce50fba",
       "version_major": 2,
       "version_minor": 0
      },
      "text/plain": [
       "  0%|          | 0/476 [00:00<?, ?it/s]"
      ]
     },
     "metadata": {},
     "output_type": "display_data"
    },
    {
     "name": "stdout",
     "output_type": "stream",
     "text": [
      "Train acc: 0.988, Train loss: 0.038\n",
      "Val acc: 0.278, Val loss: 4.980\n",
      "\n",
      "Epoch 43\n"
     ]
    },
    {
     "data": {
      "application/vnd.jupyter.widget-view+json": {
       "model_id": "f7125ee1a2f64a16841c157ec7d69b6a",
       "version_major": 2,
       "version_minor": 0
      },
      "text/plain": [
       "  0%|          | 0/476 [00:00<?, ?it/s]"
      ]
     },
     "metadata": {},
     "output_type": "display_data"
    },
    {
     "name": "stdout",
     "output_type": "stream",
     "text": [
      "Train acc: 0.990, Train loss: 0.030\n",
      "Val acc: 0.265, Val loss: 5.088\n",
      "\n",
      "Epoch 44\n"
     ]
    },
    {
     "data": {
      "application/vnd.jupyter.widget-view+json": {
       "model_id": "b8a77393189b40bab18e207630c172c1",
       "version_major": 2,
       "version_minor": 0
      },
      "text/plain": [
       "  0%|          | 0/476 [00:00<?, ?it/s]"
      ]
     },
     "metadata": {},
     "output_type": "display_data"
    },
    {
     "name": "stdout",
     "output_type": "stream",
     "text": [
      "Train acc: 0.987, Train loss: 0.039\n",
      "Val acc: 0.271, Val loss: 4.940\n",
      "\n",
      "Epoch 45\n"
     ]
    },
    {
     "data": {
      "application/vnd.jupyter.widget-view+json": {
       "model_id": "0806915a05154dc88661f8ad5410c0f4",
       "version_major": 2,
       "version_minor": 0
      },
      "text/plain": [
       "  0%|          | 0/476 [00:00<?, ?it/s]"
      ]
     },
     "metadata": {},
     "output_type": "display_data"
    },
    {
     "name": "stdout",
     "output_type": "stream",
     "text": [
      "Train acc: 0.989, Train loss: 0.035\n",
      "Val acc: 0.277, Val loss: 5.012\n",
      "\n",
      "Epoch 46\n"
     ]
    },
    {
     "data": {
      "application/vnd.jupyter.widget-view+json": {
       "model_id": "6cfc7fd7f9e744f5a3010bb0f9578e33",
       "version_major": 2,
       "version_minor": 0
      },
      "text/plain": [
       "  0%|          | 0/476 [00:00<?, ?it/s]"
      ]
     },
     "metadata": {},
     "output_type": "display_data"
    },
    {
     "name": "stdout",
     "output_type": "stream",
     "text": [
      "Train acc: 0.988, Train loss: 0.035\n",
      "Val acc: 0.260, Val loss: 4.869\n",
      "\n",
      "Epoch 47\n"
     ]
    },
    {
     "data": {
      "application/vnd.jupyter.widget-view+json": {
       "model_id": "73286baa3397414595a40c48a87d2e70",
       "version_major": 2,
       "version_minor": 0
      },
      "text/plain": [
       "  0%|          | 0/476 [00:00<?, ?it/s]"
      ]
     },
     "metadata": {},
     "output_type": "display_data"
    },
    {
     "name": "stdout",
     "output_type": "stream",
     "text": [
      "Train acc: 0.987, Train loss: 0.039\n",
      "Val acc: 0.266, Val loss: 4.974\n",
      "\n",
      "Epoch 48\n"
     ]
    },
    {
     "data": {
      "application/vnd.jupyter.widget-view+json": {
       "model_id": "3a262c9c4d73497e8c80b1fac5912a61",
       "version_major": 2,
       "version_minor": 0
      },
      "text/plain": [
       "  0%|          | 0/476 [00:00<?, ?it/s]"
      ]
     },
     "metadata": {},
     "output_type": "display_data"
    },
    {
     "name": "stdout",
     "output_type": "stream",
     "text": [
      "Train acc: 0.988, Train loss: 0.036\n",
      "Val acc: 0.271, Val loss: 5.065\n",
      "\n",
      "Epoch 49\n"
     ]
    },
    {
     "data": {
      "application/vnd.jupyter.widget-view+json": {
       "model_id": "7943d41b86a34558951e5ddf0274a038",
       "version_major": 2,
       "version_minor": 0
      },
      "text/plain": [
       "  0%|          | 0/476 [00:00<?, ?it/s]"
      ]
     },
     "metadata": {},
     "output_type": "display_data"
    },
    {
     "name": "stdout",
     "output_type": "stream",
     "text": [
      "Train acc: 0.987, Train loss: 0.039\n",
      "Val acc: 0.256, Val loss: 4.855\n",
      "\n",
      "Epoch 50\n"
     ]
    },
    {
     "data": {
      "application/vnd.jupyter.widget-view+json": {
       "model_id": "a4e7e789d3a943ff9b2d357808e809e9",
       "version_major": 2,
       "version_minor": 0
      },
      "text/plain": [
       "  0%|          | 0/476 [00:00<?, ?it/s]"
      ]
     },
     "metadata": {},
     "output_type": "display_data"
    },
    {
     "name": "stdout",
     "output_type": "stream",
     "text": [
      "Train acc: 0.988, Train loss: 0.035\n",
      "Val acc: 0.257, Val loss: 5.018\n",
      "\n"
     ]
    }
   ],
   "source": [
    "train_accuracies, train_losses, val_accuracies, val_losses = utils.train_model(model=llstm_model,\n",
    "                                                                               criterion=criterion,\n",
    "                                                                               optimizer=optimizer,\n",
    "                                                                               scheduler=scheduler,\n",
    "                                                                               train_loader=train_loader,\n",
    "                                                                               val_loader=val_loader,\n",
    "                                                                               num_epochs=num_epochs,\n",
    "                                                                               learning=False,\n",
    "                                                                               device=device,\n",
    "                                                                               trial=None)"
   ]
  },
  {
   "cell_type": "markdown",
   "id": "a83c8e19-e1c1-403d-ab34-a72b711569c5",
   "metadata": {},
   "source": [
    "### **Training and Validation Accuracy Graph**"
   ]
  },
  {
   "cell_type": "code",
   "execution_count": 50,
   "id": "503d454e-6040-41b6-8a58-e15654b6968d",
   "metadata": {},
   "outputs": [
    {
     "data": {
      "image/png": "[encoded data removed]",
      "text/plain": [
       "<Figure size 1000x600 with 1 Axes>"
      ]
     },
     "metadata": {},
     "output_type": "display_data"
    }
   ],
   "source": [
    "epochs = range(1, num_epochs + 1)\n",
    "\n",
    "plt.figure(figsize=(10, 6))\n",
    "plt.plot(epochs, train_accuracies, label='Training Accuracy')\n",
    "plt.plot(epochs, val_accuracies, label='Validation Accuracy')\n",
    "plt.title('Training and Validation Accuracy')\n",
    "plt.xlabel('Epoch')\n",
    "plt.ylabel('Accuracy')\n",
    "plt.legend()\n",
    "plt.grid(True)\n",
    "plt.show()"
   ]
  },
  {
   "cell_type": "markdown",
   "id": "71d4acf0-80e1-45a2-b9bb-e93628230889",
   "metadata": {},
   "source": [
    "### **Training and Validation Loss**"
   ]
  },
  {
   "cell_type": "code",
   "execution_count": 51,
   "id": "764bd244-8569-4518-b72e-b06e41c1777e",
   "metadata": {
    "scrolled": true
   },
   "outputs": [
    {
     "data": {
      "image/png": "[encoded data removed]",
      "text/plain": [
       "<Figure size 1000x600 with 1 Axes>"
      ]
     },
     "metadata": {},
     "output_type": "display_data"
    }
   ],
   "source": [
    "import matplotlib.pyplot as plt\n",
    "epochs = range(1, num_epochs + 1)\n",
    "\n",
    "plt.figure(figsize=(10, 6))\n",
    "plt.plot(epochs, train_losses, label='Training Loss')\n",
    "plt.plot(epochs, val_losses, label='Validation Loss')\n",
    "plt.title('Training and Validation Loss')\n",
    "plt.xlabel('Epoch')\n",
    "plt.ylabel('Loss')\n",
    "plt.legend()\n",
    "plt.grid(True)\n",
    "plt.show()"
   ]
  },
  {
   "cell_type": "code",
   "execution_count": 52,
   "id": "a4780440-de24-4b75-b036-56003243baaa",
   "metadata": {},
   "outputs": [
    {
     "name": "stdout",
     "output_type": "stream",
     "text": [
      "Test acc: 0.293\n"
     ]
    }
   ],
   "source": [
    "utils.test_model(llstm_model, test_loader)"
   ]
  },
  {
   "cell_type": "code",
   "execution_count": 53,
   "id": "df8be27d-e666-41ea-85ac-dfc74e543952",
   "metadata": {},
   "outputs": [
    {
     "data": {
      "text/plain": [
       "LSTM_LSTM(\n",
       "  (lstm1): LSTM(22, 64, num_layers=2, batch_first=True, bidirectional=True)\n",
       "  (lstm2): LSTM(128, 64, num_layers=2, batch_first=True, bidirectional=True)\n",
       "  (linear): Linear(in_features=128, out_features=54, bias=True)\n",
       "  (fc): Sequential(\n",
       "    (0): Linear(in_features=54, out_features=44, bias=True)\n",
       "    (1): BatchNorm1d(44, eps=1e-05, momentum=0.2, affine=True, track_running_stats=True)\n",
       "    (2): ReLU(inplace=True)\n",
       "    (3): Linear(in_features=44, out_features=4, bias=True)\n",
       "  )\n",
       ")"
      ]
     },
     "execution_count": 53,
     "metadata": {},
     "output_type": "execute_result"
    }
   ],
   "source": [
    "torch.save(llstm_model, path_to_save+'llstm')\n",
    "torch.cuda.empty_cache()\n",
    "llstm_model.to('cpu')"
   ]
  },
  {
   "cell_type": "markdown",
   "id": "a8bf25f4-4c7b-4a02-9074-0a808ddbd7eb",
   "metadata": {},
   "source": [
    "# **end**"
   ]
  },
  {
   "cell_type": "code",
   "execution_count": 54,
   "id": "84562f71-b27e-470f-a3eb-2330f4bb179c",
   "metadata": {},
   "outputs": [
    {
     "name": "stdout",
     "output_type": "stream",
     "text": [
      "time i will never get back:\n",
      "time to train models: 1.0 hours, 1.0 minutes, 17 seconds\n"
     ]
    }
   ],
   "source": [
    "end_time = time.time()\n",
    "print('time i will never get back:')\n",
    "hours = (end_time - start_time) // 3600\n",
    "minutes = ((end_time - start_time) % 3600) // 60\n",
    "seconds = (end_time - start_time) % 60\n",
    "\n",
    "print(f'time to train models: \\\n",
    "{hours} hours, \\\n",
    "{minutes} minutes, \\\n",
    "{int(seconds)} seconds')"
   ]
  },
  {
   "cell_type": "code",
   "execution_count": 55,
   "id": "651b46dd-da1b-4df8-9030-7e544eebadac",
   "metadata": {},
   "outputs": [
    {
     "data": {
      "text/plain": [
       "27772"
      ]
     },
     "execution_count": 55,
     "metadata": {},
     "output_type": "execute_result"
    }
   ],
   "source": [
    "del cnn_model\n",
    "del cgru_model\n",
    "del clstm_model\n",
    "del ctransformer_model\n",
    "del gru_model\n",
    "del llstm_model\n",
    "gc.collect()"
   ]
  },
  {
   "cell_type": "code",
   "execution_count": null,
   "id": "ba8c6e8c-f262-4581-9cdd-888500132521",
   "metadata": {},
   "outputs": [],
   "source": []
  }
 ],
 "metadata": {
  "kernelspec": {
   "display_name": "Python 3 (ipykernel)",
   "language": "python",
   "name": "python3"
  },
  "language_info": {
   "codemirror_mode": {
    "name": "ipython",
    "version": 3
   },
   "file_extension": ".py",
   "mimetype": "text/x-python",
   "name": "python",
   "nbconvert_exporter": "python",
   "pygments_lexer": "ipython3",
   "version": "3.11.8"
  }
 },
 "nbformat": 4,
 "nbformat_minor": 5
}
